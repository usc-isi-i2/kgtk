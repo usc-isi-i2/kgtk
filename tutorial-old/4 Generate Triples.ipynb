{
 "cells": [
  {
   "cell_type": "markdown",
   "id": "oriental-bolivia",
   "metadata": {},
   "source": [
    "# Generating RDF Triples\n",
    "This notebook shows how to generate RDF triples according ot the conventions used in Wikidata. We have a Jupyter notebook that takes as input a KGTK file and generates as output a turtle file that can be loaded in a triple store. The notebook can also deploy a docker image with an instance of the Wikidata Blazegraph, but it takes more time than we want to wait while doing the tutorial.\n",
    "\n",
    "We will need to do a bit of data preparation to extract the `datatype` edges, a required input to the triple generation notebook."
   ]
  },
  {
   "cell_type": "code",
   "execution_count": 1,
   "id": "joint-engineer",
   "metadata": {},
   "outputs": [
    {
     "name": "stdout",
     "output_type": "stream",
     "text": [
      "ALIAS: \"/Users/pedroszekely/Downloads/kgtk-tutorial/miniwikidata/aliases.en.tsv.gz\"\n",
      "ALL: \"/Users/pedroszekely/Downloads/kgtk-tutorial/miniwikidata/all.tsv.gz\"\n",
      "CLAIMS: \"/Users/pedroszekely/Downloads/kgtk-tutorial/miniwikidata/claims.tsv.gz\"\n",
      "DESCRIPTION: \"/Users/pedroszekely/Downloads/kgtk-tutorial/miniwikidata/descriptions.en.tsv.gz\"\n",
      "EXAMPLES_DIR: \"/Users/pedroszekely/Documents/GitHub/kgtk/examples\"\n",
      "GE: \"/Users/pedroszekely/Downloads/kgtk-tutorial/temp/graph-embedding\"\n",
      "ISA: \"/Users/pedroszekely/Downloads/kgtk-tutorial/miniwikidata/derived.isa.tsv.gz\"\n",
      "ITEM: \"/Users/pedroszekely/Downloads/kgtk-tutorial/miniwikidata/claims.wikibase-item.tsv.gz\"\n",
      "KGTK_PATH: \"/Users/pedroszekely/Documents/GitHub/kgtk\"\n",
      "LABEL: \"/Users/pedroszekely/Downloads/kgtk-tutorial/miniwikidata/labels.en.tsv.gz\"\n",
      "OUT: \"/Users/pedroszekely/Downloads/kgtk-tutorial/output\"\n",
      "P279: \"/Users/pedroszekely/Downloads/kgtk-tutorial/miniwikidata/derived.P279.tsv.gz\"\n",
      "P279STAR: \"/Users/pedroszekely/Downloads/kgtk-tutorial/miniwikidata/derived.P279star.tsv.gz\"\n",
      "PROPERTY_DATATYPES: \"/Users/pedroszekely/Downloads/kgtk-tutorial/miniwikidata/metadata.property.datatypes.tsv.gz\"\n",
      "Q154ALIAS: \"/Users/pedroszekely/Downloads/kgtk-tutorial/output/parts/aliases.en.tsv.gz\"\n",
      "Q154ALL: \"/Users/pedroszekely/Downloads/kgtk-tutorial/output/parts/all.tsv.gz\"\n",
      "Q154CLAIMS: \"/Users/pedroszekely/Downloads/kgtk-tutorial/output/parts/claims.tsv.gz\"\n",
      "Q154DESCRIPTION: \"/Users/pedroszekely/Downloads/kgtk-tutorial/output/parts/descriptions.en.tsv.gz\"\n",
      "Q154ISA: \"/Users/pedroszekely/Downloads/kgtk-tutorial/output/parts/derived.isa.tsv.gz\"\n",
      "Q154ITEM: \"/Users/pedroszekely/Downloads/kgtk-tutorial/output/parts/claims.wikibase-item.tsv.gz\"\n",
      "Q154LABEL: \"/Users/pedroszekely/Downloads/kgtk-tutorial/output/parts/labels.en.tsv.gz\"\n",
      "Q154P279: \"/Users/pedroszekely/Downloads/kgtk-tutorial/output/parts/derived.P279.tsv.gz\"\n",
      "Q154P279STAR: \"/Users/pedroszekely/Downloads/kgtk-tutorial/output/parts/derived.P279star.tsv.gz\"\n",
      "Q154PROPERTY_DATATYPES: \"/Users/pedroszekely/Downloads/kgtk-tutorial/output/parts/metadata.property.datatypes.tsv.gz\"\n",
      "Q154QUALIFIERS: \"/Users/pedroszekely/Downloads/kgtk-tutorial/output/parts/qualifiers.tsv.gz\"\n",
      "Q154QUALIFIERS_TIME: \"/Users/pedroszekely/Downloads/kgtk-tutorial/output/parts/qualifiers.time.tsv.gz\"\n",
      "Q154SITELINKS: \"/Users/pedroszekely/Downloads/kgtk-tutorial/output/parts/sitelinks.tsv.gz\"\n",
      "QUALIFIERS: \"/Users/pedroszekely/Downloads/kgtk-tutorial/miniwikidata/qualifiers.tsv.gz\"\n",
      "QUALIFIERS_TIME: \"/Users/pedroszekely/Downloads/kgtk-tutorial/miniwikidata/qualifiers.time.tsv.gz\"\n",
      "SITELINKS: \"/Users/pedroszekely/Downloads/kgtk-tutorial/miniwikidata/sitelinks.tsv.gz\"\n",
      "STORE: \"/Users/pedroszekely/Downloads/kgtk-tutorial/wikidata.sqlite3.miniwikidata.db\"\n",
      "TE: \"/Users/pedroszekely/Downloads/kgtk-tutorial/temp/text-embedding\"\n",
      "TEMP: \"/Users/pedroszekely/Downloads/kgtk-tutorial/temp\"\n",
      "USECASE_DIR: \"/Users/pedroszekely/Documents/GitHub/kgtk/use-cases\"\n",
      "WIKIDATA: \"/Users/pedroszekely/Downloads/kgtk-tutorial/miniwikidata/\"\n",
      "kgtk: \"kgtk --debug\"\n",
      "kypher: \"kgtk query --graph-cache /Users/pedroszekely/Downloads/kgtk-tutorial/wikidata.sqlite3.miniwikidata.db\"\n"
     ]
    }
   ],
   "source": [
    "import sys  \n",
    "sys.path.insert(0, 'tutorial')\n",
    "from tutorial_setup import *"
   ]
  },
  {
   "cell_type": "markdown",
   "id": "junior-convert",
   "metadata": {},
   "source": [
    "### Sort the file with all edges and qualifiers for the subgraph"
   ]
  },
  {
   "cell_type": "markdown",
   "id": "minute-position",
   "metadata": {},
   "source": [
    "Sort the file by identifier, which will place all the qualifiers of a claim immediately after the claim"
   ]
  },
  {
   "cell_type": "code",
   "execution_count": 2,
   "id": "expired-elimination",
   "metadata": {},
   "outputs": [],
   "source": [
    "!$kgtk sort -i \"$TEMP\"/all_and_qualifiers.tsv.gz -o \"$OUT\"/all_and_qualifiers.sorted.1.tsv.gz"
   ]
  },
  {
   "cell_type": "markdown",
   "id": "lucky-luxembourg",
   "metadata": {},
   "source": [
    "Our file has `datatype` edges that specify the datatype of each property, including the ones that KGTK adds (unfortunately, at this time we have two properties, with and without dash):"
   ]
  },
  {
   "cell_type": "code",
   "execution_count": 3,
   "id": "forced-smart",
   "metadata": {},
   "outputs": [
    {
     "data": {
      "text/html": [
       "<div>\n",
       "<style scoped>\n",
       "    .dataframe tbody tr th:only-of-type {\n",
       "        vertical-align: middle;\n",
       "    }\n",
       "\n",
       "    .dataframe tbody tr th {\n",
       "        vertical-align: top;\n",
       "    }\n",
       "\n",
       "    .dataframe thead th {\n",
       "        text-align: right;\n",
       "    }\n",
       "</style>\n",
       "<table border=\"1\" class=\"dataframe\">\n",
       "  <thead>\n",
       "    <tr style=\"text-align: right;\">\n",
       "      <th></th>\n",
       "      <th>id</th>\n",
       "      <th>node1</th>\n",
       "      <th>label</th>\n",
       "      <th>node2</th>\n",
       "    </tr>\n",
       "  </thead>\n",
       "  <tbody>\n",
       "    <tr>\n",
       "      <th>0</th>\n",
       "      <td>P10-datatype</td>\n",
       "      <td>P10</td>\n",
       "      <td>datatype</td>\n",
       "      <td>commonsMedia</td>\n",
       "    </tr>\n",
       "    <tr>\n",
       "      <th>1</th>\n",
       "      <td>P1001-datatype</td>\n",
       "      <td>P1001</td>\n",
       "      <td>datatype</td>\n",
       "      <td>wikibase-item</td>\n",
       "    </tr>\n",
       "    <tr>\n",
       "      <th>2</th>\n",
       "      <td>P1004-datatype</td>\n",
       "      <td>P1004</td>\n",
       "      <td>datatype</td>\n",
       "      <td>external-id</td>\n",
       "    </tr>\n",
       "    <tr>\n",
       "      <th>3</th>\n",
       "      <td>P1005-datatype</td>\n",
       "      <td>P1005</td>\n",
       "      <td>datatype</td>\n",
       "      <td>external-id</td>\n",
       "    </tr>\n",
       "    <tr>\n",
       "      <th>4</th>\n",
       "      <td>P101-datatype</td>\n",
       "      <td>P101</td>\n",
       "      <td>datatype</td>\n",
       "      <td>wikibase-item</td>\n",
       "    </tr>\n",
       "    <tr>\n",
       "      <th>...</th>\n",
       "      <td>...</td>\n",
       "      <td>...</td>\n",
       "      <td>...</td>\n",
       "      <td>...</td>\n",
       "    </tr>\n",
       "    <tr>\n",
       "      <th>1078</th>\n",
       "      <td>directed_pagerank-data_type-1a7b30</td>\n",
       "      <td>directed_pagerank</td>\n",
       "      <td>data_type</td>\n",
       "      <td>quantity</td>\n",
       "    </tr>\n",
       "    <tr>\n",
       "      <th>1079</th>\n",
       "      <td>in_degree-data_type-1a7b30</td>\n",
       "      <td>in_degree</td>\n",
       "      <td>data_type</td>\n",
       "      <td>quantity</td>\n",
       "    </tr>\n",
       "    <tr>\n",
       "      <th>1080</th>\n",
       "      <td>isa-data_type-643cc9</td>\n",
       "      <td>isa</td>\n",
       "      <td>data_type</td>\n",
       "      <td>wikibase-item</td>\n",
       "    </tr>\n",
       "    <tr>\n",
       "      <th>1081</th>\n",
       "      <td>out_degree-data_type-1a7b30</td>\n",
       "      <td>out_degree</td>\n",
       "      <td>data_type</td>\n",
       "      <td>quantity</td>\n",
       "    </tr>\n",
       "    <tr>\n",
       "      <th>1082</th>\n",
       "      <td>undirected_pagerank-data_type-1a7b30</td>\n",
       "      <td>undirected_pagerank</td>\n",
       "      <td>data_type</td>\n",
       "      <td>quantity</td>\n",
       "    </tr>\n",
       "  </tbody>\n",
       "</table>\n",
       "<p>1083 rows × 4 columns</p>\n",
       "</div>"
      ],
      "text/plain": [
       "                                        id                node1      label  \\\n",
       "0                             P10-datatype                  P10   datatype   \n",
       "1                           P1001-datatype                P1001   datatype   \n",
       "2                           P1004-datatype                P1004   datatype   \n",
       "3                           P1005-datatype                P1005   datatype   \n",
       "4                            P101-datatype                 P101   datatype   \n",
       "...                                    ...                  ...        ...   \n",
       "1078    directed_pagerank-data_type-1a7b30    directed_pagerank  data_type   \n",
       "1079            in_degree-data_type-1a7b30            in_degree  data_type   \n",
       "1080                  isa-data_type-643cc9                  isa  data_type   \n",
       "1081           out_degree-data_type-1a7b30           out_degree  data_type   \n",
       "1082  undirected_pagerank-data_type-1a7b30  undirected_pagerank  data_type   \n",
       "\n",
       "              node2  \n",
       "0      commonsMedia  \n",
       "1     wikibase-item  \n",
       "2       external-id  \n",
       "3       external-id  \n",
       "4     wikibase-item  \n",
       "...             ...  \n",
       "1078       quantity  \n",
       "1079       quantity  \n",
       "1080  wikibase-item  \n",
       "1081       quantity  \n",
       "1082       quantity  \n",
       "\n",
       "[1083 rows x 4 columns]"
      ]
     },
     "execution_count": 3,
     "metadata": {},
     "output_type": "execute_result"
    }
   ],
   "source": [
    "lines = !$kgtk filter -i \"$OUT\"/all_and_qualifiers.sorted.1.tsv.gz -p ';data_type,datatype;' \n",
    "kgtk_to_dataframe(lines)"
   ]
  },
  {
   "cell_type": "markdown",
   "id": "collective-purpose",
   "metadata": {},
   "source": [
    "We don't want the data type edges in our triples, so we remove them:"
   ]
  },
  {
   "cell_type": "code",
   "execution_count": 4,
   "id": "alone-links",
   "metadata": {},
   "outputs": [],
   "source": [
    "!$kgtk filter -i \"$OUT\"/all_and_qualifiers.sorted.1.tsv.gz -p ';data_type,datatype;' \\\n",
    "--invert -o \"$OUT\"/all_and_qualifiers.sorted.tsv.gz"
   ]
  },
  {
   "cell_type": "markdown",
   "id": "varied-departure",
   "metadata": {},
   "source": [
    "Consolidate all the data type edges as we need to give them as argument for triple generation"
   ]
  },
  {
   "cell_type": "code",
   "execution_count": 5,
   "id": "surface-commission",
   "metadata": {},
   "outputs": [],
   "source": [
    "!$kgtk filter -i \"$TEMP\"/kgtk.properties.tsv -p ';data_type;' \\\n",
    "-o \"$TEMP/datatypes.kgtk.properties.tsv.gz\"\n",
    "\n",
    "!$kgtk cat -i \"$WIKIDATA\"/metadata.property.datatypes.tsv.gz  \"$TEMP\"/datatypes.kgtk.properties.tsv.gz \\\n",
    "-o \"$OUT\"/all.metadata.property.datatypes.tsv\n",
    "\n",
    "!gzip -f \"$OUT\"/all.metadata.property.datatypes.tsv"
   ]
  },
  {
   "cell_type": "markdown",
   "id": "needed-chicago",
   "metadata": {},
   "source": [
    "Look at the file:"
   ]
  },
  {
   "cell_type": "code",
   "execution_count": 6,
   "id": "alone-environment",
   "metadata": {},
   "outputs": [
    {
     "data": {
      "text/html": [
       "<div>\n",
       "<style scoped>\n",
       "    .dataframe tbody tr th:only-of-type {\n",
       "        vertical-align: middle;\n",
       "    }\n",
       "\n",
       "    .dataframe tbody tr th {\n",
       "        vertical-align: top;\n",
       "    }\n",
       "\n",
       "    .dataframe thead th {\n",
       "        text-align: right;\n",
       "    }\n",
       "</style>\n",
       "<table border=\"1\" class=\"dataframe\">\n",
       "  <thead>\n",
       "    <tr style=\"text-align: right;\">\n",
       "      <th></th>\n",
       "      <th>id</th>\n",
       "      <th>node1</th>\n",
       "      <th>label</th>\n",
       "      <th>node2</th>\n",
       "      <th>node2;wikidatatype</th>\n",
       "      <th>rank</th>\n",
       "    </tr>\n",
       "  </thead>\n",
       "  <tbody>\n",
       "    <tr>\n",
       "      <th>0</th>\n",
       "      <td>P10-datatype</td>\n",
       "      <td>P10</td>\n",
       "      <td>datatype</td>\n",
       "      <td>commonsMedia</td>\n",
       "      <td></td>\n",
       "      <td></td>\n",
       "    </tr>\n",
       "    <tr>\n",
       "      <th>1</th>\n",
       "      <td>P1001-datatype</td>\n",
       "      <td>P1001</td>\n",
       "      <td>datatype</td>\n",
       "      <td>wikibase-item</td>\n",
       "      <td></td>\n",
       "      <td></td>\n",
       "    </tr>\n",
       "    <tr>\n",
       "      <th>2</th>\n",
       "      <td>P1003-datatype</td>\n",
       "      <td>P1003</td>\n",
       "      <td>datatype</td>\n",
       "      <td>external-id</td>\n",
       "      <td></td>\n",
       "      <td></td>\n",
       "    </tr>\n",
       "    <tr>\n",
       "      <th>3</th>\n",
       "      <td>P1004-datatype</td>\n",
       "      <td>P1004</td>\n",
       "      <td>datatype</td>\n",
       "      <td>external-id</td>\n",
       "      <td></td>\n",
       "      <td></td>\n",
       "    </tr>\n",
       "    <tr>\n",
       "      <th>4</th>\n",
       "      <td>P1005-datatype</td>\n",
       "      <td>P1005</td>\n",
       "      <td>datatype</td>\n",
       "      <td>external-id</td>\n",
       "      <td></td>\n",
       "      <td></td>\n",
       "    </tr>\n",
       "    <tr>\n",
       "      <th>...</th>\n",
       "      <td>...</td>\n",
       "      <td>...</td>\n",
       "      <td>...</td>\n",
       "      <td>...</td>\n",
       "      <td>...</td>\n",
       "      <td>...</td>\n",
       "    </tr>\n",
       "    <tr>\n",
       "      <th>1509</th>\n",
       "      <td>P279star-data_type-643cc9</td>\n",
       "      <td>P279star</td>\n",
       "      <td>data_type</td>\n",
       "      <td>wikibase-item</td>\n",
       "      <td></td>\n",
       "      <td></td>\n",
       "    </tr>\n",
       "    <tr>\n",
       "      <th>1510</th>\n",
       "      <td>directed_pagerank-data_type-1a7b30</td>\n",
       "      <td>directed_pagerank</td>\n",
       "      <td>data_type</td>\n",
       "      <td>quantity</td>\n",
       "      <td></td>\n",
       "      <td></td>\n",
       "    </tr>\n",
       "    <tr>\n",
       "      <th>1511</th>\n",
       "      <td>undirected_pagerank-data_type-1a7b30</td>\n",
       "      <td>undirected_pagerank</td>\n",
       "      <td>data_type</td>\n",
       "      <td>quantity</td>\n",
       "      <td></td>\n",
       "      <td></td>\n",
       "    </tr>\n",
       "    <tr>\n",
       "      <th>1512</th>\n",
       "      <td>in_degree-data_type-1a7b30</td>\n",
       "      <td>in_degree</td>\n",
       "      <td>data_type</td>\n",
       "      <td>quantity</td>\n",
       "      <td></td>\n",
       "      <td></td>\n",
       "    </tr>\n",
       "    <tr>\n",
       "      <th>1513</th>\n",
       "      <td>out_degree-data_type-1a7b30</td>\n",
       "      <td>out_degree</td>\n",
       "      <td>data_type</td>\n",
       "      <td>quantity</td>\n",
       "      <td></td>\n",
       "      <td></td>\n",
       "    </tr>\n",
       "  </tbody>\n",
       "</table>\n",
       "<p>1514 rows × 6 columns</p>\n",
       "</div>"
      ],
      "text/plain": [
       "                                        id                node1      label  \\\n",
       "0                             P10-datatype                  P10   datatype   \n",
       "1                           P1001-datatype                P1001   datatype   \n",
       "2                           P1003-datatype                P1003   datatype   \n",
       "3                           P1004-datatype                P1004   datatype   \n",
       "4                           P1005-datatype                P1005   datatype   \n",
       "...                                    ...                  ...        ...   \n",
       "1509             P279star-data_type-643cc9             P279star  data_type   \n",
       "1510    directed_pagerank-data_type-1a7b30    directed_pagerank  data_type   \n",
       "1511  undirected_pagerank-data_type-1a7b30  undirected_pagerank  data_type   \n",
       "1512            in_degree-data_type-1a7b30            in_degree  data_type   \n",
       "1513           out_degree-data_type-1a7b30           out_degree  data_type   \n",
       "\n",
       "              node2 node2;wikidatatype rank  \n",
       "0      commonsMedia                          \n",
       "1     wikibase-item                          \n",
       "2       external-id                          \n",
       "3       external-id                          \n",
       "4       external-id                          \n",
       "...             ...                ...  ...  \n",
       "1509  wikibase-item                          \n",
       "1510       quantity                          \n",
       "1511       quantity                          \n",
       "1512       quantity                          \n",
       "1513       quantity                          \n",
       "\n",
       "[1514 rows x 6 columns]"
      ]
     },
     "execution_count": 6,
     "metadata": {},
     "output_type": "execute_result"
    }
   ],
   "source": [
    "lines = !zcat < \"$OUT\"/all.metadata.property.datatypes.tsv.gz \n",
    "kgtk_to_dataframe(lines)"
   ]
  },
  {
   "cell_type": "markdown",
   "id": "dated-enough",
   "metadata": {},
   "source": [
    "Execute the Triple Generation notebook"
   ]
  },
  {
   "cell_type": "code",
   "execution_count": 7,
   "id": "ambient-azerbaijan",
   "metadata": {},
   "outputs": [
    {
     "data": {
      "application/vnd.jupyter.widget-view+json": {
       "model_id": "147c219640f6402f977a9b85d28fb306",
       "version_major": 2,
       "version_minor": 0
      },
      "text/plain": [
       "Executing:   0%|          | 0/14 [00:00<?, ?cell/s]"
      ]
     },
     "metadata": {},
     "output_type": "display_data"
    },
    {
     "data": {
      "text/plain": [
       "''"
      ]
     },
     "execution_count": 7,
     "metadata": {},
     "output_type": "execute_result"
    }
   ],
   "source": [
    "pm.execute_notebook(\n",
    "    os.environ[\"USECASE_DIR\"] + \"/Generate-Triples-And-Load-Blazegraph.ipynb\",\n",
    "    os.environ[\"TEMP\"] + \"/Generate-Triples-And-Load-Blazegraph-OUT.ipynb\",\n",
    "    parameters=dict(\n",
    "        kgtk_path = os.environ[\"OUT\"],\n",
    "        kgtk_file_name = \"all_and_qualifiers.sorted.tsv.gz\",\n",
    "        properties_file_path = os.environ[\"OUT\"] + \"/all.metadata.property.datatypes.tsv.gz\",\n",
    "        create_image = False,\n",
    "        load_triples = False\n",
    "    )\n",
    ")\n",
    ";"
   ]
  },
  {
   "cell_type": "markdown",
   "id": "otherwise-accommodation",
   "metadata": {},
   "source": [
    "Take a peek at the output triples file"
   ]
  },
  {
   "cell_type": "code",
   "execution_count": 8,
   "id": "august-qualification",
   "metadata": {},
   "outputs": [
    {
     "name": "stdout",
     "output_type": "stream",
     "text": [
      "@prefix wikibase: <http://wikiba.se/ontology#> .\n",
      "@prefix wd: <http://www.wikidata.org/entity/> .\n",
      "@prefix wdt: <http://www.wikidata.org/prop/direct/> .\n",
      "@prefix wdtn: <http://www.wikidata.org/prop/direct-normalized/> .\n",
      "@prefix wdno: <http://www.wikidata.org/prop/novalue/> .\n",
      "@prefix wds: <http://www.wikidata.org/entity/statement/> .\n",
      "@prefix wdv: <http://www.wikidata.org/value/> .\n",
      "@prefix wdref: <http://www.wikidata.org/reference/> .\n",
      "@prefix p: <http://www.wikidata.org/prop/> .\n",
      "@prefix pr: <http://www.wikidata.org/prop/reference/> .\n",
      "@prefix prv: <http://www.wikidata.org/prop/reference/value/> .\n",
      "@prefix prn: <http://www.wikidata.org/prop/reference/value-normalized/> .\n",
      "@prefix ps: <http://www.wikidata.org/prop/statement/> .\n",
      "@prefix psv: <http://www.wikidata.org/prop/statement/value/> .\n",
      "@prefix psn: <http://www.wikidata.org/prop/statement/value-normalized/> .\n",
      "@prefix pq: <http://www.wikidata.org/prop/qualifier/> .\n",
      "@prefix pqv: <http://www.wikidata.org/prop/qualifier/value/> .\n",
      "@prefix pqn: <http://www.wikidata.org/prop/qualifier/value-normalized/> .\n",
      "@prefix prov: <http://www.w3.org/ns/prov#> .\n",
      "@prefix skos: <http://www.w3.org/2004/02/skos/core#> .\n",
      "@prefix schema: <http://schema.org/> .\n",
      "\n"
     ]
    }
   ],
   "source": [
    "!gzcat \"$OUT\"/all.ttl.gz | head -n 50"
   ]
  },
  {
   "cell_type": "code",
   "execution_count": null,
   "id": "martial-groove",
   "metadata": {},
   "outputs": [],
   "source": []
  }
 ],
 "metadata": {
  "kernelspec": {
   "display_name": "kgtk-env",
   "language": "python",
   "name": "kgtk-env"
  },
  "language_info": {
   "codemirror_mode": {
    "name": "ipython",
    "version": 3
   },
   "file_extension": ".py",
   "mimetype": "text/x-python",
   "name": "python",
   "nbconvert_exporter": "python",
   "pygments_lexer": "ipython3",
   "version": "3.7.9"
  }
 },
 "nbformat": 4,
 "nbformat_minor": 5
}
