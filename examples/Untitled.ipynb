{
 "cells": [
  {
   "cell_type": "code",
   "execution_count": 1,
   "metadata": {},
   "outputs": [],
   "source": [
    "# Parameters\n",
    "\n",
    "# Folder on local machine where to create the output and temporary folders\n",
    "output_path = \"/Users/pedroszekely/Downloads/kypher\"\n",
    "\n",
    "# The names of the output and temporary folders\n",
    "output_folder = \"wikidata_os_v5\"\n",
    "temp_folder = \"temp.wikidata_os_v5\"\n",
    "\n",
    "# The location of input Wikidata files\n",
    "wikidata_folder = \"/Volumes/GoogleDrive/Shared drives/KGTK/datasets/wikidata-20200803-v4/\"\n",
    "wikidata_folder = \"/Users/pedroszekely/Downloads/kypher/wikidata_os_v1/\"\n",
    "# The wikidata_os files can be downloaded from https://drive.google.com/drive/folders/1V6oAQKmwQ4LJnrBai-uv5gHWphFSCt50?usp=sharing\n",
    "\n",
    "# Location of the cache database for kypher\n",
    "cache_path = \"/Users/pedroszekely/Downloads/kypher/temp.useful_wikidata_files_v4\"\n",
    "# cache_path = \"/Users/pedroszekely/Downloads/kypher/temp.useful_wikidata_files_v4/wikidata.sqlite3.db\"\n",
    "# Whether to delete the cache database\n",
    "delete_database = False\n",
    "\n",
    "# shortcuts to commands\n",
    "kgtk = \"time kgtk --debug\"\n",
    "# kgtk = \"kgtk --debug\""
   ]
  },
  {
   "cell_type": "code",
   "execution_count": 2,
   "metadata": {},
   "outputs": [],
   "source": [
    "import io\n",
    "import os\n",
    "import subprocess\n",
    "import sys\n",
    "\n",
    "import numpy as np\n",
    "import pandas as pd\n",
    "\n",
    "import altair as alt\n",
    "\n",
    "import papermill as pm"
   ]
  },
  {
   "cell_type": "code",
   "execution_count": 3,
   "metadata": {},
   "outputs": [],
   "source": [
    "def kgtk_to_dataframe(kgtk):\n",
    "    columns = kgtk[0].split(\"\\t\")\n",
    "    data = []\n",
    "    for line in kgtk[1:]:\n",
    "        data.append(line.encode('utf-8').decode('utf-8').split(\"\\t\"))\n",
    "    return pd.DataFrame(data, columns=columns)    "
   ]
  },
  {
   "cell_type": "code",
   "execution_count": 4,
   "metadata": {},
   "outputs": [
    {
     "name": "stdout",
     "output_type": "stream",
     "text": [
      "ALIAS: \"/Users/pedroszekely/Downloads/kypher/wikidata_os_v1/aliases.en.tsv.gz\"\n",
      "CLAIMS: \"/Users/pedroszekely/Downloads/kypher/wikidata_os_v1/claims.tsv.gz\"\n",
      "DESCRIPTION: \"/Users/pedroszekely/Downloads/kypher/wikidata_os_v1/descriptions.en.tsv.gz\"\n",
      "EXAMPLES_DIR: \"/Users/pedroszekely/Documents/GitHub/kgtk/examples\"\n",
      "ISA: \"/Users/pedroszekely/Downloads/kypher/wikidata_os_v1/derived.isa.tsv.gz\"\n",
      "ITEM: \"/Users/pedroszekely/Downloads/kypher/wikidata_os_v1/claims.wikibase-item.tsv.gz\"\n",
      "LABEL: \"/Users/pedroszekely/Downloads/kypher/wikidata_os_v1/labels.en.tsv.gz\"\n",
      "OUT: \"/Users/pedroszekely/Downloads/kypher/wikidata_os_v5\"\n",
      "P279: \"/Users/pedroszekely/Downloads/kypher/wikidata_os_v1/derived.P279.tsv.gz\"\n",
      "P279STAR: \"/Users/pedroszekely/Downloads/kypher/wikidata_os_v1/derived.P279star.tsv.gz\"\n",
      "P31: \"/Users/pedroszekely/Downloads/kypher/wikidata_os_v1/derived.P31.tsv.gz\"\n",
      "PROPERTY_DATATYPES: \"/Users/pedroszekely/Downloads/kypher/wikidata_os_v1/metadata.property.datatypes.tsv.gz\"\n",
      "QUALIFIERS: \"/Users/pedroszekely/Downloads/kypher/wikidata_os_v1/qualifiers.tsv.gz\"\n",
      "QUALIFIERS_TIME: \"/Users/pedroszekely/Downloads/kypher/wikidata_os_v1/qualifiers.time.tsv.gz\"\n",
      "SITELINKS: \"/Users/pedroszekely/Downloads/kypher/wikidata_os_v1/sitelinks.tsv.gz\"\n",
      "STORE: \"/Users/pedroszekely/Downloads/kypher/temp.useful_wikidata_files_v4/wikidata.sqlite3.db\"\n",
      "TEMP: \"/Users/pedroszekely/Downloads/kypher/temp.wikidata_os_v5\"\n",
      "WIKIDATA: \"/Users/pedroszekely/Downloads/kypher/wikidata_os_v1/\"\n",
      "kgtk: \"time kgtk --debug\"\n",
      "kypher: \"kgtk query --graph-cache /Users/pedroszekely/Downloads/kypher/temp.useful_wikidata_files_v4/wikidata.sqlite3.db\"\n"
     ]
    }
   ],
   "source": [
    "# The names of files in the KGTK Wikidata distirbution that we will use in this notebook.\n",
    "file_names = {\n",
    "    \"claims\": \"claims.tsv.gz\",\n",
    "    \"label\": \"labels.en.tsv.gz\",\n",
    "    \"alias\": \"aliases.en.tsv.gz\",\n",
    "    \"description\": \"descriptions.en.tsv.gz\",\n",
    "    \"item\": \"claims.wikibase-item.tsv.gz\",\n",
    "    \"qualifiers\": \"qualifiers.tsv.gz\",\n",
    "    \"sitelinks\": \"sitelinks.tsv.gz\",\n",
    "    \"qualifiers_time\": \"qualifiers.time.tsv.gz\",\n",
    "    \"property_datatypes\": \"metadata.property.datatypes.tsv.gz\",\n",
    "    \"isa\": \"derived.isa.tsv.gz\",\n",
    "    \"p279star\": \"derived.P279star.tsv.gz\",\n",
    "    \"p279\": \"derived.P279.tsv.gz\",\n",
    "    \"p31\": \"derived.P31.tsv.gz\"\n",
    "}\n",
    "\n",
    "# We will define environment variables to hold the full paths to the files as we will use them in the shell commands\n",
    "kgtk_environment_variables = []\n",
    "\n",
    "os.environ['WIKIDATA'] = wikidata_folder\n",
    "kgtk_environment_variables.append('WIKIDATA')\n",
    "\n",
    "for key, value in file_names.items():\n",
    "    variable = key.upper()\n",
    "    os.environ[variable] = wikidata_folder + value\n",
    "    kgtk_environment_variables.append(variable)\n",
    "    \n",
    "# KGTK creates a SQLite database to index the knowledge graph.\n",
    "if cache_path:\n",
    "    os.environ['STORE'] = \"{}/wikidata.sqlite3.db\".format(cache_path)\n",
    "else:\n",
    "    os.environ['STORE'] = \"{}/{}/wikidata.sqlite3.db\".format(output_path, temp_folder)\n",
    "kgtk_environment_variables.append('STORE')\n",
    "\n",
    "# We will create many temporary files, so set up a folder for outputs and one for the temporary files.\n",
    "os.environ['TEMP'] = \"{}/{}\".format(output_path, temp_folder) \n",
    "os.environ['OUT'] = \"{}/{}\".format(output_path, output_folder) \n",
    "kgtk_environment_variables.append('TEMP')\n",
    "kgtk_environment_variables.append('OUT')\n",
    "\n",
    "# Envronment variables with shortcuts to the commands we use often\n",
    "os.environ['kgtk'] = kgtk\n",
    "os.environ['kypher'] = \"time kgtk --debug query --graph-cache \" + os.environ['STORE']\n",
    "os.environ['kypher'] = \"kgtk query --graph-cache \" + os.environ['STORE']\n",
    "kgtk_environment_variables.append('kgtk')\n",
    "kgtk_environment_variables.append('kypher')\n",
    "\n",
    "# We'll save the current working directory so we can call into other example notebooks later\n",
    "os.environ[\"EXAMPLES_DIR\"] = os.getcwd()\n",
    "kgtk_environment_variables.append('EXAMPLES_DIR')\n",
    "\n",
    "kgtk_environment_variables.sort()\n",
    "for variable in kgtk_environment_variables:\n",
    "    print(\"{}: \\\"{}\\\"\".format(variable, os.environ[variable]))"
   ]
  },
  {
   "cell_type": "code",
   "execution_count": 5,
   "metadata": {},
   "outputs": [
    {
     "name": "stdout",
     "output_type": "stream",
     "text": [
      "/Users/pedroszekely/Downloads/kypher\n"
     ]
    }
   ],
   "source": [
    "%cd {output_path}"
   ]
  },
  {
   "cell_type": "code",
   "execution_count": 22,
   "metadata": {},
   "outputs": [
    {
     "name": "stdout",
     "output_type": "stream",
     "text": [
      "     2116.33 real      1024.03 user       487.43 sys\n"
     ]
    }
   ],
   "source": [
    "!$kypher -i \"$CLAIMS\" -i \"$LABEL\" -i \"$ISA\"\\\n",
    "--match 'claims: (n1)-[:P106]->(n2), claims: (n1)-[l {label: property}]->(), isa: (n2)-[]->(n2_class), label: (n2_class)-[]->(n2_class_label), label: (n2)-[]->(n2_label), label: (property)-[]->(property_label)' \\\n",
    "--return 'distinct n2_class_label as class, property as property, count(n1) as count, property_label as property_label, n2_label as `occupation`' \\\n",
    "-o \"$TEMP\"/occupations.tsv.gz"
   ]
  },
  {
   "cell_type": "code",
   "execution_count": 34,
   "metadata": {},
   "outputs": [
    {
     "name": "stdout",
     "output_type": "stream",
     "text": [
      "  560818 4634193 39748060\n"
     ]
    }
   ],
   "source": [
    "!zcat < \"$TEMP\"/occupations.tsv.gz | wc"
   ]
  },
  {
   "cell_type": "code",
   "execution_count": 69,
   "metadata": {},
   "outputs": [
    {
     "name": "stdout",
     "output_type": "stream",
     "text": [
      "class        property  count  property_label                                                     occupation\n",
      "'-elect'@en  P106      3      'occupation'@en                                                    'bishop-elect'@en\n",
      "zcat: '-elect'@en  P140      2      'religion'@en                                                      'bishop-elect'@en\n",
      "'-elect'@en  P1871     1      'CERL Thesaurus ID'@en                                             'bishop-elect'@en\n",
      "'-elect'@en  P19       1      'place of birth'@en                                                'bishop-elect'@en\n",
      "'-elect'@en  P21       2      'sex or gender'@en                                                 'bishop-elect'@en\n",
      "'-elect'@en  P214      1      'VIAF ID'@en                                                       'bishop-elect'@en\n",
      "'-elect'@en  P227      1      'GND ID'@en                                                        'bishop-elect'@en\n",
      "'-elect'@en  P2580     1      'Baltisches Biographisches Lexikon digital ID (former scheme)'@en  'bishop-elect'@en\n",
      "error writing to output: '-elect'@en  P27       2      'country of citizenship'@en                                        'bishop-elect'@en\n",
      "Broken pipe\n"
     ]
    }
   ],
   "source": [
    "!zcat < \"$TEMP\"/occupations.tsv.gz | head -10 | column -t -s $'\\t'"
   ]
  },
  {
   "cell_type": "code",
   "execution_count": 15,
   "metadata": {},
   "outputs": [
    {
     "name": "stdout",
     "output_type": "stream",
     "text": [
      "misuse of aggregate: count()\n",
      "\n"
     ]
    }
   ],
   "source": [
    "# produces an error\n",
    "!$kypher -i \"$CLAIMS\" -i \"$LABEL\" -i \"$ISA\"\\\n",
    "--match 'claims: (n1)-[:P106]->(n2), claims: (n1)-[l {label: property}]->(), label: (n2)-[]->(n2_label), label: (property)-[]->(property_label)' \\\n",
    "--return 'distinct n2 as occupation_id, property as property, count(n1) as count, property_label as property_label, n2_label as `occupation`' \\\n",
    "--where 'count > 500' \\\n",
    "--order-by 'occupation, cast(count, integer) desc' \\\n",
    "-o \"$TEMP\"/occupations.class.tsv.gz"
   ]
  },
  {
   "cell_type": "code",
   "execution_count": 53,
   "metadata": {},
   "outputs": [
    {
     "name": "stdout",
     "output_type": "stream",
     "text": [
      "      829.63 real       355.43 user       182.87 sys\n"
     ]
    }
   ],
   "source": [
    "!$kypher -i \"$CLAIMS\" -i \"$LABEL\" -i \"$ISA\"\\\n",
    "--match 'claims: (n1)-[:P106]->(n2), claims: (n1)-[l {label: property}]->(), label: (n2)-[]->(n2_label), label: (property)-[]->(property_label)' \\\n",
    "--return 'distinct n2 as subject, property as property, count(n1) as object, property_label as `property;label`, n2_label as `subject;label`' \\\n",
    "--order-by '`subject;label`, cast(object, integer) desc' \\\n",
    "-o \"$TEMP\"/occupations.class.tsv.gz"
   ]
  },
  {
   "cell_type": "code",
   "execution_count": 70,
   "metadata": {},
   "outputs": [
    {
     "name": "stdout",
     "output_type": "stream",
     "text": [
      "zcat: error writing to output: Broken pipe\n",
      "subject   property  object  property;label               subject;label\n",
      "Q2340985  P1441     33      'present in work'@en         '00 Agent'@en\n",
      "Q2340985  P31       11      'instance of'@en             '00 Agent'@en\n",
      "Q2340985  P175      10      'performer'@en               '00 Agent'@en\n",
      "Q2340985  P4969     9       'derivative work'@en         '00 Agent'@en\n",
      "Q2340985  P106      7       'occupation'@en              '00 Agent'@en\n",
      "Q2340985  P27       5       'country of citizenship'@en  '00 Agent'@en\n",
      "Q2340985  P21       5       'sex or gender'@en           '00 Agent'@en\n",
      "Q2340985  P941      3       'inspired by'@en             '00 Agent'@en\n",
      "Q2340985  P735      3       'given name'@en              '00 Agent'@en\n"
     ]
    }
   ],
   "source": [
    "!zcat < \"$TEMP\"/occupations.class.tsv.gz | head -10 | column -t -s $'\\t'"
   ]
  },
  {
   "cell_type": "code",
   "execution_count": 80,
   "metadata": {},
   "outputs": [
    {
     "name": "stdout",
     "output_type": "stream",
     "text": [
      "        7.44 real         7.28 user         0.14 sys\n"
     ]
    }
   ],
   "source": [
    "!$kgtk rename-columns -i \"$TEMP\"/occupations.class.tsv.gz  \\\n",
    "--mode NONE \\\n",
    "--output-columns node1 label node2  'label;label' 'node1;label' \\\n",
    "-o \"$TEMP\"/occupations.class.counts.tsv.gz"
   ]
  },
  {
   "cell_type": "code",
   "execution_count": 82,
   "metadata": {},
   "outputs": [
    {
     "name": "stdout",
     "output_type": "stream",
     "text": [
      "        1.16 real         0.95 user         0.18 sys\n"
     ]
    }
   ],
   "source": [
    "!$kypher -i \"$TEMP\"/occupations.class.counts.tsv.gz -i \"$PROPERTY_DATATYPES\" \\\n",
    "--match 'counts: (n1)-[l {label: property}]->(n2), datatype: (property)-[]->(type)' \\\n",
    "--where 'cast(n2, integer) > 500 and type != \"external-id\"' \\\n",
    "--return 'n1 as node1, property as label, n2 as node2, label.label as `label;label`, n1.label as `node1;label`' \\\n",
    "--order-by 'n1, cast(n2, integer) desc' \\\n",
    "-o \"$TEMP\"/occupations.class.counts.filtered.tsv.gz"
   ]
  },
  {
   "cell_type": "code",
   "execution_count": 17,
   "metadata": {},
   "outputs": [
    {
     "name": "stdout",
     "output_type": "stream",
     "text": [
      "CPU times: user 2.07 ms, sys: 4.87 ms, total: 6.93 ms\n",
      "Wall time: 958 ms\n"
     ]
    },
    {
     "data": {
      "text/html": [
       "<div>\n",
       "<style scoped>\n",
       "    .dataframe tbody tr th:only-of-type {\n",
       "        vertical-align: middle;\n",
       "    }\n",
       "\n",
       "    .dataframe tbody tr th {\n",
       "        vertical-align: top;\n",
       "    }\n",
       "\n",
       "    .dataframe thead th {\n",
       "        text-align: right;\n",
       "    }\n",
       "</style>\n",
       "<table border=\"1\" class=\"dataframe\">\n",
       "  <thead>\n",
       "    <tr style=\"text-align: right;\">\n",
       "      <th></th>\n",
       "      <th>Undirected relationships are not (yet) allowed</th>\n",
       "    </tr>\n",
       "  </thead>\n",
       "  <tbody>\n",
       "    <tr>\n",
       "      <th>0</th>\n",
       "      <td></td>\n",
       "    </tr>\n",
       "  </tbody>\n",
       "</table>\n",
       "</div>"
      ],
      "text/plain": [
       "  Undirected relationships are not (yet) allowed\n",
       "0                                               "
      ]
     },
     "execution_count": 17,
     "metadata": {},
     "output_type": "execute_result"
    }
   ],
   "source": [
    "%time df = !$kypher -i \"$CLAIMS\" -i \"$LABEL\" -i \"$P279STAR\" -i \"$ISA\" -i \"$QUALIFIERS\" \\\n",
    "--match '\\\n",
    "  claims: (c1)-[:P413]->(c2), \\\n",
    "  isa: (c1)-[isa]->(:Q5), \\\n",
    "  isa: (c2)-[]->(n2), P279star: (n2)-[:P279star]-(:Q694589), \\\n",
    "  claims: (c0:Q1035067)-[c4:P1346]->(c1), \\\n",
    "  qual: (c4)-[:P585]->(d0), \\\n",
    "  label: (c0)-[]->(c0_label), \\\n",
    "  label: (c1)-[]->(c1_label), \\\n",
    "  label: (c2)-[]->(c2_label)' \\\n",
    "--return 'distinct c0_label as award, c1_label as Player, c2_label as Position, d0 as Year' \\\n",
    "--order-by 'Year' \n",
    "kgtk_to_dataframe(df)"
   ]
  },
  {
   "cell_type": "code",
   "execution_count": 19,
   "metadata": {},
   "outputs": [
    {
     "name": "stdout",
     "output_type": "stream",
     "text": [
      "Award\tPlayer\tPosition\tYear\n",
      "'Heisman Trophy'@en\t'Jay Berwanger'@en\t'halfback'@en\t^1935-00-00T00:00:00Z/9\n",
      "'Heisman Trophy'@en\t'Larry Kelley'@en\t'tight end'@en\t^1936-00-00T00:00:00Z/9\n",
      "'Heisman Trophy'@en\t'Clint Frank'@en\t'halfback'@en\t^1937-00-00T00:00:00Z/9\n",
      "'Heisman Trophy'@en\t'Davey O\\\\'Brien'@en\t'quarterback'@en\t^1938-00-00T00:00:00Z/9\n",
      "'Heisman Trophy'@en\t'Nile Kinnick'@en\t'quarterback'@en\t^1939-00-00T00:00:00Z/9\n",
      "'Heisman Trophy'@en\t'Tom Harmon'@en\t'halfback'@en\t^1940-00-00T00:00:00Z/9\n",
      "'Heisman Trophy'@en\t'Bruce Smith'@en\t'halfback'@en\t^1941-00-00T00:00:00Z/9\n",
      "'Heisman Trophy'@en\t'Frank Sinkwich'@en\t'halfback'@en\t^1942-00-00T00:00:00Z/9\n",
      "'Heisman Trophy'@en\t'Angelo Bertelli'@en\t'quarterback'@en\t^1943-00-00T00:00:00Z/9\n",
      "'Heisman Trophy'@en\t'Les Horvath'@en\t'halfback'@en\t^1944-00-00T00:00:00Z/9\n",
      "'Heisman Trophy'@en\t'Les Horvath'@en\t'quarterback'@en\t^1944-00-00T00:00:00Z/9\n",
      "'Heisman Trophy'@en\t'Doc Blanchard'@en\t'fullback'@en\t^1945-00-00T00:00:00Z/9\n",
      "'Heisman Trophy'@en\t'Glenn Davis'@en\t'halfback'@en\t^1946-00-00T00:00:00Z/9\n",
      "'Heisman Trophy'@en\t'Johnny Lujack'@en\t'quarterback'@en\t^1947-00-00T00:00:00Z/9\n",
      "'Heisman Trophy'@en\t'Doak Walker'@en\t'halfback'@en\t^1948-00-00T00:00:00Z/9\n",
      "'Heisman Trophy'@en\t'Leon Hart'@en\t'tight end'@en\t^1949-00-00T00:00:00Z/9\n",
      "'Heisman Trophy'@en\t'Vic Janowicz'@en\t'halfback'@en\t^1950-00-00T00:00:00Z/9\n",
      "'Heisman Trophy'@en\t'Dick Kazmaier'@en\t'halfback'@en\t^1951-00-00T00:00:00Z/9\n",
      "'Heisman Trophy'@en\t'Billy Vessels'@en\t'halfback'@en\t^1952-00-00T00:00:00Z/9\n",
      "'Heisman Trophy'@en\t'Johnny Lattner'@en\t'halfback'@en\t^1953-00-00T00:00:00Z/9\n",
      "'Heisman Trophy'@en\t'Alan Ameche'@en\t'fullback'@en\t^1954-00-00T00:00:00Z/9\n",
      "'Heisman Trophy'@en\t'Howard Cassady'@en\t'halfback'@en\t^1955-00-00T00:00:00Z/9\n",
      "'Heisman Trophy'@en\t'Paul Hornung'@en\t'halfback'@en\t^1956-00-00T00:00:00Z/9\n",
      "'Heisman Trophy'@en\t'John David Crow'@en\t'halfback'@en\t^1957-00-00T00:00:00Z/9\n",
      "'Heisman Trophy'@en\t'Pete Dawkins'@en\t'halfback'@en\t^1958-00-00T00:00:00Z/9\n",
      "'Heisman Trophy'@en\t'Billy Cannon'@en\t'halfback'@en\t^1959-00-00T00:00:00Z/9\n",
      "'Heisman Trophy'@en\t'Joe Bellino'@en\t'halfback'@en\t^1960-00-00T00:00:00Z/9\n",
      "'Heisman Trophy'@en\t'Ernie Davis'@en\t'halfback'@en\t^1961-00-00T00:00:00Z/9\n",
      "'Heisman Trophy'@en\t'Terry Baker'@en\t'quarterback'@en\t^1962-00-00T00:00:00Z/9\n",
      "'Heisman Trophy'@en\t'Roger Staubach'@en\t'quarterback'@en\t^1963-00-00T00:00:00Z/9\n",
      "'Heisman Trophy'@en\t'John Huarte'@en\t'quarterback'@en\t^1964-00-00T00:00:00Z/9\n",
      "'Heisman Trophy'@en\t'Mike Garrett'@en\t'halfback'@en\t^1965-00-00T00:00:00Z/9\n",
      "'Heisman Trophy'@en\t'Steve Spurrier'@en\t'quarterback'@en\t^1966-00-00T00:00:00Z/9\n",
      "'Heisman Trophy'@en\t'Gary Beban'@en\t'quarterback'@en\t^1967-00-00T00:00:00Z/9\n",
      "'Heisman Trophy'@en\t'O. J. Simpson'@en\t'running back'@en\t^1968-00-00T00:00:00Z/9\n",
      "'Heisman Trophy'@en\t'Steve Owens'@en\t'running back'@en\t^1969-00-00T00:00:00Z/9\n",
      "'Heisman Trophy'@en\t'Jim Plunkett'@en\t'quarterback'@en\t^1970-00-00T00:00:00Z/9\n",
      "'Heisman Trophy'@en\t'Pat Sullivan'@en\t'quarterback'@en\t^1971-00-00T00:00:00Z/9\n",
      "'Heisman Trophy'@en\t'Johnny Rodgers'@en\t'wide receiver'@en\t^1972-00-00T00:00:00Z/9\n",
      "'Heisman Trophy'@en\t'John Cappelletti'@en\t'running back'@en\t^1973-00-00T00:00:00Z/9\n",
      "'Heisman Trophy'@en\t'Archie Griffin'@en\t'running back'@en\t^1974-00-00T00:00:00Z/9\n",
      "'Heisman Trophy'@en\t'Archie Griffin'@en\t'running back'@en\t^1975-00-00T00:00:00Z/9\n",
      "'Heisman Trophy'@en\t'Tony Dorsett'@en\t'running back'@en\t^1976-00-00T00:00:00Z/9\n",
      "'Heisman Trophy'@en\t'Earl Campbell'@en\t'running back'@en\t^1977-00-00T00:00:00Z/9\n",
      "'Heisman Trophy'@en\t'Billy Sims'@en\t'running back'@en\t^1978-00-00T00:00:00Z/9\n",
      "'Heisman Trophy'@en\t'Charles White'@en\t'running back'@en\t^1979-00-00T00:00:00Z/9\n",
      "'Heisman Trophy'@en\t'George Rogers'@en\t'running back'@en\t^1980-00-00T00:00:00Z/9\n",
      "'Heisman Trophy'@en\t'Marcus Allen'@en\t'running back'@en\t^1981-00-00T00:00:00Z/9\n",
      "'Heisman Trophy'@en\t'Herschel Walker'@en\t'running back'@en\t^1982-00-00T00:00:00Z/9\n",
      "'Heisman Trophy'@en\t'Mike Rozier'@en\t'running back'@en\t^1983-00-00T00:00:00Z/9\n",
      "'Heisman Trophy'@en\t'Doug Flutie'@en\t'quarterback'@en\t^1984-00-00T00:00:00Z/9\n",
      "'Heisman Trophy'@en\t'Bo Jackson'@en\t'running back'@en\t^1985-00-00T00:00:00Z/9\n",
      "'Heisman Trophy'@en\t'Vinny Testaverde'@en\t'quarterback'@en\t^1986-00-00T00:00:00Z/9\n",
      "'Heisman Trophy'@en\t'Tim Brown'@en\t'wide receiver'@en\t^1987-00-00T00:00:00Z/9\n",
      "'Heisman Trophy'@en\t'Barry Sanders'@en\t'halfback'@en\t^1988-00-00T00:00:00Z/9\n",
      "'Heisman Trophy'@en\t'Andre Ware'@en\t'quarterback'@en\t^1989-00-00T00:00:00Z/9\n",
      "'Heisman Trophy'@en\t'Ty Detmer'@en\t'quarterback'@en\t^1990-00-00T00:00:00Z/9\n",
      "'Heisman Trophy'@en\t'Desmond Howard'@en\t'kickoff returner'@en\t^1991-00-00T00:00:00Z/9\n",
      "'Heisman Trophy'@en\t'Desmond Howard'@en\t'punt returner'@en\t^1991-00-00T00:00:00Z/9\n",
      "'Heisman Trophy'@en\t'Desmond Howard'@en\t'wide receiver'@en\t^1991-00-00T00:00:00Z/9\n",
      "'Heisman Trophy'@en\t'Gino Torretta'@en\t'quarterback'@en\t^1992-00-00T00:00:00Z/9\n",
      "'Heisman Trophy'@en\t'Rashaan Salaam'@en\t'running back'@en\t^1994-00-00T00:00:00Z/9\n",
      "'Heisman Trophy'@en\t'Eddie George'@en\t'running back'@en\t^1995-00-00T00:00:00Z/9\n",
      "'Heisman Trophy'@en\t'Danny Wuerffel'@en\t'quarterback'@en\t^1996-00-00T00:00:00Z/9\n",
      "'Heisman Trophy'@en\t'Charles Woodson'@en\t'safety'@en\t^1997-00-00T00:00:00Z/9\n",
      "'Heisman Trophy'@en\t'Charles Woodson'@en\t'defensive back'@en\t^1997-00-00T00:00:00Z/9\n",
      "'Heisman Trophy'@en\t'Charles Woodson'@en\t'return specialist'@en\t^1997-00-00T00:00:00Z/9\n",
      "'Heisman Trophy'@en\t'Charles Woodson'@en\t'cornerback'@en\t^1997-00-00T00:00:00Z/9\n",
      "'Heisman Trophy'@en\t'Ricky Williams'@en\t'running back'@en\t^1998-00-00T00:00:00Z/9\n",
      "'Heisman Trophy'@en\t'Ron Dayne'@en\t'running back'@en\t^1999-00-00T00:00:00Z/9\n",
      "'Heisman Trophy'@en\t'Chris Weinke'@en\t'quarterback'@en\t^2000-00-00T00:00:00Z/9\n",
      "'Heisman Trophy'@en\t'Eric Crouch'@en\t'quarterback'@en\t^2001-00-00T00:00:00Z/9\n",
      "'Heisman Trophy'@en\t'Carson Palmer'@en\t'quarterback'@en\t^2002-00-00T00:00:00Z/9\n",
      "'Heisman Trophy'@en\t'Jason White'@en\t'quarterback'@en\t^2003-00-00T00:00:00Z/9\n",
      "'Heisman Trophy'@en\t'Matt Leinart'@en\t'quarterback'@en\t^2004-00-00T00:00:00Z/9\n",
      "'Heisman Trophy'@en\t'Reggie Bush'@en\t'running back'@en\t^2005-00-00T00:00:00Z/9\n",
      "'Heisman Trophy'@en\t'Troy Smith'@en\t'quarterback'@en\t^2006-00-00T00:00:00Z/9\n",
      "'Heisman Trophy'@en\t'Tim Tebow'@en\t'quarterback'@en\t^2007-00-00T00:00:00Z/9\n",
      "'Heisman Trophy'@en\t'Sam Bradford'@en\t'quarterback'@en\t^2008-00-00T00:00:00Z/9\n",
      "'Heisman Trophy'@en\t'Mark Ingram'@en\t'running back'@en\t^2009-00-00T00:00:00Z/9\n",
      "'Heisman Trophy'@en\t'Cam Newton'@en\t'quarterback'@en\t^2010-00-00T00:00:00Z/9\n",
      "'Heisman Trophy'@en\t'Robert Griffin III'@en\t'quarterback'@en\t^2011-00-00T00:00:00Z/9\n",
      "'Heisman Trophy'@en\t'Johnny Manziel'@en\t'quarterback'@en\t^2012-00-00T00:00:00Z/9\n",
      "'Heisman Trophy'@en\t'Jameis Winston'@en\t'quarterback'@en\t^2013-00-00T00:00:00Z/9\n",
      "'Heisman Trophy'@en\t'Marcus Mariota'@en\t'quarterback'@en\t^2014-00-00T00:00:00Z/9\n",
      "'Heisman Trophy'@en\t'Derrick Henry'@en\t'running back'@en\t^2015-00-00T00:00:00Z/9\n",
      "'Heisman Trophy'@en\t'Lamar Jackson'@en\t'quarterback'@en\t^2016-00-00T00:00:00Z/9\n"
     ]
    }
   ],
   "source": [
    "!$kypher -i \"$CLAIMS\" -i \"$LABEL\" -i \"$P279STAR\" -i \"$ISA\" -i \"$QUALIFIERS\" \\\n",
    "--match '\\\n",
    "  claims: (c1)-[:P413]->(c2), \\\n",
    "  isa: (c1)-[isa]->(:Q5), \\\n",
    "  isa: (c2)-[]->(n2), P279star: (n2)-[:P279star]->(c2_1:Q694589), \\\n",
    "  claims: (c0:Q1035067)-[c4:P1346]->(c1), \\\n",
    "  qual: (c4)-[:P585]->(d0), \\\n",
    "  label: (c0)-[]->(c0_label), \\\n",
    "  label: (c1)-[]->(c1_label), \\\n",
    "  label: (c2)-[]->(c2_label)' \\\n",
    "--return 'distinct c0_label as Award, c1_label as Player, c2_label as Position, d0 as Year' \\\n",
    "--order-by 'Year' "
   ]
  },
  {
   "cell_type": "code",
   "execution_count": 75,
   "metadata": {},
   "outputs": [
    {
     "name": "stdout",
     "output_type": "stream",
     "text": [
      "\u001b[90mid\u001b[39m P166\n",
      "\u001b[42mLabel\u001b[49m award received\n",
      "\u001b[44mDescription\u001b[49m award or recognition received by a person, organisation or creative work\n",
      "\u001b[30m\u001b[47minstance of\u001b[49m\u001b[39m \u001b[90m(P31)\u001b[39m\u001b[90m: \u001b[39mWikidata property for items about people or organisations \u001b[90m(Q57955292)\u001b[39m | Wikidata property for items about works \u001b[90m(Q18618644)\u001b[39m | Wikidata property related to awards, prizes and honours \u001b[90m(Q56150830)\u001b[39m\n"
     ]
    }
   ],
   "source": [
    "!wd u P166"
   ]
  },
  {
   "cell_type": "code",
   "execution_count": 12,
   "metadata": {},
   "outputs": [
    {
     "name": "stdout",
     "output_type": "stream",
     "text": [
      "property\tnode2\tnode1;label\n",
      "P106\t888992\t'occupation'@en\n",
      "P39\t838822\t'position held'@en\n",
      "P31\t617239\t'instance of'@en\n",
      "P21\t579438\t'sex or gender'@en\n",
      "P27\t534961\t'country of citizenship'@en\n",
      "P569\t505487\t'date of birth'@en\n",
      "P735\t467038\t'given name'@en\n",
      "P102\t330958\t'member of political party'@en\n",
      "P19\t311750\t'place of birth'@en\n",
      "P1412\t297248\t'languages spoken, written or signed'@en\n",
      "P734\t288095\t'family name'@en\n",
      "P570\t278213\t'date of death'@en\n",
      "P69\t197524\t'educated at'@en\n",
      "P214\t154017\t'VIAF ID'@en\n",
      "P18\t150674\t'image'@en\n",
      "P20\t147454\t'place of death'@en\n",
      "P1559\t141629\t'name in native language'@en\n",
      "P937\t139276\t'work location'@en\n",
      "P166\t131320\t'award received'@en\n",
      "P7859\t128177\t'WorldCat Identities ID'@en\n",
      "P213\t87226\t'ISNI'@en\n",
      "P40\t81986\t'child'@en\n",
      "P373\t81115\t'Commons category'@en\n",
      "P646\t81046\t'Freebase ID'@en\n",
      "P244\t78245\t'Library of Congress authority ID'@en\n",
      "P227\t72345\t'GND ID'@en\n",
      "P3602\t47459\t'candidacy in election'@en\n",
      "P463\t44632\t'member of'@en\n",
      "P2163\t43555\t'FAST ID'@en\n",
      "P1343\t42457\t'described by source'@en\n",
      "P3373\t41146\t'sibling'@en\n",
      "P22\t38603\t'father'@en\n",
      "P1006\t33173\t'Nationale Thesaurus voor Auteurs ID'@en\n",
      "P103\t33119\t'native language'@en\n",
      "P269\t32818\t'IdRef ID'@en\n",
      "P7902\t31385\t'Deutsche Biographie ID'@en\n",
      "P268\t31075\t'Bibliothèque nationale de France ID'@en\n",
      "P6886\t28056\t'writing languages'@en\n",
      "P108\t27077\t'employer'@en\n",
      "P119\t25839\t'place of burial'@en\n",
      "P2949\t25384\t'WikiTree person ID'@en\n",
      "P551\t24271\t'residence'@en\n",
      "P140\t23748\t'religion'@en\n",
      "P648\t23362\t'Open Library ID'@en\n",
      "P26\t23319\t'spouse'@en\n",
      "P535\t22639\t'Find A Grave memorial ID'@en\n",
      "P1614\t21430\t'History of Parliament ID'@en\n",
      "P25\t20907\t'mother'@en\n",
      "P607\t20859\t'conflict'@en\n",
      "P3430\t20666\t'SNAC Ark ID'@en\n"
     ]
    }
   ],
   "source": [
    "!$kypher -i \"$CLAIMS\" -i \"$LABEL\" \\\n",
    "--match 'claims: (:Q82955)<-[:P106]-(n1), claims: (n1)-[p {label: property}]->(), label: (property)-[]->(property_label)' \\\n",
    "--return 'distinct property as property, count(property) as node2, property_label as `node1;label`' \\\n",
    "--order-by 'node2 desc' \\\n",
    "--limit 50"
   ]
  },
  {
   "cell_type": "code",
   "execution_count": null,
   "metadata": {},
   "outputs": [],
   "source": []
  },
  {
   "cell_type": "code",
   "execution_count": 90,
   "metadata": {},
   "outputs": [
    {
     "name": "stdout",
     "output_type": "stream",
     "text": [
      "id\tnode1\tlabel\tnode2\trank\tnode2;wikidatatype\tid\tnode1\tlabel\tnode2\trank\tnode2;wikidatatype\tid\tnode1\tlabel\tnode2\n",
      "Q1000051-P106-Q82955-1d49c0e3-0\tQ1000051\tP106\tQ82955\tnormal\twikibase-item\tQ1000051-P31-Q5-d4b9989c-0\tQ1000051\tP31\tQ5\tnormal\twikibase-item\tQ1000051-label-en\tQ1000051\tlabel\t'Joseph C. O\\\\'Mahoney'@en\n",
      "Q1000053-P106-Q82955-9ea52895-0\tQ1000053\tP106\tQ82955\tnormal\twikibase-item\tQ1000053-P31-Q5-b45a4215-0\tQ1000053\tP31\tQ5\tnormal\twikibase-item\tQ1000053-label-en\tQ1000053\tlabel\t'Vasily Nebenzya'@en\n",
      "Q1000061-P106-Q82955-03428baf-0\tQ1000061\tP106\tQ82955\tnormal\twikibase-item\tQ1000061-P31-Q5-6d7f3e39-0\tQ1000061\tP31\tQ5\tnormal\twikibase-item\tQ1000061-label-en\tQ1000061\tlabel\t'Valentyn Symonenko'@en\n",
      "Q1000070-P106-Q82955-eaeeb6df-0\tQ1000070\tP106\tQ82955\tnormal\twikibase-item\tQ1000070-P31-Q5-50486e16-0\tQ1000070\tP31\tQ5\tnormal\twikibase-item\tQ1000070-label-en\tQ1000070\tlabel\t'Myron V. George'@en\n",
      "Q1000085-P106-Q82955-b0515d71-0\tQ1000085\tP106\tQ82955\tnormal\twikibase-item\tQ1000085-P31-Q5-3b951a7c-0\tQ1000085\tP31\tQ5\tnormal\twikibase-item\tQ1000085-label-en\tQ1000085\tlabel\t'Frank P. Coburn'@en\n",
      "Q1000154-P106-Q82955-271e2996-0\tQ1000154\tP106\tQ82955\tnormal\twikibase-item\tQ1000154-P31-Q5-237f4992-0\tQ1000154\tP31\tQ5\tnormal\twikibase-item\tQ1000154-label-en\tQ1000154\tlabel\t'Hugh Meade Alcorn, Jr.'@en\n",
      "Q1000195-P106-Q82955-187d0402-0\tQ1000195\tP106\tQ82955\tnormal\twikibase-item\tQ1000195-P31-Q5-1f8cef2a-0\tQ1000195\tP31\tQ5\tnormal\twikibase-item\tQ1000195-label-en\tQ1000195\tlabel\t'Dietmar Thieser'@en\n",
      "^C\n"
     ]
    }
   ],
   "source": [
    "!$kypher -i \"$CLAIMS\" -i \"$LABEL\" \\\n",
    "--match 'claims: (n1)-[:P106]->(:Q82955), claims: (n1)-[:P31]->(:Q5), label: (n1)-[]->(n1_label)' \\\n",
    "--limit 20"
   ]
  },
  {
   "cell_type": "code",
   "execution_count": 22,
   "metadata": {},
   "outputs": [
    {
     "name": "stdout",
     "output_type": "stream",
     "text": [
      "property\tcount\tname\n",
      "P31\t8077740\t'instance of'@en\n",
      "P106\t6540204\t'occupation'@en\n",
      "P21\t6343164\t'sex or gender'@en\n",
      "P569\t4717853\t'date of birth'@en\n",
      "P735\t4311301\t'given name'@en\n",
      "P27\t3725745\t'country of citizenship'@en\n",
      "P19\t2586707\t'place of birth'@en\n",
      "P734\t2458978\t'family name'@en\n",
      "P570\t2361434\t'date of death'@en\n",
      "P1087\t2338336\t'Elo rating'@en\n",
      "P214\t2079758\t'VIAF ID'@en\n",
      "P496\t1566234\t'ORCID iD'@en\n",
      "P7859\t1510693\t'WorldCat Identities ID'@en\n",
      "P69\t1424601\t'educated at'@en\n",
      "P54\t1364830\t'member of sports team'@en\n",
      "P40\t1306484\t'child'@en\n",
      "P213\t1139943\t'ISNI'@en\n",
      "P39\t1125879\t'position held'@en\n",
      "P108\t1104544\t'employer'@en\n",
      "P227\t1017918\t'GND ID'@en\n",
      "P20\t996359\t'place of death'@en\n",
      "P166\t991018\t'award received'@en\n",
      "P244\t974080\t'Library of Congress authority ID'@en\n",
      "P1412\t973669\t'languages spoken, written or signed'@en\n",
      "P18\t902396\t'image'@en\n",
      "P641\t873398\t'sport'@en\n",
      "P22\t800065\t'father'@en\n",
      "P4638\t718951\t'The Peerage person ID'@en\n",
      "P7902\t608818\t'Deutsche Biographie ID'@en\n",
      "P1344\t521036\t'participant in'@en\n",
      "P25\t507016\t'mother'@en\n",
      "P373\t506299\t'Commons category'@en\n",
      "P1559\t493778\t'name in native language'@en\n",
      "P1006\t479210\t'Nationale Thesaurus voor Auteurs ID'@en\n",
      "P268\t432763\t'Bibliothèque nationale de France ID'@en\n",
      "P269\t427443\t'IdRef ID'@en\n",
      "P497\t422631\t'CBDB ID'@en\n",
      "P102\t422045\t'member of political party'@en\n",
      "P2163\t403812\t'FAST ID'@en\n",
      "P413\t384464\t'position played on team / speciality'@en\n",
      "P646\t378089\t'Freebase ID'@en\n",
      "P345\t359545\t'IMDb ID'@en\n",
      "P1343\t334836\t'described by source'@en\n",
      "P3373\t325227\t'sibling'@en\n",
      "P691\t322226\t'NKCR AUT ID'@en\n",
      "P937\t274547\t'work location'@en\n",
      "P1153\t266676\t'Scopus Author ID'@en\n",
      "P463\t238984\t'member of'@en\n",
      "P26\t234678\t'spouse'@en\n",
      "P2031\t221604\t'work period (start)'@en\n",
      "P1871\t197597\t'CERL Thesaurus ID'@en\n",
      "P140\t185130\t'religion'@en\n",
      "P648\t182487\t'Open Library ID'@en\n",
      "P1303\t181119\t'instrument'@en\n",
      "P119\t172308\t'place of burial'@en\n",
      "P950\t160686\t'Biblioteca Nacional de España ID'@en\n",
      "P1532\t157999\t'country for sport'@en\n",
      "P1207\t157441\t'NUKAT ID'@en\n",
      "P7704\t155968\t'Europeana entity'@en\n",
      "P434\t153753\t'MusicBrainz artist ID'@en\n",
      "P2048\t153537\t'height'@en\n",
      "P607\t150848\t'conflict'@en\n",
      "P2949\t149341\t'WikiTree person ID'@en\n",
      "P856\t149189\t'official website'@en\n",
      "P2600\t146973\t'Geni.com profile ID'@en\n",
      "P1814\t145717\t'name in kana'@en\n",
      "P101\t143238\t'field of work'@en\n",
      "P8286\t141794\t'Olympedia athlete ID'@en\n",
      "P136\t134291\t'genre'@en\n",
      "P2002\t133960\t'Twitter username'@en\n",
      "P1447\t132558\t'Sports-Reference.com Olympic athlete ID'@en\n",
      "P3430\t131119\t'SNAC Ark ID'@en\n",
      "P410\t125234\t'military rank'@en\n",
      "P2067\t123588\t'mass'@en\n",
      "P1015\t123170\t'NORAF ID'@en\n",
      "P172\t122556\t'ethnic group'@en\n",
      "P2446\t120466\t'Transfermarkt player ID'@en\n",
      "P1953\t113649\t'Discogs artist ID'@en\n",
      "P551\t103875\t'residence'@en\n",
      "P2604\t102763\t'Kinopoisk person ID'@en\n",
      "P509\t101932\t'cause of death'@en\n",
      "P1477\t101260\t'birth name'@en\n",
      "P6379\t99492\t'has works in the collection'@en\n",
      "P2605\t96516\t'ČSFD person ID'@en\n",
      "P512\t95124\t'academic degree'@en\n",
      "P103\t94010\t'native language'@en\n",
      "P535\t91293\t'Find A Grave memorial ID'@en\n",
      "P650\t89879\t'RKDartists ID'@en\n",
      "P349\t88629\t'National Diet Library ID'@en\n",
      "P1196\t85200\t'manner of death'@en\n",
      "P245\t85169\t'ULAN ID'@en\n",
      "P1315\t84368\t'NLA Trove ID'@en\n",
      "P2369\t84042\t'Soccerway player ID'@en\n",
      "P1598\t83085\t'consecrator'@en\n",
      "P7763\t78771\t'copyright status as a creator'@en\n",
      "P241\t76276\t'military branch'@en\n",
      "P6886\t75835\t'writing languages'@en\n",
      "P1280\t75742\t'CONOR ID'@en\n",
      "P3987\t75118\t'SHARE Catalogue author ID'@en\n",
      "P3043\t73057\t'Scoresway soccer person ID'@en\n"
     ]
    }
   ],
   "source": [
    "!$kypher -i \"$CLAIMS\" -i \"$LABEL\" \\\n",
    "--match 'claims: (n1)-[id {label: property}]->(), claims: (n1)-[:P31]->(:Q5), label: (property)-[]->(property_label)' \\\n",
    "--return 'distinct property as property, count(property) as count, property_label as name' \\\n",
    "--order-by 'count desc' \\\n",
    "--limit 100"
   ]
  },
  {
   "cell_type": "code",
   "execution_count": 35,
   "metadata": {},
   "outputs": [
    {
     "name": "stdout",
     "output_type": "stream",
     "text": [
      "^C\n"
     ]
    }
   ],
   "source": [
    "!$kypher -i \"$CLAIMS\" -i \"$LABEL\" -i \"$PROPERTY_DATATYPES\" \\\n",
    "--match 'claims: (n1)-[id {label: property}]->(), claims: (n1)-[:P31]->(:Q5), label: (property)-[]->(property_label), property: (property)-[]->(type)' \\\n",
    "--return 'distinct property as property, count(property) as count, property_label as name, type as type' \\\n",
    "--where 'type != \"external-id\"' \\\n",
    "--order-by 'count desc' \\\n",
    "--limit 25"
   ]
  },
  {
   "cell_type": "code",
   "execution_count": 36,
   "metadata": {},
   "outputs": [
    {
     "name": "stdout",
     "output_type": "stream",
     "text": [
      "^C\n"
     ]
    }
   ],
   "source": [
    "!$kypher -i \"$CLAIMS\" -i \"$LABEL\" -i \"$PROPERTY_DATATYPES\" -i \"$P279STAR\" \\\n",
    "--match 'claims: (n1)-[id {label: property}]->(), claims: (n1)-[:P31]->(c), P279: (c)-[]->(:Q486972), label: (property)-[]->(property_label), property: (property)-[]->(type)' \\\n",
    "--return 'distinct property as property, count(property) as count, property_label as name, type as type' \\\n",
    "--where 'type != \"external-id\"' \\\n",
    "--order-by 'count desc' \\\n",
    "--limit 10"
   ]
  },
  {
   "cell_type": "code",
   "execution_count": 37,
   "metadata": {},
   "outputs": [
    {
     "name": "stdout",
     "output_type": "stream",
     "text": [
      "^C\n"
     ]
    }
   ],
   "source": [
    "!$kypher -i \"$CLAIMS\" -i \"$LABEL\" -i \"$PROPERTY_DATATYPES\" \\\n",
    "--match 'claims: (n1)-[id {label: property}]->(), claims: (n1)-[:P31]->(:Q8502), label: (property)-[]->(property_label), property: (property)-[]->(type)' \\\n",
    "--return 'distinct property as property, count(property) as count, property_label as name, type as type' \\\n",
    "--where 'type != \"external-id\"' \\\n",
    "--order-by 'count desc' \\\n",
    "--limit 10"
   ]
  },
  {
   "cell_type": "code",
   "execution_count": null,
   "metadata": {},
   "outputs": [],
   "source": []
  },
  {
   "cell_type": "code",
   "execution_count": null,
   "metadata": {},
   "outputs": [],
   "source": []
  },
  {
   "cell_type": "code",
   "execution_count": null,
   "metadata": {},
   "outputs": [],
   "source": []
  },
  {
   "cell_type": "code",
   "execution_count": null,
   "metadata": {},
   "outputs": [],
   "source": []
  },
  {
   "cell_type": "code",
   "execution_count": null,
   "metadata": {},
   "outputs": [],
   "source": []
  },
  {
   "cell_type": "code",
   "execution_count": 50,
   "metadata": {},
   "outputs": [],
   "source": [
    "!$kypher -i \"$CLAIMS\" -i \"$LABEL\" -i \"$P279STAR\" -i \"$ISA\"  \\\n",
    "--match '\\\n",
    "  isa: (n1)-[]->(n2), \\\n",
    "  P279star: (n2)-[]->(n3)' \\\n",
    "--return 'distinct n1 as node1, \"isa_star\" as label, n3 as node2' \\\n",
    "-o \"$TEMP\"/derived.isastar_1.tsv.gz"
   ]
  },
  {
   "cell_type": "code",
   "execution_count": 51,
   "metadata": {},
   "outputs": [
    {
     "name": "stdout",
     "output_type": "stream",
     "text": [
      " 1092722609 3278167827 30065058032\n"
     ]
    }
   ],
   "source": [
    "!zcat < \"$TEMP\"/derived.isastar_1.tsv.gz | wc"
   ]
  },
  {
   "cell_type": "code",
   "execution_count": 52,
   "metadata": {},
   "outputs": [
    {
     "name": "stdout",
     "output_type": "stream",
     "text": [
      "    12027.01 real     11761.24 user      1806.49 sys\n"
     ]
    }
   ],
   "source": [
    "!$kgtk add-id --id-style wikidata -i \"$TEMP\"/derived.isastar_1.tsv.gz \\\n",
    "/ sort2 -o \"$OUT\"/derived.isastar.tsv.gz"
   ]
  },
  {
   "cell_type": "code",
   "execution_count": 53,
   "metadata": {},
   "outputs": [],
   "source": [
    "!$kypher -i \"$OUT\"/derived.isastar.tsv.gz \\\n",
    "--match '(n1)-[]->()' \\\n",
    "--return 'distinct n1' \\\n",
    "--order-by 'n1' \\\n",
    "-o \"$TEMP\"/derived.isastar.node1.tsv.gz"
   ]
  },
  {
   "cell_type": "code",
   "execution_count": 54,
   "metadata": {},
   "outputs": [
    {
     "name": "stdout",
     "output_type": "stream",
     "text": [
      " 28657085 28657085 280499739\n"
     ]
    }
   ],
   "source": [
    "!zcat < \"$TEMP\"/derived.isastar.node1.tsv.gz | wc"
   ]
  },
  {
   "cell_type": "code",
   "execution_count": 48,
   "metadata": {},
   "outputs": [],
   "source": [
    "!$kypher -i \"$CLAIMS\" -i \"$LABEL\" -i \"$P279STAR\" -i \"$ISA\"  \\\n",
    "--match '\\\n",
    "  isa: (n1)-[]->(n2)' \\\n",
    "--return 'distinct n1' \\\n",
    "--order-by 'n1' \\\n",
    "-o \"$TEMP\"/isa.node1.tsv.gz"
   ]
  },
  {
   "cell_type": "code",
   "execution_count": 49,
   "metadata": {},
   "outputs": [
    {
     "name": "stdout",
     "output_type": "stream",
     "text": [
      " 28789155 28789155 281777039\n"
     ]
    }
   ],
   "source": [
    "!zcat < \"$TEMP\"/isa.node1.tsv.gz | wc"
   ]
  },
  {
   "cell_type": "code",
   "execution_count": null,
   "metadata": {},
   "outputs": [],
   "source": [
    "!$kypher -i \"$CLAIMS\" -i \"$LABEL\" -i \"$P279STAR\" -i \"$ISA\"  \\\n",
    "--match '\\\n",
    "  claims: (n1)-[:P31]->(n2), \\\n",
    "  P279star: (n2)-[]->(n3)' \\\n",
    "--return 'distinct n1 as node1, \"P31P279star\" as label, n3 as node2' \\\n",
    "-o \"$TEMP\"/derived.P31P279star.gz"
   ]
  },
  {
   "cell_type": "code",
   "execution_count": null,
   "metadata": {},
   "outputs": [],
   "source": [
    "!$kgtk add-id --id-style wikidata -i \"$TEMP\"/derived.P31P279star.gz \\\n",
    "/ sort2 -o \"$OUT\"/derived.P31P279star.tsv.gz"
   ]
  },
  {
   "cell_type": "code",
   "execution_count": null,
   "metadata": {},
   "outputs": [],
   "source": []
  }
 ],
 "metadata": {
  "kernelspec": {
   "display_name": "kgtk",
   "language": "python",
   "name": "kgtk"
  },
  "language_info": {
   "codemirror_mode": {
    "name": "ipython",
    "version": 3
   },
   "file_extension": ".py",
   "mimetype": "text/x-python",
   "name": "python",
   "nbconvert_exporter": "python",
   "pygments_lexer": "ipython3",
   "version": "3.7.9"
  }
 },
 "nbformat": 4,
 "nbformat_minor": 4
}
