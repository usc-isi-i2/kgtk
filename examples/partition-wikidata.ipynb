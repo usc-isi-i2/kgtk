{
 "cells": [
  {
   "cell_type": "markdown",
   "metadata": {},
   "source": [
    "# Partitioning a subset of Wikidata\n",
    "\n",
    "This notebook illustrates how to partition a Wikidata KGTK edges file.\n",
    "\n",
    "Parameters are set up in the first cell so that we can run this notebook in batch mode. Example invocation command:\n",
    "\n",
    "```\n",
    "papermill partition-wikidata.ipynb partition-wikidata.out.ipynb \\\n",
    "-p wikidata_input_path /data3/rogers/kgtk/gd/kgtk_public_graphs/cache/wikidata-20201130/data/all.tsv.gz \\\n",
    "-p wikidata_parts_path /data3/rogers/kgtk/gd/kgtk_public_graphs/cache/wikidata-20201130/parts \\\n",
    "```\n",
    "\n",
    "Here is a sample of the records that might appear in the input KGTK file:\n",
    "```\n",
    "id\tnode1\tlabel\tnode2\trank\tnode2;wikidatatype\tlang\n",
    "Q1-P1036-418bc4-78f5a565-0\tQ1\tP1036\t\"113\"\tnormal\texternal-id\t\n",
    "Q1-P1343-Q19190511-ab132b87-0   Q1      P1343   Q19190511       normal  wikibase-item   \n",
    "Q1-P18-92a7b3-0dcac501-0        Q1      P18     \"Hubble ultra deep field.jpg\"   normal  commonsMedia    \n",
    "Q1-P2386-cedfb0-0fdbd641-0      Q1      P2386   +880000000000000000000000Q828224        normal  quantity        \n",
    "Q1-P580-a2fccf-63cf4743-0       Q1      P580    ^-13798000000-00-00T00:00:00Z/3 normal  time    \n",
    "Q1-P920-47c0f2-52689c4e-0       Q1      P920    \"LEM201201756\"  normal  string  \n",
    "Q1-P1343-Q19190511-ab132b87-0-P805-Q84065667-0  Q1-P1343-Q19190511-ab132b87-0   P805    Q84065667               wikibase-item   \n",
    "Q1-P1343-Q88672152-5080b9e2-0-P304-5724c3-0     Q1-P1343-Q88672152-5080b9e2-0   P304    \"13-36\"         string  \n",
    "Q1-P2670-Q18343-030eb87e-0-P1107-ce87f8-0       Q1-P2670-Q18343-030eb87e-0      P1107   +0.70           quantity        \n",
    "Q1-P793-Q273508-1900d69c-0-P585-a2fccf-0        Q1-P793-Q273508-1900d69c-0      P585    ^-13798000000-00-00T00:00:00Z/3         time    \n",
    "P10-alias-en-282226-0   P10     alias   'gif'@en\n",
    "P10-description-en      P10     description     'relevant video. For images, use the property P18. For film trailers, qualify with \\\"object has role\\\" (P3831)=\\\"trailer\\\" (Q622550)'@en                        en\n",
    "P10-label-en    P10     label   'video'@en                      en\n",
    "Q1-addl_wikipedia_sitelink-19e42a-0     Q1      addl_wikipedia_sitelink http://enwikiquote.org/wiki/Universe                    en\n",
    "Q1-addl_wikipedia_sitelink-19e42a-0-language-0  Q1-addl_wikipedia_sitelink-19e42a-0     sitelink-language       en                      en\n",
    "Q1-addl_wikipedia_sitelink-19e42a-0-site-0      Q1-addl_wikipedia_sitelink-19e42a-0     sitelink-site   enwikiquote                     en\n",
    "Q1-addl_wikipedia_sitelink-19e42a-0-title-0     Q1-addl_wikipedia_sitelink-19e42a-0     sitelink-title  \"Universe\"                      en\n",
    "Q1-wikipedia_sitelink-5e459a-0  Q1      wikipedia_sitelink      http://en.wikipedia.org/wiki/Universe                   en\n",
    "Q1-wikipedia_sitelink-5e459a-0-badge-Q17437798  Q1-wikipedia_sitelink-5e459a-0  sitelink-badge  Q17437798                       en\n",
    "Q1-wikipedia_sitelink-5e459a-0-language-0       Q1-wikipedia_sitelink-5e459a-0  sitelink-language       en                      en\n",
    "Q1-wikipedia_sitelink-5e459a-0-site-0   Q1-wikipedia_sitelink-5e459a-0  sitelink-site   enwiki                  en\n",
    "Q1-wikipedia_sitelink-5e459a-0-title-0  Q1-wikipedia_sitelink-5e459a-0  sitelink-title  \"Universe\"                      en\n",
    "```\n",
    "Here are some contraints on the contents of the input file:\n",
    "- The input file starts with a KGTK header record.\n",
    "  - In addition to the `id`, `node1`, `label`, and `node2` columns, the file may contain the `node2;wikidatatype` column.\n",
    "  - The `node2;wikidatatype` column is used to partition claims by Wikidata property datatype.\n",
    "  - If it does not exist, it will be created during the partitioning process and populated using `datatype` relationships.\n",
    "  - If it does exist, any empty values in the column will be populated using `datatype` relationships.\n",
    "- The `id` column must contain a nonempty value.\n",
    "- The first section of an `id` value must be the `node` value for the record.\n",
    "  - The qualifier extraction operations depend upon this constraint. \n",
    "- In addition to the claims and qualifiers, the input file is expected to contain:\n",
    "  - English language labels for all property entities appearing in the file.\n",
    "- The input file ought to contain the following:\n",
    "  - claims records,\n",
    "  - qualifier records,\n",
    "  - alias records in appropriate languages,\n",
    "  - description records in appropriate languages,\n",
    "  - label records in appropriate languages, and\n",
    "  - sitelink records in appropriate languages.\n",
    "  - `datatype` records that map Wikidata property entities to Wikidata property datatypes. These records are required if the input file does not contain the `node2;wikidatatype` column.\n",
    "- Additionally, this script provides for the appearance of `type` records in the input file.\n",
    "  - `type` records that list all `entityId` values and identify them as properties or items. These records provides a correctness check on the operation of `kgtk import-wikidata`, and may be deprecated in the future.\n",
    "- The input file is assumed to be unsorted. If it is already sorted on the (`id` `node1` `label` `node2`) columns , then set the `presorted` parameter to `True` to shorten the execution time of this script."
   ]
  },
  {
   "cell_type": "markdown",
   "metadata": {},
   "source": [
    "### Parameters for invoking the notebook\n",
    "\n",
    "| Parameter | Description | Default |\n",
    "| --------- | ----------- | ------- |\n",
    "| `wikidata_input_path` | A folder containing the Wikidata KGTK edges to partition. | '/data4/rogers/elicit/cache/datasets/wikidata-20200803/data/all.tsv.gz' |\n",
    "| `wikidata_parts_path` | A folder to receive the partitioned Wikidata files, such as `part.wikibase-item.tsv.gz` | '/data4/rogers/elicit/cache/datasets/wikidata-20200803/parts' |\n",
    "| `temp_folder_path` |    A folder that may be used for temporary files. | wikidata_parts_path + '/temp' |\n",
    "| `gzip_command` |        The compression command for sorting. | 'pigz'  (Note: use version 2.4 or later)|\n",
    "| `kgtk_command` |        The kgtk commmand. | 'time kgtk' |\n",
    "| `kgtk_options` |        The kgtk commmand options. | '--debug --timing' |\n",
    "| `kgtk_extension` |      The file extension for generated KGTK files. Appending `.gz` implies gzip compression. | 'tsv.gz' |\n",
    "| `presorted` |           When True, the input file is already sorted on the (`id` `node1` `label` `node2`) columns. | 'False' |\n",
    "| `sort_extras` |         Extra parameters for the sort program.  The default specifies a path for temporary files. Other useful parameters include '--buffer-size' and '--parallel'. | '--parallel 24 --buffer-size 30% --temporary-directory ' + temp_folder_path |\n",
    "| `use_mgzip` |           When True, use the mgzip program where appropriate for faster compression. | 'True' |\n",
    "| `verbose` |             When True, produce additional feedback messages. | 'True' |\n",
    "\n",
    "Note: if `pigz` version 2.4 (or later) is not available on your system, use `gzip`.\n"
   ]
  },
  {
   "cell_type": "code",
   "execution_count": 13,
   "metadata": {
    "tags": [
     "parameters"
    ]
   },
   "outputs": [],
   "source": [
    "# Parameters\n",
    "wikidata_input_path = '/data3/rogers/kgtk/gd/kgtk_public_graphs/cache/wikidata-20201130/data/all.tsv.gz'\n",
    "wikidata_parts_path = '/data3/rogers/kgtk/gd/kgtk_public_graphs/cache/wikidata-20201130/parts'\n",
    "temp_folder_path =    wikidata_parts_path + '/temp'\n",
    "gzip_command =        'pigz'\n",
    "kgtk_command =        'time kgtk'\n",
    "kgtk_options =        '--debug --timing'\n",
    "kgtk_extension =      'tsv.gz'\n",
    "presorted =           'False'\n",
    "sort_extras =         '--parallel 24 --buffer-size 30% --temporary-directory ' + temp_folder_path\n",
    "use_mgzip =           'True'\n",
    "verbose =             'True'\n"
   ]
  },
  {
   "cell_type": "code",
   "execution_count": 3,
   "metadata": {},
   "outputs": [],
   "source": [
    "print('wikidata_input_path = %s' % repr(wikidata_input_path))\n",
    "print('wikidata_parts_path = %s' % repr(wikidata_parts_path))\n",
    "print('temp_folder_path = %s' % repr(temp_folder_path))\n",
    "print('gzip_command = %s' % repr(gzip_command))\n",
    "print('kgtk_command = %s' % repr(kgtk_command))\n",
    "print('kgtk_options = %s' % repr(kgtk_options))\n",
    "print('kgtk_extension = %s' % repr(kgtk_extension))\n",
    "print('presorted = %s' % repr(presorted))\n",
    "print('sort_extras = %s' % repr(sort_extras))\n",
    "print('use_mgzip = %s' % repr(use_mgzip))\n",
    "print('verbose = %s' % repr(verbose))\n"
   ]
  },
  {
   "cell_type": "markdown",
   "metadata": {},
   "source": [
    "### Create working folders and empty them"
   ]
  },
  {
   "cell_type": "code",
   "execution_count": 2,
   "metadata": {},
   "outputs": [],
   "source": [
    "!mkdir {wikidata_parts_path}\n",
    "!mkdir {temp_folder_path}"
   ]
  },
  {
   "cell_type": "code",
   "execution_count": 3,
   "metadata": {},
   "outputs": [],
   "source": [
    "!rm {wikidata_parts_path}/*.tsv {wikidata_parts_path}/*.tsv.gz\n",
    "!rm {temp_folder_path}/*.tsv {temp_folder_path}/*.tsv.gz"
   ]
  },
  {
   "cell_type": "markdown",
   "metadata": {},
   "source": [
    "### Sort the Input Data Unless Presorted\n",
    "Sort the input data file by (id, node1, label, node2).\n",
    "This may take a while."
   ]
  },
  {
   "cell_type": "code",
   "execution_count": null,
   "metadata": {},
   "outputs": [],
   "source": [
    "if presorted.lower() == \"true\": \n",
    "    print('Using a presorted input file %s.' % repr(wikidata_input_path))\n",
    "    partition_input_file = wikidata_input_path \n",
    "else: \n",
    "    print('Sorting the input file %s.' % repr(wikidata_input_path))\n",
    "    partition_input_file = wikidata_parts_path + '/all.' + kgtk_extension \n",
    "    !{kgtk_command} {kgtk_options} sort2 --verbose={verbose} --gzip-command={gzip_command} \\\n",
    " --input-file {wikidata_input_path} \\\n",
    " --output-file {partition_input_file} \\\n",
    " --columns     id node1 label node2 \\\n",
    " --extra       \"{sort_extras}\""
   ]
  },
  {
   "cell_type": "markdown",
   "metadata": {},
   "source": [
    "### Partition the Claims, Qualifiers, and Entity Data\n",
    "Split out the entity data (alias, description, label, and sitelinks) and additional metadata (datatype, type).  Separate the qualifiers from the claims.\n"
   ]
  },
  {
   "cell_type": "code",
   "execution_count": 8,
   "metadata": {},
   "outputs": [],
   "source": [
    "!{kgtk_command} {kgtk_options} filter --verbose={verbose} --use-mgzip={use_mgzip} --first-match-only \\\n",
    " --input-file {partition_input_file} \\\n",
    " -p '; datatype ;'        -o {wikidata_parts_path}/metadata.property.datatypes.{kgtk_extension} \\\n",
    " -p '; alias ;'           -o {wikidata_parts_path}/aliases.{kgtk_extension} \\\n",
    " -p '; description ;'     -o {wikidata_parts_path}/descriptions.{kgtk_extension} \\\n",
    " -p '; label ;'           -o {wikidata_parts_path}/labels.{kgtk_extension} \\\n",
    " -p '; addl_wikipedia_sitelink,wikipedia_sitelink ;' \\\n",
    "                          -o {wikidata_parts_path}/sitelinks.{kgtk_extension} \\\n",
    " -p '; sitelink-badge,sitelink-language,sitelink-site,sitelink-title ;' \\\n",
    "                          -o {wikidata_parts_path}/sitelinks.qualifiers.{kgtk_extension} \\\n",
    " -p '; type ;'            -o {wikidata_parts_path}/metadata.types.{kgtk_extension} \\\n",
    " --reject-file {temp_folder_path}/claims-and-qualifiers.sorted-by-id.{kgtk_extension}"
   ]
  },
  {
   "cell_type": "markdown",
   "metadata": {},
   "source": [
    "### Sort the claims and qualifiers on Node1\n",
    "Sort the combined claims and qualifiers file by the node1 column.\n",
    "This may take a while."
   ]
  },
  {
   "cell_type": "code",
   "execution_count": null,
   "metadata": {},
   "outputs": [],
   "source": [
    "!{kgtk_command} {kgtk_options} sort2 --verbose={verbose} --gzip-command={gzip_command} \\\n",
    " --input-file {temp_folder_path}/claims-and-qualifiers.sorted-by-id.{kgtk_extension} \\\n",
    " --output-file {temp_folder_path}/claims-and-qualifiers.sorted-by-node1.{kgtk_extension}\\\n",
    " --columns     node1 \\\n",
    " --extra       \"{sort_extras}\""
   ]
  },
  {
   "cell_type": "markdown",
   "metadata": {},
   "source": [
    "### Split the claims and qualifiers\n",
    "If row A's node1 value matches some other row's id value, the then row A is a qualifier."
   ]
  },
  {
   "cell_type": "code",
   "execution_count": null,
   "metadata": {},
   "outputs": [],
   "source": [
    "!{kgtk_command} {kgtk_options} ifexists --verbose={verbose} --use-mgzip={use_mgzip} --presorted \\\n",
    " --input-file {temp_folder_path}/claims-and-qualifiers.sorted-by-node1.{kgtk_extension} \\\n",
    " --filter-file {temp_folder_path}/claims-and-qualifiers.sorted-by-id.{kgtk_extension} \\\n",
    " --output-file {temp_folder_path}/qualifiers.sorted-by-node1.{kgtk_extension}\\\n",
    " --reject-file {temp_folder_path}/claims.sorted-by-node1.{kgtk_extension}\\\n",
    " --input-keys node1 \\\n",
    " --filter-keys id"
   ]
  },
  {
   "cell_type": "markdown",
   "metadata": {},
   "source": [
    "### Sort the claims by ID\n",
    "Sort the split claims by id, node1, label, node2.\n",
    "This may take a while."
   ]
  },
  {
   "cell_type": "code",
   "execution_count": null,
   "metadata": {},
   "outputs": [],
   "source": [
    "!{kgtk_command} {kgtk_options} sort2 --verbose={verbose} --gzip-command={gzip_command} \\\n",
    " --input-file {temp_folder_path}/claims.sorted-by-node1.{kgtk_extension} \\\n",
    " --output-file {temp_folder_path}/claims.no-datatype.{kgtk_extension}\\\n",
    " --columns     id node1 label node2 \\\n",
    " --extra       \"{sort_extras}\""
   ]
  },
  {
   "cell_type": "markdown",
   "metadata": {},
   "source": [
    "### Merge the Wikidata Property Datatypes into the claims\n",
    "Merge the Wikidata Property Datatypes into the claims row as node2;wikidatatype. This column will be used to partition the claims by Wikidata Property Datatype ina later step.  If the claims file already has a node2;wikidatatype column, lift only when that column has an empty value.\n"
   ]
  },
  {
   "cell_type": "code",
   "execution_count": null,
   "metadata": {},
   "outputs": [],
   "source": [
    "!{kgtk_command} {kgtk_options} lift --verbose={verbose} --use-mgzip={use_mgzip} \\\n",
    " --input-file {temp_folder_path}/claims.no-datatype.{kgtk_extension} \\\n",
    " --columns-to-lift label \\\n",
    " --overwrite False \\\n",
    " --label-file {wikidata_parts_path}/metadata.property.datatypes.{kgtk_extension}\\\n",
    " --label-value datatype \\\n",
    " --output-file {wikidata_parts_path}/claims.{kgtk_extension}\\\n",
    " --columns-to-write 'node2;wikidatatype'"
   ]
  },
  {
   "cell_type": "markdown",
   "metadata": {},
   "source": [
    "### Sort the qualifiers by ID\n",
    "Sort the split qualifiers by id, node1, label, node2.\n",
    "This may take a while."
   ]
  },
  {
   "cell_type": "code",
   "execution_count": null,
   "metadata": {},
   "outputs": [],
   "source": [
    "!{kgtk_command} {kgtk_options} sort2 --verbose={verbose} --gzip-command={gzip_command} \\\n",
    " --input-file {temp_folder_path}/qualifiers.sorted-by-node1.{kgtk_extension} \\\n",
    " --output-file {wikidata_parts_path}/qualifiers.{kgtk_extension}\\\n",
    " --columns     id node1 label node2 \\\n",
    " --extra       \"{sort_extras}\""
   ]
  },
  {
   "cell_type": "markdown",
   "metadata": {},
   "source": [
    "### Extract the English aliases, descriptions, labels, and sitelinks.\n",
    "Aliases, descriptions, and labels are extracted by selecting rows where the `node2` value ends in the language suffix for English (`@en`) in a KGTK language-qualified string. This is an abbreviated pattern; a more general pattern would include the single quotes used to delimit a KGTK language-qualified string. If `kgtk import-wikidata` has executed properly, the abbreviated pattern should be sufficient.\n",
    "\n",
    "Sitelink rows do not have a language-specific marker in the `node2` value. We use the `lang` column to provide the language code for English ('en').  The `lang` column is an additional column created by `kgtk import-wikidata`."
   ]
  },
  {
   "cell_type": "code",
   "execution_count": 9,
   "metadata": {},
   "outputs": [],
   "source": [
    "!{kgtk_command} {kgtk_options} filter --verbose={verbose} --use-mgzip={use_mgzip} --regex \\\n",
    " --input-file {wikidata_parts_path}/aliases.{kgtk_extension} \\\n",
    " -p ';; ^.*@en$' -o {wikidata_parts_path}/aliases.en.{kgtk_extension}"
   ]
  },
  {
   "cell_type": "code",
   "execution_count": 9,
   "metadata": {},
   "outputs": [],
   "source": [
    "!{kgtk_command} {kgtk_options} filter --verbose={verbose} --use-mgzip={use_mgzip} --regex \\\n",
    " --input-file {wikidata_parts_path}/descriptions.{kgtk_extension} \\\n",
    " -p ';; ^.*@en$' -o {wikidata_parts_path}/descriptions.en.{kgtk_extension}"
   ]
  },
  {
   "cell_type": "code",
   "execution_count": 9,
   "metadata": {},
   "outputs": [],
   "source": [
    "!{kgtk_command} {kgtk_options} filter --verbose={verbose} --use-mgzip={use_mgzip} --regex \\\n",
    " --input-file {wikidata_parts_path}/labels.{kgtk_extension} \\\n",
    " -p ';; ^.*@en$' -o {wikidata_parts_path}/labels.en.{kgtk_extension}"
   ]
  },
  {
   "cell_type": "code",
   "execution_count": 9,
   "metadata": {},
   "outputs": [],
   "source": [
    "!{kgtk_command} {kgtk_options} filter --verbose={verbose} --use-mgzip={use_mgzip} \\\n",
    " --input-file {wikidata_parts_path}/sitelinks.qualifiers.{kgtk_extension} \\\n",
    " -p '; sitelink-language ; en' -o {temp_folder_path}/sitelinks.language.en.{kgtk_extension}"
   ]
  },
  {
   "cell_type": "code",
   "execution_count": 9,
   "metadata": {},
   "outputs": [],
   "source": [
    "!{kgtk_command} {kgtk_options} ifexists --verbose={verbose} --use-mgzip={use_mgzip} --presorted \\\n",
    " --input-file {wikidata_parts_path}/sitelinks.{kgtk_extension} \\\n",
    " --filter-on {temp_folder_path}/sitelinks.language.en.{kgtk_extension} \\\n",
    " --output-file {wikidata_parts_path}/sitelinks.en.{kgtk_extension} \\\n",
    " --input-keys  id \\\n",
    " --filter-keys node1"
   ]
  },
  {
   "cell_type": "code",
   "execution_count": 9,
   "metadata": {},
   "outputs": [],
   "source": [
    "!{kgtk_command} {kgtk_options} ifexists --verbose={verbose} --use-mgzip={use_mgzip} --presorted \\\n",
    " --input-file {wikidata_parts_path}/sitelinks.qualifiers.{kgtk_extension} \\\n",
    " --filter-on {temp_folder_path}/sitelinks.language.en.{kgtk_extension} \\\n",
    " --output-file {wikidata_parts_path}/sitelinks.qualifiers.en.{kgtk_extension} \\\n",
    " --input-keys  node1 \\\n",
    " --filter-keys node1"
   ]
  },
  {
   "cell_type": "markdown",
   "metadata": {},
   "source": [
    "### Partition the claims by Wikidata Property Datatype\n",
    "Wikidata has two names for each Wikidata property datatype: the name that appears in the JSON dump file, and the name that appears in the TTL dump file. `kgtk import-wikidata` currently imports rows from Wikikdata JSON dump files, and these are the names that appear below.\n",
    "\n",
    "The `part.other` file catches any records that have an unknown Wikidata property datatype. Additional Wikidata property datatypes may occur when processing from certain Wikidata extensions."
   ]
  },
  {
   "cell_type": "code",
   "execution_count": 9,
   "metadata": {},
   "outputs": [],
   "source": [
    "!{kgtk_command} {kgtk_options} filter --verbose={verbose} --use-mgzip={use_mgzip} --first-match-only \\\n",
    " --input-file {wikidata_parts_path}/claims.{kgtk_extension} \\\n",
    " --obj 'node2;wikidatatype' \\\n",
    " -p ';; commonsMedia'      -o {wikidata_parts_path}/claims.commonsMedia.{kgtk_extension} \\\n",
    " -p ';; external-id'       -o {wikidata_parts_path}/claims.external-id.{kgtk_extension} \\\n",
    " -p ';; geo-shape'         -o {wikidata_parts_path}/claims.geo-shape.{kgtk_extension} \\\n",
    " -p ';; globe-coordinate'  -o {wikidata_parts_path}/claims.globe-coordinate.{kgtk_extension} \\\n",
    " -p ';; math'              -o {wikidata_parts_path}/claims.math.{kgtk_extension} \\\n",
    " -p ';; monolingualtext'   -o {wikidata_parts_path}/claims.monolingualtext.{kgtk_extension} \\\n",
    " -p ';; musical-notation'  -o {wikidata_parts_path}/claims.musical-notation.{kgtk_extension} \\\n",
    " -p ';; quantity'          -o {wikidata_parts_path}/claims.quantity.{kgtk_extension} \\\n",
    " -p ';; string'            -o {wikidata_parts_path}/claims.string.{kgtk_extension} \\\n",
    " -p ';; tabular-data'      -o {wikidata_parts_path}/claims.tabular-data.{kgtk_extension} \\\n",
    " -p ';; time'              -o {wikidata_parts_path}/claims.time.{kgtk_extension} \\\n",
    " -p ';; url'               -o {wikidata_parts_path}/claims.url.{kgtk_extension} \\\n",
    " -p ';; wikibase-form'     -o {wikidata_parts_path}/claims.wikibase-form.{kgtk_extension} \\\n",
    " -p ';; wikibase-item'     -o {wikidata_parts_path}/claims.wikibase-item.{kgtk_extension} \\\n",
    " -p ';; wikibase-lexeme'   -o {wikidata_parts_path}/claims.wikibase-lexeme.{kgtk_extension} \\\n",
    " -p ';; wikibase-property' -o {wikidata_parts_path}/claims.wikibase-property.{kgtk_extension} \\\n",
    " -p ';; wikibase-sense'    -o {wikidata_parts_path}/claims.wikibase-sense.{kgtk_extension} \\\n",
    " --reject-file {wikidata_parts_path}/claims.other.{kgtk_extension}"
   ]
  },
  {
   "cell_type": "markdown",
   "metadata": {},
   "source": [
    "### Partition the qualifiers\n",
    "Extract the qualifier records for each of the Wikidata property datatype partition files."
   ]
  },
  {
   "cell_type": "code",
   "execution_count": 9,
   "metadata": {},
   "outputs": [],
   "source": [
    "!{kgtk_command} {kgtk_options} ifexists --verbose={verbose} --use-mgzip={use_mgzip} --presorted \\\n",
    " --input-file  {wikidata_parts_path}/qualifiers.{kgtk_extension} \\\n",
    " --filter-on   {wikidata_parts_path}/claims.commonsMedia.{kgtk_extension} \\\n",
    " --output-file {wikidata_parts_path}/qualifiers.commonsMedia.{kgtk_extension} \\\n",
    " --input-keys  node1 \\\n",
    " --filter-keys id"
   ]
  },
  {
   "cell_type": "code",
   "execution_count": 9,
   "metadata": {},
   "outputs": [],
   "source": [
    "!{kgtk_command} {kgtk_options} ifexists --verbose={verbose} --use-mgzip={use_mgzip} --presorted \\\n",
    " --input-file  {wikidata_parts_path}/qualifiers.{kgtk_extension} \\\n",
    " --filter-on   {wikidata_parts_path}/claims.external-id.{kgtk_extension} \\\n",
    " --output-file {wikidata_parts_path}/qualifiers.external-id.{kgtk_extension} \\\n",
    " --input-keys  node1 \\\n",
    " --filter-keys id"
   ]
  },
  {
   "cell_type": "code",
   "execution_count": 9,
   "metadata": {},
   "outputs": [],
   "source": [
    "!{kgtk_command} {kgtk_options} ifexists --verbose={verbose} --use-mgzip={use_mgzip} --presorted \\\n",
    " --input-file  {wikidata_parts_path}/qualifiers.{kgtk_extension} \\\n",
    " --filter-on   {wikidata_parts_path}/claims.geo-shape.{kgtk_extension} \\\n",
    " --output-file {wikidata_parts_path}/qualifiers.geo-shape.{kgtk_extension} \\\n",
    " --input-keys  node1 \\\n",
    " --filter-keys id"
   ]
  },
  {
   "cell_type": "code",
   "execution_count": 9,
   "metadata": {},
   "outputs": [],
   "source": [
    "!{kgtk_command} {kgtk_options} ifexists --verbose={verbose} --use-mgzip={use_mgzip} --presorted \\\n",
    " --input-file  {wikidata_parts_path}/qualifiers.{kgtk_extension} \\\n",
    " --filter-on   {wikidata_parts_path}/claims.globe-coordinate.{kgtk_extension} \\\n",
    " --output-file {wikidata_parts_path}/qualifiers.globe-coordinate.{kgtk_extension} \\\n",
    " --input-keys  node1 \\\n",
    " --filter-keys id"
   ]
  },
  {
   "cell_type": "code",
   "execution_count": 9,
   "metadata": {},
   "outputs": [],
   "source": [
    "!{kgtk_command} {kgtk_options} ifexists --verbose={verbose} --use-mgzip={use_mgzip} --presorted \\\n",
    " --input-file  {wikidata_parts_path}/qualifiers.{kgtk_extension} \\\n",
    " --filter-on   {wikidata_parts_path}/claims.math.{kgtk_extension} \\\n",
    " --output-file {wikidata_parts_path}/qualifiers.math.{kgtk_extension} \\\n",
    " --input-keys  node1 \\\n",
    " --filter-keys id"
   ]
  },
  {
   "cell_type": "code",
   "execution_count": 9,
   "metadata": {},
   "outputs": [],
   "source": [
    "!{kgtk_command} {kgtk_options} ifexists --verbose={verbose} --use-mgzip={use_mgzip} --presorted \\\n",
    " --input-file  {wikidata_parts_path}/qualifiers.{kgtk_extension} \\\n",
    " --filter-on   {wikidata_parts_path}/claims.monolingualtext.{kgtk_extension} \\\n",
    " --output-file {wikidata_parts_path}/qualifiers.monolingualtext.{kgtk_extension} \\\n",
    " --input-keys  node1 \\\n",
    " --filter-keys id"
   ]
  },
  {
   "cell_type": "code",
   "execution_count": 9,
   "metadata": {},
   "outputs": [],
   "source": [
    "!{kgtk_command} {kgtk_options} ifexists --verbose={verbose} --use-mgzip={use_mgzip} --presorted \\\n",
    " --input-file  {wikidata_parts_path}/qualifiers.{kgtk_extension} \\\n",
    " --filter-on   {wikidata_parts_path}/claims.musical-notation.{kgtk_extension} \\\n",
    " --output-file {wikidata_parts_path}/qualifiers.musical-notation.{kgtk_extension} \\\n",
    " --input-keys  node1 \\\n",
    " --filter-keys id"
   ]
  },
  {
   "cell_type": "code",
   "execution_count": 9,
   "metadata": {},
   "outputs": [],
   "source": [
    "!{kgtk_command} {kgtk_options} ifexists --verbose={verbose} --use-mgzip={use_mgzip} --presorted \\\n",
    " --input-file  {wikidata_parts_path}/qualifiers.{kgtk_extension} \\\n",
    " --filter-on   {wikidata_parts_path}/claims.quantity.{kgtk_extension} \\\n",
    " --output-file {wikidata_parts_path}/qualifiers.quantity.{kgtk_extension} \\\n",
    " --input-keys  node1 \\\n",
    " --filter-keys id"
   ]
  },
  {
   "cell_type": "code",
   "execution_count": 9,
   "metadata": {},
   "outputs": [],
   "source": [
    "!{kgtk_command} {kgtk_options} ifexists --verbose={verbose} --use-mgzip={use_mgzip} --presorted \\\n",
    " --input-file  {wikidata_parts_path}/qualifiers.{kgtk_extension} \\\n",
    " --filter-on   {wikidata_parts_path}/claims.string.{kgtk_extension} \\\n",
    " --output-file {wikidata_parts_path}/qualifiers.string.{kgtk_extension} \\\n",
    " --input-keys  node1 \\\n",
    " --filter-keys id"
   ]
  },
  {
   "cell_type": "code",
   "execution_count": 9,
   "metadata": {},
   "outputs": [],
   "source": [
    "!{kgtk_command} {kgtk_options} ifexists --verbose={verbose} --use-mgzip={use_mgzip} --presorted \\\n",
    " --input-file  {wikidata_parts_path}/qualifiers.{kgtk_extension} \\\n",
    " --filter-on   {wikidata_parts_path}/claims.tabular-data.{kgtk_extension} \\\n",
    " --output-file {wikidata_parts_path}/qualifiers.tabular-data.{kgtk_extension} \\\n",
    " --input-keys  node1 \\\n",
    " --filter-keys id"
   ]
  },
  {
   "cell_type": "code",
   "execution_count": 9,
   "metadata": {},
   "outputs": [],
   "source": [
    "!{kgtk_command} {kgtk_options} ifexists --verbose={verbose} --use-mgzip={use_mgzip} --presorted \\\n",
    " --input-file  {wikidata_parts_path}/qualifiers.{kgtk_extension} \\\n",
    " --filter-on   {wikidata_parts_path}/claims.time.{kgtk_extension} \\\n",
    " --output-file {wikidata_parts_path}/qualifiers.time.{kgtk_extension} \\\n",
    " --input-keys  node1 \\\n",
    " --filter-keys id"
   ]
  },
  {
   "cell_type": "code",
   "execution_count": 9,
   "metadata": {},
   "outputs": [],
   "source": [
    "!{kgtk_command} {kgtk_options} ifexists --verbose={verbose} --use-mgzip={use_mgzip} --presorted \\\n",
    " --input-file  {wikidata_parts_path}/qualifiers.{kgtk_extension} \\\n",
    " --filter-on   {wikidata_parts_path}/claims.url.{kgtk_extension} \\\n",
    " --output-file {wikidata_parts_path}/qualifiers.url.{kgtk_extension} \\\n",
    " --input-keys  node1 \\\n",
    " --filter-keys id"
   ]
  },
  {
   "cell_type": "code",
   "execution_count": 9,
   "metadata": {},
   "outputs": [],
   "source": [
    "!{kgtk_command} {kgtk_options} ifexists --verbose={verbose} --use-mgzip={use_mgzip} --presorted \\\n",
    " --input-file  {wikidata_parts_path}/qualifiers.{kgtk_extension} \\\n",
    " --filter-on   {wikidata_parts_path}/claims.wikibase-form.{kgtk_extension} \\\n",
    " --output-file {wikidata_parts_path}/qualifiers.wikibase-form.{kgtk_extension} \\\n",
    " --input-keys  node1 \\\n",
    " --filter-keys id"
   ]
  },
  {
   "cell_type": "code",
   "execution_count": 9,
   "metadata": {},
   "outputs": [],
   "source": [
    "!{kgtk_command} {kgtk_options} ifexists --verbose={verbose} --use-mgzip={use_mgzip} --presorted \\\n",
    " --input-file  {wikidata_parts_path}/qualifiers.{kgtk_extension} \\\n",
    " --filter-on   {wikidata_parts_path}/claims.wikibase-item.{kgtk_extension} \\\n",
    " --output-file {wikidata_parts_path}/qualifiers.wikibase-item.{kgtk_extension} \\\n",
    " --input-keys  node1 \\\n",
    " --filter-keys id"
   ]
  },
  {
   "cell_type": "code",
   "execution_count": 9,
   "metadata": {},
   "outputs": [],
   "source": [
    "!{kgtk_command} {kgtk_options} ifexists --verbose={verbose} --use-mgzip={use_mgzip} --presorted \\\n",
    " --input-file  {wikidata_parts_path}/qualifiers.{kgtk_extension} \\\n",
    " --filter-on   {wikidata_parts_path}/claims.wikibase-lexeme.{kgtk_extension} \\\n",
    " --output-file {wikidata_parts_path}/qualifiers.wikibase-lexeme.{kgtk_extension} \\\n",
    " --input-keys  node1 \\\n",
    " --filter-keys id"
   ]
  },
  {
   "cell_type": "code",
   "execution_count": 9,
   "metadata": {},
   "outputs": [],
   "source": [
    "!{kgtk_command} {kgtk_options} ifexists --verbose={verbose} --use-mgzip={use_mgzip} --presorted \\\n",
    " --input-file  {wikidata_parts_path}/qualifiers.{kgtk_extension} \\\n",
    " --filter-on   {wikidata_parts_path}/claims.wikibase-property.{kgtk_extension} \\\n",
    " --output-file {wikidata_parts_path}/qualifiers.wikibase-property.{kgtk_extension} \\\n",
    " --input-keys  node1 \\\n",
    " --filter-keys id"
   ]
  },
  {
   "cell_type": "code",
   "execution_count": 9,
   "metadata": {},
   "outputs": [],
   "source": [
    "!{kgtk_command} {kgtk_options} ifexists --verbose={verbose} --use-mgzip={use_mgzip} --presorted \\\n",
    " --input-file  {wikidata_parts_path}/qualifiers.{kgtk_extension} \\\n",
    " --filter-on   {wikidata_parts_path}/claims.wikibase-sense.{kgtk_extension} \\\n",
    " --output-file {wikidata_parts_path}/qualifiers.wikibase-sense.{kgtk_extension} \\\n",
    " --input-keys  node1 \\\n",
    " --filter-keys id"
   ]
  }
 ],
 "metadata": {
  "kernelspec": {
   "display_name": "Python 3 (ipykernel)",
   "language": "python",
   "name": "python3"
  },
  "language_info": {
   "codemirror_mode": {
    "name": "ipython",
    "version": 3
   },
   "file_extension": ".py",
   "mimetype": "text/x-python",
   "name": "python",
   "nbconvert_exporter": "python",
   "pygments_lexer": "ipython3",
   "version": "3.8.11"
  }
 },
 "nbformat": 4,
 "nbformat_minor": 4
}
