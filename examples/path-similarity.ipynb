{
 "cells": [
  {
   "cell_type": "code",
   "execution_count": 4,
   "metadata": {
    "tags": [
     "parameters"
    ]
   },
   "outputs": [],
   "source": [
    "# Parameters\n",
    "\n",
    "# Folder on local machine where to create the output and temporary folders\n",
    "output_path = \"/Users/pedroszekely/Downloads/kypher\"\n",
    "\n",
    "# The names of the output and temporary folders\n",
    "output_folder = \"movies\"\n",
    "temp_folder = \"temp.movies\"\n",
    "\n",
    "# The location of input Wikidata files\n",
    "wikidata_folder = \"/Volumes/GoogleDrive/Shared drives/KGTK/datasets/wikidata-20210215-dwd/\"\n",
    "# wikidata_folder = \"/Users/pedroszekely/Downloads/kypher/wikidata_os_v1/\"\n",
    "# The wikidata_os files can be downloaded from https://drive.google.com/drive/folders/1V6oAQKmwQ4LJnrBai-uv5gHWphFSCt50?usp=sharing\n",
    "\n",
    "# Location of the cache database for kypher\n",
    "cache_path = \"/Users/pedroszekely/Downloads/kypher/temp.novartis\"\n",
    "# cache_path = \"/Users/pedroszekely/Downloads/kypher/temp.useful_wikidata_files_v4/wikidata.sqlite3.db\"\n",
    "# Whether to delete the cache database\n",
    "delete_database = False\n",
    "\n",
    "# shortcuts to commands\n",
    "kgtk = \"time kgtk --debug\"\n",
    "# kgtk = \"kgtk --debug\""
   ]
  },
  {
   "cell_type": "code",
   "execution_count": 5,
   "metadata": {},
   "outputs": [],
   "source": [
    "import io\n",
    "import os\n",
    "import subprocess\n",
    "import sys\n",
    "\n",
    "import numpy as np\n",
    "import pandas as pd\n",
    "\n",
    "import altair as alt\n",
    "\n",
    "import papermill as pm"
   ]
  },
  {
   "cell_type": "code",
   "execution_count": 6,
   "metadata": {},
   "outputs": [],
   "source": [
    "def kgtk_to_dataframe(kgtk):\n",
    "    columns = kgtk[0].split(\"\\t\")\n",
    "    data = []\n",
    "    for line in kgtk[1:]:\n",
    "        data.append(line.encode('utf-8').decode('utf-8').split(\"\\t\"))\n",
    "    return pd.DataFrame(data, columns=columns)    "
   ]
  },
  {
   "cell_type": "code",
   "execution_count": 7,
   "metadata": {},
   "outputs": [
    {
     "name": "stdout",
     "output_type": "stream",
     "text": [
      "ALIAS: \"/Volumes/GoogleDrive/Shared drives/KGTK/datasets/wikidata-20210215-dwd/aliases.en.tsv.gz\"\n",
      "CLAIMS: \"/Volumes/GoogleDrive/Shared drives/KGTK/datasets/wikidata-20210215-dwd/claims.tsv.gz\"\n",
      "DESCRIPTION: \"/Volumes/GoogleDrive/Shared drives/KGTK/datasets/wikidata-20210215-dwd/descriptions.en.tsv.gz\"\n",
      "DWD_ISA: \"/Volumes/GoogleDrive/Shared drives/KGTK/datasets/wikidata-20210215-dwd/derived.dwd_isa.tsv.gz\"\n",
      "EXAMPLES_DIR: \"/Users/pedroszekely/Documents/GitHub/kgtk/examples\"\n",
      "ISA: \"/Volumes/GoogleDrive/Shared drives/KGTK/datasets/wikidata-20210215-dwd/derived.isa.tsv.gz\"\n",
      "ITEM: \"/Volumes/GoogleDrive/Shared drives/KGTK/datasets/wikidata-20210215-dwd/claims.wikibase-item.tsv.gz\"\n",
      "LABEL: \"/Volumes/GoogleDrive/Shared drives/KGTK/datasets/wikidata-20210215-dwd/labels.en.tsv.gz\"\n",
      "OUT: \"/Users/pedroszekely/Downloads/kypher/movies\"\n",
      "P279: \"/Volumes/GoogleDrive/Shared drives/KGTK/datasets/wikidata-20210215-dwd/derived.P279.tsv.gz\"\n",
      "P279STAR: \"/Volumes/GoogleDrive/Shared drives/KGTK/datasets/wikidata-20210215-dwd/derived.P279star.tsv.gz\"\n",
      "P31: \"/Volumes/GoogleDrive/Shared drives/KGTK/datasets/wikidata-20210215-dwd/derived.P31.tsv.gz\"\n",
      "PROPERTY_DATATYPES: \"/Volumes/GoogleDrive/Shared drives/KGTK/datasets/wikidata-20210215-dwd/metadata.property.datatypes.tsv.gz\"\n",
      "QUALIFIERS: \"/Volumes/GoogleDrive/Shared drives/KGTK/datasets/wikidata-20210215-dwd/qualifiers.tsv.gz\"\n",
      "QUALIFIERS_TIME: \"/Volumes/GoogleDrive/Shared drives/KGTK/datasets/wikidata-20210215-dwd/qualifiers.time.tsv.gz\"\n",
      "QUANTITY: \"/Volumes/GoogleDrive/Shared drives/KGTK/datasets/wikidata-20210215-dwd/claims.quantity.tsv.gz\"\n",
      "SITELINKS: \"/Volumes/GoogleDrive/Shared drives/KGTK/datasets/wikidata-20210215-dwd/sitelinks.tsv.gz\"\n",
      "STORE: \"/Users/pedroszekely/Downloads/kypher/temp.novartis/wikidata.sqlite3.db\"\n",
      "TEMP: \"/Users/pedroszekely/Downloads/kypher/temp.movies\"\n",
      "WIKIDATA: \"/Volumes/GoogleDrive/Shared drives/KGTK/datasets/wikidata-20210215-dwd/\"\n",
      "kgtk: \"time kgtk --debug\"\n",
      "kypher: \"kgtk query --graph-cache /Users/pedroszekely/Downloads/kypher/temp.novartis/wikidata.sqlite3.db\"\n"
     ]
    }
   ],
   "source": [
    "# The names of files in the KGTK Wikidata distirbution that we will use in this notebook.\n",
    "file_names = {\n",
    "    \"claims\": \"claims.tsv.gz\",\n",
    "    \"quantity\": \"claims.quantity.tsv.gz\",\n",
    "    \"label\": \"labels.en.tsv.gz\",\n",
    "    \"alias\": \"aliases.en.tsv.gz\",\n",
    "    \"description\": \"descriptions.en.tsv.gz\",\n",
    "    \"item\": \"claims.wikibase-item.tsv.gz\",\n",
    "    \"qualifiers\": \"qualifiers.tsv.gz\",\n",
    "    \"sitelinks\": \"sitelinks.tsv.gz\",\n",
    "    \"qualifiers_time\": \"qualifiers.time.tsv.gz\",\n",
    "    \"property_datatypes\": \"metadata.property.datatypes.tsv.gz\",\n",
    "    \"isa\": \"derived.isa.tsv.gz\",\n",
    "    \"p279star\": \"derived.P279star.tsv.gz\",\n",
    "    \"p279\": \"derived.P279.tsv.gz\",\n",
    "    \"p31\": \"derived.P31.tsv.gz\",\n",
    "    \"dwd_isa\": \"derived.dwd_isa.tsv.gz\"\n",
    "}\n",
    "\n",
    "# We will define environment variables to hold the full paths to the files as we will use them in the shell commands\n",
    "kgtk_environment_variables = []\n",
    "\n",
    "os.environ['WIKIDATA'] = wikidata_folder\n",
    "kgtk_environment_variables.append('WIKIDATA')\n",
    "\n",
    "for key, value in file_names.items():\n",
    "    variable = key.upper()\n",
    "    os.environ[variable] = wikidata_folder + value\n",
    "    kgtk_environment_variables.append(variable)\n",
    "    \n",
    "# KGTK creates a SQLite database to index the knowledge graph.\n",
    "if cache_path:\n",
    "    os.environ['STORE'] = \"{}/wikidata.sqlite3.db\".format(cache_path)\n",
    "else:\n",
    "    os.environ['STORE'] = \"{}/{}/wikidata.sqlite3.db\".format(output_path, temp_folder)\n",
    "kgtk_environment_variables.append('STORE')\n",
    "\n",
    "# We will create many temporary files, so set up a folder for outputs and one for the temporary files.\n",
    "os.environ['TEMP'] = \"{}/{}\".format(output_path, temp_folder) \n",
    "os.environ['OUT'] = \"{}/{}\".format(output_path, output_folder) \n",
    "kgtk_environment_variables.append('TEMP')\n",
    "kgtk_environment_variables.append('OUT')\n",
    "\n",
    "# Envronment variables with shortcuts to the commands we use often\n",
    "os.environ['kgtk'] = kgtk\n",
    "# Use for debugging, but careful as it causes import to dataframes to break\n",
    "os.environ['kypher'] = \"time kgtk --debug query --graph-cache \" + os.environ['STORE']\n",
    "os.environ['kypher'] = \"kgtk query --graph-cache \" + os.environ['STORE']\n",
    "kgtk_environment_variables.append('kgtk')\n",
    "kgtk_environment_variables.append('kypher')\n",
    "\n",
    "# We'll save the current working directory so we can call into other example notebooks later\n",
    "os.environ[\"EXAMPLES_DIR\"] = os.getcwd()\n",
    "kgtk_environment_variables.append('EXAMPLES_DIR')\n",
    "\n",
    "kgtk_environment_variables.sort()\n",
    "for variable in kgtk_environment_variables:\n",
    "    print(\"{}: \\\"{}\\\"\".format(variable, os.environ[variable]))"
   ]
  },
  {
   "cell_type": "code",
   "execution_count": 8,
   "metadata": {},
   "outputs": [
    {
     "name": "stdout",
     "output_type": "stream",
     "text": [
      "/Users/pedroszekely/Downloads/kypher\n"
     ]
    }
   ],
   "source": [
    "%cd {output_path}"
   ]
  },
  {
   "cell_type": "markdown",
   "metadata": {},
   "source": [
    "The ISA file is missing the identifiers and we need them, so this is a patch to add them"
   ]
  },
  {
   "cell_type": "code",
   "execution_count": 9,
   "metadata": {},
   "outputs": [],
   "source": [
    "# !kgtk add-id --id-style wikidata -i \"$ISA\" -o \"$TEMP\"/derived.isa.tsv.gz"
   ]
  },
  {
   "cell_type": "code",
   "execution_count": 10,
   "metadata": {},
   "outputs": [],
   "source": [
    "os.environ['ISA'] = os.environ['TEMP'] + \"/derived.isa.tsv.gz\""
   ]
  },
  {
   "cell_type": "markdown",
   "metadata": {},
   "source": [
    "Define the shortcuts for Kypher"
   ]
  },
  {
   "cell_type": "code",
   "execution_count": 11,
   "metadata": {},
   "outputs": [
    {
     "name": "stdout",
     "output_type": "stream",
     "text": [
      "id\tnode1\tlabel\tnode2\trank\tnode2;wikidatatype\n",
      "P10-P1628-32b85d-7927ece6-0\tP10\tP1628\t\"http://www.w3.org/2006/vcard/ns#Video\"\tnormal\turl\n",
      "P10-P1628-acf60d-b8950832-0\tP10\tP1628\t\"https://schema.org/video\"\tnormal\turl\n",
      "P10-P1629-Q34508-bcc39400-0\tP10\tP1629\tQ34508\tnormal\twikibase-item\n",
      "P10-P1659-P1651-c4068028-0\tP10\tP1659\tP1651\tnormal\twikibase-property\n",
      "P10-P1659-P18-5e4b9c4f-0\tP10\tP1659\tP18\tnormal\twikibase-property\n",
      "P10-P1659-P4238-d21d1ac0-0\tP10\tP1659\tP4238\tnormal\twikibase-property\n",
      "P10-P1659-P51-86aca4c5-0\tP10\tP1659\tP51\tnormal\twikibase-property\n",
      "P10-P1855-Q15075950-7eff6d65-0\tP10\tP1855\tQ15075950\tnormal\twikibase-item\n",
      "P10-P1855-Q4504-a69d2c73-0\tP10\tP1855\tQ4504\tnormal\twikibase-item\n",
      "P10-P1855-Q69063653-c8cdb04c-0\tP10\tP1855\tQ69063653\tnormal\twikibase-item\n"
     ]
    }
   ],
   "source": [
    "!$kypher \\\n",
    "-i \"$CLAIMS\" --as claims \\\n",
    "-i \"$P31\" --as p31 \\\n",
    "-i \"$P279\" --as p279 \\\n",
    "-i \"$ISA\" --as isa \\\n",
    "-i \"$DWD_ISA\" --as dwd_isa \\\n",
    "-i \"$LABEL\" --as labels \\\n",
    "-i \"$ALIAS\" --as aliases \\\n",
    "-i \"$P279STAR\" --as p279star \\\n",
    "-i \"$QUALIFIERS\" --as qualifiers \\\n",
    "-i \"$ITEM\" --as items \\\n",
    "-i \"$QUANTITY\" --as quantities \\\n",
    "--limit 10"
   ]
  },
  {
   "cell_type": "markdown",
   "metadata": {},
   "source": [
    "Mini node browser to help with debugging"
   ]
  },
  {
   "cell_type": "code",
   "execution_count": 12,
   "metadata": {},
   "outputs": [],
   "source": [
    "def display_node(node): \n",
    "    template = \"\"\" -i claims -i labels \\\n",
    "    --match '(q)-[l {label: property}]->(n2), labels: (property)-[]->(property_label), labels: (n2)-[]->(n2_label)' \\\n",
    "    --return 'distinct property as label, property_label as `label;label`, n2 as node2, n2_label as `node2;label`' \\\n",
    "    --order-by 'property' \\\n",
    "    --where 'q = \"__query__\"'\"\"\".replace(\"__query__\", node)\n",
    "\n",
    "    lines = !kgtk query --graph-cache /Users/pedroszekely/Downloads/kypher/temp.novartis/wikidata.sqlite3.db {template}\n",
    "    df = kgtk_to_dataframe(lines)\n",
    "    # pd.set_option('display.max_rows', None)\n",
    "    return df"
   ]
  },
  {
   "cell_type": "code",
   "execution_count": 13,
   "metadata": {},
   "outputs": [
    {
     "data": {
      "text/html": [
       "<div>\n",
       "<style scoped>\n",
       "    .dataframe tbody tr th:only-of-type {\n",
       "        vertical-align: middle;\n",
       "    }\n",
       "\n",
       "    .dataframe tbody tr th {\n",
       "        vertical-align: top;\n",
       "    }\n",
       "\n",
       "    .dataframe thead th {\n",
       "        text-align: right;\n",
       "    }\n",
       "</style>\n",
       "<table border=\"1\" class=\"dataframe\">\n",
       "  <thead>\n",
       "    <tr style=\"text-align: right;\">\n",
       "      <th></th>\n",
       "      <th>label</th>\n",
       "      <th>label;label</th>\n",
       "      <th>node2</th>\n",
       "      <th>node2;label</th>\n",
       "    </tr>\n",
       "  </thead>\n",
       "  <tbody>\n",
       "    <tr>\n",
       "      <th>0</th>\n",
       "      <td>P1629</td>\n",
       "      <td>'subject item of this property'@en</td>\n",
       "      <td>Q34508</td>\n",
       "      <td>'videotape recording'@en</td>\n",
       "    </tr>\n",
       "    <tr>\n",
       "      <th>1</th>\n",
       "      <td>P1659</td>\n",
       "      <td>'see also'@en</td>\n",
       "      <td>P1651</td>\n",
       "      <td>'YouTube video ID'@en</td>\n",
       "    </tr>\n",
       "    <tr>\n",
       "      <th>2</th>\n",
       "      <td>P1659</td>\n",
       "      <td>'see also'@en</td>\n",
       "      <td>P18</td>\n",
       "      <td>'image'@en</td>\n",
       "    </tr>\n",
       "    <tr>\n",
       "      <th>3</th>\n",
       "      <td>P1659</td>\n",
       "      <td>'see also'@en</td>\n",
       "      <td>P4238</td>\n",
       "      <td>'webcam page URL'@en</td>\n",
       "    </tr>\n",
       "    <tr>\n",
       "      <th>4</th>\n",
       "      <td>P1659</td>\n",
       "      <td>'see also'@en</td>\n",
       "      <td>P51</td>\n",
       "      <td>'audio'@en</td>\n",
       "    </tr>\n",
       "    <tr>\n",
       "      <th>5</th>\n",
       "      <td>P1855</td>\n",
       "      <td>'Wikidata property example'@en</td>\n",
       "      <td>Q4504</td>\n",
       "      <td>'Varanus komodoensis'@en</td>\n",
       "    </tr>\n",
       "    <tr>\n",
       "      <th>6</th>\n",
       "      <td>P1855</td>\n",
       "      <td>'Wikidata property example'@en</td>\n",
       "      <td>Q69063653</td>\n",
       "      <td>'Couch Commander'@en</td>\n",
       "    </tr>\n",
       "    <tr>\n",
       "      <th>7</th>\n",
       "      <td>P1855</td>\n",
       "      <td>'Wikidata property example'@en</td>\n",
       "      <td>Q7378</td>\n",
       "      <td>'elephant'@en</td>\n",
       "    </tr>\n",
       "    <tr>\n",
       "      <th>8</th>\n",
       "      <td>P2302</td>\n",
       "      <td>'property constraint'@en</td>\n",
       "      <td>Q21502404</td>\n",
       "      <td>'format constraint'@en</td>\n",
       "    </tr>\n",
       "    <tr>\n",
       "      <th>9</th>\n",
       "      <td>P2302</td>\n",
       "      <td>'property constraint'@en</td>\n",
       "      <td>Q21510851</td>\n",
       "      <td>'allowed qualifiers constraint'@en</td>\n",
       "    </tr>\n",
       "    <tr>\n",
       "      <th>10</th>\n",
       "      <td>P2302</td>\n",
       "      <td>'property constraint'@en</td>\n",
       "      <td>Q21510852</td>\n",
       "      <td>'Commons link constraint'@en</td>\n",
       "    </tr>\n",
       "    <tr>\n",
       "      <th>11</th>\n",
       "      <td>P2302</td>\n",
       "      <td>'property constraint'@en</td>\n",
       "      <td>Q52004125</td>\n",
       "      <td>'allowed entity types constraint'@en</td>\n",
       "    </tr>\n",
       "    <tr>\n",
       "      <th>12</th>\n",
       "      <td>P2302</td>\n",
       "      <td>'property constraint'@en</td>\n",
       "      <td>Q53869507</td>\n",
       "      <td>'property scope constraint'@en</td>\n",
       "    </tr>\n",
       "    <tr>\n",
       "      <th>13</th>\n",
       "      <td>P31</td>\n",
       "      <td>'instance of'@en</td>\n",
       "      <td>Q18610173</td>\n",
       "      <td>'Wikidata property to link to Commons'@en</td>\n",
       "    </tr>\n",
       "  </tbody>\n",
       "</table>\n",
       "</div>"
      ],
      "text/plain": [
       "    label                         label;label      node2  \\\n",
       "0   P1629  'subject item of this property'@en     Q34508   \n",
       "1   P1659                       'see also'@en      P1651   \n",
       "2   P1659                       'see also'@en        P18   \n",
       "3   P1659                       'see also'@en      P4238   \n",
       "4   P1659                       'see also'@en        P51   \n",
       "5   P1855      'Wikidata property example'@en      Q4504   \n",
       "6   P1855      'Wikidata property example'@en  Q69063653   \n",
       "7   P1855      'Wikidata property example'@en      Q7378   \n",
       "8   P2302            'property constraint'@en  Q21502404   \n",
       "9   P2302            'property constraint'@en  Q21510851   \n",
       "10  P2302            'property constraint'@en  Q21510852   \n",
       "11  P2302            'property constraint'@en  Q52004125   \n",
       "12  P2302            'property constraint'@en  Q53869507   \n",
       "13    P31                    'instance of'@en  Q18610173   \n",
       "\n",
       "                                  node2;label  \n",
       "0                    'videotape recording'@en  \n",
       "1                       'YouTube video ID'@en  \n",
       "2                                  'image'@en  \n",
       "3                        'webcam page URL'@en  \n",
       "4                                  'audio'@en  \n",
       "5                    'Varanus komodoensis'@en  \n",
       "6                        'Couch Commander'@en  \n",
       "7                               'elephant'@en  \n",
       "8                      'format constraint'@en  \n",
       "9          'allowed qualifiers constraint'@en  \n",
       "10               'Commons link constraint'@en  \n",
       "11       'allowed entity types constraint'@en  \n",
       "12             'property scope constraint'@en  \n",
       "13  'Wikidata property to link to Commons'@en  "
      ]
     },
     "execution_count": 13,
     "metadata": {},
     "output_type": "execute_result"
    }
   ],
   "source": [
    "display_node(\"P10\")"
   ]
  },
  {
   "cell_type": "markdown",
   "metadata": {},
   "source": [
    "# Build Files For Path-Based Similarity"
   ]
  },
  {
   "cell_type": "markdown",
   "metadata": {},
   "source": [
    "Get the P106 (occupation), P39 (position held) edges"
   ]
  },
  {
   "cell_type": "code",
   "execution_count": 14,
   "metadata": {},
   "outputs": [
    {
     "name": "stdout",
     "output_type": "stream",
     "text": [
      "      734.09 real       600.22 user        19.11 sys\n"
     ]
    }
   ],
   "source": [
    "!$kgtk filter -i \"$ITEM\" -p '; P106 ;' -o \"$TEMP\"/P106.tsv.gz"
   ]
  },
  {
   "cell_type": "code",
   "execution_count": 15,
   "metadata": {},
   "outputs": [
    {
     "name": "stdout",
     "output_type": "stream",
     "text": [
      "      521.62 real       509.41 user         1.24 sys\n"
     ]
    }
   ],
   "source": [
    "!$kgtk filter -i \"$ITEM\" -p '; P39 ;' -o \"$TEMP\"/P39.tsv.gz"
   ]
  },
  {
   "cell_type": "markdown",
   "metadata": {},
   "source": [
    "Write files with the inverses of the relations we want to use for traversing paths. Designate the inverse property using a trailing underscore, e.g., `P31_` is the inverse of `P31`."
   ]
  },
  {
   "cell_type": "code",
   "execution_count": 77,
   "metadata": {},
   "outputs": [],
   "source": [
    "!$kypher -i p279 \\\n",
    "--match '(n1)-[]->(n2)' \\\n",
    "--return 'n2 as node1, \"P279_\" as label, n1 as node2' \\\n",
    "/ add-id --id-style wikidata \\\n",
    "-o \"$TEMP\"/P279_.tsv.gz"
   ]
  },
  {
   "cell_type": "code",
   "execution_count": 78,
   "metadata": {},
   "outputs": [],
   "source": [
    "!$kypher -i p31 \\\n",
    "--match '(n1)-[]->(n2)' \\\n",
    "--return 'n2 as node1, \"P31_\" as label, n1 as node2' \\\n",
    "/ add-id --id-style wikidata \\\n",
    "-o \"$TEMP\"/P31_.tsv.gz"
   ]
  },
  {
   "cell_type": "code",
   "execution_count": 79,
   "metadata": {},
   "outputs": [],
   "source": [
    "!$kypher -i \"$TEMP\"/P106.tsv.gz \\\n",
    "--match '(n1)-[]->(n2)' \\\n",
    "--return 'n2 as node1, \"P106_\" as label, n1 as node2' \\\n",
    "/ add-id --id-style wikidata \\\n",
    "-o \"$TEMP\"/P106_.tsv.gz"
   ]
  },
  {
   "cell_type": "code",
   "execution_count": 80,
   "metadata": {},
   "outputs": [],
   "source": [
    "!$kypher -i \"$TEMP\"/P39.tsv.gz \\\n",
    "--match '(n1)-[]->(n2)' \\\n",
    "--return 'n2 as node1, \"P39_\" as label, n1 as node2' \\\n",
    "/ add-id --id-style wikidata \\\n",
    "-o \"$TEMP\"/P39_.tsv.gz"
   ]
  },
  {
   "cell_type": "markdown",
   "metadata": {},
   "source": [
    "Connect the occupations and position helds to human"
   ]
  },
  {
   "cell_type": "code",
   "execution_count": 81,
   "metadata": {},
   "outputs": [],
   "source": [
    "with open(os.environ['TEMP'] + '/custom-edges.tsv', 'w') as fp:\n",
    "    fp.write(\"node1\\tlabel\\tnode2\\n\")\n",
    "    fp.write(\"Q215627\\tdwd_isa\\tQ5\\n\") # person dwd_isa human\n",
    "    fp.write(\"Q12737077\\tdwd_isa\\tQ5\\n\") # occupation dwd_isa human (perhaps controversial)\n",
    "    fp.write(\"Q5\\tdwd_isa_\\tQ215627\\n\") # inverse\n",
    "    fp.write(\"Q5\\tdwd_isa_\\tQ12737077\\n\") # inverse\n",
    "fp.close()"
   ]
  },
  {
   "cell_type": "markdown",
   "metadata": {},
   "source": [
    "Concatenating the files gives us all the edges to compute similarity paths"
   ]
  },
  {
   "cell_type": "markdown",
   "metadata": {},
   "source": [
    "`similarity.P31.P279.P106.P39.tsv` can be used to test similarity of instances as it contains the P31 edges"
   ]
  },
  {
   "cell_type": "code",
   "execution_count": null,
   "metadata": {},
   "outputs": [],
   "source": [
    "!$kgtk cat \\\n",
    "    -i \"$P279\" -i \"$TEMP\"/P279_.tsv.gz \\\n",
    "    -i \"$P31\" -i \"$TEMP\"/P31_.tsv.gz \\\n",
    "    -i \"$TEMP\"/P39.tsv.gz \\\n",
    "    -i \"$TEMP\"/P106.tsv.gz \\\n",
    "    -i \"$TEMP\"/custom-edges.tsv \\\n",
    "/ deduplicate \\\n",
    "/ add-id --id-style wikidata \\\n",
    "-o \"$TEMP\"/similarity.P31.P279.P106.P39.tsv.gz "
   ]
  },
  {
   "cell_type": "markdown",
   "metadata": {},
   "source": [
    "`similarity.P279.P106.P39.tsv` can be used to test similiarity of classes, it is much smaller and runs much faster"
   ]
  },
  {
   "cell_type": "code",
   "execution_count": null,
   "metadata": {},
   "outputs": [],
   "source": [
    "!$kgtk cat \\\n",
    "    -i \"$P279\" -i \"$TEMP\"/P279_.tsv.gz \\\n",
    "    -i \"$TEMP\"/P39.tsv.gz \\\n",
    "    -i \"$TEMP\"/P106.tsv.gz \\\n",
    "    -i \"$TEMP\"/custom-edges.tsv \\\n",
    "/ deduplicate \\\n",
    "/ add-id --id-style wikidata \\\n",
    "-o \"$TEMP\"/similarity.P279.P106.P39.tsv.gz "
   ]
  },
  {
   "cell_type": "markdown",
   "metadata": {},
   "source": [
    "Sample file to test similarity paths"
   ]
  },
  {
   "cell_type": "code",
   "execution_count": null,
   "metadata": {},
   "outputs": [],
   "source": [
    "with open(os.environ['TEMP'] + '/paths.tsv', 'w') as fp:\n",
    "    fp.write(\"node1\\tlabel\\tnode2\\n\")\n",
    "    #fp.write(\"Q2685\\tdummy\\tQ483501\\n\")\n",
    "    #fp.write(\"Q2685\\tdummy\\tQ76\\n\")\n",
    "    #fp.write(\"Q124072\\tdummy\\tQ22731\\n\") #rifle, stone\n",
    "    #fp.write(\"Q124072\\tdummy\\tQ728\\n\")\n",
    "    #fp.write(\"Q124072\\tdummy\\tQ1907525\\n\")\n",
    "    fp.write(\"Q1028181\\tdummy\\tQ177220\\n\") #painter, singer\n",
    "    #fp.write(\"Q484876\\t\\dummy\\tQ30461\\n\") # ceo, president\n",
    "fp.close()"
   ]
  },
  {
   "cell_type": "markdown",
   "metadata": {},
   "source": [
    "Compute paths on the small graph containing only classes. \n",
    "\n",
    "Right now we have to guess the max-hops that produces the shortest paths. We need a version of the `paths` command that computes all the shortest paths using the graphtools function that can do it."
   ]
  },
  {
   "cell_type": "code",
   "execution_count": null,
   "metadata": {},
   "outputs": [],
   "source": [
    "!$kgtk paths -i \"$TEMP\"/similarity.P279.P106.P39.tsv.gz --path-file \"$TEMP\"/paths.tsv \\\n",
    "    --max_hops 5 \\\n",
    "    --statistics-only True \\\n",
    "    -o \"$TEMP\"/path_output.tsv "
   ]
  },
  {
   "cell_type": "markdown",
   "metadata": {},
   "source": [
    "Compute paths on the large graph"
   ]
  },
  {
   "cell_type": "code",
   "execution_count": 66,
   "metadata": {},
   "outputs": [
    {
     "name": "stdout",
     "output_type": "stream",
     "text": [
      "\n",
      "(kgtk:22561): Gtk-\u001b[1;33mWARNING\u001b[0m **: \u001b[34m16:02:14.066\u001b[0m: Locale not supported by C library.\n",
      "\tUsing the fallback 'C' locale.\n",
      "      686.81 real       665.24 user        18.58 sys\n"
     ]
    }
   ],
   "source": [
    "!$kgtk paths -i \"$TEMP\"/similarity.P31.P279.P106.P39.tsv.gz --path-file \"$TEMP\"/paths.tsv \\\n",
    "    --max_hops 4 \\\n",
    "    --statistics-only True \\\n",
    "    -o \"$TEMP\"/path_output_large.tsv "
   ]
  },
  {
   "cell_type": "markdown",
   "metadata": {},
   "source": [
    "Query to add labels to the paths so that they are understandable. Note: this query should use optionals as edges in the path will disappear if one of the nodes doesn't have an English label"
   ]
  },
  {
   "cell_type": "code",
   "execution_count": 76,
   "metadata": {},
   "outputs": [
    {
     "name": "stdout",
     "output_type": "stream",
     "text": [
      "path_id\tindex\tedge_id\tsource_label\tdestination_label\tproperty\n",
      "p0\t0\tQ1028181-P279-Q3391743-bf40700d-0\t'painter'@en\t'visual artist'@en\tP279\n",
      "p0\t1\tQ3391743-P279-Q483501-9e159a78-0\t'visual artist'@en\t'artist'@en\tP279\n",
      "p0\t2\tQ483501-P279_-Q639669\t'artist'@en\t'musician'@en\tP279_\n",
      "p0\t3\tQ639669-P279_-Q1369991\t'musician'@en\t'deejay'@en\tP279_\n",
      "p0\t4\tQ1369991-P279-Q177220-8854f969-0\t'deejay'@en\t'singer'@en\tP279\n",
      "p1\t0\tQ1028181-P279-Q3391743-bf40700d-0\t'painter'@en\t'visual artist'@en\tP279\n",
      "p1\t1\tQ3391743-P279-Q483501-9e159a78-0\t'visual artist'@en\t'artist'@en\tP279\n",
      "p1\t2\tQ483501-P279_-Q639669\t'artist'@en\t'musician'@en\tP279_\n",
      "p1\t3\tQ639669-P279_-Q186370\t'musician'@en\t'troubadour'@en\tP279_\n",
      "p1\t4\tQ186370-P279-Q177220-37970699-0\t'troubadour'@en\t'singer'@en\tP279\n",
      "p2\t0\tQ1028181-P279-Q3391743-bf40700d-0\t'painter'@en\t'visual artist'@en\tP279\n",
      "p2\t1\tQ3391743-P279-Q483501-9e159a78-0\t'visual artist'@en\t'artist'@en\tP279\n",
      "p2\t2\tQ483501-P279_-Q639669\t'artist'@en\t'musician'@en\tP279_\n",
      "p2\t3\tQ639669-P279_-Q2330480\t'musician'@en\t'kobzar'@en\tP279_\n",
      "p2\t4\tQ2330480-P279-Q177220-853e6582-0\t'kobzar'@en\t'singer'@en\tP279\n",
      "p3\t0\tQ1028181-P279-Q3391743-bf40700d-0\t'painter'@en\t'visual artist'@en\tP279\n",
      "p3\t1\tQ3391743-P279-Q483501-9e159a78-0\t'visual artist'@en\t'artist'@en\tP279\n",
      "p3\t2\tQ483501-P279_-Q639669\t'artist'@en\t'musician'@en\tP279_\n",
      "p3\t3\tQ639669-P279_-Q2643890\t'musician'@en\t'vocalist'@en\tP279_\n",
      "p3\t4\tQ2643890-P279_-Q177220\t'vocalist'@en\t'singer'@en\tP279_\n",
      "p4\t0\tQ1028181-P279-Q3391743-bf40700d-0\t'painter'@en\t'visual artist'@en\tP279\n",
      "p4\t1\tQ3391743-P279-Q483501-9e159a78-0\t'visual artist'@en\t'artist'@en\tP279\n",
      "p4\t2\tQ483501-P279_-Q639669\t'artist'@en\t'musician'@en\tP279_\n",
      "p4\t3\tQ639669-P279_-Q2839173\t'musician'@en\t'almeh'@en\tP279_\n",
      "p4\t4\tQ2839173-P279-Q177220-45a0b86c-0\t'almeh'@en\t'singer'@en\tP279\n",
      "p5\t0\tQ1028181-P279-Q3391743-bf40700d-0\t'painter'@en\t'visual artist'@en\tP279\n",
      "p5\t1\tQ3391743-P279-Q483501-9e159a78-0\t'visual artist'@en\t'artist'@en\tP279\n",
      "p5\t2\tQ483501-P279_-Q755070\t'artist'@en\t'storyteller'@en\tP279_\n"
     ]
    }
   ],
   "source": [
    "!$kypher -i \"$TEMP\"/path_output.tsv -i \"$TEMP\"/similarity.P31.P279.P106.P31.tsv.gz -i labels \\\n",
    "--match ' \\\n",
    "    path: (path)-[l {label: index}]->(edge_id), \\\n",
    "    similarity: (source)-[edge_id {label: property}]->(destination), \\\n",
    "    labels: (source)-[]->(source_label), \\\n",
    "    labels: (destination)-[]->(destination_label)' \\\n",
    "--return 'distinct path as path_id, index as index, edge_id as edge_id, source_label as source_label, destination_label as destination_label, property as property' \\\n",
    "--order-by 'path, cast(index, int)'"
   ]
  },
  {
   "cell_type": "code",
   "execution_count": null,
   "metadata": {},
   "outputs": [],
   "source": []
  }
 ],
 "metadata": {
  "kernelspec": {
   "display_name": "kgtk-env",
   "language": "python",
   "name": "kgtk-env"
  },
  "language_info": {
   "codemirror_mode": {
    "name": "ipython",
    "version": 3
   },
   "file_extension": ".py",
   "mimetype": "text/x-python",
   "name": "python",
   "nbconvert_exporter": "python",
   "pygments_lexer": "ipython3",
   "version": "3.7.9"
  }
 },
 "nbformat": 4,
 "nbformat_minor": 4
}
