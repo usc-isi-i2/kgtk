{
 "cells": [
  {
   "cell_type": "code",
   "execution_count": 9,
   "metadata": {},
   "outputs": [
    {
     "name": "stdout",
     "output_type": "stream",
     "text": [
      "usage: kgtk normalize-nodes [-h] [-i INPUT_FILE] [-o OUTPUT_FILE]\n",
      "                            [-c COLUMNS [COLUMNS ...]]\n",
      "                            [--labels LABELS [LABELS ...]]\n",
      "                            [--id-column ID_COLUMN_NAME]\n",
      "                            [-v [optional True|False]]\n",
      "\n",
      "If called as \"kgtk normalize-nodes\", Normalize a KGTK node file into a KGTK edge file with a row for each column value in the input file.\n",
      "If called as \"kgtk import-csv\", the input file is assumed to be a CSV file.\n",
      "\n",
      "optional arguments:\n",
      "  -h, --help            show this help message and exit\n",
      "  -i INPUT_FILE, --input-file INPUT_FILE\n",
      "                        The KGTK input file. (May be omitted or '-' for\n",
      "                        stdin.)\n",
      "  -o OUTPUT_FILE, --output-file OUTPUT_FILE\n",
      "                        The KGTK output file. (May be omitted or '-' for\n",
      "                        stdout.)\n",
      "  -c COLUMNS [COLUMNS ...], --columns COLUMNS [COLUMNS ...]\n",
      "                        Columns to remove as a space-separated list.\n",
      "                        (default=all columns except id)\n",
      "  --labels LABELS [LABELS ...]\n",
      "                        Label names to use as a space-separated list.\n",
      "                        (default=column names)\n",
      "  --id-column ID_COLUMN_NAME\n",
      "                        The name of the ID column. (default=id or alias)\n",
      "\n",
      "  -v [optional True|False], --verbose [optional True|False]\n",
      "                        Print additional progress messages (default=False).\n"
     ]
    }
   ],
   "source": [
    "!kgtk normalize-nodes --help"
   ]
  },
  {
   "attachments": {},
   "cell_type": "markdown",
   "metadata": {},
   "source": [
    "Alias `import-csv`. Includes additional `add-id` and additional ID builder options."
   ]
  },
  {
   "cell_type": "code",
   "execution_count": 10,
   "metadata": {},
   "outputs": [
    {
     "name": "stdout",
     "output_type": "stream",
     "text": [
      "usage: import-csv [-h] [-i INPUT_FILE] [-o OUTPUT_FILE]\n",
      "                  [-c COLUMNS [COLUMNS ...]] [--labels LABELS [LABELS ...]]\n",
      "                  [--id-column ID_COLUMN_NAME] [-v [optional True|False]]\n",
      "                  [--add-id] [--old-id-column-name COLUMN_NAME]\n",
      "                  [--new-id-column-name COLUMN_NAME]\n",
      "                  [--overwrite-id [optional true|false]]\n",
      "                  [--verify-id-unique [optional true|false]]\n",
      "                  [--id-style {compact-prefix,empty,node1-label-node2,node1-label-num,node1-label-node2-num,node1-label-node2-id,prefix###,wikidata,wikidata-with-claim-id}]\n",
      "                  [--id-prefix PREFIX] [--initial-id INTEGER]\n",
      "                  [--id-prefix-num-width INTEGER]\n",
      "                  [--id-concat-num-width INTEGER]\n",
      "                  [--value-hash-width VALUE_HASH_WIDTH]\n",
      "                  [--claim-id-hash-width CLAIM_ID_HASH_WIDTH]\n",
      "                  [--claim-id-column-name CLAIM_ID_COLUMN_NAME]\n",
      "                  [--id-separator ID_SEPARATOR]\n",
      "\n",
      "If called as \"kgtk normalize-nodes\", Normalize a KGTK node file into a KGTK edge file with a row for each column value in the input file.\n",
      "If called as \"kgtk import-csv\", the input file is assumed to be a CSV file.\n",
      "\n",
      "optional arguments:\n",
      "  -h, --help            show this help message and exit\n",
      "  -i INPUT_FILE, --input-file INPUT_FILE\n",
      "                        The KGTK input file. (May be omitted or '-' for\n",
      "                        stdin.)\n",
      "  -o OUTPUT_FILE, --output-file OUTPUT_FILE\n",
      "                        The KGTK output file. (May be omitted or '-' for\n",
      "                        stdout.)\n",
      "  -c COLUMNS [COLUMNS ...], --columns COLUMNS [COLUMNS ...]\n",
      "                        Columns to remove as a space-separated list.\n",
      "                        (default=all columns except id)\n",
      "  --labels LABELS [LABELS ...]\n",
      "                        Label names to use as a space-separated list.\n",
      "                        (default=column names)\n",
      "  --id-column ID_COLUMN_NAME\n",
      "                        The name of the ID column. (default=id or alias)\n",
      "  --add-id              Add an id column to the output. (default=False)\n",
      "  --old-id-column-name COLUMN_NAME\n",
      "                        The name of the old ID column. (default=id).\n",
      "  --new-id-column-name COLUMN_NAME\n",
      "                        The name of the new ID column. (default=id).\n",
      "  --overwrite-id [optional true|false]\n",
      "                        When true, replace existing ID values. When false,\n",
      "                        copy existing ID values. When --overwrite-id is\n",
      "                        omitted, it defaults to False. When --overwrite-id is\n",
      "                        supplied without an argument, it is True.\n",
      "  --verify-id-unique [optional true|false]\n",
      "                        When true, verify ID uniqueness using an in-memory set\n",
      "                        of IDs. When --verify-id-unique is omitted, it\n",
      "                        defaults to False. When --verify-id-unique is supplied\n",
      "                        without an argument, it is True.\n",
      "  --id-style {compact-prefix,empty,node1-label-node2,node1-label-num,node1-label-node2-num,node1-label-node2-id,prefix###,wikidata,wikidata-with-claim-id}\n",
      "                        The ID generation style. (default=prefix###).\n",
      "  --id-prefix PREFIX    The prefix for a prefix### ID. (default=E).\n",
      "  --initial-id INTEGER  The initial numeric value for a prefix### ID.\n",
      "                        (default=1).\n",
      "  --id-prefix-num-width INTEGER\n",
      "                        The width of the numeric value for a prefix### ID.\n",
      "                        (default=1).\n",
      "  --id-concat-num-width INTEGER\n",
      "                        The width of the numeric value for a concatenated ID.\n",
      "                        (default=4).\n",
      "  --value-hash-width VALUE_HASH_WIDTH\n",
      "                        How many characters should be used in a value hash?\n",
      "                        (default=6)\n",
      "  --claim-id-hash-width CLAIM_ID_HASH_WIDTH\n",
      "                        How many characters should be used to hash the claim\n",
      "                        ID? 0 means do not hash the claim ID. (default=8)\n",
      "  --claim-id-column-name CLAIM_ID_COLUMN_NAME\n",
      "                        The name of the claim_id column. (default=claim_id)\n",
      "  --id-separator ID_SEPARATOR\n",
      "                        The separator user between ID subfields. (default=-)\n",
      "\n",
      "  -v [optional True|False], --verbose [optional True|False]\n",
      "                        Print additional progress messages (default=False).\n"
     ]
    }
   ],
   "source": [
    "!kgtk import-csv --help"
   ]
  },
  {
   "attachments": {},
   "cell_type": "markdown",
   "metadata": {},
   "source": [
    "If there's an ID field already, we can specify `id-column` option to use it as the ID field. The default value of `id-column` is `id`."
   ]
  },
  {
   "cell_type": "code",
   "execution_count": 11,
   "metadata": {},
   "outputs": [
    {
     "name": "stdout",
     "output_type": "stream",
     "text": [
      "name,country,subcountry,geonameid\n",
      "les Escaldes,Andorra,Escaldes-Engordany,3040051\n",
      "Andorra la Vella,Andorra,Andorra la Vella,3041563\n",
      "Umm al Qaywayn,United Arab Emirates,Umm al Qaywayn,290594\n",
      "Ras al-Khaimah,United Arab Emirates,Raʼs al Khaymah,291074\n",
      "Khawr Fakkān,United Arab Emirates,Ash Shāriqah,291696\n",
      "Dubai,United Arab Emirates,Dubai,292223\n",
      "Dibba Al-Fujairah,United Arab Emirates,Al Fujayrah,292231\n",
      "Dibba Al-Hisn,United Arab Emirates,Al Fujayrah,292239\n",
      "Sharjah,United Arab Emirates,Ash Shāriqah,292672\n"
     ]
    }
   ],
   "source": [
    "!head ../../tests/data/cities.csv"
   ]
  },
  {
   "attachments": {},
   "cell_type": "markdown",
   "metadata": {},
   "source": [
    "Let's load the file into kgtk format get the names of some cities."
   ]
  },
  {
   "cell_type": "code",
   "execution_count": 12,
   "metadata": {},
   "outputs": [
    {
     "name": "stdout",
     "output_type": "stream",
     "text": [
      "node1\tlabel\tnode2\n",
      "3040051\tname\tles Escaldes\n",
      "3041563\tname\tAndorra la Vella\n",
      "290594\tname\tUmm al Qaywayn\n",
      "291074\tname\tRas al-Khaimah\n",
      "291696\tname\tKhawr Fakkān\n",
      "292223\tname\tDubai\n",
      "292231\tname\tDibba Al-Fujairah\n",
      "292239\tname\tDibba Al-Hisn\n",
      "292672\tname\tSharjah\n",
      "292688\tname\tAr Ruways\n"
     ]
    }
   ],
   "source": [
    "!kgtk import-csv \\\n",
    "    --id-column geonameid \\\n",
    "    --input-file ../../tests/data/cities.csv \\\n",
    "    --output-file normalized_cities.tsv \\\n",
    "\n",
    "!kgtk filter -i normalized_cities.tsv  -p \";name;\" / head"
   ]
  },
  {
   "attachments": {},
   "cell_type": "markdown",
   "metadata": {},
   "source": [
    "If the original file does not have ID field, we can specify `add-id` option to create a new ID field."
   ]
  },
  {
   "cell_type": "code",
   "execution_count": 13,
   "metadata": {},
   "outputs": [
    {
     "name": "stdout",
     "output_type": "stream",
     "text": [
      "Painting,Artist,Year of Painting,Adjusted Price,Original Price,Date of Sale,Year of Sale,Seller,Buyer,Auction House,Image,Painting Wikipedia Profile,Artist Wikipedia Profile,Description\n",
      "A Wheatfield with Cypresses,Vincent van Gogh,1889,\"$93,700,000\",\"$57,000,000\",1/05/1993,1993,Son of Emil Georg Bührle,Walter H. Annenberg,Private sale ,http://upload.wikimedia.org/wikipedia/commons/thumb/7/7d/Vincent_Willem_van_Gogh_049.jpg/95px-Vincent_Willem_van_Gogh_049.jpg,http://en.wikipedia.org/wiki/A_Wheatfield_with_Cypresses,http://en.wikipedia.org/wiki/Vincent_van_Gogh,\"A Wheatfield with Cypresses (occasionally called A Cornfield with Cypresses) is any of three similar 1889 oil paintings by Vincent van Gogh, as part of his wheat field series. All were executed at the Saint-Paul-de-Mausole mental asylum at Saint-Rémy near Arles, France, where Van Gogh was voluntarily a patient from May 1889 to May 1890. The works were inspired by the view from the window at the asylum towards the Les Alpilles mountains.\"\n",
      "Acrobate et jeune arlequin,Pablo Picasso,1905,\"$75,900,000\",\"$38,500,000\",28/11/1988,1988,heir of Roger Janssen? ,Mitsukoshi,Christie's,http://uploads7.wikiart.org/images/pablo-picasso/acrobat-and-young-harlequin-1905.jpg,,,\n",
      "Adele Bloch-Bauer II,Gustav Klimt,1912,\"$103,500,000\",\"$87,900,000\",2/11/2006,2006,Maria Altmann,,Christie's,http://upload.wikimedia.org/wikipedia/commons/thumb/3/33/Gustav_Klimt_047.jpg/95px-Gustav_Klimt_047.jpg,http://en.wikipedia.org/wiki/Adele_Bloch-Bauer_II,,\"Adele Bloch-Bauer II is a 1912 painting by Gustav Klimt. Adele Bloch-Bauer was the wife of Ferdinand Bloch-Bauer, who was a wealthy industrialist who sponsored the arts and supported Gustav Klimt. Adele Bloch-Bauer was the only model to be painted twice by Klimt; she also appeared in the much more famous Portrait of Adele Bloch-Bauer I. Adele's portraits had hung in the family home prior to their seizure by the Nazis during WWII. The Austrian museum where they resided after the war was reluctant to return them to their rightful owners, hence a protracted court battle in the United States and in Austria (see Republic of Austria v. Altmann) ensued, which resulted in five Gustav Klimt paintings being returned to Maria Altmann, the niece of Ferdinand Bloch-Bauer, in January 2006. In November 2006, Christie's auction house sold Portrait of Adele Bloch-Bauer II at auction for almost $88 million, the fourth-highest priced piece of art at auction at the time.\"\n",
      "Anna's Light,Barnett Newman,1968,\"$107,300,000\",\"$105,700,000\",4/10/2013,2013,DIC Corp.,,Private sale ,http://artpaintingartist.org/wp-content/uploads/2014/02/Annas-Light-by-Barnett-Newman.jpg,,http://en.wikipedia.org/wiki/Barnett_Newman,\n",
      "Au Lapin Agile,Pablo Picasso,1904,\"$76,600,000\",\"$40,700,000\",27/11/1989,1989,daughter of Joan Whitney Payson,Walter H. Annenberg,Sotheby's,http://vineartshouston.files.wordpress.com/2012/05/picasso.jpg,,,\n",
      "Bal du moulin de la Galette,Pierre-Auguste Renoir,1876,\"$143,300,000\",\"$78,100,000\",17/05/1990,1990,Betsey Whitney,Ryoei Saito,Sotheby's,http://upload.wikimedia.org/wikipedia/commons/thumb/2/21/Pierre-Auguste_Renoir%2C_Le_Moulin_de_la_Galette.jpg/95px-Pierre-Auguste_Renoir%2C_Le_Moulin_de_la_Galette.jpg,http://en.wikipedia.org/wiki/Bal_du_moulin_de_la_Galette,http://en.wikipedia.org/wiki/Pierre-Auguste_Renoir,\"Bal du moulin de la Galette (commonly known as Dance at Le moulin de la Galette) is an 1876 painting by French artist Pierre-Auguste Renoir. It is housed at the Musée d'Orsay in Paris and is one of Impressionisms most celebrated masterpieces. The painting depicts a typical Sunday afternoon at Moulin de la Galette in the district of Montmartre in Paris. In the late 19th century, working class Parisians would dress up and spend time there dancing, drinking, and eating galettes into the evening.:121-3\"\n",
      "Black Fire I,Barnett Newman,1961,\"$84,200,000\",\"$84,200,000\",13/05/2014,2014,Private Collection,Anonymous,Christie's,http://www.christies.com/media-library/images/salelandingpage/thumb/pwcmay2014/black-fire-index.jpg,,http://en.wikipedia.org/wiki/Barnett_Newman,\n",
      "Darmstadt Madonna,Hans Holbein,1526,\"$78,700,000\",\"$75,000,000\",12/07/2011,2011,\"Donatus, Hereditary Prince of Hesse\",Reinhold Würth,Private sale ,http://upload.wikimedia.org/wikipedia/commons/thumb/4/4e/Darmstadtmadonna.jpg/95px-Darmstadtmadonna.jpg,http://en.wikipedia.org/wiki/Darmstadt_Madonna,http://en.wikipedia.org/wiki/Hans_Holbein,\"The Darmstadt Madonna (also known as the Madonna of Jakob Meyer zum Hasen) is an oil painting by Hans Holbein the Younger. Completed in 1526 in Basel, the work shows the Bürgermeister of Basel Jakob Meyer zum Hasen, his first wife (who had died earlier), his current wife, and his daughter grouped around the Madonna and infant Jesus. The meaning of the two other male figures on the left side is, like the overall iconography of the image, not entirely clear. The image testified to the resolutely Catholic faith of the Bürgermeister, who actively opposed the Reformation.\"\n",
      "Diana and Actaeon,Titian,\"1556, 1559\",\"$78,900,000\",\"$70,600,000\",1/02/2009,2009,Duke of Sutherland,\"National Galleries of Scotland & National Gallery, London\",Private sale ,http://www.nationalgallery.org.uk/upload/img/titian-diana-and-actaeon-NG6611-fm.jpg,http://en.wikipedia.org/wiki/Diana_and_Actaeon_(Titian),,\"Diana and Actaeon is a painting by the Italian Renaissance master Titian, finished in 1556–1559, and is considered amongst Titian's greatest works. It portrays the moment in which the goddess Diana meets Actaeon. In 2008–2009, the National Gallery, London and National Gallery of Scotland successfully campaigned to acquire the painting from the Bridgewater Collection for £50 million. As a result, Diana and Actaeon will remain on display in the UK, and will alternate between the two galleries on five-year terms.\"\n"
     ]
    }
   ],
   "source": [
    "!head ../../tests/data/Paintings.csv"
   ]
  },
  {
   "attachments": {},
   "cell_type": "markdown",
   "metadata": {},
   "source": [
    "Let's list paintings by Vincent van Gogh"
   ]
  },
  {
   "cell_type": "code",
   "execution_count": 14,
   "metadata": {},
   "outputs": [
    {
     "name": "stdout",
     "output_type": "stream",
     "text": [
      "node2\n",
      "A Wheatfield with Cypresses\n",
      "Irises\n",
      "Peasant Woman Against a Background of Wheat\n",
      "Portrait de l'artiste sans barbe\n",
      "Portrait of Dr. Gachet\n",
      "Portrait of Joseph Roulin\n",
      "Vase with Fifteen Sunflowers\n"
     ]
    }
   ],
   "source": [
    "!kgtk import-csv \\\n",
    "    --add-id \\\n",
    "    --input-file ../../tests/data/Paintings.csv \\\n",
    "    --output-file normalized_Paintings.tsv\n",
    "\n",
    "!kgtk query -i normalized_Paintings.tsv \\\n",
    "     --match '(a)<-[:Artist]-(id)-[:Painting]->(p)' \\\n",
    "     --where 'a = \"Vincent van Gogh\"' \\\n",
    "     --return 'p'"
   ]
  },
  {
   "attachments": {},
   "cell_type": "markdown",
   "metadata": {},
   "source": [
    "We can also specify the column separator or delimiter. The default value of delimiter is `,` (comma)."
   ]
  },
  {
   "cell_type": "code",
   "execution_count": 15,
   "metadata": {},
   "outputs": [
    {
     "name": "stdout",
     "output_type": "stream",
     "text": [
      "Bulan;Nama_Event;Nama_Sirkuit;Lat;Long\n",
      "14 November 2017;Valencia MotoGP™ Official Test;Circuit Ricardo Tormo SPAIN;39.486863;-0.629870\n",
      "28 January 2018;Sepang MotoGP™ Official Test;Sepang International Circuit MALAYSIA;2.759414;101.731778\n",
      "16 February 2018;Buriram MotoGP™ Official Test;Buriram International Circuit THAILAND;14.957971;103.084925\n",
      "1 March 2018;Qatar MotoGP™ Official Test;Losail International Circuit QATAR;25.486109;51.452779\n",
      "18 March 2018;1 -  Grand Prix of Qatar;Losail International Circuit QATAR;25.486109;51.452779\n",
      "8 April 2018;2 -  Gran Premio Motul de la República Argentina;Termas de Río Hondo ARGENTINA;-27.498557;-64.860536\n",
      "22 April 2018;3 -  Red Bull Grand Prix of The Americas;Circuit Of The Americas UNITED STATES;30.134581;-97.635851\n",
      "6 May 2018;4 -  Gran Premio Red Bull de España;Circuito de Jerez SPAIN;36.709299;-6.033878\n",
      "20 May 2018;5 -  HJC Helmets Grand Prix de France;Le Mans FRANCE;47.953730;0.213367\n"
     ]
    }
   ],
   "source": [
    "!head ../../tests/data/Calendar_2018_geopoint.csv"
   ]
  },
  {
   "cell_type": "code",
   "execution_count": 16,
   "metadata": {},
   "outputs": [
    {
     "name": "stdout",
     "output_type": "stream",
     "text": [
      "node1\tlabel\tnode2\n",
      "E1\tBulan\t14 November 2017\n",
      "E1\tNama_Event\tValencia MotoGP™ Official Test\n",
      "E1\tNama_Sirkuit\tCircuit Ricardo Tormo SPAIN\n",
      "E1\tLat\t39.486863\n",
      "E1\tLong\t-0.629870\n",
      "E2\tBulan\t28 January 2018\n",
      "E2\tNama_Event\tSepang MotoGP™ Official Test\n",
      "E2\tNama_Sirkuit\tSepang International Circuit MALAYSIA\n",
      "E2\tLat\t2.759414\n",
      "E2\tLong\t101.731778\n"
     ]
    }
   ],
   "source": [
    "!kgtk import-csv \\\n",
    "    --column-separator ';' \\\n",
    "    --add-id \\\n",
    "    --input-file ../../tests/data/Calendar_2018_geopoint.csv \\\n",
    "    --output-file normalized_Calendar_2018_geopoint.tsv\n",
    "\n",
    "!kgtk head -i normalized_Calendar_2018_geopoint.tsv"
   ]
  },
  {
   "attachments": {},
   "cell_type": "markdown",
   "metadata": {},
   "source": []
  }
 ],
 "metadata": {
  "kernelspec": {
   "display_name": "kgtk-env",
   "language": "python",
   "name": "python3"
  },
  "language_info": {
   "codemirror_mode": {
    "name": "ipython",
    "version": 3
   },
   "file_extension": ".py",
   "mimetype": "text/x-python",
   "name": "python",
   "nbconvert_exporter": "python",
   "pygments_lexer": "ipython3",
   "version": "3.9.16"
  },
  "orig_nbformat": 4
 },
 "nbformat": 4,
 "nbformat_minor": 2
}
