{
 "cells": [
  {
   "cell_type": "markdown",
   "metadata": {},
   "source": [
    "# Generating Useful Wikidata Files\n",
    "\n",
    "This notebook generates files that contain derived data that is useful in many applications. The input to the notebook is the full Wikidata or a subset of Wikidata. It also works for arbutrary KGs as long as they follow the representation requirements of Wikidata:\n",
    "\n",
    "- the *instance of* relation is represented using the `P31` property\n",
    "- the *subclass of* relation is represented using the `P279` property\n",
    "- all properties declare a datatype, and the data types must be one of the datatypes in Wikidata.\n",
    "\n",
    "Inputs:\n",
    "\n",
    "- `claims_file`: contains all statements, which consist of edges `node1/label/node2` where `label` is a property in Wikidata (e.g., sitelinks, labels, aliases and description are not in the claims file.\n",
    "- `item_file`: the subset of the `claims_file` consistin of edges for property of data type `wikibase-item`\n",
    "- `label_file`, `alias_file` and `description_file` containing labels, aliases and descriptions. It is assume that these files contain the labels, aliases and descriptions of all nodes appearing in the claims file. Users may provide these files for specific languages only.\n",
    "\n",
    "Outputs:\n",
    "\n",
    "- **Instance of (P31):** `derived.P31.tsv.gz` contains all the `instance of (P31)` edges present in the claims file.\n",
    "- **Subclass of (P279):** `derived.P279.tsv.gz` contains all the `subclass of (P279)` edges present in the claims file.\n",
    "- **Is A (isa):** `derived.isa.tsv.gz` contains edges `node`isa/node2` where either `node1/P31/node2` or `node1/P279/node2`\n",
    "- **Closure of subclass of (P279star):** `derived.P279star.tsv.gz` contains edges `node1/P279star/node2` where `node2` is reachable from `node1` via zero or more hops using the `P279` property. Note that for example, `Q44/P279star/Q44`. An example when this file is useful is when you want to find all the instance of a class, including instances of subclasses of the given class.\n",
    "- **In/out degrees:** `metadata.out_degree.tsv.gz` contains the out degree of every node, and `metadata.in_degree.tsv.gz` contains the in degree of every node.\n",
    "- **Pagerank:** outputs page rank on the directed graph in `metadata.pagerank.directed.tsv.gz` and page rank of the directed graph in `metadata.pagerank.undirected.tsv.gz`."
   ]
  },
  {
   "cell_type": "markdown",
   "metadata": {},
   "source": [
    "### Batch Invocation\n",
    "Example batch command. The second argument is a notebook where the output will be stored. You can load it to see progress.\n",
    "\n",
    "```\n",
    "papermill Wikidata\\ Useful\\ Files.ipynb useful-files.out.ipynb \\\n",
    "-p claims_file /Volumes/GoogleDrive/Shared\\ drives/KGTK-public-graphs/wikidata-20200803-v4/all.tsv.gz \\\n",
    "-p label_file /Volumes/GoogleDrive/Shared\\ drives/KGTK-public-graphs/wikidata-20200803-v4/part.label.en.tsv.gz \\\n",
    "-p item_file /Volumes/GoogleDrive/Shared\\ drives/KGTK-public-graphs/wikidata-20200803-v4/part.wikibase-item.tsv.gz \\\n",
    "-p property_item_file = /Volumes/GoogleDrive/Shared\\ drives/KGTK-public-graphs/wikidata-20200803-v4/part.property.wikibase-item.tsv.gz \\\n",
    "-p output_path <local folder> \\\n",
    "-p output_folder useful_files_v4 \\\n",
    "-p temp_folder temp.useful_files_v4 \\\n",
    "-p delete_database no \n",
    "```"
   ]
  },
  {
   "cell_type": "code",
   "execution_count": 1,
   "metadata": {
    "tags": [
     "parameters"
    ]
   },
   "outputs": [],
   "source": [
    "# Parameters\n",
    "\n",
    "# Folder on local machine where to create the output and temporary folders\n",
    "output_path = \"/Users/pedroszekely/Downloads/kypher\"\n",
    "\n",
    "# The names of the output and temporary folders\n",
    "output_folder = \"useful_wikidata_files_v4\"\n",
    "temp_folder = \"temp.useful_wikidata_files_v4\"\n",
    "\n",
    "# The location of input files\n",
    "wiki_root_folder = \"/Volumes/GoogleDrive/Shared drives/KGTK/datasets/wikidata-20200803-v4/\"\n",
    "claims_file = \"claims.tsv.gz\"\n",
    "label_file = \"labels.en.tsv.gz\"\n",
    "alias_file = \"aliases.en.tsv.gz\"\n",
    "description_file = \"descriptions.en.tsv.gz\"\n",
    "item_file = \"claims.wikibase-item.tsv.gz\"\n",
    "\n",
    "# Location of the cache database for kypher\n",
    "cache_path = \"/Users/pedroszekely/Downloads/kypher/temp.useful_wikidata_files_v4\"\n",
    "\n",
    "# Whether to delete the cache database\n",
    "delete_database = False\n",
    "\n",
    "# Whether to compute pagerank as it may not run on the laptop\n",
    "compute_pagerank = False"
   ]
  },
  {
   "cell_type": "code",
   "execution_count": 2,
   "metadata": {},
   "outputs": [],
   "source": [
    "import io\n",
    "import os\n",
    "import subprocess\n",
    "import sys\n",
    "\n",
    "import numpy as np\n",
    "import pandas as pd\n",
    "\n",
    "import altair as alt"
   ]
  },
  {
   "cell_type": "markdown",
   "metadata": {},
   "source": [
    "## Set up environment and folders to store the files\n",
    "\n",
    "- `OUT` folder where the output files go\n",
    "- `TEMP` folder to keep temporary files , including the database\n",
    "- `kgtk` shortcut to invoke the kgtk software\n",
    "- `kypher` shortcut to invoke `kgtk query with the cache database\n",
    "- `CLAIMS` the `all.tsv` file of wikidata that contains all edges except label/alias/description\n",
    "- `LABELS` the file with the English labels\n",
    "- `ITEMS` the wikibase-item file (currently does not include node1 that are properties so for now we need the net file\n",
    "- `STORE` location of the cache file"
   ]
  },
  {
   "cell_type": "code",
   "execution_count": 3,
   "metadata": {},
   "outputs": [],
   "source": [
    "if cache_path:\n",
    "    os.environ['STORE'] = \"{}/wikidata.sqlite3.db\".format(cache_path)\n",
    "else:\n",
    "    os.environ['STORE'] = \"{}/{}/wikidata.sqlite3.db\".format(output_path, temp_folder)\n",
    "os.environ['OUT'] = \"{}/{}\".format(output_path, output_folder)\n",
    "os.environ['TEMP'] = \"{}/{}\".format(output_path, temp_folder)\n",
    "os.environ['kgtk'] = \"kgtk\"\n",
    "os.environ['kgtk'] = \"time kgtk --debug\"\n",
    "os.environ['kypher'] = \"time kgtk --debug query --graph-cache \" + os.environ['STORE']\n",
    "os.environ['CLAIMS'] = wiki_root_folder + claims_file\n",
    "os.environ['LABELS'] = wiki_root_folder + label_file\n",
    "os.environ['ALIASES'] = wiki_root_folder + alias_file\n",
    "os.environ['DESCRIPTIONS'] = wiki_root_folder + description_file\n",
    "os.environ['ITEMS'] = wiki_root_folder + item_file"
   ]
  },
  {
   "cell_type": "markdown",
   "metadata": {},
   "source": [
    "Echo the variables to see if they are all set correctly"
   ]
  },
  {
   "cell_type": "code",
   "execution_count": 4,
   "metadata": {},
   "outputs": [
    {
     "name": "stdout",
     "output_type": "stream",
     "text": [
      "/Users/pedroszekely/Downloads/kypher/useful_wikidata_files_v4\n",
      "/Users/pedroszekely/Downloads/kypher/temp.useful_wikidata_files_v4\n",
      "time kgtk --debug\n",
      "time kgtk --debug query --graph-cache /Users/pedroszekely/Downloads/kypher/temp.useful_wikidata_files_v4/wikidata.sqlite3.db\n",
      "/Volumes/GoogleDrive/Shared drives/KGTK/datasets/wikidata-20200803-v4/claims.tsv.gz\n",
      "/Volumes/GoogleDrive/Shared drives/KGTK/datasets/wikidata-20200803-v4/labels.en.tsv.gz\n",
      "/Volumes/GoogleDrive/Shared drives/KGTK/datasets/wikidata-20200803-v4/aliases.en.tsv.gz\n",
      "/Volumes/GoogleDrive/Shared drives/KGTK/datasets/wikidata-20200803-v4/labels.en.tsv.gz\n",
      "/Volumes/GoogleDrive/Shared drives/KGTK/datasets/wikidata-20200803-v4/descriptions.en.tsv.gz\n",
      "/Users/pedroszekely/Downloads/kypher/temp.useful_wikidata_files_v4/wikidata.sqlite3.db\n"
     ]
    }
   ],
   "source": [
    "!echo $OUT\n",
    "!echo $TEMP\n",
    "!echo $kgtk\n",
    "!echo $kypher\n",
    "!echo $CLAIMS\n",
    "!echo $LABELS\n",
    "!echo $ALIASES\n",
    "!echo $LABELS\n",
    "!echo $DESCRIPTIONS\n",
    "!echo $STORE\n",
    "!alias col=\"column -t -s $'\\t' \""
   ]
  },
  {
   "cell_type": "markdown",
   "metadata": {},
   "source": [
    "Go to the output directory and create the subfolders for the output files and the temporary files"
   ]
  },
  {
   "cell_type": "code",
   "execution_count": 5,
   "metadata": {},
   "outputs": [
    {
     "name": "stdout",
     "output_type": "stream",
     "text": [
      "/Users/pedroszekely/Downloads/kypher\n"
     ]
    }
   ],
   "source": [
    "cd $output_path"
   ]
  },
  {
   "cell_type": "code",
   "execution_count": 6,
   "metadata": {},
   "outputs": [
    {
     "name": "stdout",
     "output_type": "stream",
     "text": [
      "mkdir: /Users/pedroszekely/Downloads/kypher/useful_wikidata_files_v4: File exists\n",
      "mkdir: /Users/pedroszekely/Downloads/kypher/temp.useful_wikidata_files_v4: File exists\n"
     ]
    }
   ],
   "source": [
    "!mkdir $OUT\n",
    "!mkdir $TEMP"
   ]
  },
  {
   "cell_type": "markdown",
   "metadata": {},
   "source": [
    "Clean up the output and temp folders before we start"
   ]
  },
  {
   "cell_type": "code",
   "execution_count": 8,
   "metadata": {},
   "outputs": [],
   "source": [
    "# !rm $OUT/*.tsv $OUT/*.tsv.gz\n",
    "# !rm $TEMP/*.tsv $TEMP/*.tsv.gz"
   ]
  },
  {
   "cell_type": "code",
   "execution_count": 9,
   "metadata": {},
   "outputs": [],
   "source": [
    "if delete_database:\n",
    "    print(\"Deleteddatabase\") \n",
    "    !rm $STORE"
   ]
  },
  {
   "cell_type": "code",
   "execution_count": 7,
   "metadata": {},
   "outputs": [
    {
     "name": "stdout",
     "output_type": "stream",
     "text": [
      "total 1888376\n",
      "-rw-r--r--  1 pedroszekely  staff   38563332 Nov 14 00:50 all.P279.tsv.gz\n",
      "-rw-r--r--  1 pedroszekely  staff         21 Nov 14 00:50 all.P31_P279.tsv.gz\n",
      "-rw-r--r--  1 pedroszekely  staff         37 Nov 14 00:51 all.isa.tsv.gz\n",
      "-rw-r--r--  1 pedroszekely  staff   38563336 Nov 14 08:14 derived.P279.tsv.gz\n",
      "-rw-r--r--  1 pedroszekely  staff  876497386 Nov 14 08:39 derived.P31.tsv.gz\n",
      "P279.n1.tsv.gz        P279.roots.tsv        isa.1.tsv.gz\n",
      "P279.reachable.tsv.gz P279star.1.tsv.gz     wikidata.sqlite3.db\n",
      "P279.roots.1.tsv.gz   P279star.2.tsv.gz\n",
      "P279.roots.2.tsv.gz   P31.n2.tsv.gz\n",
      "-rw-------  1 pedroszekely  staff  24260264435 Nov 10 21:52 /Volumes/GoogleDrive/Shared drives/KGTK/datasets/wikidata-20200803-v4/claims.tsv.gz\n",
      "-rw-------  1 pedroszekely  staff  2142929019 Nov 10 22:19 /Volumes/GoogleDrive/Shared drives/KGTK/datasets/wikidata-20200803-v4/labels.en.tsv.gz\n",
      "-rw-------  1 pedroszekely  staff  129552943 Nov 10 21:55 /Volumes/GoogleDrive/Shared drives/KGTK/datasets/wikidata-20200803-v4/aliases.en.tsv.gz\n",
      "-rw-------  1 pedroszekely  staff  2142929019 Nov 10 22:19 /Volumes/GoogleDrive/Shared drives/KGTK/datasets/wikidata-20200803-v4/labels.en.tsv.gz\n",
      "-rw-------  1 pedroszekely  staff  587501239 Nov 10 22:15 /Volumes/GoogleDrive/Shared drives/KGTK/datasets/wikidata-20200803-v4/descriptions.en.tsv.gz\n",
      "/Users/pedroszekely/Downloads/kypher/temp.useful_wikidata_files_v4/wikidata.sqlite3.db\n"
     ]
    }
   ],
   "source": [
    "!ls -l $OUT\n",
    "!ls $TEMP\n",
    "!ls -l \"$CLAIMS\"\n",
    "!ls -l \"$LABELS\"\n",
    "!ls -l \"$ALIASES\"\n",
    "!ls -l \"$LABELS\"\n",
    "!ls -l \"$DESCRIPTIONS\"\n",
    "!ls $STORE"
   ]
  },
  {
   "cell_type": "code",
   "execution_count": 8,
   "metadata": {},
   "outputs": [
    {
     "name": "stdout",
     "output_type": "stream",
     "text": [
      "zcat: id\tnode1\tlabel\tnode2\trank\tnode2;wikidatatype\n",
      "error writing to output: P10-P1628-32b85d-7927ece6-0\tP10\tP1628\t\"http://www.w3.org/2006/vcard/ns#Video\" normal\turl\n",
      "Broken pipe\n",
      "P10-P1628-acf60d-b8950832-0\tP10\tP1628\t\"https://schema.org/video\"\tnormal\turl\n",
      "P10-P1629-Q34508-bcc39400-0\tP10\tP1629\tQ34508\tnormal\twikibase-item\n",
      "P10-P1659-P1651-c4068028-0\tP10\tP1659\tP1651\tnormal\twikibase-property\n",
      "P10-P1659-P18-5e4b9c4f-0\tP10\tP1659\tP18\tnormal\twikibase-property\n",
      "P10-P1659-P4238-d21d1ac0-0\tP10\tP1659\tP4238\tnormal\twikibase-property\n",
      "P10-P1659-P51-86aca4c5-0\tP10\tP1659\tP51\tnormal\twikibase-property\n",
      "P10-P1855-Q15075950-7eff6d65-0\tP10\tP1855\tQ15075950\tnormal\twikibase-item\n",
      "P10-P1855-Q4504-a69d2c73-0\tP10\tP1855\tQ4504\tnormal\twikibase-item\n"
     ]
    }
   ],
   "source": [
    "!zcat < \"$CLAIMS\" | head | col"
   ]
  },
  {
   "cell_type": "markdown",
   "metadata": {},
   "source": [
    "### Preview the input files"
   ]
  },
  {
   "cell_type": "markdown",
   "metadata": {},
   "source": [
    "It is always a good practice to peek a the files to make sure the column headings are what we expect"
   ]
  },
  {
   "cell_type": "code",
   "execution_count": 9,
   "metadata": {},
   "outputs": [
    {
     "name": "stdout",
     "output_type": "stream",
     "text": [
      "[2020-11-14 08:45:04 query]: SQL Translation:\n",
      "---------------------------------------------\n",
      "  SELECT *\n",
      "     FROM graph_1 AS graph_1_c1\n",
      "     LIMIT ?\n",
      "  PARAS: [10]\n",
      "---------------------------------------------\n",
      "        0.80 real         0.53 user         0.14 sys\n",
      "id\tnode1\tlabel\tnode2\trank\tnode2;wikidatatype\n",
      "P10-P1628-32b85d-7927ece6-0\tP10\tP1628\t\"http://www.w3.org/2006/vcard/ns#Video\" normal\turl\n",
      "P10-P1628-acf60d-b8950832-0\tP10\tP1628\t\"https://schema.org/video\"\tnormal\turl\n",
      "P10-P1629-Q34508-bcc39400-0\tP10\tP1629\tQ34508\tnormal\twikibase-item\n",
      "P10-P1659-P1651-c4068028-0\tP10\tP1659\tP1651\tnormal\twikibase-property\n",
      "P10-P1659-P18-5e4b9c4f-0\tP10\tP1659\tP18\tnormal\twikibase-property\n",
      "P10-P1659-P4238-d21d1ac0-0\tP10\tP1659\tP4238\tnormal\twikibase-property\n",
      "P10-P1659-P51-86aca4c5-0\tP10\tP1659\tP51\tnormal\twikibase-property\n",
      "P10-P1855-Q15075950-7eff6d65-0\tP10\tP1855\tQ15075950\tnormal\twikibase-item\n",
      "P10-P1855-Q4504-a69d2c73-0\tP10\tP1855\tQ4504\tnormal\twikibase-item\n",
      "P10-P1855-Q69063653-c8cdb04c-0\tP10\tP1855\tQ69063653\tnormal\twikibase-item\n"
     ]
    }
   ],
   "source": [
    "!$kypher -i \"$CLAIMS\" --limit 10 | col "
   ]
  },
  {
   "cell_type": "markdown",
   "metadata": {},
   "source": [
    "Force creation of the index on the label column"
   ]
  },
  {
   "cell_type": "code",
   "execution_count": 10,
   "metadata": {},
   "outputs": [
    {
     "name": "stdout",
     "output_type": "stream",
     "text": [
      "[2020-11-14 08:45:06 query]: SQL Translation:\n",
      "---------------------------------------------\n",
      "  SELECT *\n",
      "     FROM graph_1 AS graph_1_c1\n",
      "     WHERE graph_1_c1.\"label\"=?\n",
      "     LIMIT ?\n",
      "  PARAS: ['P31', 5]\n",
      "---------------------------------------------\n",
      "        0.62 real         0.50 user         0.11 sys\n",
      "id                              node1  label  node2      rank    node2;wikidatatype\n",
      "P10-P31-Q18610173-85ef4d24-0    P10    P31    Q18610173  normal  wikibase-item\n",
      "P1000-P31-Q18608871-093affb5-0  P1000  P31    Q18608871  normal  wikibase-item\n",
      "P1001-P31-Q15720608-deeedec9-0  P1001  P31    Q15720608  normal  wikibase-item\n",
      "P1001-P31-Q22984026-8beb0cfe-0  P1001  P31    Q22984026  normal  wikibase-item\n",
      "P1001-P31-Q22997934-1e5b1a96-0  P1001  P31    Q22997934  normal  wikibase-item\n"
     ]
    }
   ],
   "source": [
    "!$kypher -i \"$CLAIMS\" -o - \\\n",
    "--match '(i)-[:P31]->(c)' \\\n",
    "--limit 5 \\\n",
    "| column -t -s $'\\t' "
   ]
  },
  {
   "cell_type": "markdown",
   "metadata": {},
   "source": [
    "Force creation of the index on the node2 column"
   ]
  },
  {
   "cell_type": "code",
   "execution_count": 11,
   "metadata": {},
   "outputs": [
    {
     "name": "stdout",
     "output_type": "stream",
     "text": [
      "[2020-11-14 08:45:09 query]: SQL Translation:\n",
      "---------------------------------------------\n",
      "  SELECT *\n",
      "     FROM graph_1 AS graph_1_c1\n",
      "     WHERE graph_1_c1.\"node2\"=?\n",
      "     LIMIT ?\n",
      "  PARAS: ['Q5', 5]\n",
      "---------------------------------------------\n",
      "        0.62 real         0.50 user         0.11 sys\n",
      "id                         node1  label  node2  rank    node2;wikidatatype\n",
      "P1424-P1855-Q5-47bdcd17-0  P1424  P1855  Q5     normal  wikibase-item\n",
      "P1963-P1855-Q5-1ba43aca-0  P1963  P1855  Q5     normal  wikibase-item\n",
      "P3055-P1629-Q5-fb63cfeb-0  P3055  P1629  Q5     normal  wikibase-item\n",
      "P685-P1855-Q5-76c93460-0   P685   P1855  Q5     normal  wikibase-item\n",
      "P8168-P1855-Q5-1f792f8c-0  P8168  P1855  Q5     normal  wikibase-item\n"
     ]
    }
   ],
   "source": [
    "!$kypher -i \"$CLAIMS\" -o - \\\n",
    "--match '(i)-[r]->(:Q5)' \\\n",
    "--limit 5 \\\n",
    "| column -t -s $'\\t' "
   ]
  },
  {
   "cell_type": "markdown",
   "metadata": {},
   "source": [
    "### Count the number of edges"
   ]
  },
  {
   "cell_type": "markdown",
   "metadata": {},
   "source": [
    "Counting takes a long time"
   ]
  },
  {
   "cell_type": "code",
   "execution_count": 48,
   "metadata": {},
   "outputs": [
    {
     "name": "stdout",
     "output_type": "stream",
     "text": [
      "[2020-11-14 08:04:54 query]: SQL Translation:\n",
      "---------------------------------------------\n",
      "  SELECT count(graph_1_c1.\"id\") \"count\"\n",
      "     FROM graph_1 AS graph_1_c1\n",
      "     LIMIT ?\n",
      "  PARAS: [10]\n",
      "---------------------------------------------\n",
      "count\n",
      "1102950183\n",
      "      491.63 real        87.41 user        94.80 sys\n"
     ]
    }
   ],
   "source": [
    "!$kypher -i \"$CLAIMS\" \\\n",
    "--match '()-[r]->()' \\\n",
    "--return 'count(r) as count' \\\n",
    "--limit 10"
   ]
  },
  {
   "cell_type": "markdown",
   "metadata": {},
   "source": [
    "### Create the P31 and P279 files"
   ]
  },
  {
   "cell_type": "markdown",
   "metadata": {},
   "source": [
    "Create the `P31` file"
   ]
  },
  {
   "cell_type": "code",
   "execution_count": 12,
   "metadata": {},
   "outputs": [
    {
     "name": "stdout",
     "output_type": "stream",
     "text": [
      "[2020-11-14 08:45:19 query]: SQL Translation:\n",
      "---------------------------------------------\n",
      "  SELECT graph_1_c1.\"id\", graph_1_c1.\"node1\", graph_1_c1.\"label\", graph_1_c1.\"node2\"\n",
      "     FROM graph_1 AS graph_1_c1\n",
      "     WHERE graph_1_c1.\"label\"=?\n",
      "  PARAS: ['P31']\n",
      "---------------------------------------------\n",
      "     1573.64 real       930.85 user       202.92 sys\n"
     ]
    }
   ],
   "source": [
    "!$kypher -i \"$CLAIMS\" -o $OUT/derived.P31.tsv.gz \\\n",
    "--match '(n1)-[l:P31]->(n2)' \\\n",
    "--return 'l, n1, l.label, n2' "
   ]
  },
  {
   "cell_type": "markdown",
   "metadata": {},
   "source": [
    "Create the P279 file"
   ]
  },
  {
   "cell_type": "code",
   "execution_count": 13,
   "metadata": {},
   "outputs": [
    {
     "name": "stdout",
     "output_type": "stream",
     "text": [
      "id\tnode1\tlabel\tnode2\n",
      "P10-P31-Q18610173-85ef4d24-0\tP10\tP31\tQ18610173\n",
      "gzcat: P1000-P31-Q18608871-093affb5-0\tP1000\tP31\tQ18608871\n",
      "P1001-P31-Q15720608-deeedec9-0\tP1001\tP31\tQ15720608\n",
      "P1001-P31-Q22984026-8beb0cfe-0\tP1001\tP31\tQ22984026\n",
      "P1001-P31-Q22997934-1e5b1a96-0\tP1001\tP31\tQ22997934\n",
      "P1001-P31-Q61719275-0ccc11a5-0\tP1001\tP31\tQ61719275\n",
      "P1002-P31-Q22963600-b3a47587-0\tP1002\tP31\tQ22963600\n",
      "error writing to outputP1003-P31-Q19595382-152d2cdd-0\tP1003\tP31\tQ19595382\n",
      ": Broken pipe\n",
      "P1003-P31-Q19833377-75138cf5-0\tP1003\tP31\tQ19833377\n",
      "gzcat: /Users/pedroszekely/Downloads/kypher/useful_wikidata_files_v4/derived.P31.tsv.gz: uncompress failed\n"
     ]
    }
   ],
   "source": [
    "!gzcat $OUT/derived.P31.tsv.gz | head | col"
   ]
  },
  {
   "cell_type": "code",
   "execution_count": 14,
   "metadata": {},
   "outputs": [
    {
     "name": "stdout",
     "output_type": "stream",
     "text": [
      "[2020-11-14 09:11:34 query]: SQL Translation:\n",
      "---------------------------------------------\n",
      "  SELECT graph_1_c1.\"id\", graph_1_c1.\"node1\", graph_1_c1.\"label\", graph_1_c1.\"node2\"\n",
      "     FROM graph_1 AS graph_1_c1\n",
      "     WHERE graph_1_c1.\"label\"=?\n",
      "  PARAS: ['P279']\n",
      "---------------------------------------------\n",
      "      102.82 real        38.44 user        18.03 sys\n"
     ]
    }
   ],
   "source": [
    "!$kypher -i \"$CLAIMS\" -o $OUT/derived.P279.tsv.gz \\\n",
    "    --match '(n1)-[l:P279]->(n2)' \\\n",
    "    --return 'l, n1, l.label, n2' "
   ]
  },
  {
   "cell_type": "markdown",
   "metadata": {},
   "source": [
    "### Create the file that contains all nodes reachable via P279 starting from a node2 in P31 or a node1 in P279"
   ]
  },
  {
   "cell_type": "markdown",
   "metadata": {},
   "source": [
    "First compute the roots"
   ]
  },
  {
   "cell_type": "code",
   "execution_count": 17,
   "metadata": {},
   "outputs": [
    {
     "name": "stdout",
     "output_type": "stream",
     "text": [
      "[2020-11-14 09:24:17 sqlstore]: IMPORT graph directly into table graph_3 from /Users/pedroszekely/Downloads/kypher/useful_wikidata_files_v4/derived.P279.tsv.gz ...\n",
      "[2020-11-14 09:24:31 query]: SQL Translation:\n",
      "---------------------------------------------\n",
      "  SELECT graph_3_c1.\"node1\" \"id\"\n",
      "     FROM graph_3 AS graph_3_c1\n",
      "  PARAS: []\n",
      "---------------------------------------------\n",
      "       27.08 real        34.74 user         0.84 sys\n"
     ]
    }
   ],
   "source": [
    "!$kypher -i $OUT/derived.P279.tsv.gz -o $TEMP/P279.n1.tsv.gz \\\n",
    "--match '(n1)-[l]->()' \\\n",
    "--return 'n1 as id' "
   ]
  },
  {
   "cell_type": "code",
   "execution_count": 24,
   "metadata": {},
   "outputs": [
    {
     "name": "stdout",
     "output_type": "stream",
     "text": [
      "[2020-11-14 10:08:48 sqlstore]: IMPORT graph directly into table graph_4 from /Users/pedroszekely/Downloads/kypher/useful_wikidata_files_v4/derived.P31.tsv.gz ...\n",
      "[2020-11-14 10:14:38 query]: SQL Translation:\n",
      "---------------------------------------------\n",
      "  SELECT graph_4_c1.\"node2\" \"id\"\n",
      "     FROM graph_4 AS graph_4_c1\n",
      "  PARAS: []\n",
      "---------------------------------------------\n",
      "      526.29 real       735.22 user        21.42 sys\n"
     ]
    }
   ],
   "source": [
    "!$kypher -i $OUT/derived.P31.tsv.gz -o $TEMP/P31.n2.tsv.gz \\\n",
    "--match '()-[l]->(n2)' \\\n",
    "--return 'n2 as id' "
   ]
  },
  {
   "cell_type": "code",
   "execution_count": 25,
   "metadata": {},
   "outputs": [],
   "source": [
    "!$kgtk cat --mode NONE -i $TEMP/P31.n2.tsv.gz $TEMP/P279.n1.tsv.gz \\\n",
    "| gzip > $TEMP/P279.roots.1.tsv.gz"
   ]
  },
  {
   "cell_type": "code",
   "execution_count": 26,
   "metadata": {},
   "outputs": [],
   "source": [
    "!$kgtk sort2 --mode NONE --column id -i $TEMP/P279.roots.1.tsv.gz \\\n",
    "| gzip > $TEMP/P279.roots.2.tsv.gz"
   ]
  },
  {
   "cell_type": "markdown",
   "metadata": {},
   "source": [
    "We have lots of duplicates"
   ]
  },
  {
   "cell_type": "code",
   "execution_count": 27,
   "metadata": {},
   "outputs": [
    {
     "name": "stdout",
     "output_type": "stream",
     "text": [
      "id\n",
      "Q1\n",
      "Q1\n",
      "Q1000032\n",
      "Q1000032\n",
      "Q1000039\n",
      "Q1000064\n",
      "Q1000084\n",
      "Q1000108\n",
      "Q1000116\n",
      "zcat: error writing to output: Broken pipe\n"
     ]
    }
   ],
   "source": [
    "!zcat < $TEMP/P279.roots.2.tsv.gz | head"
   ]
  },
  {
   "cell_type": "code",
   "execution_count": 28,
   "metadata": {},
   "outputs": [],
   "source": [
    "!$kgtk compact -i $TEMP/P279.roots.2.tsv.gz --mode NONE \\\n",
    "    --presorted \\\n",
    "    --columns id \\\n",
    "> $TEMP/P279.roots.tsv"
   ]
  },
  {
   "cell_type": "markdown",
   "metadata": {},
   "source": [
    "Now we can invoke the reachable-nodes command"
   ]
  },
  {
   "cell_type": "code",
   "execution_count": 30,
   "metadata": {},
   "outputs": [
    {
     "name": "stdout",
     "output_type": "stream",
     "text": [
      "     4429.37 real      2866.14 user      1546.66 sys\n"
     ]
    }
   ],
   "source": [
    "!$kgtk reachable-nodes \\\n",
    "    --rootfile $TEMP/P279.roots.tsv \\\n",
    "    --selflink \\\n",
    "    -i $OUT/derived.P279.tsv.gz \\\n",
    "| gzip > $TEMP/P279.reachable.tsv.gz"
   ]
  },
  {
   "cell_type": "code",
   "execution_count": 31,
   "metadata": {},
   "outputs": [
    {
     "name": "stdout",
     "output_type": "stream",
     "text": [
      "zcat: node1\tlabel\tnode2\n",
      "error writing to outputQ1000032\treachable\tQ1000032\n",
      ": Broken pipe\n",
      "Q1000032\treachable\tQ1813494\n",
      "Q1000032\treachable\tQ1799072\n",
      "Q1000032\treachable\tQ16686448\n",
      "Q1000032\treachable\tQ35120\n",
      "Q1000032\treachable\tnovalue\n",
      "Q1000032\treachable\tQ2695280\n",
      "Q1000032\treachable\tQ1914636\n",
      "Q1000032\treachable\tQ20937557\n"
     ]
    }
   ],
   "source": [
    "!zcat < $TEMP/P279.reachable.tsv.gz | head | col"
   ]
  },
  {
   "cell_type": "markdown",
   "metadata": {},
   "source": [
    "The reachable-nodes command produces edges labeled `reachable`, so we need one command to rename them."
   ]
  },
  {
   "cell_type": "code",
   "execution_count": 32,
   "metadata": {},
   "outputs": [
    {
     "name": "stdout",
     "output_type": "stream",
     "text": [
      "[2020-11-14 11:46:10 sqlstore]: IMPORT graph directly into table graph_5 from /Users/pedroszekely/Downloads/kypher/temp.useful_wikidata_files_v4/P279.reachable.tsv.gz ...\n",
      "[2020-11-14 11:49:16 query]: SQL Translation:\n",
      "---------------------------------------------\n",
      "  SELECT graph_5_c1.\"node1\", ? \"label\", graph_5_c1.\"node2\" \"node2\"\n",
      "     FROM graph_5 AS graph_5_c1\n",
      "  PARAS: ['P279star']\n",
      "---------------------------------------------\n",
      "      738.99 real       866.13 user        11.47 sys\n"
     ]
    }
   ],
   "source": [
    "!$kypher -i $TEMP/P279.reachable.tsv.gz -o $TEMP/P279star.1.tsv.gz \\\n",
    "--match '(n1)-[]->(n2)' \\\n",
    "--return 'n1, \"P279star\" as label, n2 as node2' "
   ]
  },
  {
   "cell_type": "markdown",
   "metadata": {},
   "source": [
    "Now we can concatenate these files to produce the final output"
   ]
  },
  {
   "cell_type": "code",
   "execution_count": 33,
   "metadata": {},
   "outputs": [
    {
     "name": "stdout",
     "output_type": "stream",
     "text": [
      "      239.06 real       232.07 user        47.03 sys\n"
     ]
    }
   ],
   "source": [
    "!$kgtk sort2 -i $TEMP/P279star.1.tsv.gz -o $TEMP/P279star.2.tsv.gz"
   ]
  },
  {
   "cell_type": "markdown",
   "metadata": {},
   "source": [
    "Make sure there are no duplicates"
   ]
  },
  {
   "cell_type": "code",
   "execution_count": 34,
   "metadata": {},
   "outputs": [
    {
     "name": "stdout",
     "output_type": "stream",
     "text": [
      "     1372.23 real      1368.60 user         2.27 sys\n"
     ]
    }
   ],
   "source": [
    "!$kgtk compact --presorted -i $TEMP/P279star.2.tsv.gz -o $TEMP/P279star.3.tsv.gz"
   ]
  },
  {
   "cell_type": "markdown",
   "metadata": {},
   "source": [
    "Add ids"
   ]
  },
  {
   "cell_type": "code",
   "execution_count": 42,
   "metadata": {},
   "outputs": [
    {
     "name": "stdout",
     "output_type": "stream",
     "text": [
      "     1273.07 real      1239.92 user        19.64 sys\n"
     ]
    }
   ],
   "source": [
    "!$kgtk add-id --id-style node1-label-node2-num -i $TEMP/P279star.3.tsv.gz -o $OUT/derived.P279star.tsv.gz"
   ]
  },
  {
   "cell_type": "code",
   "execution_count": 43,
   "metadata": {},
   "outputs": [
    {
     "name": "stdout",
     "output_type": "stream",
     "text": [
      "zcat: node1\tlabel\tnode2\tid\n",
      "error writing to outputQ1000032\tP279star\tQ1000032\tQ1000032-P279star-Q1000032-0000\n",
      ": Broken pipe\n",
      "Q1000032\tP279star\tQ1150070\tQ1000032-P279star-Q1150070-0000\n",
      "Q1000032\tP279star\tQ1190554\tQ1000032-P279star-Q1190554-0000\n",
      "Q1000032\tP279star\tQ133500 Q1000032-P279star-Q133500-0000\n",
      "Q1000032\tP279star\tQ13878858\tQ1000032-P279star-Q13878858-0000\n",
      "Q1000032\tP279star\tQ14819853\tQ1000032-P279star-Q14819853-0000\n",
      "Q1000032\tP279star\tQ14912053\tQ1000032-P279star-Q14912053-0000\n",
      "Q1000032\tP279star\tQ16686448\tQ1000032-P279star-Q16686448-0000\n",
      "Q1000032\tP279star\tQ16722960\tQ1000032-P279star-Q16722960-0000\n"
     ]
    }
   ],
   "source": [
    "!zcat < $OUT/derived.P279star.tsv.gz | head | col"
   ]
  },
  {
   "cell_type": "markdown",
   "metadata": {},
   "source": [
    "This is how we would do the typical `?item P31/P279* ?class` in Kypher. \n",
    "The example shows how to get all the counts of instances of subclasses of city (Q515)."
   ]
  },
  {
   "cell_type": "code",
   "execution_count": 44,
   "metadata": {},
   "outputs": [
    {
     "name": "stdout",
     "output_type": "stream",
     "text": [
      "[2020-11-14 12:54:48 sqlstore]: IMPORT graph directly into table graph_6 from /Users/pedroszekely/Downloads/kypher/useful_wikidata_files_v4/derived.P279star.tsv.gz ...\n",
      "[2020-11-14 13:01:15 sqlstore]: IMPORT graph directly into table graph_7 from /Volumes/GoogleDrive/Shared drives/KGTK/datasets/wikidata-20200803-v4/labels.en.tsv.gz ...\n",
      "[2020-11-14 13:10:32 query]: SQL Translation:\n",
      "---------------------------------------------\n",
      "  SELECT DISTINCT graph_4_c1.\"node2\" \"class\", count(graph_4_c1.\"node2\") \"count\", graph_7_c4.\"node2\" \"class name\", graph_7_c3.\"node1\" \"instance\", graph_7_c3.\"node2\" \"label\"\n",
      "     FROM graph_4 AS graph_4_c1, graph_6 AS graph_6_c2, graph_7 AS graph_7_c3, graph_7 AS graph_7_c4\n",
      "     WHERE graph_4_c1.\"label\"=?\n",
      "     AND graph_6_c2.\"node2\"=?\n",
      "     AND graph_7_c3.\"label\"=?\n",
      "     AND graph_7_c4.\"label\"=?\n",
      "     AND graph_4_c1.\"node1\"=graph_7_c3.\"node1\"\n",
      "     AND graph_4_c1.\"node2\"=graph_6_c2.\"node1\"\n",
      "     AND graph_6_c2.\"node1\"=graph_7_c4.\"node1\"\n",
      "     GROUP BY class\n",
      "     ORDER BY count(graph_4_c1.\"node2\") DESC, graph_4_c1.\"node2\" ASC, graph_7_c3.\"node1\" ASC\n",
      "     LIMIT ?\n",
      "  PARAS: ['P31', 'Q515', 'label', 'label', 10]\n",
      "---------------------------------------------\n",
      "[2020-11-14 13:10:32 sqlstore]: CREATE INDEX on table graph_7 column label ...\n",
      "[2020-11-14 13:11:47 sqlstore]: ANALYZE INDEX on table graph_7 column label ...\n",
      "[2020-11-14 13:11:51 sqlstore]: CREATE INDEX on table graph_4 column label ...\n",
      "[2020-11-14 13:12:52 sqlstore]: ANALYZE INDEX on table graph_4 column label ...\n",
      "[2020-11-14 13:12:57 sqlstore]: CREATE INDEX on table graph_4 column node1 ...\n",
      "[2020-11-14 13:13:52 sqlstore]: ANALYZE INDEX on table graph_4 column node1 ...\n",
      "[2020-11-14 13:13:58 sqlstore]: CREATE INDEX on table graph_7 column node1 ...\n",
      "[2020-11-14 13:15:12 sqlstore]: ANALYZE INDEX on table graph_7 column node1 ...\n",
      "[2020-11-14 13:15:18 sqlstore]: CREATE INDEX on table graph_6 column node1 ...\n",
      "[2020-11-14 13:16:25 sqlstore]: ANALYZE INDEX on table graph_6 column node1 ...\n",
      "[2020-11-14 13:16:30 sqlstore]: CREATE INDEX on table graph_4 column node2 ...\n",
      "[2020-11-14 13:17:54 sqlstore]: ANALYZE INDEX on table graph_4 column node2 ...\n",
      "[2020-11-14 13:17:59 sqlstore]: CREATE INDEX on table graph_6 column node2 ...\n",
      "[2020-11-14 13:19:48 sqlstore]: ANALYZE INDEX on table graph_6 column node2 ...\n",
      "     1519.15 real      1848.63 user       126.54 sys\n",
      "class\tcount\tclass name\tinstance\tlabel\n",
      "Q1093829\t9783\t'city of the United States'@en\tQ100\t'Boston'@en\n",
      "Q515\t8085\t'city'@en\tQ1000143\t'Güigüe'@en\n",
      "Q918230 3179\t'Roman villa'@en\tQ10275577\t'Estação arqueológica romana da Praia da Luz'@en\n",
      "Q42744322\t2086\t'urban municipality of Germany'@en\tQ1017\t'Aachen'@en\n",
      "Q15661340\t1453\t'ancient city'@en\tQ1001370\t'Colossae'@en\n",
      "Q56557504\t1234\t'city of Iran'@en\tQ1020637\t'Jahrom'@en\n",
      "Q494721 712\t'city of Japan'@en\tQ1011145\t'Itoshima'@en\n",
      "Q20541692\t504\t'settlement in Galicia, Spain'@en\tQ11232456\t'A Peneda'@en\n",
      "Q11939023\t418\t'population nucleus (Spain)'@en Q1050185\t'Les Escaldes'@en\n",
      "Q13539802\t385\t'place with town rights and privileges'@en\tQ100076 'Valkenburg'@en\n"
     ]
    }
   ],
   "source": [
    "!$kypher -i $OUT/derived.P31.tsv.gz -i $OUT/derived.P279star.tsv.gz -i \"$LABELS\" \\\n",
    "--match 'P31: (n1)-[:P31]->(c), P279star: (c)-[]->(:Q515), label: (n1)-[:label]->(label), label: (c)-[:label]->(c_label)' \\\n",
    "--return 'distinct c as class, count(c) as count, c_label as `class name`, n1 as instance, label as `label`' \\\n",
    "--order-by 'count(c) desc, c, n1' \\\n",
    "--limit 10 \\\n",
    "| col"
   ]
  },
  {
   "cell_type": "markdown",
   "metadata": {},
   "source": [
    "Illustrate that it is indeed `P279*`"
   ]
  },
  {
   "cell_type": "code",
   "execution_count": 49,
   "metadata": {},
   "outputs": [
    {
     "name": "stdout",
     "output_type": "stream",
     "text": [
      "[2020-11-14 13:44:45 query]: SQL Translation:\n",
      "---------------------------------------------\n",
      "  SELECT DISTINCT graph_6_c2.\"node1\" \"class\", graph_7_c4.\"node2\" \"class name\", graph_7_c3.\"node1\" \"instance\", graph_7_c3.\"node2\" \"label\"\n",
      "     FROM graph_4 AS graph_4_c1, graph_6 AS graph_6_c2, graph_7 AS graph_7_c3, graph_7 AS graph_7_c4\n",
      "     WHERE graph_4_c1.\"label\"=?\n",
      "     AND graph_6_c2.\"node2\"=?\n",
      "     AND graph_7_c3.\"label\"=?\n",
      "     AND graph_7_c4.\"label\"=?\n",
      "     AND graph_4_c1.\"node1\"=graph_7_c3.\"node1\"\n",
      "     AND graph_4_c1.\"node2\"=graph_6_c2.\"node1\"\n",
      "     AND graph_4_c1.\"node2\"=graph_7_c4.\"node1\"\n",
      "     ORDER BY graph_6_c2.\"node1\" ASC, graph_7_c3.\"node1\" ASC\n",
      "     LIMIT ?\n",
      "  PARAS: ['P31', 'Q63440326', 'label', 'label', 10]\n",
      "---------------------------------------------\n",
      "        1.28 real         0.61 user         0.22 sys\n",
      "class\tclass name\tinstance\tlabel\n",
      "Q63440326\t'city of Oregon'@en\tQ1003672\t'Cascade Locks'@en\n",
      "Q63440326\t'city of Oregon'@en\tQ1003826\t'Yamhill'@en\n",
      "Q63440326\t'city of Oregon'@en\tQ1003838\t'La Pine'@en\n",
      "Q63440326\t'city of Oregon'@en\tQ1007028\t'Cottage Grove'@en\n",
      "Q63440326\t'city of Oregon'@en\tQ1012169\t'Mount Vernon'@en\n",
      "Q63440326\t'city of Oregon'@en\tQ1012351\t'Sutherlin'@en\n",
      "Q63440326\t'city of Oregon'@en\tQ1012371\t'Lafayette'@en\n",
      "Q63440326\t'city of Oregon'@en\tQ1022986\t'Paisley'@en\n",
      "Q63440326\t'city of Oregon'@en\tQ1065556\t'Gold Beach'@en\n",
      "Q63440326\t'city of Oregon'@en\tQ1152219\t'Baker City'@en\n"
     ]
    }
   ],
   "source": [
    "!$kypher -i $OUT/derived.P31.tsv.gz -i $OUT/derived.P279star.tsv.gz -i \"$LABELS\" \\\n",
    "--match 'P31: (n1)-[:P31]->(c), P279star: (c)-[]->(:Q63440326), label: (n1)-[:label]->(label), label: (c)-[:label]->(c_label)' \\\n",
    "--return 'distinct c as class, c_label as `class name`, n1 as instance, label as `label`' \\\n",
    "--order-by 'c, n1' \\\n",
    "--limit 10 \\\n",
    "| col "
   ]
  },
  {
   "cell_type": "markdown",
   "metadata": {},
   "source": [
    "Test that `P279star` is indeed star"
   ]
  },
  {
   "cell_type": "code",
   "execution_count": 50,
   "metadata": {},
   "outputs": [
    {
     "name": "stdout",
     "output_type": "stream",
     "text": [
      "[2020-11-14 14:58:59 query]: SQL Translation:\n",
      "---------------------------------------------\n",
      "  SELECT *\n",
      "     FROM graph_6 AS graph_6_c1\n",
      "     WHERE graph_6_c1.\"label\"=?\n",
      "     AND graph_6_c1.\"node1\"=?\n",
      "     AND graph_6_c1.\"node2\"=?\n",
      "  PARAS: ['P279star', 'Q44', 'Q44']\n",
      "---------------------------------------------\n",
      "[2020-11-14 14:58:59 sqlstore]: CREATE INDEX on table graph_6 column label ...\n",
      "[2020-11-14 15:00:08 sqlstore]: ANALYZE INDEX on table graph_6 column label ...\n",
      "node1\tlabel\tnode2\tid\n",
      "Q44\tP279star\tQ44\tQ44-P279star-Q44-0000\n",
      "       78.41 real        38.58 user        16.33 sys\n"
     ]
    }
   ],
   "source": [
    "!$kypher -i $OUT/derived.P279star.tsv.gz \\\n",
    "--match '(n1:Q44)-[:P279star]->(n2:Q44)'"
   ]
  },
  {
   "cell_type": "markdown",
   "metadata": {},
   "source": [
    "### Create a file to do generalized Is-A queries\n",
    "The idea is that `(n1)-[:isa]->(n2)` when `(n1)-[:P31]->(n2)` or `(n1)-[:P279]->(n2)`\n",
    "\n",
    "We do this by concatenating the files and renaming the relation"
   ]
  },
  {
   "cell_type": "code",
   "execution_count": 46,
   "metadata": {},
   "outputs": [
    {
     "name": "stdout",
     "output_type": "stream",
     "text": [
      "      435.98 real       431.80 user         2.86 sys\n"
     ]
    }
   ],
   "source": [
    "!$kgtk cat -i $OUT/derived.P31.tsv.gz $OUT/derived.P279.tsv.gz \\\n",
    "    | gzip > $TEMP/isa.1.tsv.gz"
   ]
  },
  {
   "cell_type": "code",
   "execution_count": 47,
   "metadata": {},
   "outputs": [
    {
     "name": "stdout",
     "output_type": "stream",
     "text": [
      "[2020-11-14 13:27:24 sqlstore]: IMPORT graph directly into table graph_8 from /Users/pedroszekely/Downloads/kypher/temp.useful_wikidata_files_v4/isa.1.tsv.gz ...\n",
      "[2020-11-14 13:33:32 query]: SQL Translation:\n",
      "---------------------------------------------\n",
      "  SELECT graph_8_c1.\"node1\", ? \"label\", graph_8_c1.\"node2\"\n",
      "     FROM graph_8 AS graph_8_c1\n",
      "  PARAS: ['isa']\n",
      "---------------------------------------------\n",
      "      736.21 real       953.69 user        24.91 sys\n"
     ]
    }
   ],
   "source": [
    "!$kypher -i $TEMP/isa.1.tsv.gz -o $OUT/derived.isa.tsv.gz \\\n",
    "--match '(n1)-[]->(n2)' \\\n",
    "--return 'n1, \"isa\" as label, n2' "
   ]
  },
  {
   "cell_type": "markdown",
   "metadata": {},
   "source": [
    "Example of how to use the `isa` relation"
   ]
  },
  {
   "cell_type": "code",
   "execution_count": 48,
   "metadata": {},
   "outputs": [
    {
     "name": "stdout",
     "output_type": "stream",
     "text": [
      "[2020-11-14 13:39:41 sqlstore]: IMPORT graph directly into table graph_9 from /Users/pedroszekely/Downloads/kypher/useful_wikidata_files_v4/derived.isa.tsv.gz ...\n",
      "[2020-11-14 13:42:09 query]: SQL Translation:\n",
      "---------------------------------------------\n",
      "  SELECT DISTINCT graph_9_c1.\"node1\", graph_9_c1.\"label\", ? \"node2\", graph_7_c3.\"node2\" \"n1_label\"\n",
      "     FROM graph_6 AS graph_6_c2, graph_7 AS graph_7_c3, graph_9 AS graph_9_c1\n",
      "     WHERE graph_6_c2.\"node2\"=?\n",
      "     AND graph_7_c3.\"label\"=?\n",
      "     AND graph_9_c1.\"label\"=?\n",
      "     AND graph_6_c2.\"node1\"=graph_9_c1.\"node2\"\n",
      "     AND graph_7_c3.\"node1\"=graph_9_c1.\"node1\"\n",
      "     LIMIT ?\n",
      "  PARAS: ['Q44', 'Q44', 'label', 'isa', 10]\n",
      "---------------------------------------------\n",
      "[2020-11-14 13:42:09 sqlstore]: CREATE INDEX on table graph_9 column label ...\n",
      "[2020-11-14 13:42:50 sqlstore]: ANALYZE INDEX on table graph_9 column label ...\n",
      "[2020-11-14 13:42:56 sqlstore]: CREATE INDEX on table graph_9 column node1 ...\n",
      "[2020-11-14 13:43:32 sqlstore]: ANALYZE INDEX on table graph_9 column node1 ...\n",
      "[2020-11-14 13:43:38 sqlstore]: CREATE INDEX on table graph_9 column node2 ...\n",
      "[2020-11-14 13:44:37 sqlstore]: ANALYZE INDEX on table graph_9 column node2 ...\n",
      "      304.75 real       389.56 user        23.10 sys\n",
      "node1\tlabel\tnode2\tn1_label\n",
      "Q15875298\tisa\tQ44\t'Floreffe'@en\n",
      "Q1917255\tisa\tQ44\t'St-Idesbald'@en\n",
      "Q2004062\tisa\tQ44\t'Sancti Adalberti'@en\n",
      "Q2006077\tisa\tQ44\t'Bonne-Espérance abbey'@en\n",
      "Q2272636\tisa\tQ44\t'Ename beer'@en\n",
      "Q2290730\tisa\tQ44\t'Ter Dolen (beer)'@en\n",
      "Q3625571\tisa\tQ44\t'Herkenrode Tripel'@en\n",
      "Q505815 isa\tQ44\t'Trappist beer'@en\n",
      "Q747216 isa\tQ44\t'Bornem'@en\n",
      "Q15985396\tisa\tQ44\t'Crabbelaer'@en\n"
     ]
    }
   ],
   "source": [
    "!$kypher -i $OUT/derived.isa.tsv.gz -i $OUT/derived.P279star.tsv.gz -i \"$LABELS\" -o - \\\n",
    "--match 'isa: (n1)-[l:isa]->(c), P279star: (c)-[]->(:Q44), label: (n1)-[:label]->(label)' \\\n",
    "--return 'distinct n1, l.label, \"Q44\" as node2, label as n1_label' \\\n",
    "--limit 10 \\\n",
    "| col"
   ]
  },
  {
   "cell_type": "markdown",
   "metadata": {},
   "source": [
    "## Compute pagerank"
   ]
  },
  {
   "cell_type": "markdown",
   "metadata": {},
   "source": [
    "Now compute pagerank. These commands will exceed 16GB memory for graphs containing over 25 million nodes."
   ]
  },
  {
   "cell_type": "code",
   "execution_count": 51,
   "metadata": {},
   "outputs": [],
   "source": [
    "if compute_pagerank:\n",
    "    !$kgtk graph-statistics -i \"$ITEMS\" -o $OUT/metadata.pagerank.directed.tsv.gz \\\n",
    "    --page-rank-property directed_pagerank \\\n",
    "    --pagerank --statistics-only \\\n",
    "    --log $TEMP/metadata.pagerank.directed.summary.txt "
   ]
  },
  {
   "cell_type": "code",
   "execution_count": 52,
   "metadata": {},
   "outputs": [],
   "source": [
    "if compute_pagerank:\n",
    "    !cat $TEMP/metadata.pagerank.directed.summary.txt"
   ]
  },
  {
   "cell_type": "code",
   "execution_count": 53,
   "metadata": {},
   "outputs": [],
   "source": [
    "if compute_pagerank:\n",
    "    !$kgtk graph-statistics -i \"$ITEMS\" -o $OUT/metadata.pagerank.undirected.tsv.gz \\\n",
    "    --page-rank-property undirected_pagerank \\\n",
    "    --pagerank --statistics-only \\\n",
    "    --log $TEMP/metadata.pagerank.undirected.summary.txt "
   ]
  },
  {
   "cell_type": "code",
   "execution_count": 54,
   "metadata": {},
   "outputs": [],
   "source": [
    "if compute_pagerank:\n",
    "    !cat $TEMP/metadata.pagerank.undirected.summary.txt "
   ]
  },
  {
   "cell_type": "markdown",
   "metadata": {},
   "source": [
    "## Compute Degrees"
   ]
  },
  {
   "cell_type": "markdown",
   "metadata": {},
   "source": [
    "Kypher can compute the out degree by counting the node2s for each node1"
   ]
  },
  {
   "cell_type": "code",
   "execution_count": 78,
   "metadata": {},
   "outputs": [
    {
     "name": "stdout",
     "output_type": "stream",
     "text": [
      "[2020-11-14 18:33:05 query]: SQL Translation:\n",
      "---------------------------------------------\n",
      "  SELECT DISTINCT graph_1_c1.\"node1\" \"node1\", count(graph_1_c1.\"id\") \"node2\", ? \"label\"\n",
      "     FROM graph_1 AS graph_1_c1\n",
      "     GROUP BY node1\n",
      "  PARAS: ['out_degree']\n",
      "---------------------------------------------\n",
      "     2160.01 real       986.18 user       826.28 sys\n"
     ]
    }
   ],
   "source": [
    "!$kypher -i \"$CLAIMS\" -o $TEMP/metadata.out_degree.tsv.gz \\\n",
    "--match '(n1)-[l]->()' \\\n",
    "--return 'distinct n1 as node1, count(l) as node2, \"out_degree\" as label' "
   ]
  },
  {
   "cell_type": "code",
   "execution_count": 79,
   "metadata": {},
   "outputs": [
    {
     "name": "stdout",
     "output_type": "stream",
     "text": [
      "      707.37 real       742.88 user        69.35 sys\n"
     ]
    }
   ],
   "source": [
    "!$kgtk add-id --id-style node1-label-node2-num -i $TEMP/metadata.out_degree.tsv.gz \\\n",
    "/ sort2 -o $OUT/metadata.out_degree.tsv.gz"
   ]
  },
  {
   "cell_type": "markdown",
   "metadata": {},
   "source": [
    "To count the in-degree we only care when the node2 is a wikibase-item"
   ]
  },
  {
   "cell_type": "code",
   "execution_count": 80,
   "metadata": {},
   "outputs": [
    {
     "name": "stdout",
     "output_type": "stream",
     "text": [
      "[2020-11-14 19:20:53 query]: SQL Translation:\n",
      "---------------------------------------------\n",
      "  SELECT DISTINCT graph_1_c1.\"node2\" \"node1\", count(graph_1_c1.\"id\") \"node2\", ? \"label\"\n",
      "     FROM graph_1 AS graph_1_c1\n",
      "     WHERE graph_1_c1.\"node2;wikidatatype\"=?\n",
      "     GROUP BY node1\n",
      "  PARAS: ['in_degree', 'wikibase-item']\n",
      "---------------------------------------------\n",
      "     1342.16 real       458.20 user       498.16 sys\n"
     ]
    }
   ],
   "source": [
    "!$kypher -i \"$CLAIMS\" -o $TEMP/metadata.in_degree.tsv.gz \\\n",
    "--match '()-[l {`node2;wikidatatype`:\"wikibase-item\"}]->(n2)' \\\n",
    "--return 'distinct n2 as node1, count(l) as node2, \"in_degree\" as label' "
   ]
  },
  {
   "cell_type": "code",
   "execution_count": 81,
   "metadata": {},
   "outputs": [
    {
     "name": "stdout",
     "output_type": "stream",
     "text": [
      "       29.74 real        32.55 user         1.18 sys\n"
     ]
    }
   ],
   "source": [
    "!$kgtk add-id --id-style node1-label-node2-num -i $TEMP/metadata.in_degree.tsv.gz \\\n",
    "/ sort2 -o $OUT/metadata.in_degree.tsv.gz"
   ]
  },
  {
   "cell_type": "code",
   "execution_count": 82,
   "metadata": {},
   "outputs": [
    {
     "name": "stdout",
     "output_type": "stream",
     "text": [
      "node1\tnode2\tlabel\tid\n",
      "Q1\t11\tin_degree\tQ1-in_degree-11-0000\n",
      "Q1\t12\tin_degree\tQ1-in_degree-12-0000\n",
      "Q1\t17\tin_degree\tQ1-in_degree-17-0000\n",
      "Q1\t2\tin_degree\tQ1-in_degree-2-0000\n",
      "Q1\t3\tin_degree\tQ1-in_degree-3-0000\n",
      "zcat: Q1\t4\tin_degree\tQ1-in_degree-4-0000\n",
      "Q1\t6\tin_degree\tQ1-in_degree-6-0000\n",
      "Q100\t1\tin_degree\tQ100-in_degree-1-0000\n",
      "Q100\t10\tin_degree\tQ100-in_degree-10-0000\n",
      "error writing to output: Broken pipe\n"
     ]
    }
   ],
   "source": [
    "!zcat < $OUT/metadata.in_degree.tsv.gz | head | col"
   ]
  },
  {
   "cell_type": "markdown",
   "metadata": {},
   "source": [
    "Calculate the distribution so we can make a nice chart"
   ]
  },
  {
   "cell_type": "code",
   "execution_count": 83,
   "metadata": {},
   "outputs": [
    {
     "name": "stdout",
     "output_type": "stream",
     "text": [
      "[2020-11-14 19:43:45 sqlstore]: DROP graph data table graph_12 from /Users/pedroszekely/Downloads/kypher/useful_wikidata_files_v4/metadata.in_degree.tsv.gz\n",
      "[2020-11-14 19:45:40 sqlstore]: IMPORT graph directly into table graph_12 from /Users/pedroszekely/Downloads/kypher/useful_wikidata_files_v4/metadata.in_degree.tsv.gz ...\n",
      "[2020-11-14 19:45:56 query]: SQL Translation:\n",
      "---------------------------------------------\n",
      "  SELECT DISTINCT graph_12_c1.\"node2\" \"in_degree\", count(DISTINCT graph_12_c1.\"node1\") \"count\", ? \"label\"\n",
      "     FROM graph_12 AS graph_12_c1\n",
      "     GROUP BY in_degree\n",
      "     ORDER BY CAST(graph_12_c1.\"node2\" AS integer) ASC\n",
      "  PARAS: ['count']\n",
      "---------------------------------------------\n",
      "      135.41 real        33.74 user        43.07 sys\n"
     ]
    }
   ],
   "source": [
    "!$kypher -i $OUT/metadata.in_degree.tsv.gz -o $OUT/statistics.in_degree.distribution.tsv \\\n",
    "--match '(n1)-[]->(n2)' \\\n",
    "--return 'distinct n2 as in_degree, count(distinct n1) as count, \"count\" as label' \\\n",
    "--order-by 'cast(n2, integer)' "
   ]
  },
  {
   "cell_type": "code",
   "execution_count": 84,
   "metadata": {},
   "outputs": [
    {
     "name": "stdout",
     "output_type": "stream",
     "text": [
      "head: /Users/pedroszekely/Downloads/kypher/useful_wikidata_files_v4/metadata.in_degree.distribution.tsv: No such file or directory\n"
     ]
    }
   ],
   "source": [
    "!head $OUT/metadata.in_degree.distribution.tsv | col"
   ]
  },
  {
   "cell_type": "code",
   "execution_count": 85,
   "metadata": {},
   "outputs": [
    {
     "name": "stdout",
     "output_type": "stream",
     "text": [
      "[2020-11-14 19:46:01 sqlstore]: DROP graph data table graph_11 from /Users/pedroszekely/Downloads/kypher/useful_wikidata_files_v4/metadata.out_degree.tsv.gz\n",
      "[2020-11-14 19:48:11 sqlstore]: IMPORT graph directly into table graph_11 from /Users/pedroszekely/Downloads/kypher/useful_wikidata_files_v4/metadata.out_degree.tsv.gz ...\n",
      "[2020-11-14 19:53:34 query]: SQL Translation:\n",
      "---------------------------------------------\n",
      "  SELECT DISTINCT graph_11_c1.\"node2\" \"out_degree\", count(DISTINCT graph_11_c1.\"node1\") \"count\", ? \"label\"\n",
      "     FROM graph_11 AS graph_11_c1\n",
      "     GROUP BY out_degree\n",
      "     ORDER BY CAST(graph_11_c1.\"node2\" AS integer) ASC\n",
      "  PARAS: ['count']\n",
      "---------------------------------------------\n",
      "      593.21 real       659.68 user        72.66 sys\n"
     ]
    }
   ],
   "source": [
    "!$kypher -i $OUT/metadata.out_degree.tsv.gz -o $OUT/statistics.out_degree.distribution.tsv \\\n",
    "--match '(n1)-[]->(n2)' \\\n",
    "--return 'distinct n2 as out_degree, count(distinct n1) as count, \"count\" as label' \\\n",
    "--order-by 'cast(n2, integer)' "
   ]
  },
  {
   "cell_type": "markdown",
   "metadata": {},
   "source": [
    "Draw some charts"
   ]
  },
  {
   "cell_type": "code",
   "execution_count": 86,
   "metadata": {},
   "outputs": [
    {
     "data": {
      "text/html": [
       "\n",
       "<div id=\"altair-viz-76f2af2c268740a58587a565a9384464\"></div>\n",
       "<script type=\"text/javascript\">\n",
       "  (function(spec, embedOpt){\n",
       "    let outputDiv = document.currentScript.previousElementSibling;\n",
       "    if (outputDiv.id !== \"altair-viz-76f2af2c268740a58587a565a9384464\") {\n",
       "      outputDiv = document.getElementById(\"altair-viz-76f2af2c268740a58587a565a9384464\");\n",
       "    }\n",
       "    const paths = {\n",
       "      \"vega\": \"https://cdn.jsdelivr.net/npm//vega@5?noext\",\n",
       "      \"vega-lib\": \"https://cdn.jsdelivr.net/npm//vega-lib?noext\",\n",
       "      \"vega-lite\": \"https://cdn.jsdelivr.net/npm//vega-lite@4.8.1?noext\",\n",
       "      \"vega-embed\": \"https://cdn.jsdelivr.net/npm//vega-embed@6?noext\",\n",
       "    };\n",
       "\n",
       "    function loadScript(lib) {\n",
       "      return new Promise(function(resolve, reject) {\n",
       "        var s = document.createElement('script');\n",
       "        s.src = paths[lib];\n",
       "        s.async = true;\n",
       "        s.onload = () => resolve(paths[lib]);\n",
       "        s.onerror = () => reject(`Error loading script: ${paths[lib]}`);\n",
       "        document.getElementsByTagName(\"head\")[0].appendChild(s);\n",
       "      });\n",
       "    }\n",
       "\n",
       "    function showError(err) {\n",
       "      outputDiv.innerHTML = `<div class=\"error\" style=\"color:red;\">${err}</div>`;\n",
       "      throw err;\n",
       "    }\n",
       "\n",
       "    function displayChart(vegaEmbed) {\n",
       "      vegaEmbed(outputDiv, spec, embedOpt)\n",
       "        .catch(err => showError(`Javascript Error: ${err.message}<br>This usually means there's a typo in your chart specification. See the javascript console for the full traceback.`));\n",
       "    }\n",
       "\n",
       "    if(typeof define === \"function\" && define.amd) {\n",
       "      requirejs.config({paths});\n",
       "      require([\"vega-embed\"], displayChart, err => showError(`Error loading script: ${err.message}`));\n",
       "    } else if (typeof vegaEmbed === \"function\") {\n",
       "      displayChart(vegaEmbed);\n",
       "    } else {\n",
       "      loadScript(\"vega\")\n",
       "        .then(() => loadScript(\"vega-lite\"))\n",
       "        .then(() => loadScript(\"vega-embed\"))\n",
       "        .catch(showError)\n",
       "        .then(() => displayChart(vegaEmbed));\n",
       "    }\n",
       "  })({\"config\": {\"view\": {\"continuousWidth\": 400, \"continuousHeight\": 300}}, \"data\": {\"name\": \"data-2b2bee2fa8d95c6b2cf3ea81ac1bde04\"}, \"mark\": {\"type\": \"circle\", \"size\": 60}, \"encoding\": {\"tooltip\": [{\"type\": \"quantitative\", \"field\": \"in_degree\"}, {\"type\": \"quantitative\", \"field\": \"count\"}], \"x\": {\"type\": \"quantitative\", \"field\": \"in_degree\", \"scale\": {\"type\": \"log\"}}, \"y\": {\"type\": \"quantitative\", \"field\": \"count\", \"scale\": {\"type\": \"log\"}, \"title\": \"count of nodes\"}}, \"selection\": {\"selector001\": {\"type\": \"interval\", \"bind\": \"scales\", \"encodings\": [\"x\", \"y\"]}}, \"title\": \"Distribution of In Degree\", \"$schema\": \"https://vega.github.io/schema/vega-lite/v4.8.1.json\", \"datasets\": {\"data-2b2bee2fa8d95c6b2cf3ea81ac1bde04\": [{\"in_degree\": 1, \"count\": 113970, \"label\": \"count\"}, {\"in_degree\": 2, \"count\": 191479, \"label\": \"count\"}, {\"in_degree\": 3, \"count\": 540821, \"label\": \"count\"}, {\"in_degree\": 4, \"count\": 510982, \"label\": \"count\"}, {\"in_degree\": 5, \"count\": 359976, \"label\": \"count\"}, {\"in_degree\": 6, \"count\": 296353, \"label\": \"count\"}, {\"in_degree\": 7, \"count\": 232278, \"label\": \"count\"}, {\"in_degree\": 8, \"count\": 145527, \"label\": \"count\"}, {\"in_degree\": 9, \"count\": 105564, \"label\": \"count\"}, {\"in_degree\": 10, \"count\": 87713, \"label\": \"count\"}, {\"in_degree\": 11, \"count\": 62752, \"label\": \"count\"}, {\"in_degree\": 12, \"count\": 55554, \"label\": \"count\"}, {\"in_degree\": 13, \"count\": 43964, \"label\": \"count\"}, {\"in_degree\": 14, \"count\": 35323, \"label\": \"count\"}, {\"in_degree\": 15, \"count\": 31604, \"label\": \"count\"}, {\"in_degree\": 16, \"count\": 30344, \"label\": \"count\"}, {\"in_degree\": 17, \"count\": 26850, \"label\": \"count\"}, {\"in_degree\": 18, \"count\": 22722, \"label\": \"count\"}, {\"in_degree\": 19, \"count\": 20928, \"label\": \"count\"}, {\"in_degree\": 20, \"count\": 19135, \"label\": \"count\"}, {\"in_degree\": 21, \"count\": 17782, \"label\": \"count\"}, {\"in_degree\": 22, \"count\": 16481, \"label\": \"count\"}, {\"in_degree\": 23, \"count\": 15467, \"label\": \"count\"}, {\"in_degree\": 24, \"count\": 14693, \"label\": \"count\"}, {\"in_degree\": 25, \"count\": 13639, \"label\": \"count\"}, {\"in_degree\": 26, \"count\": 13011, \"label\": \"count\"}, {\"in_degree\": 27, \"count\": 12572, \"label\": \"count\"}, {\"in_degree\": 28, \"count\": 12015, \"label\": \"count\"}, {\"in_degree\": 29, \"count\": 11440, \"label\": \"count\"}, {\"in_degree\": 30, \"count\": 10995, \"label\": \"count\"}, {\"in_degree\": 31, \"count\": 10267, \"label\": \"count\"}, {\"in_degree\": 32, \"count\": 9924, \"label\": \"count\"}, {\"in_degree\": 33, \"count\": 9550, \"label\": \"count\"}, {\"in_degree\": 34, \"count\": 9245, \"label\": \"count\"}, {\"in_degree\": 35, \"count\": 8716, \"label\": \"count\"}, {\"in_degree\": 36, \"count\": 8479, \"label\": \"count\"}, {\"in_degree\": 37, \"count\": 8217, \"label\": \"count\"}, {\"in_degree\": 38, \"count\": 7824, \"label\": \"count\"}, {\"in_degree\": 39, \"count\": 7487, \"label\": \"count\"}, {\"in_degree\": 40, \"count\": 7371, \"label\": \"count\"}, {\"in_degree\": 41, \"count\": 7142, \"label\": \"count\"}, {\"in_degree\": 42, \"count\": 6966, \"label\": \"count\"}, {\"in_degree\": 43, \"count\": 6684, \"label\": \"count\"}, {\"in_degree\": 44, \"count\": 6386, \"label\": \"count\"}, {\"in_degree\": 45, \"count\": 6317, \"label\": \"count\"}, {\"in_degree\": 46, \"count\": 6101, \"label\": \"count\"}, {\"in_degree\": 47, \"count\": 5978, \"label\": \"count\"}, {\"in_degree\": 48, \"count\": 5716, \"label\": \"count\"}, {\"in_degree\": 49, \"count\": 5632, \"label\": \"count\"}, {\"in_degree\": 50, \"count\": 5379, \"label\": \"count\"}, {\"in_degree\": 51, \"count\": 5181, \"label\": \"count\"}, {\"in_degree\": 52, \"count\": 5123, \"label\": \"count\"}, {\"in_degree\": 53, \"count\": 4969, \"label\": \"count\"}, {\"in_degree\": 54, \"count\": 4727, \"label\": \"count\"}, {\"in_degree\": 55, \"count\": 4605, \"label\": \"count\"}, {\"in_degree\": 56, \"count\": 4394, \"label\": \"count\"}, {\"in_degree\": 57, \"count\": 4415, \"label\": \"count\"}, {\"in_degree\": 58, \"count\": 4229, \"label\": \"count\"}, {\"in_degree\": 59, \"count\": 4128, \"label\": \"count\"}, {\"in_degree\": 60, \"count\": 4105, \"label\": \"count\"}, {\"in_degree\": 61, \"count\": 3865, \"label\": \"count\"}, {\"in_degree\": 62, \"count\": 3895, \"label\": \"count\"}, {\"in_degree\": 63, \"count\": 3678, \"label\": \"count\"}, {\"in_degree\": 64, \"count\": 3612, \"label\": \"count\"}, {\"in_degree\": 65, \"count\": 3580, \"label\": \"count\"}, {\"in_degree\": 66, \"count\": 3399, \"label\": \"count\"}, {\"in_degree\": 67, \"count\": 3455, \"label\": \"count\"}, {\"in_degree\": 68, \"count\": 3316, \"label\": \"count\"}, {\"in_degree\": 69, \"count\": 3189, \"label\": \"count\"}, {\"in_degree\": 70, \"count\": 3114, \"label\": \"count\"}, {\"in_degree\": 71, \"count\": 3055, \"label\": \"count\"}, {\"in_degree\": 72, \"count\": 3034, \"label\": \"count\"}, {\"in_degree\": 73, \"count\": 2920, \"label\": \"count\"}, {\"in_degree\": 74, \"count\": 2961, \"label\": \"count\"}, {\"in_degree\": 75, \"count\": 2760, \"label\": \"count\"}, {\"in_degree\": 76, \"count\": 2787, \"label\": \"count\"}, {\"in_degree\": 77, \"count\": 2612, \"label\": \"count\"}, {\"in_degree\": 78, \"count\": 2664, \"label\": \"count\"}, {\"in_degree\": 79, \"count\": 2597, \"label\": \"count\"}, {\"in_degree\": 80, \"count\": 2481, \"label\": \"count\"}, {\"in_degree\": 81, \"count\": 2388, \"label\": \"count\"}, {\"in_degree\": 82, \"count\": 2425, \"label\": \"count\"}, {\"in_degree\": 83, \"count\": 2300, \"label\": \"count\"}, {\"in_degree\": 84, \"count\": 2291, \"label\": \"count\"}, {\"in_degree\": 85, \"count\": 2266, \"label\": \"count\"}, {\"in_degree\": 86, \"count\": 2162, \"label\": \"count\"}, {\"in_degree\": 87, \"count\": 2171, \"label\": \"count\"}, {\"in_degree\": 88, \"count\": 2168, \"label\": \"count\"}, {\"in_degree\": 89, \"count\": 2041, \"label\": \"count\"}, {\"in_degree\": 90, \"count\": 2029, \"label\": \"count\"}, {\"in_degree\": 91, \"count\": 2019, \"label\": \"count\"}, {\"in_degree\": 92, \"count\": 1913, \"label\": \"count\"}, {\"in_degree\": 93, \"count\": 1877, \"label\": \"count\"}, {\"in_degree\": 94, \"count\": 1893, \"label\": \"count\"}, {\"in_degree\": 95, \"count\": 1838, \"label\": \"count\"}, {\"in_degree\": 96, \"count\": 1800, \"label\": \"count\"}, {\"in_degree\": 97, \"count\": 1714, \"label\": \"count\"}, {\"in_degree\": 98, \"count\": 1690, \"label\": \"count\"}, {\"in_degree\": 99, \"count\": 1639, \"label\": \"count\"}, {\"in_degree\": 100, \"count\": 1582, \"label\": \"count\"}, {\"in_degree\": 101, \"count\": 1655, \"label\": \"count\"}, {\"in_degree\": 102, \"count\": 1601, \"label\": \"count\"}, {\"in_degree\": 103, \"count\": 1636, \"label\": \"count\"}, {\"in_degree\": 104, \"count\": 1491, \"label\": \"count\"}, {\"in_degree\": 105, \"count\": 1525, \"label\": \"count\"}, {\"in_degree\": 106, \"count\": 1507, \"label\": \"count\"}, {\"in_degree\": 107, \"count\": 1443, \"label\": \"count\"}, {\"in_degree\": 108, \"count\": 1376, \"label\": \"count\"}, {\"in_degree\": 109, \"count\": 1389, \"label\": \"count\"}, {\"in_degree\": 110, \"count\": 1355, \"label\": \"count\"}, {\"in_degree\": 111, \"count\": 1268, \"label\": \"count\"}, {\"in_degree\": 112, \"count\": 1329, \"label\": \"count\"}, {\"in_degree\": 113, \"count\": 1261, \"label\": \"count\"}, {\"in_degree\": 114, \"count\": 1188, \"label\": \"count\"}, {\"in_degree\": 115, \"count\": 1231, \"label\": \"count\"}, {\"in_degree\": 116, \"count\": 1228, \"label\": \"count\"}, {\"in_degree\": 117, \"count\": 1202, \"label\": \"count\"}, {\"in_degree\": 118, \"count\": 1165, \"label\": \"count\"}, {\"in_degree\": 119, \"count\": 1045, \"label\": \"count\"}, {\"in_degree\": 120, \"count\": 1081, \"label\": \"count\"}, {\"in_degree\": 121, \"count\": 1089, \"label\": \"count\"}, {\"in_degree\": 122, \"count\": 1039, \"label\": \"count\"}, {\"in_degree\": 123, \"count\": 1018, \"label\": \"count\"}, {\"in_degree\": 124, \"count\": 1010, \"label\": \"count\"}, {\"in_degree\": 125, \"count\": 970, \"label\": \"count\"}, {\"in_degree\": 126, \"count\": 985, \"label\": \"count\"}, {\"in_degree\": 127, \"count\": 946, \"label\": \"count\"}, {\"in_degree\": 128, \"count\": 923, \"label\": \"count\"}, {\"in_degree\": 129, \"count\": 972, \"label\": \"count\"}, {\"in_degree\": 130, \"count\": 923, \"label\": \"count\"}, {\"in_degree\": 131, \"count\": 919, \"label\": \"count\"}, {\"in_degree\": 132, \"count\": 893, \"label\": \"count\"}, {\"in_degree\": 133, \"count\": 844, \"label\": \"count\"}, {\"in_degree\": 134, \"count\": 839, \"label\": \"count\"}, {\"in_degree\": 135, \"count\": 881, \"label\": \"count\"}, {\"in_degree\": 136, \"count\": 801, \"label\": \"count\"}, {\"in_degree\": 137, \"count\": 808, \"label\": \"count\"}, {\"in_degree\": 138, \"count\": 776, \"label\": \"count\"}, {\"in_degree\": 139, \"count\": 752, \"label\": \"count\"}, {\"in_degree\": 140, \"count\": 714, \"label\": \"count\"}, {\"in_degree\": 141, \"count\": 709, \"label\": \"count\"}, {\"in_degree\": 142, \"count\": 776, \"label\": \"count\"}, {\"in_degree\": 143, \"count\": 705, \"label\": \"count\"}, {\"in_degree\": 144, \"count\": 637, \"label\": \"count\"}, {\"in_degree\": 145, \"count\": 675, \"label\": \"count\"}, {\"in_degree\": 146, \"count\": 676, \"label\": \"count\"}, {\"in_degree\": 147, \"count\": 681, \"label\": \"count\"}, {\"in_degree\": 148, \"count\": 615, \"label\": \"count\"}, {\"in_degree\": 149, \"count\": 645, \"label\": \"count\"}, {\"in_degree\": 150, \"count\": 627, \"label\": \"count\"}, {\"in_degree\": 151, \"count\": 622, \"label\": \"count\"}, {\"in_degree\": 152, \"count\": 610, \"label\": \"count\"}, {\"in_degree\": 153, \"count\": 550, \"label\": \"count\"}, {\"in_degree\": 154, \"count\": 591, \"label\": \"count\"}, {\"in_degree\": 155, \"count\": 526, \"label\": \"count\"}, {\"in_degree\": 156, \"count\": 526, \"label\": \"count\"}, {\"in_degree\": 157, \"count\": 515, \"label\": \"count\"}, {\"in_degree\": 158, \"count\": 600, \"label\": \"count\"}, {\"in_degree\": 159, \"count\": 516, \"label\": \"count\"}, {\"in_degree\": 160, \"count\": 504, \"label\": \"count\"}, {\"in_degree\": 161, \"count\": 502, \"label\": \"count\"}, {\"in_degree\": 162, \"count\": 498, \"label\": \"count\"}, {\"in_degree\": 163, \"count\": 454, \"label\": \"count\"}, {\"in_degree\": 164, \"count\": 466, \"label\": \"count\"}, {\"in_degree\": 165, \"count\": 437, \"label\": \"count\"}, {\"in_degree\": 166, \"count\": 438, \"label\": \"count\"}, {\"in_degree\": 167, \"count\": 452, \"label\": \"count\"}, {\"in_degree\": 168, \"count\": 487, \"label\": \"count\"}, {\"in_degree\": 169, \"count\": 441, \"label\": \"count\"}, {\"in_degree\": 170, \"count\": 459, \"label\": \"count\"}, {\"in_degree\": 171, \"count\": 423, \"label\": \"count\"}, {\"in_degree\": 172, \"count\": 406, \"label\": \"count\"}, {\"in_degree\": 173, \"count\": 464, \"label\": \"count\"}, {\"in_degree\": 174, \"count\": 391, \"label\": \"count\"}, {\"in_degree\": 175, \"count\": 371, \"label\": \"count\"}, {\"in_degree\": 176, \"count\": 401, \"label\": \"count\"}, {\"in_degree\": 177, \"count\": 378, \"label\": \"count\"}, {\"in_degree\": 178, \"count\": 357, \"label\": \"count\"}, {\"in_degree\": 179, \"count\": 327, \"label\": \"count\"}, {\"in_degree\": 180, \"count\": 340, \"label\": \"count\"}, {\"in_degree\": 181, \"count\": 325, \"label\": \"count\"}, {\"in_degree\": 182, \"count\": 344, \"label\": \"count\"}, {\"in_degree\": 183, \"count\": 315, \"label\": \"count\"}, {\"in_degree\": 184, \"count\": 316, \"label\": \"count\"}, {\"in_degree\": 185, \"count\": 295, \"label\": \"count\"}, {\"in_degree\": 186, \"count\": 314, \"label\": \"count\"}, {\"in_degree\": 187, \"count\": 316, \"label\": \"count\"}, {\"in_degree\": 188, \"count\": 267, \"label\": \"count\"}, {\"in_degree\": 189, \"count\": 301, \"label\": \"count\"}, {\"in_degree\": 190, \"count\": 290, \"label\": \"count\"}, {\"in_degree\": 191, \"count\": 268, \"label\": \"count\"}, {\"in_degree\": 192, \"count\": 280, \"label\": \"count\"}, {\"in_degree\": 193, \"count\": 274, \"label\": \"count\"}, {\"in_degree\": 194, \"count\": 272, \"label\": \"count\"}, {\"in_degree\": 195, \"count\": 299, \"label\": \"count\"}, {\"in_degree\": 196, \"count\": 277, \"label\": \"count\"}, {\"in_degree\": 197, \"count\": 265, \"label\": \"count\"}, {\"in_degree\": 198, \"count\": 272, \"label\": \"count\"}, {\"in_degree\": 199, \"count\": 258, \"label\": \"count\"}, {\"in_degree\": 200, \"count\": 249, \"label\": \"count\"}, {\"in_degree\": 201, \"count\": 224, \"label\": \"count\"}, {\"in_degree\": 202, \"count\": 298, \"label\": \"count\"}, {\"in_degree\": 203, \"count\": 222, \"label\": \"count\"}, {\"in_degree\": 204, \"count\": 333, \"label\": \"count\"}, {\"in_degree\": 205, \"count\": 226, \"label\": \"count\"}, {\"in_degree\": 206, \"count\": 206, \"label\": \"count\"}, {\"in_degree\": 207, \"count\": 210, \"label\": \"count\"}, {\"in_degree\": 208, \"count\": 212, \"label\": \"count\"}, {\"in_degree\": 209, \"count\": 190, \"label\": \"count\"}, {\"in_degree\": 210, \"count\": 251, \"label\": \"count\"}, {\"in_degree\": 211, \"count\": 192, \"label\": \"count\"}, {\"in_degree\": 212, \"count\": 187, \"label\": \"count\"}, {\"in_degree\": 213, \"count\": 205, \"label\": \"count\"}, {\"in_degree\": 214, \"count\": 177, \"label\": \"count\"}, {\"in_degree\": 215, \"count\": 164, \"label\": \"count\"}, {\"in_degree\": 216, \"count\": 179, \"label\": \"count\"}, {\"in_degree\": 217, \"count\": 142, \"label\": \"count\"}, {\"in_degree\": 218, \"count\": 162, \"label\": \"count\"}, {\"in_degree\": 219, \"count\": 151, \"label\": \"count\"}, {\"in_degree\": 220, \"count\": 176, \"label\": \"count\"}, {\"in_degree\": 221, \"count\": 152, \"label\": \"count\"}, {\"in_degree\": 222, \"count\": 153, \"label\": \"count\"}, {\"in_degree\": 223, \"count\": 139, \"label\": \"count\"}, {\"in_degree\": 224, \"count\": 148, \"label\": \"count\"}, {\"in_degree\": 225, \"count\": 152, \"label\": \"count\"}, {\"in_degree\": 226, \"count\": 149, \"label\": \"count\"}, {\"in_degree\": 227, \"count\": 147, \"label\": \"count\"}, {\"in_degree\": 228, \"count\": 147, \"label\": \"count\"}, {\"in_degree\": 229, \"count\": 117, \"label\": \"count\"}, {\"in_degree\": 230, \"count\": 132, \"label\": \"count\"}, {\"in_degree\": 231, \"count\": 139, \"label\": \"count\"}, {\"in_degree\": 232, \"count\": 129, \"label\": \"count\"}, {\"in_degree\": 233, \"count\": 154, \"label\": \"count\"}, {\"in_degree\": 234, \"count\": 143, \"label\": \"count\"}, {\"in_degree\": 235, \"count\": 120, \"label\": \"count\"}, {\"in_degree\": 236, \"count\": 117, \"label\": \"count\"}, {\"in_degree\": 237, \"count\": 115, \"label\": \"count\"}, {\"in_degree\": 238, \"count\": 110, \"label\": \"count\"}, {\"in_degree\": 239, \"count\": 107, \"label\": \"count\"}, {\"in_degree\": 240, \"count\": 117, \"label\": \"count\"}, {\"in_degree\": 241, \"count\": 111, \"label\": \"count\"}, {\"in_degree\": 242, \"count\": 161, \"label\": \"count\"}, {\"in_degree\": 243, \"count\": 108, \"label\": \"count\"}, {\"in_degree\": 244, \"count\": 112, \"label\": \"count\"}, {\"in_degree\": 245, \"count\": 102, \"label\": \"count\"}, {\"in_degree\": 246, \"count\": 109, \"label\": \"count\"}, {\"in_degree\": 247, \"count\": 103, \"label\": \"count\"}, {\"in_degree\": 248, \"count\": 104, \"label\": \"count\"}, {\"in_degree\": 249, \"count\": 99, \"label\": \"count\"}, {\"in_degree\": 250, \"count\": 105, \"label\": \"count\"}, {\"in_degree\": 251, \"count\": 91, \"label\": \"count\"}, {\"in_degree\": 252, \"count\": 98, \"label\": \"count\"}, {\"in_degree\": 253, \"count\": 81, \"label\": \"count\"}, {\"in_degree\": 254, \"count\": 89, \"label\": \"count\"}, {\"in_degree\": 255, \"count\": 91, \"label\": \"count\"}, {\"in_degree\": 256, \"count\": 100, \"label\": \"count\"}, {\"in_degree\": 257, \"count\": 84, \"label\": \"count\"}, {\"in_degree\": 258, \"count\": 91, \"label\": \"count\"}, {\"in_degree\": 259, \"count\": 79, \"label\": \"count\"}, {\"in_degree\": 260, \"count\": 65, \"label\": \"count\"}, {\"in_degree\": 261, \"count\": 74, \"label\": \"count\"}, {\"in_degree\": 262, \"count\": 82, \"label\": \"count\"}, {\"in_degree\": 263, \"count\": 66, \"label\": \"count\"}, {\"in_degree\": 264, \"count\": 77, \"label\": \"count\"}, {\"in_degree\": 265, \"count\": 81, \"label\": \"count\"}, {\"in_degree\": 266, \"count\": 64, \"label\": \"count\"}, {\"in_degree\": 267, \"count\": 82, \"label\": \"count\"}, {\"in_degree\": 268, \"count\": 88, \"label\": \"count\"}, {\"in_degree\": 269, \"count\": 72, \"label\": \"count\"}, {\"in_degree\": 270, \"count\": 65, \"label\": \"count\"}, {\"in_degree\": 271, \"count\": 66, \"label\": \"count\"}, {\"in_degree\": 272, \"count\": 74, \"label\": \"count\"}, {\"in_degree\": 273, \"count\": 72, \"label\": \"count\"}, {\"in_degree\": 274, \"count\": 57, \"label\": \"count\"}, {\"in_degree\": 275, \"count\": 60, \"label\": \"count\"}, {\"in_degree\": 276, \"count\": 58, \"label\": \"count\"}, {\"in_degree\": 277, \"count\": 64, \"label\": \"count\"}, {\"in_degree\": 278, \"count\": 76, \"label\": \"count\"}, {\"in_degree\": 279, \"count\": 74, \"label\": \"count\"}, {\"in_degree\": 280, \"count\": 55, \"label\": \"count\"}, {\"in_degree\": 281, \"count\": 45, \"label\": \"count\"}, {\"in_degree\": 282, \"count\": 57, \"label\": \"count\"}, {\"in_degree\": 283, \"count\": 99, \"label\": \"count\"}, {\"in_degree\": 284, \"count\": 70, \"label\": \"count\"}, {\"in_degree\": 285, \"count\": 62, \"label\": \"count\"}, {\"in_degree\": 286, \"count\": 53, \"label\": \"count\"}, {\"in_degree\": 287, \"count\": 59, \"label\": \"count\"}, {\"in_degree\": 288, \"count\": 205, \"label\": \"count\"}, {\"in_degree\": 289, \"count\": 53, \"label\": \"count\"}, {\"in_degree\": 290, \"count\": 49, \"label\": \"count\"}, {\"in_degree\": 291, \"count\": 49, \"label\": \"count\"}, {\"in_degree\": 292, \"count\": 34, \"label\": \"count\"}, {\"in_degree\": 293, \"count\": 45, \"label\": \"count\"}, {\"in_degree\": 294, \"count\": 41, \"label\": \"count\"}, {\"in_degree\": 295, \"count\": 61, \"label\": \"count\"}, {\"in_degree\": 296, \"count\": 42, \"label\": \"count\"}, {\"in_degree\": 297, \"count\": 42, \"label\": \"count\"}, {\"in_degree\": 298, \"count\": 38, \"label\": \"count\"}, {\"in_degree\": 299, \"count\": 43, \"label\": \"count\"}, {\"in_degree\": 300, \"count\": 55, \"label\": \"count\"}, {\"in_degree\": 301, \"count\": 38, \"label\": \"count\"}, {\"in_degree\": 302, \"count\": 54, \"label\": \"count\"}, {\"in_degree\": 303, \"count\": 166, \"label\": \"count\"}, {\"in_degree\": 304, \"count\": 48, \"label\": \"count\"}, {\"in_degree\": 305, \"count\": 42, \"label\": \"count\"}, {\"in_degree\": 306, \"count\": 205, \"label\": \"count\"}, {\"in_degree\": 307, \"count\": 39, \"label\": \"count\"}, {\"in_degree\": 308, \"count\": 25, \"label\": \"count\"}, {\"in_degree\": 309, \"count\": 34, \"label\": \"count\"}, {\"in_degree\": 310, \"count\": 45, \"label\": \"count\"}, {\"in_degree\": 311, \"count\": 27, \"label\": \"count\"}, {\"in_degree\": 312, \"count\": 33, \"label\": \"count\"}, {\"in_degree\": 313, \"count\": 39, \"label\": \"count\"}, {\"in_degree\": 314, \"count\": 30, \"label\": \"count\"}, {\"in_degree\": 315, \"count\": 39, \"label\": \"count\"}, {\"in_degree\": 316, \"count\": 32, \"label\": \"count\"}, {\"in_degree\": 317, \"count\": 109, \"label\": \"count\"}, {\"in_degree\": 318, \"count\": 27, \"label\": \"count\"}, {\"in_degree\": 319, \"count\": 35, \"label\": \"count\"}, {\"in_degree\": 320, \"count\": 37, \"label\": \"count\"}, {\"in_degree\": 321, \"count\": 25, \"label\": \"count\"}, {\"in_degree\": 322, \"count\": 33, \"label\": \"count\"}, {\"in_degree\": 323, \"count\": 27, \"label\": \"count\"}, {\"in_degree\": 324, \"count\": 37, \"label\": \"count\"}, {\"in_degree\": 325, \"count\": 27, \"label\": \"count\"}, {\"in_degree\": 326, \"count\": 38, \"label\": \"count\"}, {\"in_degree\": 327, \"count\": 32, \"label\": \"count\"}, {\"in_degree\": 328, \"count\": 35, \"label\": \"count\"}, {\"in_degree\": 329, \"count\": 22, \"label\": \"count\"}, {\"in_degree\": 330, \"count\": 32, \"label\": \"count\"}, {\"in_degree\": 331, \"count\": 28, \"label\": \"count\"}, {\"in_degree\": 332, \"count\": 128, \"label\": \"count\"}, {\"in_degree\": 333, \"count\": 27, \"label\": \"count\"}, {\"in_degree\": 334, \"count\": 28, \"label\": \"count\"}, {\"in_degree\": 335, \"count\": 31, \"label\": \"count\"}, {\"in_degree\": 336, \"count\": 56, \"label\": \"count\"}, {\"in_degree\": 337, \"count\": 24, \"label\": \"count\"}, {\"in_degree\": 338, \"count\": 31, \"label\": \"count\"}, {\"in_degree\": 339, \"count\": 18, \"label\": \"count\"}, {\"in_degree\": 340, \"count\": 25, \"label\": \"count\"}, {\"in_degree\": 341, \"count\": 34, \"label\": \"count\"}, {\"in_degree\": 342, \"count\": 30, \"label\": \"count\"}, {\"in_degree\": 343, \"count\": 28, \"label\": \"count\"}, {\"in_degree\": 344, \"count\": 24, \"label\": \"count\"}, {\"in_degree\": 345, \"count\": 35, \"label\": \"count\"}, {\"in_degree\": 346, \"count\": 15, \"label\": \"count\"}, {\"in_degree\": 347, \"count\": 17, \"label\": \"count\"}, {\"in_degree\": 348, \"count\": 25, \"label\": \"count\"}, {\"in_degree\": 349, \"count\": 21, \"label\": \"count\"}, {\"in_degree\": 350, \"count\": 26, \"label\": \"count\"}, {\"in_degree\": 351, \"count\": 26, \"label\": \"count\"}, {\"in_degree\": 352, \"count\": 22, \"label\": \"count\"}, {\"in_degree\": 353, \"count\": 22, \"label\": \"count\"}, {\"in_degree\": 354, \"count\": 28, \"label\": \"count\"}, {\"in_degree\": 355, \"count\": 26, \"label\": \"count\"}, {\"in_degree\": 356, \"count\": 15, \"label\": \"count\"}, {\"in_degree\": 357, \"count\": 23, \"label\": \"count\"}, {\"in_degree\": 358, \"count\": 23, \"label\": \"count\"}, {\"in_degree\": 359, \"count\": 20, \"label\": \"count\"}, {\"in_degree\": 360, \"count\": 28, \"label\": \"count\"}, {\"in_degree\": 361, \"count\": 25, \"label\": \"count\"}, {\"in_degree\": 362, \"count\": 24, \"label\": \"count\"}, {\"in_degree\": 363, \"count\": 23, \"label\": \"count\"}, {\"in_degree\": 364, \"count\": 25, \"label\": \"count\"}, {\"in_degree\": 365, \"count\": 19, \"label\": \"count\"}, {\"in_degree\": 366, \"count\": 20, \"label\": \"count\"}, {\"in_degree\": 367, \"count\": 23, \"label\": \"count\"}, {\"in_degree\": 368, \"count\": 25, \"label\": \"count\"}, {\"in_degree\": 369, \"count\": 21, \"label\": \"count\"}, {\"in_degree\": 370, \"count\": 22, \"label\": \"count\"}, {\"in_degree\": 371, \"count\": 23, \"label\": \"count\"}, {\"in_degree\": 372, \"count\": 17, \"label\": \"count\"}, {\"in_degree\": 373, \"count\": 20, \"label\": \"count\"}, {\"in_degree\": 374, \"count\": 20, \"label\": \"count\"}, {\"in_degree\": 375, \"count\": 21, \"label\": \"count\"}, {\"in_degree\": 376, \"count\": 13, \"label\": \"count\"}, {\"in_degree\": 377, \"count\": 18, \"label\": \"count\"}, {\"in_degree\": 378, \"count\": 16, \"label\": \"count\"}, {\"in_degree\": 379, \"count\": 21, \"label\": \"count\"}, {\"in_degree\": 380, \"count\": 15, \"label\": \"count\"}, {\"in_degree\": 381, \"count\": 16, \"label\": \"count\"}, {\"in_degree\": 382, \"count\": 22, \"label\": \"count\"}, {\"in_degree\": 383, \"count\": 19, \"label\": \"count\"}, {\"in_degree\": 384, \"count\": 22, \"label\": \"count\"}, {\"in_degree\": 385, \"count\": 19, \"label\": \"count\"}, {\"in_degree\": 386, \"count\": 18, \"label\": \"count\"}, {\"in_degree\": 387, \"count\": 22, \"label\": \"count\"}, {\"in_degree\": 388, \"count\": 16, \"label\": \"count\"}, {\"in_degree\": 389, \"count\": 15, \"label\": \"count\"}, {\"in_degree\": 390, \"count\": 17, \"label\": \"count\"}, {\"in_degree\": 391, \"count\": 16, \"label\": \"count\"}, {\"in_degree\": 392, \"count\": 19, \"label\": \"count\"}, {\"in_degree\": 393, \"count\": 17, \"label\": \"count\"}, {\"in_degree\": 394, \"count\": 14, \"label\": \"count\"}, {\"in_degree\": 395, \"count\": 16, \"label\": \"count\"}, {\"in_degree\": 396, \"count\": 14, \"label\": \"count\"}, {\"in_degree\": 397, \"count\": 11, \"label\": \"count\"}, {\"in_degree\": 398, \"count\": 14, \"label\": \"count\"}, {\"in_degree\": 399, \"count\": 20, \"label\": \"count\"}, {\"in_degree\": 400, \"count\": 18, \"label\": \"count\"}, {\"in_degree\": 401, \"count\": 22, \"label\": \"count\"}, {\"in_degree\": 402, \"count\": 14, \"label\": \"count\"}, {\"in_degree\": 403, \"count\": 13, \"label\": \"count\"}, {\"in_degree\": 404, \"count\": 19, \"label\": \"count\"}, {\"in_degree\": 405, \"count\": 9, \"label\": \"count\"}, {\"in_degree\": 406, \"count\": 13, \"label\": \"count\"}, {\"in_degree\": 407, \"count\": 14, \"label\": \"count\"}, {\"in_degree\": 408, \"count\": 12, \"label\": \"count\"}, {\"in_degree\": 409, \"count\": 17, \"label\": \"count\"}, {\"in_degree\": 410, \"count\": 15, \"label\": \"count\"}, {\"in_degree\": 411, \"count\": 13, \"label\": \"count\"}, {\"in_degree\": 412, \"count\": 13, \"label\": \"count\"}, {\"in_degree\": 413, \"count\": 13, \"label\": \"count\"}, {\"in_degree\": 414, \"count\": 17, \"label\": \"count\"}, {\"in_degree\": 415, \"count\": 190, \"label\": \"count\"}, {\"in_degree\": 416, \"count\": 8, \"label\": \"count\"}, {\"in_degree\": 417, \"count\": 12, \"label\": \"count\"}, {\"in_degree\": 418, \"count\": 10, \"label\": \"count\"}, {\"in_degree\": 419, \"count\": 7, \"label\": \"count\"}, {\"in_degree\": 420, \"count\": 11, \"label\": \"count\"}, {\"in_degree\": 421, \"count\": 10, \"label\": \"count\"}, {\"in_degree\": 422, \"count\": 13, \"label\": \"count\"}, {\"in_degree\": 423, \"count\": 18, \"label\": \"count\"}, {\"in_degree\": 424, \"count\": 9, \"label\": \"count\"}, {\"in_degree\": 425, \"count\": 17, \"label\": \"count\"}, {\"in_degree\": 426, \"count\": 12, \"label\": \"count\"}, {\"in_degree\": 427, \"count\": 20, \"label\": \"count\"}, {\"in_degree\": 428, \"count\": 13, \"label\": \"count\"}, {\"in_degree\": 429, \"count\": 16, \"label\": \"count\"}, {\"in_degree\": 430, \"count\": 7, \"label\": \"count\"}, {\"in_degree\": 431, \"count\": 11, \"label\": \"count\"}, {\"in_degree\": 432, \"count\": 10, \"label\": \"count\"}, {\"in_degree\": 433, \"count\": 18, \"label\": \"count\"}, {\"in_degree\": 434, \"count\": 13, \"label\": \"count\"}, {\"in_degree\": 435, \"count\": 8, \"label\": \"count\"}, {\"in_degree\": 436, \"count\": 10, \"label\": \"count\"}, {\"in_degree\": 437, \"count\": 13, \"label\": \"count\"}, {\"in_degree\": 438, \"count\": 13, \"label\": \"count\"}, {\"in_degree\": 439, \"count\": 14, \"label\": \"count\"}, {\"in_degree\": 440, \"count\": 8, \"label\": \"count\"}, {\"in_degree\": 441, \"count\": 12, \"label\": \"count\"}, {\"in_degree\": 442, \"count\": 10, \"label\": \"count\"}, {\"in_degree\": 443, \"count\": 9, \"label\": \"count\"}, {\"in_degree\": 444, \"count\": 13, \"label\": \"count\"}, {\"in_degree\": 445, \"count\": 12, \"label\": \"count\"}, {\"in_degree\": 446, \"count\": 13, \"label\": \"count\"}, {\"in_degree\": 447, \"count\": 13, \"label\": \"count\"}, {\"in_degree\": 448, \"count\": 12, \"label\": \"count\"}, {\"in_degree\": 449, \"count\": 5, \"label\": \"count\"}, {\"in_degree\": 450, \"count\": 10, \"label\": \"count\"}, {\"in_degree\": 451, \"count\": 13, \"label\": \"count\"}, {\"in_degree\": 452, \"count\": 4, \"label\": \"count\"}, {\"in_degree\": 453, \"count\": 11, \"label\": \"count\"}, {\"in_degree\": 454, \"count\": 11, \"label\": \"count\"}, {\"in_degree\": 455, \"count\": 11, \"label\": \"count\"}, {\"in_degree\": 456, \"count\": 8, \"label\": \"count\"}, {\"in_degree\": 457, \"count\": 12, \"label\": \"count\"}, {\"in_degree\": 458, \"count\": 7, \"label\": \"count\"}, {\"in_degree\": 459, \"count\": 16, \"label\": \"count\"}, {\"in_degree\": 460, \"count\": 11, \"label\": \"count\"}, {\"in_degree\": 461, \"count\": 12, \"label\": \"count\"}, {\"in_degree\": 462, \"count\": 15, \"label\": \"count\"}, {\"in_degree\": 463, \"count\": 13, \"label\": \"count\"}, {\"in_degree\": 464, \"count\": 10, \"label\": \"count\"}, {\"in_degree\": 465, \"count\": 10, \"label\": \"count\"}, {\"in_degree\": 466, \"count\": 15, \"label\": \"count\"}, {\"in_degree\": 467, \"count\": 7, \"label\": \"count\"}, {\"in_degree\": 468, \"count\": 12, \"label\": \"count\"}, {\"in_degree\": 469, \"count\": 11, \"label\": \"count\"}, {\"in_degree\": 470, \"count\": 13, \"label\": \"count\"}, {\"in_degree\": 471, \"count\": 9, \"label\": \"count\"}, {\"in_degree\": 472, \"count\": 11, \"label\": \"count\"}, {\"in_degree\": 473, \"count\": 11, \"label\": \"count\"}, {\"in_degree\": 474, \"count\": 5, \"label\": \"count\"}, {\"in_degree\": 475, \"count\": 7, \"label\": \"count\"}, {\"in_degree\": 476, \"count\": 5, \"label\": \"count\"}, {\"in_degree\": 477, \"count\": 13, \"label\": \"count\"}, {\"in_degree\": 478, \"count\": 11, \"label\": \"count\"}, {\"in_degree\": 479, \"count\": 7, \"label\": \"count\"}, {\"in_degree\": 480, \"count\": 8, \"label\": \"count\"}, {\"in_degree\": 481, \"count\": 8, \"label\": \"count\"}, {\"in_degree\": 482, \"count\": 9, \"label\": \"count\"}, {\"in_degree\": 483, \"count\": 9, \"label\": \"count\"}, {\"in_degree\": 484, \"count\": 8, \"label\": \"count\"}, {\"in_degree\": 485, \"count\": 9, \"label\": \"count\"}, {\"in_degree\": 486, \"count\": 14, \"label\": \"count\"}, {\"in_degree\": 487, \"count\": 10, \"label\": \"count\"}, {\"in_degree\": 488, \"count\": 9, \"label\": \"count\"}, {\"in_degree\": 489, \"count\": 10, \"label\": \"count\"}, {\"in_degree\": 490, \"count\": 8, \"label\": \"count\"}, {\"in_degree\": 491, \"count\": 5, \"label\": \"count\"}, {\"in_degree\": 492, \"count\": 9, \"label\": \"count\"}, {\"in_degree\": 493, \"count\": 9, \"label\": \"count\"}, {\"in_degree\": 494, \"count\": 10, \"label\": \"count\"}, {\"in_degree\": 495, \"count\": 7, \"label\": \"count\"}, {\"in_degree\": 496, \"count\": 9, \"label\": \"count\"}, {\"in_degree\": 497, \"count\": 8, \"label\": \"count\"}, {\"in_degree\": 498, \"count\": 11, \"label\": \"count\"}, {\"in_degree\": 499, \"count\": 16, \"label\": \"count\"}, {\"in_degree\": 500, \"count\": 7, \"label\": \"count\"}, {\"in_degree\": 501, \"count\": 10, \"label\": \"count\"}, {\"in_degree\": 502, \"count\": 7, \"label\": \"count\"}, {\"in_degree\": 503, \"count\": 9, \"label\": \"count\"}, {\"in_degree\": 504, \"count\": 6, \"label\": \"count\"}, {\"in_degree\": 505, \"count\": 11, \"label\": \"count\"}, {\"in_degree\": 506, \"count\": 10, \"label\": \"count\"}, {\"in_degree\": 507, \"count\": 6, \"label\": \"count\"}, {\"in_degree\": 508, \"count\": 6, \"label\": \"count\"}, {\"in_degree\": 509, \"count\": 4, \"label\": \"count\"}, {\"in_degree\": 510, \"count\": 5, \"label\": \"count\"}, {\"in_degree\": 511, \"count\": 8, \"label\": \"count\"}, {\"in_degree\": 512, \"count\": 9, \"label\": \"count\"}, {\"in_degree\": 513, \"count\": 8, \"label\": \"count\"}, {\"in_degree\": 514, \"count\": 7, \"label\": \"count\"}, {\"in_degree\": 515, \"count\": 5, \"label\": \"count\"}, {\"in_degree\": 516, \"count\": 4, \"label\": \"count\"}, {\"in_degree\": 517, \"count\": 4, \"label\": \"count\"}, {\"in_degree\": 518, \"count\": 9, \"label\": \"count\"}, {\"in_degree\": 519, \"count\": 6, \"label\": \"count\"}, {\"in_degree\": 520, \"count\": 12, \"label\": \"count\"}, {\"in_degree\": 521, \"count\": 7, \"label\": \"count\"}, {\"in_degree\": 522, \"count\": 5, \"label\": \"count\"}, {\"in_degree\": 523, \"count\": 6, \"label\": \"count\"}, {\"in_degree\": 524, \"count\": 5, \"label\": \"count\"}, {\"in_degree\": 525, \"count\": 8, \"label\": \"count\"}, {\"in_degree\": 526, \"count\": 9, \"label\": \"count\"}, {\"in_degree\": 527, \"count\": 6, \"label\": \"count\"}, {\"in_degree\": 528, \"count\": 7, \"label\": \"count\"}, {\"in_degree\": 529, \"count\": 3, \"label\": \"count\"}, {\"in_degree\": 530, \"count\": 6, \"label\": \"count\"}, {\"in_degree\": 531, \"count\": 6, \"label\": \"count\"}, {\"in_degree\": 532, \"count\": 12, \"label\": \"count\"}, {\"in_degree\": 533, \"count\": 6, \"label\": \"count\"}, {\"in_degree\": 534, \"count\": 6, \"label\": \"count\"}, {\"in_degree\": 535, \"count\": 9, \"label\": \"count\"}, {\"in_degree\": 536, \"count\": 6, \"label\": \"count\"}, {\"in_degree\": 537, \"count\": 6, \"label\": \"count\"}, {\"in_degree\": 538, \"count\": 8, \"label\": \"count\"}, {\"in_degree\": 539, \"count\": 4, \"label\": \"count\"}, {\"in_degree\": 540, \"count\": 7, \"label\": \"count\"}, {\"in_degree\": 541, \"count\": 3, \"label\": \"count\"}, {\"in_degree\": 542, \"count\": 4, \"label\": \"count\"}, {\"in_degree\": 543, \"count\": 8, \"label\": \"count\"}, {\"in_degree\": 544, \"count\": 6, \"label\": \"count\"}, {\"in_degree\": 545, \"count\": 5, \"label\": \"count\"}, {\"in_degree\": 546, \"count\": 8, \"label\": \"count\"}, {\"in_degree\": 547, \"count\": 109, \"label\": \"count\"}, {\"in_degree\": 548, \"count\": 4, \"label\": \"count\"}, {\"in_degree\": 549, \"count\": 5, \"label\": \"count\"}, {\"in_degree\": 550, \"count\": 5, \"label\": \"count\"}, {\"in_degree\": 551, \"count\": 4, \"label\": \"count\"}, {\"in_degree\": 552, \"count\": 8, \"label\": \"count\"}, {\"in_degree\": 553, \"count\": 2, \"label\": \"count\"}, {\"in_degree\": 554, \"count\": 4, \"label\": \"count\"}, {\"in_degree\": 555, \"count\": 6, \"label\": \"count\"}, {\"in_degree\": 557, \"count\": 7, \"label\": \"count\"}, {\"in_degree\": 558, \"count\": 4, \"label\": \"count\"}, {\"in_degree\": 559, \"count\": 6, \"label\": \"count\"}, {\"in_degree\": 560, \"count\": 3, \"label\": \"count\"}, {\"in_degree\": 561, \"count\": 2, \"label\": \"count\"}, {\"in_degree\": 562, \"count\": 6, \"label\": \"count\"}, {\"in_degree\": 563, \"count\": 4, \"label\": \"count\"}, {\"in_degree\": 564, \"count\": 8, \"label\": \"count\"}, {\"in_degree\": 565, \"count\": 5, \"label\": \"count\"}, {\"in_degree\": 566, \"count\": 7, \"label\": \"count\"}, {\"in_degree\": 567, \"count\": 4, \"label\": \"count\"}, {\"in_degree\": 568, \"count\": 7, \"label\": \"count\"}, {\"in_degree\": 569, \"count\": 7, \"label\": \"count\"}, {\"in_degree\": 570, \"count\": 10, \"label\": \"count\"}, {\"in_degree\": 571, \"count\": 8, \"label\": \"count\"}, {\"in_degree\": 572, \"count\": 6, \"label\": \"count\"}, {\"in_degree\": 573, \"count\": 7, \"label\": \"count\"}, {\"in_degree\": 574, \"count\": 5, \"label\": \"count\"}, {\"in_degree\": 575, \"count\": 8, \"label\": \"count\"}, {\"in_degree\": 576, \"count\": 6, \"label\": \"count\"}, {\"in_degree\": 577, \"count\": 3, \"label\": \"count\"}, {\"in_degree\": 578, \"count\": 5, \"label\": \"count\"}, {\"in_degree\": 579, \"count\": 3, \"label\": \"count\"}, {\"in_degree\": 580, \"count\": 1, \"label\": \"count\"}, {\"in_degree\": 581, \"count\": 3, \"label\": \"count\"}, {\"in_degree\": 582, \"count\": 7, \"label\": \"count\"}, {\"in_degree\": 583, \"count\": 4, \"label\": \"count\"}, {\"in_degree\": 584, \"count\": 6, \"label\": \"count\"}, {\"in_degree\": 585, \"count\": 5, \"label\": \"count\"}, {\"in_degree\": 586, \"count\": 7, \"label\": \"count\"}, {\"in_degree\": 587, \"count\": 3, \"label\": \"count\"}, {\"in_degree\": 588, \"count\": 6, \"label\": \"count\"}, {\"in_degree\": 589, \"count\": 4, \"label\": \"count\"}, {\"in_degree\": 590, \"count\": 4, \"label\": \"count\"}, {\"in_degree\": 591, \"count\": 4, \"label\": \"count\"}, {\"in_degree\": 592, \"count\": 5, \"label\": \"count\"}, {\"in_degree\": 593, \"count\": 5, \"label\": \"count\"}, {\"in_degree\": 594, \"count\": 7, \"label\": \"count\"}, {\"in_degree\": 595, \"count\": 1, \"label\": \"count\"}, {\"in_degree\": 596, \"count\": 4, \"label\": \"count\"}, {\"in_degree\": 597, \"count\": 4, \"label\": \"count\"}, {\"in_degree\": 598, \"count\": 4, \"label\": \"count\"}, {\"in_degree\": 599, \"count\": 4, \"label\": \"count\"}, {\"in_degree\": 600, \"count\": 4, \"label\": \"count\"}, {\"in_degree\": 601, \"count\": 5, \"label\": \"count\"}, {\"in_degree\": 602, \"count\": 5, \"label\": \"count\"}, {\"in_degree\": 603, \"count\": 2, \"label\": \"count\"}, {\"in_degree\": 604, \"count\": 6, \"label\": \"count\"}, {\"in_degree\": 605, \"count\": 3, \"label\": \"count\"}, {\"in_degree\": 606, \"count\": 1, \"label\": \"count\"}, {\"in_degree\": 607, \"count\": 6, \"label\": \"count\"}, {\"in_degree\": 608, \"count\": 4, \"label\": \"count\"}, {\"in_degree\": 609, \"count\": 5, \"label\": \"count\"}, {\"in_degree\": 610, \"count\": 2, \"label\": \"count\"}, {\"in_degree\": 611, \"count\": 5, \"label\": \"count\"}, {\"in_degree\": 612, \"count\": 7, \"label\": \"count\"}, {\"in_degree\": 613, \"count\": 4, \"label\": \"count\"}, {\"in_degree\": 614, \"count\": 6, \"label\": \"count\"}, {\"in_degree\": 615, \"count\": 3, \"label\": \"count\"}, {\"in_degree\": 616, \"count\": 6, \"label\": \"count\"}, {\"in_degree\": 617, \"count\": 2, \"label\": \"count\"}, {\"in_degree\": 618, \"count\": 2, \"label\": \"count\"}, {\"in_degree\": 619, \"count\": 7, \"label\": \"count\"}, {\"in_degree\": 620, \"count\": 5, \"label\": \"count\"}, {\"in_degree\": 621, \"count\": 3, \"label\": \"count\"}, {\"in_degree\": 622, \"count\": 2, \"label\": \"count\"}, {\"in_degree\": 623, \"count\": 5, \"label\": \"count\"}, {\"in_degree\": 624, \"count\": 4, \"label\": \"count\"}, {\"in_degree\": 625, \"count\": 2, \"label\": \"count\"}, {\"in_degree\": 626, \"count\": 3, \"label\": \"count\"}, {\"in_degree\": 627, \"count\": 3, \"label\": \"count\"}, {\"in_degree\": 628, \"count\": 3, \"label\": \"count\"}, {\"in_degree\": 629, \"count\": 3, \"label\": \"count\"}, {\"in_degree\": 630, \"count\": 2, \"label\": \"count\"}, {\"in_degree\": 631, \"count\": 1, \"label\": \"count\"}, {\"in_degree\": 632, \"count\": 1, \"label\": \"count\"}, {\"in_degree\": 633, \"count\": 4, \"label\": \"count\"}, {\"in_degree\": 634, \"count\": 3, \"label\": \"count\"}, {\"in_degree\": 635, \"count\": 2, \"label\": \"count\"}, {\"in_degree\": 636, \"count\": 4, \"label\": \"count\"}, {\"in_degree\": 637, \"count\": 4, \"label\": \"count\"}, {\"in_degree\": 638, \"count\": 4, \"label\": \"count\"}, {\"in_degree\": 639, \"count\": 1, \"label\": \"count\"}, {\"in_degree\": 640, \"count\": 2, \"label\": \"count\"}, {\"in_degree\": 641, \"count\": 6, \"label\": \"count\"}, {\"in_degree\": 642, \"count\": 3, \"label\": \"count\"}, {\"in_degree\": 643, \"count\": 5, \"label\": \"count\"}, {\"in_degree\": 644, \"count\": 6, \"label\": \"count\"}, {\"in_degree\": 645, \"count\": 4, \"label\": \"count\"}, {\"in_degree\": 646, \"count\": 4, \"label\": \"count\"}, {\"in_degree\": 647, \"count\": 4, \"label\": \"count\"}, {\"in_degree\": 648, \"count\": 3, \"label\": \"count\"}, {\"in_degree\": 649, \"count\": 1, \"label\": \"count\"}, {\"in_degree\": 650, \"count\": 3, \"label\": \"count\"}, {\"in_degree\": 651, \"count\": 3, \"label\": \"count\"}, {\"in_degree\": 652, \"count\": 1, \"label\": \"count\"}, {\"in_degree\": 653, \"count\": 1, \"label\": \"count\"}, {\"in_degree\": 655, \"count\": 3, \"label\": \"count\"}, {\"in_degree\": 656, \"count\": 2, \"label\": \"count\"}, {\"in_degree\": 657, \"count\": 4, \"label\": \"count\"}, {\"in_degree\": 658, \"count\": 3, \"label\": \"count\"}, {\"in_degree\": 659, \"count\": 3, \"label\": \"count\"}, {\"in_degree\": 660, \"count\": 3, \"label\": \"count\"}, {\"in_degree\": 661, \"count\": 1, \"label\": \"count\"}, {\"in_degree\": 662, \"count\": 2, \"label\": \"count\"}, {\"in_degree\": 663, \"count\": 4, \"label\": \"count\"}, {\"in_degree\": 665, \"count\": 4, \"label\": \"count\"}, {\"in_degree\": 666, \"count\": 1, \"label\": \"count\"}, {\"in_degree\": 667, \"count\": 3, \"label\": \"count\"}, {\"in_degree\": 668, \"count\": 2, \"label\": \"count\"}, {\"in_degree\": 669, \"count\": 1, \"label\": \"count\"}, {\"in_degree\": 671, \"count\": 2, \"label\": \"count\"}, {\"in_degree\": 672, \"count\": 1, \"label\": \"count\"}, {\"in_degree\": 673, \"count\": 4, \"label\": \"count\"}, {\"in_degree\": 674, \"count\": 4, \"label\": \"count\"}, {\"in_degree\": 675, \"count\": 2, \"label\": \"count\"}, {\"in_degree\": 676, \"count\": 2, \"label\": \"count\"}, {\"in_degree\": 677, \"count\": 4, \"label\": \"count\"}, {\"in_degree\": 678, \"count\": 3, \"label\": \"count\"}, {\"in_degree\": 679, \"count\": 1, \"label\": \"count\"}, {\"in_degree\": 680, \"count\": 3, \"label\": \"count\"}, {\"in_degree\": 682, \"count\": 1, \"label\": \"count\"}, {\"in_degree\": 683, \"count\": 3, \"label\": \"count\"}, {\"in_degree\": 684, \"count\": 3, \"label\": \"count\"}, {\"in_degree\": 685, \"count\": 2, \"label\": \"count\"}, {\"in_degree\": 686, \"count\": 2, \"label\": \"count\"}, {\"in_degree\": 687, \"count\": 3, \"label\": \"count\"}, {\"in_degree\": 688, \"count\": 3, \"label\": \"count\"}, {\"in_degree\": 689, \"count\": 4, \"label\": \"count\"}, {\"in_degree\": 690, \"count\": 2, \"label\": \"count\"}, {\"in_degree\": 691, \"count\": 1, \"label\": \"count\"}, {\"in_degree\": 692, \"count\": 1, \"label\": \"count\"}, {\"in_degree\": 693, \"count\": 2, \"label\": \"count\"}, {\"in_degree\": 694, \"count\": 1, \"label\": \"count\"}, {\"in_degree\": 695, \"count\": 2, \"label\": \"count\"}, {\"in_degree\": 696, \"count\": 3, \"label\": \"count\"}, {\"in_degree\": 697, \"count\": 4, \"label\": \"count\"}, {\"in_degree\": 698, \"count\": 2, \"label\": \"count\"}, {\"in_degree\": 699, \"count\": 1, \"label\": \"count\"}, {\"in_degree\": 700, \"count\": 4, \"label\": \"count\"}, {\"in_degree\": 701, \"count\": 3, \"label\": \"count\"}, {\"in_degree\": 703, \"count\": 1, \"label\": \"count\"}, {\"in_degree\": 705, \"count\": 2, \"label\": \"count\"}, {\"in_degree\": 707, \"count\": 2, \"label\": \"count\"}, {\"in_degree\": 709, \"count\": 1, \"label\": \"count\"}, {\"in_degree\": 710, \"count\": 1, \"label\": \"count\"}, {\"in_degree\": 711, \"count\": 1, \"label\": \"count\"}, {\"in_degree\": 712, \"count\": 1, \"label\": \"count\"}, {\"in_degree\": 713, \"count\": 1, \"label\": \"count\"}, {\"in_degree\": 714, \"count\": 1, \"label\": \"count\"}, {\"in_degree\": 716, \"count\": 1, \"label\": \"count\"}, {\"in_degree\": 719, \"count\": 1, \"label\": \"count\"}, {\"in_degree\": 720, \"count\": 1, \"label\": \"count\"}, {\"in_degree\": 721, \"count\": 2, \"label\": \"count\"}, {\"in_degree\": 722, \"count\": 1, \"label\": \"count\"}, {\"in_degree\": 723, \"count\": 2, \"label\": \"count\"}, {\"in_degree\": 724, \"count\": 1, \"label\": \"count\"}, {\"in_degree\": 725, \"count\": 2, \"label\": \"count\"}, {\"in_degree\": 729, \"count\": 2, \"label\": \"count\"}, {\"in_degree\": 731, \"count\": 1, \"label\": \"count\"}, {\"in_degree\": 733, \"count\": 2, \"label\": \"count\"}, {\"in_degree\": 734, \"count\": 1, \"label\": \"count\"}, {\"in_degree\": 735, \"count\": 1, \"label\": \"count\"}, {\"in_degree\": 736, \"count\": 2, \"label\": \"count\"}, {\"in_degree\": 740, \"count\": 1, \"label\": \"count\"}, {\"in_degree\": 741, \"count\": 1, \"label\": \"count\"}, {\"in_degree\": 743, \"count\": 1, \"label\": \"count\"}, {\"in_degree\": 745, \"count\": 1, \"label\": \"count\"}, {\"in_degree\": 748, \"count\": 2, \"label\": \"count\"}, {\"in_degree\": 749, \"count\": 1, \"label\": \"count\"}, {\"in_degree\": 750, \"count\": 1, \"label\": \"count\"}, {\"in_degree\": 752, \"count\": 2, \"label\": \"count\"}, {\"in_degree\": 753, \"count\": 2, \"label\": \"count\"}, {\"in_degree\": 754, \"count\": 1, \"label\": \"count\"}, {\"in_degree\": 755, \"count\": 2, \"label\": \"count\"}, {\"in_degree\": 756, \"count\": 3, \"label\": \"count\"}, {\"in_degree\": 757, \"count\": 1, \"label\": \"count\"}, {\"in_degree\": 758, \"count\": 2, \"label\": \"count\"}, {\"in_degree\": 760, \"count\": 1, \"label\": \"count\"}, {\"in_degree\": 761, \"count\": 1, \"label\": \"count\"}, {\"in_degree\": 763, \"count\": 1, \"label\": \"count\"}, {\"in_degree\": 767, \"count\": 1, \"label\": \"count\"}, {\"in_degree\": 768, \"count\": 2, \"label\": \"count\"}, {\"in_degree\": 769, \"count\": 1, \"label\": \"count\"}, {\"in_degree\": 770, \"count\": 1, \"label\": \"count\"}, {\"in_degree\": 773, \"count\": 1, \"label\": \"count\"}, {\"in_degree\": 774, \"count\": 1, \"label\": \"count\"}, {\"in_degree\": 775, \"count\": 1, \"label\": \"count\"}, {\"in_degree\": 777, \"count\": 3, \"label\": \"count\"}, {\"in_degree\": 780, \"count\": 1, \"label\": \"count\"}, {\"in_degree\": 783, \"count\": 1, \"label\": \"count\"}, {\"in_degree\": 785, \"count\": 1, \"label\": \"count\"}, {\"in_degree\": 787, \"count\": 1, \"label\": \"count\"}, {\"in_degree\": 791, \"count\": 1, \"label\": \"count\"}, {\"in_degree\": 792, \"count\": 1, \"label\": \"count\"}, {\"in_degree\": 793, \"count\": 1, \"label\": \"count\"}, {\"in_degree\": 803, \"count\": 1, \"label\": \"count\"}, {\"in_degree\": 804, \"count\": 1, \"label\": \"count\"}, {\"in_degree\": 805, \"count\": 1, \"label\": \"count\"}, {\"in_degree\": 806, \"count\": 2, \"label\": \"count\"}, {\"in_degree\": 807, \"count\": 1, \"label\": \"count\"}, {\"in_degree\": 808, \"count\": 1, \"label\": \"count\"}, {\"in_degree\": 809, \"count\": 2, \"label\": \"count\"}, {\"in_degree\": 812, \"count\": 1, \"label\": \"count\"}, {\"in_degree\": 814, \"count\": 1, \"label\": \"count\"}, {\"in_degree\": 815, \"count\": 2, \"label\": \"count\"}, {\"in_degree\": 816, \"count\": 1, \"label\": \"count\"}, {\"in_degree\": 817, \"count\": 1, \"label\": \"count\"}, {\"in_degree\": 818, \"count\": 2, \"label\": \"count\"}, {\"in_degree\": 830, \"count\": 1, \"label\": \"count\"}, {\"in_degree\": 833, \"count\": 1, \"label\": \"count\"}, {\"in_degree\": 834, \"count\": 1, \"label\": \"count\"}, {\"in_degree\": 835, \"count\": 1, \"label\": \"count\"}, {\"in_degree\": 837, \"count\": 1, \"label\": \"count\"}, {\"in_degree\": 838, \"count\": 1, \"label\": \"count\"}, {\"in_degree\": 840, \"count\": 1, \"label\": \"count\"}, {\"in_degree\": 841, \"count\": 1, \"label\": \"count\"}, {\"in_degree\": 843, \"count\": 1, \"label\": \"count\"}, {\"in_degree\": 846, \"count\": 2, \"label\": \"count\"}, {\"in_degree\": 848, \"count\": 1, \"label\": \"count\"}, {\"in_degree\": 850, \"count\": 2, \"label\": \"count\"}, {\"in_degree\": 855, \"count\": 1, \"label\": \"count\"}, {\"in_degree\": 856, \"count\": 1, \"label\": \"count\"}, {\"in_degree\": 861, \"count\": 3, \"label\": \"count\"}, {\"in_degree\": 863, \"count\": 1, \"label\": \"count\"}, {\"in_degree\": 864, \"count\": 1, \"label\": \"count\"}, {\"in_degree\": 867, \"count\": 1, \"label\": \"count\"}, {\"in_degree\": 871, \"count\": 2, \"label\": \"count\"}, {\"in_degree\": 876, \"count\": 1, \"label\": \"count\"}, {\"in_degree\": 880, \"count\": 2, \"label\": \"count\"}, {\"in_degree\": 881, \"count\": 1, \"label\": \"count\"}, {\"in_degree\": 883, \"count\": 2, \"label\": \"count\"}, {\"in_degree\": 889, \"count\": 1, \"label\": \"count\"}, {\"in_degree\": 891, \"count\": 1, \"label\": \"count\"}, {\"in_degree\": 893, \"count\": 1, \"label\": \"count\"}, {\"in_degree\": 895, \"count\": 1, \"label\": \"count\"}, {\"in_degree\": 898, \"count\": 1, \"label\": \"count\"}, {\"in_degree\": 901, \"count\": 2, \"label\": \"count\"}, {\"in_degree\": 908, \"count\": 1, \"label\": \"count\"}, {\"in_degree\": 909, \"count\": 2, \"label\": \"count\"}, {\"in_degree\": 910, \"count\": 1, \"label\": \"count\"}, {\"in_degree\": 937, \"count\": 1, \"label\": \"count\"}, {\"in_degree\": 945, \"count\": 1, \"label\": \"count\"}, {\"in_degree\": 948, \"count\": 1, \"label\": \"count\"}, {\"in_degree\": 950, \"count\": 1, \"label\": \"count\"}, {\"in_degree\": 953, \"count\": 1, \"label\": \"count\"}, {\"in_degree\": 959, \"count\": 1, \"label\": \"count\"}, {\"in_degree\": 971, \"count\": 1, \"label\": \"count\"}, {\"in_degree\": 977, \"count\": 1, \"label\": \"count\"}, {\"in_degree\": 978, \"count\": 1, \"label\": \"count\"}, {\"in_degree\": 979, \"count\": 1, \"label\": \"count\"}, {\"in_degree\": 980, \"count\": 1, \"label\": \"count\"}, {\"in_degree\": 982, \"count\": 1, \"label\": \"count\"}, {\"in_degree\": 984, \"count\": 1, \"label\": \"count\"}, {\"in_degree\": 987, \"count\": 1, \"label\": \"count\"}, {\"in_degree\": 990, \"count\": 1, \"label\": \"count\"}, {\"in_degree\": 999, \"count\": 1, \"label\": \"count\"}, {\"in_degree\": 1000, \"count\": 1, \"label\": \"count\"}, {\"in_degree\": 1001, \"count\": 1, \"label\": \"count\"}, {\"in_degree\": 1006, \"count\": 1, \"label\": \"count\"}, {\"in_degree\": 1010, \"count\": 1, \"label\": \"count\"}, {\"in_degree\": 1011, \"count\": 1, \"label\": \"count\"}, {\"in_degree\": 1012, \"count\": 1, \"label\": \"count\"}, {\"in_degree\": 1017, \"count\": 1, \"label\": \"count\"}, {\"in_degree\": 1033, \"count\": 1, \"label\": \"count\"}, {\"in_degree\": 1042, \"count\": 1, \"label\": \"count\"}, {\"in_degree\": 1045, \"count\": 1, \"label\": \"count\"}, {\"in_degree\": 1052, \"count\": 1, \"label\": \"count\"}, {\"in_degree\": 1065, \"count\": 1, \"label\": \"count\"}, {\"in_degree\": 1070, \"count\": 1, \"label\": \"count\"}, {\"in_degree\": 1076, \"count\": 1, \"label\": \"count\"}, {\"in_degree\": 1077, \"count\": 1, \"label\": \"count\"}, {\"in_degree\": 1089, \"count\": 1, \"label\": \"count\"}, {\"in_degree\": 1096, \"count\": 1, \"label\": \"count\"}, {\"in_degree\": 1106, \"count\": 1, \"label\": \"count\"}, {\"in_degree\": 1113, \"count\": 1, \"label\": \"count\"}, {\"in_degree\": 1115, \"count\": 1, \"label\": \"count\"}, {\"in_degree\": 1117, \"count\": 1, \"label\": \"count\"}, {\"in_degree\": 1123, \"count\": 2, \"label\": \"count\"}, {\"in_degree\": 1125, \"count\": 1, \"label\": \"count\"}, {\"in_degree\": 1135, \"count\": 1, \"label\": \"count\"}, {\"in_degree\": 1142, \"count\": 1, \"label\": \"count\"}, {\"in_degree\": 1149, \"count\": 1, \"label\": \"count\"}, {\"in_degree\": 1151, \"count\": 1, \"label\": \"count\"}, {\"in_degree\": 1156, \"count\": 1, \"label\": \"count\"}, {\"in_degree\": 1158, \"count\": 1, \"label\": \"count\"}, {\"in_degree\": 1159, \"count\": 1, \"label\": \"count\"}, {\"in_degree\": 1164, \"count\": 1, \"label\": \"count\"}, {\"in_degree\": 1175, \"count\": 1, \"label\": \"count\"}, {\"in_degree\": 1177, \"count\": 2, \"label\": \"count\"}, {\"in_degree\": 1181, \"count\": 1, \"label\": \"count\"}, {\"in_degree\": 1187, \"count\": 1, \"label\": \"count\"}, {\"in_degree\": 1189, \"count\": 1, \"label\": \"count\"}, {\"in_degree\": 1191, \"count\": 2, \"label\": \"count\"}, {\"in_degree\": 1194, \"count\": 1, \"label\": \"count\"}, {\"in_degree\": 1196, \"count\": 1, \"label\": \"count\"}, {\"in_degree\": 1204, \"count\": 1, \"label\": \"count\"}, {\"in_degree\": 1205, \"count\": 1, \"label\": \"count\"}, {\"in_degree\": 1207, \"count\": 1, \"label\": \"count\"}, {\"in_degree\": 1212, \"count\": 1, \"label\": \"count\"}, {\"in_degree\": 1228, \"count\": 1, \"label\": \"count\"}, {\"in_degree\": 1233, \"count\": 1, \"label\": \"count\"}, {\"in_degree\": 1234, \"count\": 1, \"label\": \"count\"}, {\"in_degree\": 1241, \"count\": 1, \"label\": \"count\"}, {\"in_degree\": 1245, \"count\": 1, \"label\": \"count\"}, {\"in_degree\": 1249, \"count\": 1, \"label\": \"count\"}, {\"in_degree\": 1253, \"count\": 1, \"label\": \"count\"}, {\"in_degree\": 1262, \"count\": 1, \"label\": \"count\"}, {\"in_degree\": 1265, \"count\": 1, \"label\": \"count\"}, {\"in_degree\": 1294, \"count\": 1, \"label\": \"count\"}, {\"in_degree\": 1302, \"count\": 1, \"label\": \"count\"}, {\"in_degree\": 1317, \"count\": 1, \"label\": \"count\"}, {\"in_degree\": 1331, \"count\": 1, \"label\": \"count\"}, {\"in_degree\": 1346, \"count\": 1, \"label\": \"count\"}, {\"in_degree\": 1357, \"count\": 1, \"label\": \"count\"}, {\"in_degree\": 1382, \"count\": 1, \"label\": \"count\"}, {\"in_degree\": 1431, \"count\": 1, \"label\": \"count\"}, {\"in_degree\": 1440, \"count\": 1, \"label\": \"count\"}, {\"in_degree\": 1463, \"count\": 1, \"label\": \"count\"}, {\"in_degree\": 1469, \"count\": 1, \"label\": \"count\"}, {\"in_degree\": 1489, \"count\": 1, \"label\": \"count\"}, {\"in_degree\": 1492, \"count\": 1, \"label\": \"count\"}, {\"in_degree\": 1505, \"count\": 1, \"label\": \"count\"}, {\"in_degree\": 1533, \"count\": 1, \"label\": \"count\"}, {\"in_degree\": 1534, \"count\": 1, \"label\": \"count\"}, {\"in_degree\": 1540, \"count\": 1, \"label\": \"count\"}, {\"in_degree\": 1578, \"count\": 1, \"label\": \"count\"}, {\"in_degree\": 1710, \"count\": 1, \"label\": \"count\"}, {\"in_degree\": 1732, \"count\": 1, \"label\": \"count\"}, {\"in_degree\": 1801, \"count\": 1, \"label\": \"count\"}, {\"in_degree\": 1804, \"count\": 1, \"label\": \"count\"}, {\"in_degree\": 1992, \"count\": 1, \"label\": \"count\"}, {\"in_degree\": 1996, \"count\": 1, \"label\": \"count\"}, {\"in_degree\": 2112, \"count\": 1, \"label\": \"count\"}, {\"in_degree\": 2400, \"count\": 1, \"label\": \"count\"}, {\"in_degree\": 3097, \"count\": 1, \"label\": \"count\"}, {\"in_degree\": 8320, \"count\": 1, \"label\": \"count\"}]}}, {\"mode\": \"vega-lite\"});\n",
       "</script>"
      ],
      "text/plain": [
       "alt.Chart(...)"
      ]
     },
     "execution_count": 86,
     "metadata": {},
     "output_type": "execute_result"
    }
   ],
   "source": [
    "data = pd.read_csv(\n",
    "    os.environ[\"OUT\"] + \"/statistics.in_degree.distribution.tsv\", sep=\"\\t\"\n",
    ")\n",
    "\n",
    "alt.Chart(data).mark_circle(size=60).encode(\n",
    "    x=alt.X(\"in_degree\", scale=alt.Scale(type=\"log\")),\n",
    "    y=alt.Y(\"count\", scale=alt.Scale(type=\"log\"), title=\"count of nodes\"),\n",
    "    tooltip=[\"in_degree\", \"count\"],\n",
    ").interactive().properties(title=\"Distribution of In Degree\")"
   ]
  },
  {
   "cell_type": "code",
   "execution_count": 87,
   "metadata": {},
   "outputs": [
    {
     "data": {
      "text/html": [
       "\n",
       "<div id=\"altair-viz-a7de050d810b4d378bab5a3c0e53a26c\"></div>\n",
       "<script type=\"text/javascript\">\n",
       "  (function(spec, embedOpt){\n",
       "    let outputDiv = document.currentScript.previousElementSibling;\n",
       "    if (outputDiv.id !== \"altair-viz-a7de050d810b4d378bab5a3c0e53a26c\") {\n",
       "      outputDiv = document.getElementById(\"altair-viz-a7de050d810b4d378bab5a3c0e53a26c\");\n",
       "    }\n",
       "    const paths = {\n",
       "      \"vega\": \"https://cdn.jsdelivr.net/npm//vega@5?noext\",\n",
       "      \"vega-lib\": \"https://cdn.jsdelivr.net/npm//vega-lib?noext\",\n",
       "      \"vega-lite\": \"https://cdn.jsdelivr.net/npm//vega-lite@4.8.1?noext\",\n",
       "      \"vega-embed\": \"https://cdn.jsdelivr.net/npm//vega-embed@6?noext\",\n",
       "    };\n",
       "\n",
       "    function loadScript(lib) {\n",
       "      return new Promise(function(resolve, reject) {\n",
       "        var s = document.createElement('script');\n",
       "        s.src = paths[lib];\n",
       "        s.async = true;\n",
       "        s.onload = () => resolve(paths[lib]);\n",
       "        s.onerror = () => reject(`Error loading script: ${paths[lib]}`);\n",
       "        document.getElementsByTagName(\"head\")[0].appendChild(s);\n",
       "      });\n",
       "    }\n",
       "\n",
       "    function showError(err) {\n",
       "      outputDiv.innerHTML = `<div class=\"error\" style=\"color:red;\">${err}</div>`;\n",
       "      throw err;\n",
       "    }\n",
       "\n",
       "    function displayChart(vegaEmbed) {\n",
       "      vegaEmbed(outputDiv, spec, embedOpt)\n",
       "        .catch(err => showError(`Javascript Error: ${err.message}<br>This usually means there's a typo in your chart specification. See the javascript console for the full traceback.`));\n",
       "    }\n",
       "\n",
       "    if(typeof define === \"function\" && define.amd) {\n",
       "      requirejs.config({paths});\n",
       "      require([\"vega-embed\"], displayChart, err => showError(`Error loading script: ${err.message}`));\n",
       "    } else if (typeof vegaEmbed === \"function\") {\n",
       "      displayChart(vegaEmbed);\n",
       "    } else {\n",
       "      loadScript(\"vega\")\n",
       "        .then(() => loadScript(\"vega-lite\"))\n",
       "        .then(() => loadScript(\"vega-embed\"))\n",
       "        .catch(showError)\n",
       "        .then(() => displayChart(vegaEmbed));\n",
       "    }\n",
       "  })({\"config\": {\"view\": {\"continuousWidth\": 400, \"continuousHeight\": 300}}, \"data\": {\"name\": \"data-241b066d43f3af5c6f32485df47fd098\"}, \"mark\": {\"type\": \"circle\", \"size\": 60}, \"encoding\": {\"tooltip\": [{\"type\": \"quantitative\", \"field\": \"out_degree\"}, {\"type\": \"quantitative\", \"field\": \"count\"}], \"x\": {\"type\": \"quantitative\", \"field\": \"out_degree\", \"scale\": {\"type\": \"log\"}}, \"y\": {\"type\": \"quantitative\", \"field\": \"count\", \"scale\": {\"type\": \"log\"}, \"title\": \"count of nodes\"}}, \"selection\": {\"selector002\": {\"type\": \"interval\", \"bind\": \"scales\", \"encodings\": [\"x\", \"y\"]}}, \"title\": \"Distribution of Out Degree\", \"$schema\": \"https://vega.github.io/schema/vega-lite/v4.8.1.json\", \"datasets\": {\"data-241b066d43f3af5c6f32485df47fd098\": [{\"out_degree\": 1, \"count\": 1080047, \"label\": \"count\"}, {\"out_degree\": 2, \"count\": 2137294, \"label\": \"count\"}, {\"out_degree\": 3, \"count\": 1936283, \"label\": \"count\"}, {\"out_degree\": 4, \"count\": 2208935, \"label\": \"count\"}, {\"out_degree\": 5, \"count\": 4158622, \"label\": \"count\"}, {\"out_degree\": 6, \"count\": 5241833, \"label\": \"count\"}, {\"out_degree\": 7, \"count\": 5125987, \"label\": \"count\"}, {\"out_degree\": 8, \"count\": 4496500, \"label\": \"count\"}, {\"out_degree\": 9, \"count\": 5537638, \"label\": \"count\"}, {\"out_degree\": 10, \"count\": 5726646, \"label\": \"count\"}, {\"out_degree\": 11, \"count\": 5419413, \"label\": \"count\"}, {\"out_degree\": 12, \"count\": 5211628, \"label\": \"count\"}, {\"out_degree\": 13, \"count\": 4744345, \"label\": \"count\"}, {\"out_degree\": 14, \"count\": 3788849, \"label\": \"count\"}, {\"out_degree\": 15, \"count\": 2961035, \"label\": \"count\"}, {\"out_degree\": 16, \"count\": 2303652, \"label\": \"count\"}, {\"out_degree\": 17, \"count\": 1885501, \"label\": \"count\"}, {\"out_degree\": 18, \"count\": 1509754, \"label\": \"count\"}, {\"out_degree\": 19, \"count\": 1335743, \"label\": \"count\"}, {\"out_degree\": 20, \"count\": 1387874, \"label\": \"count\"}, {\"out_degree\": 21, \"count\": 1487634, \"label\": \"count\"}, {\"out_degree\": 22, \"count\": 802274, \"label\": \"count\"}, {\"out_degree\": 23, \"count\": 547218, \"label\": \"count\"}, {\"out_degree\": 24, \"count\": 508771, \"label\": \"count\"}, {\"out_degree\": 25, \"count\": 449199, \"label\": \"count\"}, {\"out_degree\": 26, \"count\": 419348, \"label\": \"count\"}, {\"out_degree\": 27, \"count\": 419804, \"label\": \"count\"}, {\"out_degree\": 28, \"count\": 345288, \"label\": \"count\"}, {\"out_degree\": 29, \"count\": 302383, \"label\": \"count\"}, {\"out_degree\": 30, \"count\": 271825, \"label\": \"count\"}, {\"out_degree\": 31, \"count\": 253020, \"label\": \"count\"}, {\"out_degree\": 32, \"count\": 236361, \"label\": \"count\"}, {\"out_degree\": 33, \"count\": 235430, \"label\": \"count\"}, {\"out_degree\": 34, \"count\": 253028, \"label\": \"count\"}, {\"out_degree\": 35, \"count\": 201611, \"label\": \"count\"}, {\"out_degree\": 36, \"count\": 181477, \"label\": \"count\"}, {\"out_degree\": 37, \"count\": 172816, \"label\": \"count\"}, {\"out_degree\": 38, \"count\": 162941, \"label\": \"count\"}, {\"out_degree\": 39, \"count\": 156213, \"label\": \"count\"}, {\"out_degree\": 40, \"count\": 150713, \"label\": \"count\"}, {\"out_degree\": 41, \"count\": 142639, \"label\": \"count\"}, {\"out_degree\": 42, \"count\": 136127, \"label\": \"count\"}, {\"out_degree\": 43, \"count\": 130592, \"label\": \"count\"}, {\"out_degree\": 44, \"count\": 125133, \"label\": \"count\"}, {\"out_degree\": 45, \"count\": 120556, \"label\": \"count\"}, {\"out_degree\": 46, \"count\": 115889, \"label\": \"count\"}, {\"out_degree\": 47, \"count\": 111044, \"label\": \"count\"}, {\"out_degree\": 48, \"count\": 106773, \"label\": \"count\"}, {\"out_degree\": 49, \"count\": 102833, \"label\": \"count\"}, {\"out_degree\": 50, \"count\": 98681, \"label\": \"count\"}, {\"out_degree\": 51, \"count\": 94614, \"label\": \"count\"}, {\"out_degree\": 52, \"count\": 91379, \"label\": \"count\"}, {\"out_degree\": 53, \"count\": 86860, \"label\": \"count\"}, {\"out_degree\": 54, \"count\": 83248, \"label\": \"count\"}, {\"out_degree\": 55, \"count\": 79212, \"label\": \"count\"}, {\"out_degree\": 56, \"count\": 76202, \"label\": \"count\"}, {\"out_degree\": 57, \"count\": 72839, \"label\": \"count\"}, {\"out_degree\": 58, \"count\": 69380, \"label\": \"count\"}, {\"out_degree\": 59, \"count\": 66161, \"label\": \"count\"}, {\"out_degree\": 60, \"count\": 63180, \"label\": \"count\"}, {\"out_degree\": 61, \"count\": 59782, \"label\": \"count\"}, {\"out_degree\": 62, \"count\": 57145, \"label\": \"count\"}, {\"out_degree\": 63, \"count\": 54554, \"label\": \"count\"}, {\"out_degree\": 64, \"count\": 51719, \"label\": \"count\"}, {\"out_degree\": 65, \"count\": 49317, \"label\": \"count\"}, {\"out_degree\": 66, \"count\": 46582, \"label\": \"count\"}, {\"out_degree\": 67, \"count\": 44204, \"label\": \"count\"}, {\"out_degree\": 68, \"count\": 41498, \"label\": \"count\"}, {\"out_degree\": 69, \"count\": 39583, \"label\": \"count\"}, {\"out_degree\": 70, \"count\": 37645, \"label\": \"count\"}, {\"out_degree\": 71, \"count\": 35172, \"label\": \"count\"}, {\"out_degree\": 72, \"count\": 33171, \"label\": \"count\"}, {\"out_degree\": 73, \"count\": 31607, \"label\": \"count\"}, {\"out_degree\": 74, \"count\": 30053, \"label\": \"count\"}, {\"out_degree\": 75, \"count\": 28396, \"label\": \"count\"}, {\"out_degree\": 76, \"count\": 26736, \"label\": \"count\"}, {\"out_degree\": 77, \"count\": 25506, \"label\": \"count\"}, {\"out_degree\": 78, \"count\": 24032, \"label\": \"count\"}, {\"out_degree\": 79, \"count\": 22299, \"label\": \"count\"}, {\"out_degree\": 80, \"count\": 21249, \"label\": \"count\"}, {\"out_degree\": 81, \"count\": 20115, \"label\": \"count\"}, {\"out_degree\": 82, \"count\": 19030, \"label\": \"count\"}, {\"out_degree\": 83, \"count\": 17802, \"label\": \"count\"}, {\"out_degree\": 84, \"count\": 17078, \"label\": \"count\"}, {\"out_degree\": 85, \"count\": 16251, \"label\": \"count\"}, {\"out_degree\": 86, \"count\": 15299, \"label\": \"count\"}, {\"out_degree\": 87, \"count\": 14459, \"label\": \"count\"}, {\"out_degree\": 88, \"count\": 13770, \"label\": \"count\"}, {\"out_degree\": 89, \"count\": 12966, \"label\": \"count\"}, {\"out_degree\": 90, \"count\": 12577, \"label\": \"count\"}, {\"out_degree\": 91, \"count\": 11654, \"label\": \"count\"}, {\"out_degree\": 92, \"count\": 11253, \"label\": \"count\"}, {\"out_degree\": 93, \"count\": 10595, \"label\": \"count\"}, {\"out_degree\": 94, \"count\": 9911, \"label\": \"count\"}, {\"out_degree\": 95, \"count\": 9557, \"label\": \"count\"}, {\"out_degree\": 96, \"count\": 9038, \"label\": \"count\"}, {\"out_degree\": 97, \"count\": 8610, \"label\": \"count\"}, {\"out_degree\": 98, \"count\": 8185, \"label\": \"count\"}, {\"out_degree\": 99, \"count\": 7809, \"label\": \"count\"}, {\"out_degree\": 100, \"count\": 7496, \"label\": \"count\"}, {\"out_degree\": 101, \"count\": 7364, \"label\": \"count\"}, {\"out_degree\": 102, \"count\": 6855, \"label\": \"count\"}, {\"out_degree\": 103, \"count\": 6632, \"label\": \"count\"}, {\"out_degree\": 104, \"count\": 6443, \"label\": \"count\"}, {\"out_degree\": 105, \"count\": 6086, \"label\": \"count\"}, {\"out_degree\": 106, \"count\": 5786, \"label\": \"count\"}, {\"out_degree\": 107, \"count\": 5502, \"label\": \"count\"}, {\"out_degree\": 108, \"count\": 5458, \"label\": \"count\"}, {\"out_degree\": 109, \"count\": 5079, \"label\": \"count\"}, {\"out_degree\": 110, \"count\": 4921, \"label\": \"count\"}, {\"out_degree\": 111, \"count\": 4658, \"label\": \"count\"}, {\"out_degree\": 112, \"count\": 4656, \"label\": \"count\"}, {\"out_degree\": 113, \"count\": 4571, \"label\": \"count\"}, {\"out_degree\": 114, \"count\": 4348, \"label\": \"count\"}, {\"out_degree\": 115, \"count\": 4173, \"label\": \"count\"}, {\"out_degree\": 116, \"count\": 4059, \"label\": \"count\"}, {\"out_degree\": 117, \"count\": 3784, \"label\": \"count\"}, {\"out_degree\": 118, \"count\": 3730, \"label\": \"count\"}, {\"out_degree\": 119, \"count\": 3653, \"label\": \"count\"}, {\"out_degree\": 120, \"count\": 3577, \"label\": \"count\"}, {\"out_degree\": 121, \"count\": 3217, \"label\": \"count\"}, {\"out_degree\": 122, \"count\": 3325, \"label\": \"count\"}, {\"out_degree\": 123, \"count\": 3153, \"label\": \"count\"}, {\"out_degree\": 124, \"count\": 3108, \"label\": \"count\"}, {\"out_degree\": 125, \"count\": 2957, \"label\": \"count\"}, {\"out_degree\": 126, \"count\": 2802, \"label\": \"count\"}, {\"out_degree\": 127, \"count\": 2796, \"label\": \"count\"}, {\"out_degree\": 128, \"count\": 2771, \"label\": \"count\"}, {\"out_degree\": 129, \"count\": 2671, \"label\": \"count\"}, {\"out_degree\": 130, \"count\": 2654, \"label\": \"count\"}, {\"out_degree\": 131, \"count\": 2620, \"label\": \"count\"}, {\"out_degree\": 132, \"count\": 2624, \"label\": \"count\"}, {\"out_degree\": 133, \"count\": 2456, \"label\": \"count\"}, {\"out_degree\": 134, \"count\": 2339, \"label\": \"count\"}, {\"out_degree\": 135, \"count\": 2353, \"label\": \"count\"}, {\"out_degree\": 136, \"count\": 2129, \"label\": \"count\"}, {\"out_degree\": 137, \"count\": 2091, \"label\": \"count\"}, {\"out_degree\": 138, \"count\": 2107, \"label\": \"count\"}, {\"out_degree\": 139, \"count\": 2022, \"label\": \"count\"}, {\"out_degree\": 140, \"count\": 2001, \"label\": \"count\"}, {\"out_degree\": 141, \"count\": 1968, \"label\": \"count\"}, {\"out_degree\": 142, \"count\": 1937, \"label\": \"count\"}, {\"out_degree\": 143, \"count\": 1935, \"label\": \"count\"}, {\"out_degree\": 144, \"count\": 1897, \"label\": \"count\"}, {\"out_degree\": 145, \"count\": 1976, \"label\": \"count\"}, {\"out_degree\": 146, \"count\": 1778, \"label\": \"count\"}, {\"out_degree\": 147, \"count\": 1765, \"label\": \"count\"}, {\"out_degree\": 148, \"count\": 1731, \"label\": \"count\"}, {\"out_degree\": 149, \"count\": 1763, \"label\": \"count\"}, {\"out_degree\": 150, \"count\": 1762, \"label\": \"count\"}, {\"out_degree\": 151, \"count\": 1541, \"label\": \"count\"}, {\"out_degree\": 152, \"count\": 1566, \"label\": \"count\"}, {\"out_degree\": 153, \"count\": 1537, \"label\": \"count\"}, {\"out_degree\": 154, \"count\": 1463, \"label\": \"count\"}, {\"out_degree\": 155, \"count\": 1461, \"label\": \"count\"}, {\"out_degree\": 156, \"count\": 1368, \"label\": \"count\"}, {\"out_degree\": 157, \"count\": 1442, \"label\": \"count\"}, {\"out_degree\": 158, \"count\": 1382, \"label\": \"count\"}, {\"out_degree\": 159, \"count\": 1466, \"label\": \"count\"}, {\"out_degree\": 160, \"count\": 1317, \"label\": \"count\"}, {\"out_degree\": 161, \"count\": 1625, \"label\": \"count\"}, {\"out_degree\": 162, \"count\": 1325, \"label\": \"count\"}, {\"out_degree\": 163, \"count\": 1300, \"label\": \"count\"}, {\"out_degree\": 164, \"count\": 1283, \"label\": \"count\"}, {\"out_degree\": 165, \"count\": 1190, \"label\": \"count\"}, {\"out_degree\": 166, \"count\": 1182, \"label\": \"count\"}, {\"out_degree\": 167, \"count\": 1151, \"label\": \"count\"}, {\"out_degree\": 168, \"count\": 1099, \"label\": \"count\"}, {\"out_degree\": 169, \"count\": 1184, \"label\": \"count\"}, {\"out_degree\": 170, \"count\": 1085, \"label\": \"count\"}, {\"out_degree\": 171, \"count\": 1124, \"label\": \"count\"}, {\"out_degree\": 172, \"count\": 1044, \"label\": \"count\"}, {\"out_degree\": 173, \"count\": 1018, \"label\": \"count\"}, {\"out_degree\": 174, \"count\": 967, \"label\": \"count\"}, {\"out_degree\": 175, \"count\": 918, \"label\": \"count\"}, {\"out_degree\": 176, \"count\": 1097, \"label\": \"count\"}, {\"out_degree\": 177, \"count\": 938, \"label\": \"count\"}, {\"out_degree\": 178, \"count\": 875, \"label\": \"count\"}, {\"out_degree\": 179, \"count\": 904, \"label\": \"count\"}, {\"out_degree\": 180, \"count\": 997, \"label\": \"count\"}, {\"out_degree\": 181, \"count\": 815, \"label\": \"count\"}, {\"out_degree\": 182, \"count\": 845, \"label\": \"count\"}, {\"out_degree\": 183, \"count\": 772, \"label\": \"count\"}, {\"out_degree\": 184, \"count\": 769, \"label\": \"count\"}, {\"out_degree\": 185, \"count\": 740, \"label\": \"count\"}, {\"out_degree\": 186, \"count\": 736, \"label\": \"count\"}, {\"out_degree\": 187, \"count\": 658, \"label\": \"count\"}, {\"out_degree\": 188, \"count\": 648, \"label\": \"count\"}, {\"out_degree\": 189, \"count\": 644, \"label\": \"count\"}, {\"out_degree\": 190, \"count\": 816, \"label\": \"count\"}, {\"out_degree\": 191, \"count\": 634, \"label\": \"count\"}, {\"out_degree\": 192, \"count\": 643, \"label\": \"count\"}, {\"out_degree\": 193, \"count\": 620, \"label\": \"count\"}, {\"out_degree\": 194, \"count\": 600, \"label\": \"count\"}, {\"out_degree\": 195, \"count\": 584, \"label\": \"count\"}, {\"out_degree\": 196, \"count\": 560, \"label\": \"count\"}, {\"out_degree\": 197, \"count\": 564, \"label\": \"count\"}, {\"out_degree\": 198, \"count\": 505, \"label\": \"count\"}, {\"out_degree\": 199, \"count\": 481, \"label\": \"count\"}, {\"out_degree\": 200, \"count\": 507, \"label\": \"count\"}, {\"out_degree\": 201, \"count\": 519, \"label\": \"count\"}, {\"out_degree\": 202, \"count\": 481, \"label\": \"count\"}, {\"out_degree\": 203, \"count\": 486, \"label\": \"count\"}, {\"out_degree\": 204, \"count\": 471, \"label\": \"count\"}, {\"out_degree\": 205, \"count\": 656, \"label\": \"count\"}, {\"out_degree\": 206, \"count\": 463, \"label\": \"count\"}, {\"out_degree\": 207, \"count\": 652, \"label\": \"count\"}, {\"out_degree\": 208, \"count\": 463, \"label\": \"count\"}, {\"out_degree\": 209, \"count\": 452, \"label\": \"count\"}, {\"out_degree\": 210, \"count\": 446, \"label\": \"count\"}, {\"out_degree\": 211, \"count\": 394, \"label\": \"count\"}, {\"out_degree\": 212, \"count\": 379, \"label\": \"count\"}, {\"out_degree\": 213, \"count\": 576, \"label\": \"count\"}, {\"out_degree\": 214, \"count\": 341, \"label\": \"count\"}, {\"out_degree\": 215, \"count\": 358, \"label\": \"count\"}, {\"out_degree\": 216, \"count\": 564, \"label\": \"count\"}, {\"out_degree\": 217, \"count\": 316, \"label\": \"count\"}, {\"out_degree\": 218, \"count\": 310, \"label\": \"count\"}, {\"out_degree\": 219, \"count\": 310, \"label\": \"count\"}, {\"out_degree\": 220, \"count\": 503, \"label\": \"count\"}, {\"out_degree\": 221, \"count\": 302, \"label\": \"count\"}, {\"out_degree\": 222, \"count\": 335, \"label\": \"count\"}, {\"out_degree\": 223, \"count\": 277, \"label\": \"count\"}, {\"out_degree\": 224, \"count\": 316, \"label\": \"count\"}, {\"out_degree\": 225, \"count\": 295, \"label\": \"count\"}, {\"out_degree\": 226, \"count\": 257, \"label\": \"count\"}, {\"out_degree\": 227, \"count\": 243, \"label\": \"count\"}, {\"out_degree\": 228, \"count\": 247, \"label\": \"count\"}, {\"out_degree\": 229, \"count\": 240, \"label\": \"count\"}, {\"out_degree\": 230, \"count\": 241, \"label\": \"count\"}, {\"out_degree\": 231, \"count\": 272, \"label\": \"count\"}, {\"out_degree\": 232, \"count\": 241, \"label\": \"count\"}, {\"out_degree\": 233, \"count\": 195, \"label\": \"count\"}, {\"out_degree\": 234, \"count\": 211, \"label\": \"count\"}, {\"out_degree\": 235, \"count\": 201, \"label\": \"count\"}, {\"out_degree\": 236, \"count\": 430, \"label\": \"count\"}, {\"out_degree\": 237, \"count\": 235, \"label\": \"count\"}, {\"out_degree\": 238, \"count\": 216, \"label\": \"count\"}, {\"out_degree\": 239, \"count\": 198, \"label\": \"count\"}, {\"out_degree\": 240, \"count\": 170, \"label\": \"count\"}, {\"out_degree\": 241, \"count\": 178, \"label\": \"count\"}, {\"out_degree\": 242, \"count\": 186, \"label\": \"count\"}, {\"out_degree\": 243, \"count\": 186, \"label\": \"count\"}, {\"out_degree\": 244, \"count\": 195, \"label\": \"count\"}, {\"out_degree\": 245, \"count\": 652, \"label\": \"count\"}, {\"out_degree\": 246, \"count\": 173, \"label\": \"count\"}, {\"out_degree\": 247, \"count\": 160, \"label\": \"count\"}, {\"out_degree\": 248, \"count\": 151, \"label\": \"count\"}, {\"out_degree\": 249, \"count\": 162, \"label\": \"count\"}, {\"out_degree\": 250, \"count\": 153, \"label\": \"count\"}, {\"out_degree\": 251, \"count\": 157, \"label\": \"count\"}, {\"out_degree\": 252, \"count\": 148, \"label\": \"count\"}, {\"out_degree\": 253, \"count\": 150, \"label\": \"count\"}, {\"out_degree\": 254, \"count\": 138, \"label\": \"count\"}, {\"out_degree\": 255, \"count\": 158, \"label\": \"count\"}, {\"out_degree\": 256, \"count\": 156, \"label\": \"count\"}, {\"out_degree\": 257, \"count\": 133, \"label\": \"count\"}, {\"out_degree\": 258, \"count\": 131, \"label\": \"count\"}, {\"out_degree\": 259, \"count\": 144, \"label\": \"count\"}, {\"out_degree\": 260, \"count\": 118, \"label\": \"count\"}, {\"out_degree\": 261, \"count\": 138, \"label\": \"count\"}, {\"out_degree\": 262, \"count\": 116, \"label\": \"count\"}, {\"out_degree\": 263, \"count\": 129, \"label\": \"count\"}, {\"out_degree\": 264, \"count\": 108, \"label\": \"count\"}, {\"out_degree\": 265, \"count\": 111, \"label\": \"count\"}, {\"out_degree\": 266, \"count\": 101, \"label\": \"count\"}, {\"out_degree\": 267, \"count\": 106, \"label\": \"count\"}, {\"out_degree\": 268, \"count\": 108, \"label\": \"count\"}, {\"out_degree\": 269, \"count\": 110, \"label\": \"count\"}, {\"out_degree\": 270, \"count\": 99, \"label\": \"count\"}, {\"out_degree\": 271, \"count\": 113, \"label\": \"count\"}, {\"out_degree\": 272, \"count\": 100, \"label\": \"count\"}, {\"out_degree\": 273, \"count\": 101, \"label\": \"count\"}, {\"out_degree\": 274, \"count\": 106, \"label\": \"count\"}, {\"out_degree\": 275, \"count\": 102, \"label\": \"count\"}, {\"out_degree\": 276, \"count\": 93, \"label\": \"count\"}, {\"out_degree\": 277, \"count\": 98, \"label\": \"count\"}, {\"out_degree\": 278, \"count\": 93, \"label\": \"count\"}, {\"out_degree\": 279, \"count\": 98, \"label\": \"count\"}, {\"out_degree\": 280, \"count\": 108, \"label\": \"count\"}, {\"out_degree\": 281, \"count\": 96, \"label\": \"count\"}, {\"out_degree\": 282, \"count\": 112, \"label\": \"count\"}, {\"out_degree\": 283, \"count\": 93, \"label\": \"count\"}, {\"out_degree\": 284, \"count\": 104, \"label\": \"count\"}, {\"out_degree\": 285, \"count\": 78, \"label\": \"count\"}, {\"out_degree\": 286, \"count\": 318, \"label\": \"count\"}, {\"out_degree\": 287, \"count\": 367, \"label\": \"count\"}, {\"out_degree\": 288, \"count\": 90, \"label\": \"count\"}, {\"out_degree\": 289, \"count\": 78, \"label\": \"count\"}, {\"out_degree\": 290, \"count\": 362, \"label\": \"count\"}, {\"out_degree\": 291, \"count\": 394, \"label\": \"count\"}, {\"out_degree\": 292, \"count\": 83, \"label\": \"count\"}, {\"out_degree\": 293, \"count\": 90, \"label\": \"count\"}, {\"out_degree\": 294, \"count\": 91, \"label\": \"count\"}, {\"out_degree\": 295, \"count\": 96, \"label\": \"count\"}, {\"out_degree\": 296, \"count\": 77, \"label\": \"count\"}, {\"out_degree\": 297, \"count\": 62, \"label\": \"count\"}, {\"out_degree\": 298, \"count\": 91, \"label\": \"count\"}, {\"out_degree\": 299, \"count\": 65, \"label\": \"count\"}, {\"out_degree\": 300, \"count\": 80, \"label\": \"count\"}, {\"out_degree\": 301, \"count\": 74, \"label\": \"count\"}, {\"out_degree\": 302, \"count\": 67, \"label\": \"count\"}, {\"out_degree\": 303, \"count\": 356, \"label\": \"count\"}, {\"out_degree\": 304, \"count\": 84, \"label\": \"count\"}, {\"out_degree\": 305, \"count\": 77, \"label\": \"count\"}, {\"out_degree\": 306, \"count\": 360, \"label\": \"count\"}, {\"out_degree\": 307, \"count\": 65, \"label\": \"count\"}, {\"out_degree\": 308, \"count\": 68, \"label\": \"count\"}, {\"out_degree\": 309, \"count\": 359, \"label\": \"count\"}, {\"out_degree\": 310, \"count\": 57, \"label\": \"count\"}, {\"out_degree\": 311, \"count\": 69, \"label\": \"count\"}, {\"out_degree\": 312, \"count\": 65, \"label\": \"count\"}, {\"out_degree\": 313, \"count\": 79, \"label\": \"count\"}, {\"out_degree\": 314, \"count\": 60, \"label\": \"count\"}, {\"out_degree\": 315, \"count\": 43, \"label\": \"count\"}, {\"out_degree\": 316, \"count\": 70, \"label\": \"count\"}, {\"out_degree\": 317, \"count\": 54, \"label\": \"count\"}, {\"out_degree\": 318, \"count\": 47, \"label\": \"count\"}, {\"out_degree\": 319, \"count\": 46, \"label\": \"count\"}, {\"out_degree\": 320, \"count\": 300, \"label\": \"count\"}, {\"out_degree\": 321, \"count\": 44, \"label\": \"count\"}, {\"out_degree\": 322, \"count\": 54, \"label\": \"count\"}, {\"out_degree\": 323, \"count\": 46, \"label\": \"count\"}, {\"out_degree\": 324, \"count\": 64, \"label\": \"count\"}, {\"out_degree\": 325, \"count\": 59, \"label\": \"count\"}, {\"out_degree\": 326, \"count\": 55, \"label\": \"count\"}, {\"out_degree\": 327, \"count\": 51, \"label\": \"count\"}, {\"out_degree\": 328, \"count\": 53, \"label\": \"count\"}, {\"out_degree\": 329, \"count\": 54, \"label\": \"count\"}, {\"out_degree\": 330, \"count\": 47, \"label\": \"count\"}, {\"out_degree\": 331, \"count\": 45, \"label\": \"count\"}, {\"out_degree\": 332, \"count\": 49, \"label\": \"count\"}, {\"out_degree\": 333, \"count\": 54, \"label\": \"count\"}, {\"out_degree\": 334, \"count\": 54, \"label\": \"count\"}, {\"out_degree\": 335, \"count\": 372, \"label\": \"count\"}, {\"out_degree\": 336, \"count\": 46, \"label\": \"count\"}, {\"out_degree\": 337, \"count\": 50, \"label\": \"count\"}, {\"out_degree\": 338, \"count\": 55, \"label\": \"count\"}, {\"out_degree\": 339, \"count\": 104, \"label\": \"count\"}, {\"out_degree\": 340, \"count\": 44, \"label\": \"count\"}, {\"out_degree\": 341, \"count\": 53, \"label\": \"count\"}, {\"out_degree\": 342, \"count\": 50, \"label\": \"count\"}, {\"out_degree\": 343, \"count\": 46, \"label\": \"count\"}, {\"out_degree\": 344, \"count\": 382, \"label\": \"count\"}, {\"out_degree\": 345, \"count\": 49, \"label\": \"count\"}, {\"out_degree\": 346, \"count\": 49, \"label\": \"count\"}, {\"out_degree\": 347, \"count\": 37, \"label\": \"count\"}, {\"out_degree\": 348, \"count\": 37, \"label\": \"count\"}, {\"out_degree\": 349, \"count\": 38, \"label\": \"count\"}, {\"out_degree\": 350, \"count\": 40, \"label\": \"count\"}, {\"out_degree\": 351, \"count\": 42, \"label\": \"count\"}, {\"out_degree\": 352, \"count\": 35, \"label\": \"count\"}, {\"out_degree\": 353, \"count\": 39, \"label\": \"count\"}, {\"out_degree\": 354, \"count\": 36, \"label\": \"count\"}, {\"out_degree\": 355, \"count\": 31, \"label\": \"count\"}, {\"out_degree\": 356, \"count\": 46, \"label\": \"count\"}, {\"out_degree\": 357, \"count\": 45, \"label\": \"count\"}, {\"out_degree\": 358, \"count\": 37, \"label\": \"count\"}, {\"out_degree\": 359, \"count\": 30, \"label\": \"count\"}, {\"out_degree\": 360, \"count\": 27, \"label\": \"count\"}, {\"out_degree\": 361, \"count\": 31, \"label\": \"count\"}, {\"out_degree\": 362, \"count\": 33, \"label\": \"count\"}, {\"out_degree\": 363, \"count\": 49, \"label\": \"count\"}, {\"out_degree\": 364, \"count\": 39, \"label\": \"count\"}, {\"out_degree\": 365, \"count\": 35, \"label\": \"count\"}, {\"out_degree\": 366, \"count\": 32, \"label\": \"count\"}, {\"out_degree\": 367, \"count\": 37, \"label\": \"count\"}, {\"out_degree\": 368, \"count\": 42, \"label\": \"count\"}, {\"out_degree\": 369, \"count\": 36, \"label\": \"count\"}, {\"out_degree\": 370, \"count\": 46, \"label\": \"count\"}, {\"out_degree\": 371, \"count\": 39, \"label\": \"count\"}, {\"out_degree\": 372, \"count\": 33, \"label\": \"count\"}, {\"out_degree\": 373, \"count\": 38, \"label\": \"count\"}, {\"out_degree\": 374, \"count\": 31, \"label\": \"count\"}, {\"out_degree\": 375, \"count\": 25, \"label\": \"count\"}, {\"out_degree\": 376, \"count\": 29, \"label\": \"count\"}, {\"out_degree\": 377, \"count\": 41, \"label\": \"count\"}, {\"out_degree\": 378, \"count\": 29, \"label\": \"count\"}, {\"out_degree\": 379, \"count\": 40, \"label\": \"count\"}, {\"out_degree\": 380, \"count\": 32, \"label\": \"count\"}, {\"out_degree\": 381, \"count\": 45, \"label\": \"count\"}, {\"out_degree\": 382, \"count\": 29, \"label\": \"count\"}, {\"out_degree\": 383, \"count\": 42, \"label\": \"count\"}, {\"out_degree\": 384, \"count\": 46, \"label\": \"count\"}, {\"out_degree\": 385, \"count\": 32, \"label\": \"count\"}, {\"out_degree\": 386, \"count\": 24, \"label\": \"count\"}, {\"out_degree\": 387, \"count\": 39, \"label\": \"count\"}, {\"out_degree\": 388, \"count\": 38, \"label\": \"count\"}, {\"out_degree\": 389, \"count\": 31, \"label\": \"count\"}, {\"out_degree\": 390, \"count\": 33, \"label\": \"count\"}, {\"out_degree\": 391, \"count\": 23, \"label\": \"count\"}, {\"out_degree\": 392, \"count\": 33, \"label\": \"count\"}, {\"out_degree\": 393, \"count\": 35, \"label\": \"count\"}, {\"out_degree\": 394, \"count\": 35, \"label\": \"count\"}, {\"out_degree\": 395, \"count\": 36, \"label\": \"count\"}, {\"out_degree\": 396, \"count\": 38, \"label\": \"count\"}, {\"out_degree\": 397, \"count\": 34, \"label\": \"count\"}, {\"out_degree\": 398, \"count\": 29, \"label\": \"count\"}, {\"out_degree\": 399, \"count\": 27, \"label\": \"count\"}, {\"out_degree\": 400, \"count\": 30, \"label\": \"count\"}, {\"out_degree\": 401, \"count\": 29, \"label\": \"count\"}, {\"out_degree\": 402, \"count\": 26, \"label\": \"count\"}, {\"out_degree\": 403, \"count\": 29, \"label\": \"count\"}, {\"out_degree\": 404, \"count\": 18, \"label\": \"count\"}, {\"out_degree\": 405, \"count\": 35, \"label\": \"count\"}, {\"out_degree\": 406, \"count\": 20, \"label\": \"count\"}, {\"out_degree\": 407, \"count\": 31, \"label\": \"count\"}, {\"out_degree\": 408, \"count\": 30, \"label\": \"count\"}, {\"out_degree\": 409, \"count\": 31, \"label\": \"count\"}, {\"out_degree\": 410, \"count\": 36, \"label\": \"count\"}, {\"out_degree\": 411, \"count\": 29, \"label\": \"count\"}, {\"out_degree\": 412, \"count\": 24, \"label\": \"count\"}, {\"out_degree\": 413, \"count\": 32, \"label\": \"count\"}, {\"out_degree\": 414, \"count\": 17, \"label\": \"count\"}, {\"out_degree\": 415, \"count\": 21, \"label\": \"count\"}, {\"out_degree\": 416, \"count\": 25, \"label\": \"count\"}, {\"out_degree\": 417, \"count\": 27, \"label\": \"count\"}, {\"out_degree\": 418, \"count\": 440, \"label\": \"count\"}, {\"out_degree\": 419, \"count\": 32, \"label\": \"count\"}, {\"out_degree\": 420, \"count\": 20, \"label\": \"count\"}, {\"out_degree\": 421, \"count\": 29, \"label\": \"count\"}, {\"out_degree\": 422, \"count\": 21, \"label\": \"count\"}, {\"out_degree\": 423, \"count\": 39, \"label\": \"count\"}, {\"out_degree\": 424, \"count\": 31, \"label\": \"count\"}, {\"out_degree\": 425, \"count\": 31, \"label\": \"count\"}, {\"out_degree\": 426, \"count\": 33, \"label\": \"count\"}, {\"out_degree\": 427, \"count\": 40, \"label\": \"count\"}, {\"out_degree\": 428, \"count\": 23, \"label\": \"count\"}, {\"out_degree\": 429, \"count\": 26, \"label\": \"count\"}, {\"out_degree\": 430, \"count\": 31, \"label\": \"count\"}, {\"out_degree\": 431, \"count\": 28, \"label\": \"count\"}, {\"out_degree\": 432, \"count\": 23, \"label\": \"count\"}, {\"out_degree\": 433, \"count\": 23, \"label\": \"count\"}, {\"out_degree\": 434, \"count\": 31, \"label\": \"count\"}, {\"out_degree\": 435, \"count\": 32, \"label\": \"count\"}, {\"out_degree\": 436, \"count\": 24, \"label\": \"count\"}, {\"out_degree\": 437, \"count\": 20, \"label\": \"count\"}, {\"out_degree\": 438, \"count\": 28, \"label\": \"count\"}, {\"out_degree\": 439, \"count\": 37, \"label\": \"count\"}, {\"out_degree\": 440, \"count\": 22, \"label\": \"count\"}, {\"out_degree\": 441, \"count\": 24, \"label\": \"count\"}, {\"out_degree\": 442, \"count\": 23, \"label\": \"count\"}, {\"out_degree\": 443, \"count\": 23, \"label\": \"count\"}, {\"out_degree\": 444, \"count\": 22, \"label\": \"count\"}, {\"out_degree\": 445, \"count\": 31, \"label\": \"count\"}, {\"out_degree\": 446, \"count\": 22, \"label\": \"count\"}, {\"out_degree\": 447, \"count\": 14, \"label\": \"count\"}, {\"out_degree\": 448, \"count\": 27, \"label\": \"count\"}, {\"out_degree\": 449, \"count\": 21, \"label\": \"count\"}, {\"out_degree\": 450, \"count\": 25, \"label\": \"count\"}, {\"out_degree\": 451, \"count\": 22, \"label\": \"count\"}, {\"out_degree\": 452, \"count\": 23, \"label\": \"count\"}, {\"out_degree\": 453, \"count\": 20, \"label\": \"count\"}, {\"out_degree\": 454, \"count\": 15, \"label\": \"count\"}, {\"out_degree\": 455, \"count\": 19, \"label\": \"count\"}, {\"out_degree\": 456, \"count\": 21, \"label\": \"count\"}, {\"out_degree\": 457, \"count\": 28, \"label\": \"count\"}, {\"out_degree\": 458, \"count\": 30, \"label\": \"count\"}, {\"out_degree\": 459, \"count\": 9, \"label\": \"count\"}, {\"out_degree\": 460, \"count\": 31, \"label\": \"count\"}, {\"out_degree\": 461, \"count\": 24, \"label\": \"count\"}, {\"out_degree\": 462, \"count\": 21, \"label\": \"count\"}, {\"out_degree\": 463, \"count\": 19, \"label\": \"count\"}, {\"out_degree\": 464, \"count\": 21, \"label\": \"count\"}, {\"out_degree\": 465, \"count\": 18, \"label\": \"count\"}, {\"out_degree\": 466, \"count\": 23, \"label\": \"count\"}, {\"out_degree\": 467, \"count\": 14, \"label\": \"count\"}, {\"out_degree\": 468, \"count\": 15, \"label\": \"count\"}, {\"out_degree\": 469, \"count\": 20, \"label\": \"count\"}, {\"out_degree\": 470, \"count\": 19, \"label\": \"count\"}, {\"out_degree\": 471, \"count\": 14, \"label\": \"count\"}, {\"out_degree\": 472, \"count\": 24, \"label\": \"count\"}, {\"out_degree\": 473, \"count\": 19, \"label\": \"count\"}, {\"out_degree\": 474, \"count\": 17, \"label\": \"count\"}, {\"out_degree\": 475, \"count\": 20, \"label\": \"count\"}, {\"out_degree\": 476, \"count\": 17, \"label\": \"count\"}, {\"out_degree\": 477, \"count\": 21, \"label\": \"count\"}, {\"out_degree\": 478, \"count\": 21, \"label\": \"count\"}, {\"out_degree\": 479, \"count\": 13, \"label\": \"count\"}, {\"out_degree\": 480, \"count\": 16, \"label\": \"count\"}, {\"out_degree\": 481, \"count\": 10, \"label\": \"count\"}, {\"out_degree\": 482, \"count\": 19, \"label\": \"count\"}, {\"out_degree\": 483, \"count\": 20, \"label\": \"count\"}, {\"out_degree\": 484, \"count\": 7, \"label\": \"count\"}, {\"out_degree\": 485, \"count\": 7, \"label\": \"count\"}, {\"out_degree\": 486, \"count\": 18, \"label\": \"count\"}, {\"out_degree\": 487, \"count\": 5, \"label\": \"count\"}, {\"out_degree\": 488, \"count\": 17, \"label\": \"count\"}, {\"out_degree\": 489, \"count\": 16, \"label\": \"count\"}, {\"out_degree\": 490, \"count\": 16, \"label\": \"count\"}, {\"out_degree\": 491, \"count\": 10, \"label\": \"count\"}, {\"out_degree\": 492, \"count\": 17, \"label\": \"count\"}, {\"out_degree\": 493, \"count\": 23, \"label\": \"count\"}, {\"out_degree\": 494, \"count\": 15, \"label\": \"count\"}, {\"out_degree\": 495, \"count\": 19, \"label\": \"count\"}, {\"out_degree\": 496, \"count\": 16, \"label\": \"count\"}, {\"out_degree\": 497, \"count\": 14, \"label\": \"count\"}, {\"out_degree\": 498, \"count\": 8, \"label\": \"count\"}, {\"out_degree\": 499, \"count\": 17, \"label\": \"count\"}, {\"out_degree\": 500, \"count\": 13, \"label\": \"count\"}, {\"out_degree\": 501, \"count\": 19, \"label\": \"count\"}, {\"out_degree\": 502, \"count\": 15, \"label\": \"count\"}, {\"out_degree\": 503, \"count\": 15, \"label\": \"count\"}, {\"out_degree\": 504, \"count\": 18, \"label\": \"count\"}, {\"out_degree\": 505, \"count\": 14, \"label\": \"count\"}, {\"out_degree\": 506, \"count\": 18, \"label\": \"count\"}, {\"out_degree\": 507, \"count\": 13, \"label\": \"count\"}, {\"out_degree\": 508, \"count\": 10, \"label\": \"count\"}, {\"out_degree\": 509, \"count\": 16, \"label\": \"count\"}, {\"out_degree\": 510, \"count\": 16, \"label\": \"count\"}, {\"out_degree\": 511, \"count\": 14, \"label\": \"count\"}, {\"out_degree\": 512, \"count\": 12, \"label\": \"count\"}, {\"out_degree\": 513, \"count\": 17, \"label\": \"count\"}, {\"out_degree\": 514, \"count\": 16, \"label\": \"count\"}, {\"out_degree\": 515, \"count\": 14, \"label\": \"count\"}, {\"out_degree\": 516, \"count\": 7, \"label\": \"count\"}, {\"out_degree\": 517, \"count\": 18, \"label\": \"count\"}, {\"out_degree\": 518, \"count\": 9, \"label\": \"count\"}, {\"out_degree\": 519, \"count\": 10, \"label\": \"count\"}, {\"out_degree\": 520, \"count\": 12, \"label\": \"count\"}, {\"out_degree\": 521, \"count\": 10, \"label\": \"count\"}, {\"out_degree\": 522, \"count\": 6, \"label\": \"count\"}, {\"out_degree\": 523, \"count\": 11, \"label\": \"count\"}, {\"out_degree\": 524, \"count\": 7, \"label\": \"count\"}, {\"out_degree\": 525, \"count\": 9, \"label\": \"count\"}, {\"out_degree\": 526, \"count\": 8, \"label\": \"count\"}, {\"out_degree\": 527, \"count\": 6, \"label\": \"count\"}, {\"out_degree\": 528, \"count\": 12, \"label\": \"count\"}, {\"out_degree\": 529, \"count\": 7, \"label\": \"count\"}, {\"out_degree\": 530, \"count\": 14, \"label\": \"count\"}, {\"out_degree\": 531, \"count\": 12, \"label\": \"count\"}, {\"out_degree\": 532, \"count\": 7, \"label\": \"count\"}, {\"out_degree\": 533, \"count\": 28, \"label\": \"count\"}, {\"out_degree\": 534, \"count\": 20, \"label\": \"count\"}, {\"out_degree\": 535, \"count\": 13, \"label\": \"count\"}, {\"out_degree\": 536, \"count\": 17, \"label\": \"count\"}, {\"out_degree\": 537, \"count\": 16, \"label\": \"count\"}, {\"out_degree\": 538, \"count\": 8, \"label\": \"count\"}, {\"out_degree\": 539, \"count\": 14, \"label\": \"count\"}, {\"out_degree\": 540, \"count\": 9, \"label\": \"count\"}, {\"out_degree\": 541, \"count\": 18, \"label\": \"count\"}, {\"out_degree\": 542, \"count\": 11, \"label\": \"count\"}, {\"out_degree\": 543, \"count\": 10, \"label\": \"count\"}, {\"out_degree\": 544, \"count\": 10, \"label\": \"count\"}, {\"out_degree\": 545, \"count\": 6, \"label\": \"count\"}, {\"out_degree\": 546, \"count\": 14, \"label\": \"count\"}, {\"out_degree\": 547, \"count\": 12, \"label\": \"count\"}, {\"out_degree\": 548, \"count\": 17, \"label\": \"count\"}, {\"out_degree\": 549, \"count\": 15, \"label\": \"count\"}, {\"out_degree\": 550, \"count\": 554, \"label\": \"count\"}, {\"out_degree\": 551, \"count\": 6, \"label\": \"count\"}, {\"out_degree\": 552, \"count\": 14, \"label\": \"count\"}, {\"out_degree\": 553, \"count\": 11, \"label\": \"count\"}, {\"out_degree\": 554, \"count\": 12, \"label\": \"count\"}, {\"out_degree\": 555, \"count\": 21, \"label\": \"count\"}, {\"out_degree\": 556, \"count\": 9, \"label\": \"count\"}, {\"out_degree\": 557, \"count\": 10, \"label\": \"count\"}, {\"out_degree\": 558, \"count\": 14, \"label\": \"count\"}, {\"out_degree\": 559, \"count\": 9, \"label\": \"count\"}, {\"out_degree\": 560, \"count\": 11, \"label\": \"count\"}, {\"out_degree\": 561, \"count\": 15, \"label\": \"count\"}, {\"out_degree\": 562, \"count\": 17, \"label\": \"count\"}, {\"out_degree\": 563, \"count\": 16, \"label\": \"count\"}, {\"out_degree\": 564, \"count\": 23, \"label\": \"count\"}, {\"out_degree\": 565, \"count\": 17, \"label\": \"count\"}, {\"out_degree\": 566, \"count\": 14, \"label\": \"count\"}, {\"out_degree\": 567, \"count\": 12, \"label\": \"count\"}, {\"out_degree\": 568, \"count\": 9, \"label\": \"count\"}, {\"out_degree\": 569, \"count\": 6, \"label\": \"count\"}, {\"out_degree\": 570, \"count\": 9, \"label\": \"count\"}, {\"out_degree\": 571, \"count\": 12, \"label\": \"count\"}, {\"out_degree\": 572, \"count\": 4, \"label\": \"count\"}, {\"out_degree\": 573, \"count\": 10, \"label\": \"count\"}, {\"out_degree\": 575, \"count\": 11, \"label\": \"count\"}, {\"out_degree\": 576, \"count\": 14, \"label\": \"count\"}, {\"out_degree\": 577, \"count\": 14, \"label\": \"count\"}, {\"out_degree\": 578, \"count\": 11, \"label\": \"count\"}, {\"out_degree\": 579, \"count\": 9, \"label\": \"count\"}, {\"out_degree\": 580, \"count\": 10, \"label\": \"count\"}, {\"out_degree\": 581, \"count\": 7, \"label\": \"count\"}, {\"out_degree\": 582, \"count\": 11, \"label\": \"count\"}, {\"out_degree\": 583, \"count\": 4, \"label\": \"count\"}, {\"out_degree\": 584, \"count\": 10, \"label\": \"count\"}, {\"out_degree\": 585, \"count\": 9, \"label\": \"count\"}, {\"out_degree\": 586, \"count\": 10, \"label\": \"count\"}, {\"out_degree\": 587, \"count\": 8, \"label\": \"count\"}, {\"out_degree\": 588, \"count\": 7, \"label\": \"count\"}, {\"out_degree\": 589, \"count\": 15, \"label\": \"count\"}, {\"out_degree\": 590, \"count\": 4, \"label\": \"count\"}, {\"out_degree\": 591, \"count\": 12, \"label\": \"count\"}, {\"out_degree\": 592, \"count\": 12, \"label\": \"count\"}, {\"out_degree\": 593, \"count\": 10, \"label\": \"count\"}, {\"out_degree\": 594, \"count\": 9, \"label\": \"count\"}, {\"out_degree\": 595, \"count\": 12, \"label\": \"count\"}, {\"out_degree\": 596, \"count\": 16, \"label\": \"count\"}, {\"out_degree\": 597, \"count\": 16, \"label\": \"count\"}, {\"out_degree\": 598, \"count\": 7, \"label\": \"count\"}, {\"out_degree\": 599, \"count\": 11, \"label\": \"count\"}, {\"out_degree\": 600, \"count\": 10, \"label\": \"count\"}, {\"out_degree\": 601, \"count\": 18, \"label\": \"count\"}, {\"out_degree\": 602, \"count\": 6, \"label\": \"count\"}, {\"out_degree\": 603, \"count\": 18, \"label\": \"count\"}, {\"out_degree\": 604, \"count\": 16, \"label\": \"count\"}, {\"out_degree\": 605, \"count\": 7, \"label\": \"count\"}, {\"out_degree\": 606, \"count\": 7, \"label\": \"count\"}, {\"out_degree\": 607, \"count\": 11, \"label\": \"count\"}, {\"out_degree\": 608, \"count\": 11, \"label\": \"count\"}, {\"out_degree\": 609, \"count\": 7, \"label\": \"count\"}, {\"out_degree\": 610, \"count\": 16, \"label\": \"count\"}, {\"out_degree\": 611, \"count\": 9, \"label\": \"count\"}, {\"out_degree\": 612, \"count\": 11, \"label\": \"count\"}, {\"out_degree\": 613, \"count\": 10, \"label\": \"count\"}, {\"out_degree\": 614, \"count\": 8, \"label\": \"count\"}, {\"out_degree\": 615, \"count\": 11, \"label\": \"count\"}, {\"out_degree\": 616, \"count\": 14, \"label\": \"count\"}, {\"out_degree\": 617, \"count\": 10, \"label\": \"count\"}, {\"out_degree\": 618, \"count\": 13, \"label\": \"count\"}, {\"out_degree\": 619, \"count\": 15, \"label\": \"count\"}, {\"out_degree\": 620, \"count\": 14, \"label\": \"count\"}, {\"out_degree\": 621, \"count\": 11, \"label\": \"count\"}, {\"out_degree\": 622, \"count\": 16, \"label\": \"count\"}, {\"out_degree\": 623, \"count\": 13, \"label\": \"count\"}, {\"out_degree\": 624, \"count\": 15, \"label\": \"count\"}, {\"out_degree\": 625, \"count\": 17, \"label\": \"count\"}, {\"out_degree\": 626, \"count\": 13, \"label\": \"count\"}, {\"out_degree\": 627, \"count\": 27, \"label\": \"count\"}, {\"out_degree\": 628, \"count\": 15, \"label\": \"count\"}, {\"out_degree\": 629, \"count\": 11, \"label\": \"count\"}, {\"out_degree\": 630, \"count\": 15, \"label\": \"count\"}, {\"out_degree\": 631, \"count\": 8, \"label\": \"count\"}, {\"out_degree\": 632, \"count\": 17, \"label\": \"count\"}, {\"out_degree\": 633, \"count\": 11, \"label\": \"count\"}, {\"out_degree\": 634, \"count\": 5, \"label\": \"count\"}, {\"out_degree\": 635, \"count\": 11, \"label\": \"count\"}, {\"out_degree\": 636, \"count\": 11, \"label\": \"count\"}, {\"out_degree\": 637, \"count\": 10, \"label\": \"count\"}, {\"out_degree\": 638, \"count\": 10, \"label\": \"count\"}, {\"out_degree\": 639, \"count\": 12, \"label\": \"count\"}, {\"out_degree\": 640, \"count\": 15, \"label\": \"count\"}, {\"out_degree\": 641, \"count\": 18, \"label\": \"count\"}, {\"out_degree\": 642, \"count\": 20, \"label\": \"count\"}, {\"out_degree\": 643, \"count\": 22, \"label\": \"count\"}, {\"out_degree\": 644, \"count\": 18, \"label\": \"count\"}, {\"out_degree\": 645, \"count\": 11, \"label\": \"count\"}, {\"out_degree\": 646, \"count\": 16, \"label\": \"count\"}, {\"out_degree\": 647, \"count\": 19, \"label\": \"count\"}, {\"out_degree\": 648, \"count\": 17, \"label\": \"count\"}, {\"out_degree\": 649, \"count\": 16, \"label\": \"count\"}, {\"out_degree\": 650, \"count\": 11, \"label\": \"count\"}, {\"out_degree\": 651, \"count\": 12, \"label\": \"count\"}, {\"out_degree\": 652, \"count\": 10, \"label\": \"count\"}, {\"out_degree\": 653, \"count\": 13, \"label\": \"count\"}, {\"out_degree\": 654, \"count\": 11, \"label\": \"count\"}, {\"out_degree\": 655, \"count\": 7, \"label\": \"count\"}, {\"out_degree\": 656, \"count\": 12, \"label\": \"count\"}, {\"out_degree\": 657, \"count\": 11, \"label\": \"count\"}, {\"out_degree\": 658, \"count\": 5, \"label\": \"count\"}, {\"out_degree\": 659, \"count\": 8, \"label\": \"count\"}, {\"out_degree\": 660, \"count\": 9, \"label\": \"count\"}, {\"out_degree\": 661, \"count\": 10, \"label\": \"count\"}, {\"out_degree\": 662, \"count\": 10, \"label\": \"count\"}, {\"out_degree\": 663, \"count\": 8, \"label\": \"count\"}, {\"out_degree\": 664, \"count\": 5, \"label\": \"count\"}, {\"out_degree\": 665, \"count\": 8, \"label\": \"count\"}, {\"out_degree\": 666, \"count\": 5, \"label\": \"count\"}, {\"out_degree\": 667, \"count\": 6, \"label\": \"count\"}, {\"out_degree\": 668, \"count\": 2, \"label\": \"count\"}, {\"out_degree\": 669, \"count\": 5, \"label\": \"count\"}, {\"out_degree\": 670, \"count\": 5, \"label\": \"count\"}, {\"out_degree\": 671, \"count\": 5, \"label\": \"count\"}, {\"out_degree\": 672, \"count\": 2, \"label\": \"count\"}, {\"out_degree\": 673, \"count\": 3, \"label\": \"count\"}, {\"out_degree\": 675, \"count\": 1, \"label\": \"count\"}, {\"out_degree\": 676, \"count\": 4, \"label\": \"count\"}, {\"out_degree\": 677, \"count\": 9, \"label\": \"count\"}, {\"out_degree\": 678, \"count\": 4, \"label\": \"count\"}, {\"out_degree\": 679, \"count\": 5, \"label\": \"count\"}, {\"out_degree\": 680, \"count\": 2, \"label\": \"count\"}, {\"out_degree\": 681, \"count\": 5, \"label\": \"count\"}, {\"out_degree\": 682, \"count\": 5, \"label\": \"count\"}, {\"out_degree\": 684, \"count\": 4, \"label\": \"count\"}, {\"out_degree\": 685, \"count\": 2, \"label\": \"count\"}, {\"out_degree\": 686, \"count\": 3, \"label\": \"count\"}, {\"out_degree\": 687, \"count\": 3, \"label\": \"count\"}, {\"out_degree\": 688, \"count\": 3, \"label\": \"count\"}, {\"out_degree\": 689, \"count\": 5, \"label\": \"count\"}, {\"out_degree\": 690, \"count\": 2, \"label\": \"count\"}, {\"out_degree\": 691, \"count\": 3, \"label\": \"count\"}, {\"out_degree\": 692, \"count\": 3, \"label\": \"count\"}, {\"out_degree\": 693, \"count\": 1, \"label\": \"count\"}, {\"out_degree\": 694, \"count\": 2, \"label\": \"count\"}, {\"out_degree\": 695, \"count\": 4, \"label\": \"count\"}, {\"out_degree\": 697, \"count\": 1, \"label\": \"count\"}, {\"out_degree\": 698, \"count\": 3, \"label\": \"count\"}, {\"out_degree\": 699, \"count\": 4, \"label\": \"count\"}, {\"out_degree\": 700, \"count\": 5, \"label\": \"count\"}, {\"out_degree\": 701, \"count\": 2, \"label\": \"count\"}, {\"out_degree\": 702, \"count\": 3, \"label\": \"count\"}, {\"out_degree\": 703, \"count\": 2, \"label\": \"count\"}, {\"out_degree\": 705, \"count\": 1, \"label\": \"count\"}, {\"out_degree\": 706, \"count\": 1, \"label\": \"count\"}, {\"out_degree\": 707, \"count\": 5, \"label\": \"count\"}, {\"out_degree\": 708, \"count\": 4, \"label\": \"count\"}, {\"out_degree\": 709, \"count\": 6, \"label\": \"count\"}, {\"out_degree\": 710, \"count\": 4, \"label\": \"count\"}, {\"out_degree\": 711, \"count\": 3, \"label\": \"count\"}, {\"out_degree\": 712, \"count\": 4, \"label\": \"count\"}, {\"out_degree\": 713, \"count\": 5, \"label\": \"count\"}, {\"out_degree\": 714, \"count\": 5, \"label\": \"count\"}, {\"out_degree\": 715, \"count\": 2, \"label\": \"count\"}, {\"out_degree\": 716, \"count\": 4, \"label\": \"count\"}, {\"out_degree\": 717, \"count\": 3, \"label\": \"count\"}, {\"out_degree\": 718, \"count\": 5, \"label\": \"count\"}, {\"out_degree\": 719, \"count\": 3, \"label\": \"count\"}, {\"out_degree\": 720, \"count\": 2, \"label\": \"count\"}, {\"out_degree\": 721, \"count\": 4, \"label\": \"count\"}, {\"out_degree\": 722, \"count\": 8, \"label\": \"count\"}, {\"out_degree\": 723, \"count\": 2, \"label\": \"count\"}, {\"out_degree\": 724, \"count\": 2, \"label\": \"count\"}, {\"out_degree\": 725, \"count\": 4, \"label\": \"count\"}, {\"out_degree\": 726, \"count\": 5, \"label\": \"count\"}, {\"out_degree\": 728, \"count\": 8, \"label\": \"count\"}, {\"out_degree\": 729, \"count\": 5, \"label\": \"count\"}, {\"out_degree\": 730, \"count\": 5, \"label\": \"count\"}, {\"out_degree\": 732, \"count\": 5, \"label\": \"count\"}, {\"out_degree\": 733, \"count\": 5, \"label\": \"count\"}, {\"out_degree\": 734, \"count\": 5, \"label\": \"count\"}, {\"out_degree\": 735, \"count\": 4, \"label\": \"count\"}, {\"out_degree\": 736, \"count\": 6, \"label\": \"count\"}, {\"out_degree\": 737, \"count\": 3, \"label\": \"count\"}, {\"out_degree\": 738, \"count\": 6, \"label\": \"count\"}, {\"out_degree\": 739, \"count\": 2, \"label\": \"count\"}, {\"out_degree\": 740, \"count\": 6, \"label\": \"count\"}, {\"out_degree\": 741, \"count\": 2, \"label\": \"count\"}, {\"out_degree\": 742, \"count\": 4, \"label\": \"count\"}, {\"out_degree\": 743, \"count\": 3, \"label\": \"count\"}, {\"out_degree\": 744, \"count\": 3, \"label\": \"count\"}, {\"out_degree\": 745, \"count\": 6, \"label\": \"count\"}, {\"out_degree\": 746, \"count\": 5, \"label\": \"count\"}, {\"out_degree\": 747, \"count\": 2, \"label\": \"count\"}, {\"out_degree\": 748, \"count\": 1, \"label\": \"count\"}, {\"out_degree\": 749, \"count\": 2, \"label\": \"count\"}, {\"out_degree\": 750, \"count\": 2, \"label\": \"count\"}, {\"out_degree\": 751, \"count\": 1, \"label\": \"count\"}, {\"out_degree\": 752, \"count\": 2, \"label\": \"count\"}, {\"out_degree\": 753, \"count\": 1, \"label\": \"count\"}, {\"out_degree\": 754, \"count\": 5, \"label\": \"count\"}, {\"out_degree\": 755, \"count\": 3, \"label\": \"count\"}, {\"out_degree\": 756, \"count\": 4, \"label\": \"count\"}, {\"out_degree\": 757, \"count\": 6, \"label\": \"count\"}, {\"out_degree\": 759, \"count\": 2, \"label\": \"count\"}, {\"out_degree\": 760, \"count\": 6, \"label\": \"count\"}, {\"out_degree\": 761, \"count\": 2, \"label\": \"count\"}, {\"out_degree\": 762, \"count\": 7, \"label\": \"count\"}, {\"out_degree\": 763, \"count\": 5, \"label\": \"count\"}, {\"out_degree\": 764, \"count\": 1, \"label\": \"count\"}, {\"out_degree\": 765, \"count\": 7, \"label\": \"count\"}, {\"out_degree\": 766, \"count\": 4, \"label\": \"count\"}, {\"out_degree\": 767, \"count\": 2, \"label\": \"count\"}, {\"out_degree\": 768, \"count\": 10, \"label\": \"count\"}, {\"out_degree\": 769, \"count\": 3, \"label\": \"count\"}, {\"out_degree\": 770, \"count\": 2, \"label\": \"count\"}, {\"out_degree\": 771, \"count\": 2, \"label\": \"count\"}, {\"out_degree\": 772, \"count\": 2, \"label\": \"count\"}, {\"out_degree\": 773, \"count\": 3, \"label\": \"count\"}, {\"out_degree\": 775, \"count\": 5, \"label\": \"count\"}, {\"out_degree\": 776, \"count\": 4, \"label\": \"count\"}, {\"out_degree\": 777, \"count\": 5, \"label\": \"count\"}, {\"out_degree\": 778, \"count\": 3, \"label\": \"count\"}, {\"out_degree\": 779, \"count\": 3, \"label\": \"count\"}, {\"out_degree\": 780, \"count\": 2, \"label\": \"count\"}, {\"out_degree\": 781, \"count\": 5, \"label\": \"count\"}, {\"out_degree\": 782, \"count\": 3, \"label\": \"count\"}, {\"out_degree\": 783, \"count\": 1, \"label\": \"count\"}, {\"out_degree\": 784, \"count\": 2, \"label\": \"count\"}, {\"out_degree\": 785, \"count\": 2, \"label\": \"count\"}, {\"out_degree\": 786, \"count\": 5, \"label\": \"count\"}, {\"out_degree\": 787, \"count\": 1, \"label\": \"count\"}, {\"out_degree\": 788, \"count\": 4, \"label\": \"count\"}, {\"out_degree\": 789, \"count\": 5, \"label\": \"count\"}, {\"out_degree\": 790, \"count\": 6, \"label\": \"count\"}, {\"out_degree\": 791, \"count\": 5, \"label\": \"count\"}, {\"out_degree\": 792, \"count\": 4, \"label\": \"count\"}, {\"out_degree\": 793, \"count\": 3, \"label\": \"count\"}, {\"out_degree\": 794, \"count\": 2, \"label\": \"count\"}, {\"out_degree\": 795, \"count\": 4, \"label\": \"count\"}, {\"out_degree\": 796, \"count\": 1, \"label\": \"count\"}, {\"out_degree\": 798, \"count\": 1, \"label\": \"count\"}, {\"out_degree\": 799, \"count\": 4, \"label\": \"count\"}, {\"out_degree\": 800, \"count\": 1, \"label\": \"count\"}, {\"out_degree\": 801, \"count\": 2, \"label\": \"count\"}, {\"out_degree\": 802, \"count\": 2, \"label\": \"count\"}, {\"out_degree\": 803, \"count\": 1, \"label\": \"count\"}, {\"out_degree\": 804, \"count\": 6, \"label\": \"count\"}, {\"out_degree\": 805, \"count\": 4, \"label\": \"count\"}, {\"out_degree\": 806, \"count\": 6, \"label\": \"count\"}, {\"out_degree\": 807, \"count\": 2, \"label\": \"count\"}, {\"out_degree\": 808, \"count\": 5, \"label\": \"count\"}, {\"out_degree\": 809, \"count\": 7, \"label\": \"count\"}, {\"out_degree\": 810, \"count\": 5, \"label\": \"count\"}, {\"out_degree\": 811, \"count\": 5, \"label\": \"count\"}, {\"out_degree\": 813, \"count\": 5, \"label\": \"count\"}, {\"out_degree\": 814, \"count\": 9, \"label\": \"count\"}, {\"out_degree\": 815, \"count\": 6, \"label\": \"count\"}, {\"out_degree\": 816, \"count\": 3, \"label\": \"count\"}, {\"out_degree\": 818, \"count\": 3, \"label\": \"count\"}, {\"out_degree\": 819, \"count\": 2, \"label\": \"count\"}, {\"out_degree\": 820, \"count\": 5, \"label\": \"count\"}, {\"out_degree\": 821, \"count\": 5, \"label\": \"count\"}, {\"out_degree\": 822, \"count\": 4, \"label\": \"count\"}, {\"out_degree\": 823, \"count\": 2, \"label\": \"count\"}, {\"out_degree\": 824, \"count\": 1, \"label\": \"count\"}, {\"out_degree\": 825, \"count\": 9, \"label\": \"count\"}, {\"out_degree\": 826, \"count\": 1, \"label\": \"count\"}, {\"out_degree\": 827, \"count\": 1, \"label\": \"count\"}, {\"out_degree\": 828, \"count\": 3, \"label\": \"count\"}, {\"out_degree\": 829, \"count\": 2, \"label\": \"count\"}, {\"out_degree\": 830, \"count\": 6, \"label\": \"count\"}, {\"out_degree\": 832, \"count\": 2, \"label\": \"count\"}, {\"out_degree\": 833, \"count\": 1, \"label\": \"count\"}, {\"out_degree\": 834, \"count\": 2, \"label\": \"count\"}, {\"out_degree\": 837, \"count\": 4, \"label\": \"count\"}, {\"out_degree\": 839, \"count\": 1, \"label\": \"count\"}, {\"out_degree\": 842, \"count\": 2, \"label\": \"count\"}, {\"out_degree\": 843, \"count\": 1, \"label\": \"count\"}, {\"out_degree\": 844, \"count\": 1, \"label\": \"count\"}, {\"out_degree\": 845, \"count\": 3, \"label\": \"count\"}, {\"out_degree\": 846, \"count\": 3, \"label\": \"count\"}, {\"out_degree\": 847, \"count\": 3, \"label\": \"count\"}, {\"out_degree\": 848, \"count\": 2, \"label\": \"count\"}, {\"out_degree\": 849, \"count\": 5, \"label\": \"count\"}, {\"out_degree\": 850, \"count\": 2, \"label\": \"count\"}, {\"out_degree\": 851, \"count\": 1, \"label\": \"count\"}, {\"out_degree\": 852, \"count\": 4, \"label\": \"count\"}, {\"out_degree\": 853, \"count\": 1, \"label\": \"count\"}, {\"out_degree\": 854, \"count\": 3, \"label\": \"count\"}, {\"out_degree\": 856, \"count\": 4, \"label\": \"count\"}, {\"out_degree\": 857, \"count\": 4, \"label\": \"count\"}, {\"out_degree\": 858, \"count\": 3, \"label\": \"count\"}, {\"out_degree\": 859, \"count\": 3, \"label\": \"count\"}, {\"out_degree\": 860, \"count\": 4, \"label\": \"count\"}, {\"out_degree\": 861, \"count\": 3, \"label\": \"count\"}, {\"out_degree\": 862, \"count\": 2, \"label\": \"count\"}, {\"out_degree\": 863, \"count\": 3, \"label\": \"count\"}, {\"out_degree\": 864, \"count\": 3, \"label\": \"count\"}, {\"out_degree\": 865, \"count\": 4, \"label\": \"count\"}, {\"out_degree\": 866, \"count\": 1, \"label\": \"count\"}, {\"out_degree\": 867, \"count\": 1, \"label\": \"count\"}, {\"out_degree\": 868, \"count\": 1, \"label\": \"count\"}, {\"out_degree\": 870, \"count\": 2, \"label\": \"count\"}, {\"out_degree\": 871, \"count\": 2, \"label\": \"count\"}, {\"out_degree\": 872, \"count\": 1, \"label\": \"count\"}, {\"out_degree\": 873, \"count\": 1, \"label\": \"count\"}, {\"out_degree\": 876, \"count\": 1, \"label\": \"count\"}, {\"out_degree\": 877, \"count\": 3, \"label\": \"count\"}, {\"out_degree\": 879, \"count\": 1, \"label\": \"count\"}, {\"out_degree\": 880, \"count\": 2, \"label\": \"count\"}, {\"out_degree\": 881, \"count\": 2, \"label\": \"count\"}, {\"out_degree\": 883, \"count\": 1, \"label\": \"count\"}, {\"out_degree\": 884, \"count\": 2, \"label\": \"count\"}, {\"out_degree\": 885, \"count\": 1, \"label\": \"count\"}, {\"out_degree\": 886, \"count\": 1, \"label\": \"count\"}, {\"out_degree\": 887, \"count\": 3, \"label\": \"count\"}, {\"out_degree\": 888, \"count\": 1, \"label\": \"count\"}, {\"out_degree\": 890, \"count\": 3, \"label\": \"count\"}, {\"out_degree\": 891, \"count\": 2, \"label\": \"count\"}, {\"out_degree\": 892, \"count\": 1, \"label\": \"count\"}, {\"out_degree\": 895, \"count\": 1, \"label\": \"count\"}, {\"out_degree\": 897, \"count\": 1, \"label\": \"count\"}, {\"out_degree\": 898, \"count\": 2, \"label\": \"count\"}, {\"out_degree\": 899, \"count\": 1, \"label\": \"count\"}, {\"out_degree\": 900, \"count\": 1, \"label\": \"count\"}, {\"out_degree\": 901, \"count\": 1, \"label\": \"count\"}, {\"out_degree\": 902, \"count\": 1, \"label\": \"count\"}, {\"out_degree\": 903, \"count\": 2, \"label\": \"count\"}, {\"out_degree\": 904, \"count\": 3, \"label\": \"count\"}, {\"out_degree\": 905, \"count\": 1, \"label\": \"count\"}, {\"out_degree\": 907, \"count\": 1, \"label\": \"count\"}, {\"out_degree\": 908, \"count\": 1, \"label\": \"count\"}, {\"out_degree\": 909, \"count\": 2, \"label\": \"count\"}, {\"out_degree\": 910, \"count\": 2, \"label\": \"count\"}, {\"out_degree\": 911, \"count\": 2, \"label\": \"count\"}, {\"out_degree\": 912, \"count\": 1, \"label\": \"count\"}, {\"out_degree\": 913, \"count\": 2, \"label\": \"count\"}, {\"out_degree\": 914, \"count\": 1, \"label\": \"count\"}, {\"out_degree\": 915, \"count\": 1, \"label\": \"count\"}, {\"out_degree\": 916, \"count\": 2, \"label\": \"count\"}, {\"out_degree\": 917, \"count\": 1, \"label\": \"count\"}, {\"out_degree\": 918, \"count\": 3, \"label\": \"count\"}, {\"out_degree\": 919, \"count\": 3, \"label\": \"count\"}, {\"out_degree\": 920, \"count\": 2, \"label\": \"count\"}, {\"out_degree\": 921, \"count\": 2, \"label\": \"count\"}, {\"out_degree\": 923, \"count\": 3, \"label\": \"count\"}, {\"out_degree\": 927, \"count\": 2, \"label\": \"count\"}, {\"out_degree\": 928, \"count\": 1, \"label\": \"count\"}, {\"out_degree\": 929, \"count\": 1, \"label\": \"count\"}, {\"out_degree\": 931, \"count\": 1, \"label\": \"count\"}, {\"out_degree\": 935, \"count\": 1, \"label\": \"count\"}, {\"out_degree\": 936, \"count\": 1, \"label\": \"count\"}, {\"out_degree\": 937, \"count\": 1, \"label\": \"count\"}, {\"out_degree\": 938, \"count\": 1, \"label\": \"count\"}, {\"out_degree\": 943, \"count\": 3, \"label\": \"count\"}, {\"out_degree\": 945, \"count\": 2, \"label\": \"count\"}, {\"out_degree\": 947, \"count\": 3, \"label\": \"count\"}, {\"out_degree\": 948, \"count\": 2, \"label\": \"count\"}, {\"out_degree\": 949, \"count\": 3, \"label\": \"count\"}, {\"out_degree\": 951, \"count\": 2, \"label\": \"count\"}, {\"out_degree\": 953, \"count\": 4, \"label\": \"count\"}, {\"out_degree\": 954, \"count\": 1, \"label\": \"count\"}, {\"out_degree\": 956, \"count\": 3, \"label\": \"count\"}, {\"out_degree\": 957, \"count\": 1, \"label\": \"count\"}, {\"out_degree\": 958, \"count\": 1, \"label\": \"count\"}, {\"out_degree\": 959, \"count\": 1, \"label\": \"count\"}, {\"out_degree\": 961, \"count\": 3, \"label\": \"count\"}, {\"out_degree\": 964, \"count\": 1, \"label\": \"count\"}, {\"out_degree\": 966, \"count\": 3, \"label\": \"count\"}, {\"out_degree\": 967, \"count\": 2, \"label\": \"count\"}, {\"out_degree\": 968, \"count\": 2, \"label\": \"count\"}, {\"out_degree\": 969, \"count\": 3, \"label\": \"count\"}, {\"out_degree\": 970, \"count\": 2, \"label\": \"count\"}, {\"out_degree\": 971, \"count\": 2, \"label\": \"count\"}, {\"out_degree\": 972, \"count\": 4, \"label\": \"count\"}, {\"out_degree\": 973, \"count\": 2, \"label\": \"count\"}, {\"out_degree\": 974, \"count\": 1, \"label\": \"count\"}, {\"out_degree\": 976, \"count\": 2, \"label\": \"count\"}, {\"out_degree\": 977, \"count\": 2, \"label\": \"count\"}, {\"out_degree\": 978, \"count\": 3, \"label\": \"count\"}, {\"out_degree\": 979, \"count\": 1, \"label\": \"count\"}, {\"out_degree\": 980, \"count\": 3, \"label\": \"count\"}, {\"out_degree\": 981, \"count\": 4, \"label\": \"count\"}, {\"out_degree\": 982, \"count\": 3, \"label\": \"count\"}, {\"out_degree\": 983, \"count\": 6, \"label\": \"count\"}, {\"out_degree\": 984, \"count\": 2, \"label\": \"count\"}, {\"out_degree\": 985, \"count\": 1, \"label\": \"count\"}, {\"out_degree\": 986, \"count\": 2, \"label\": \"count\"}, {\"out_degree\": 987, \"count\": 3, \"label\": \"count\"}, {\"out_degree\": 988, \"count\": 2, \"label\": \"count\"}, {\"out_degree\": 989, \"count\": 3, \"label\": \"count\"}, {\"out_degree\": 990, \"count\": 5, \"label\": \"count\"}, {\"out_degree\": 991, \"count\": 4, \"label\": \"count\"}, {\"out_degree\": 992, \"count\": 4, \"label\": \"count\"}, {\"out_degree\": 993, \"count\": 4, \"label\": \"count\"}, {\"out_degree\": 994, \"count\": 6, \"label\": \"count\"}, {\"out_degree\": 995, \"count\": 3, \"label\": \"count\"}, {\"out_degree\": 996, \"count\": 5, \"label\": \"count\"}, {\"out_degree\": 997, \"count\": 2, \"label\": \"count\"}, {\"out_degree\": 998, \"count\": 3, \"label\": \"count\"}, {\"out_degree\": 1000, \"count\": 6, \"label\": \"count\"}, {\"out_degree\": 1001, \"count\": 6, \"label\": \"count\"}, {\"out_degree\": 1002, \"count\": 3, \"label\": \"count\"}, {\"out_degree\": 1003, \"count\": 2, \"label\": \"count\"}, {\"out_degree\": 1004, \"count\": 1, \"label\": \"count\"}, {\"out_degree\": 1005, \"count\": 2, \"label\": \"count\"}, {\"out_degree\": 1006, \"count\": 3, \"label\": \"count\"}, {\"out_degree\": 1007, \"count\": 3, \"label\": \"count\"}, {\"out_degree\": 1008, \"count\": 2, \"label\": \"count\"}, {\"out_degree\": 1009, \"count\": 1, \"label\": \"count\"}, {\"out_degree\": 1010, \"count\": 2, \"label\": \"count\"}, {\"out_degree\": 1011, \"count\": 4, \"label\": \"count\"}, {\"out_degree\": 1012, \"count\": 2, \"label\": \"count\"}, {\"out_degree\": 1013, \"count\": 4, \"label\": \"count\"}, {\"out_degree\": 1014, \"count\": 5, \"label\": \"count\"}, {\"out_degree\": 1015, \"count\": 1, \"label\": \"count\"}, {\"out_degree\": 1016, \"count\": 6, \"label\": \"count\"}, {\"out_degree\": 1017, \"count\": 6, \"label\": \"count\"}, {\"out_degree\": 1018, \"count\": 3, \"label\": \"count\"}, {\"out_degree\": 1019, \"count\": 2, \"label\": \"count\"}, {\"out_degree\": 1020, \"count\": 2, \"label\": \"count\"}, {\"out_degree\": 1021, \"count\": 4, \"label\": \"count\"}, {\"out_degree\": 1022, \"count\": 4, \"label\": \"count\"}, {\"out_degree\": 1023, \"count\": 6, \"label\": \"count\"}, {\"out_degree\": 1024, \"count\": 3, \"label\": \"count\"}, {\"out_degree\": 1025, \"count\": 7, \"label\": \"count\"}, {\"out_degree\": 1026, \"count\": 4, \"label\": \"count\"}, {\"out_degree\": 1027, \"count\": 6, \"label\": \"count\"}, {\"out_degree\": 1028, \"count\": 2, \"label\": \"count\"}, {\"out_degree\": 1029, \"count\": 8, \"label\": \"count\"}, {\"out_degree\": 1030, \"count\": 7, \"label\": \"count\"}, {\"out_degree\": 1031, \"count\": 4, \"label\": \"count\"}, {\"out_degree\": 1033, \"count\": 4, \"label\": \"count\"}, {\"out_degree\": 1034, \"count\": 1, \"label\": \"count\"}, {\"out_degree\": 1035, \"count\": 7, \"label\": \"count\"}, {\"out_degree\": 1036, \"count\": 5, \"label\": \"count\"}, {\"out_degree\": 1038, \"count\": 3, \"label\": \"count\"}, {\"out_degree\": 1039, \"count\": 2, \"label\": \"count\"}, {\"out_degree\": 1040, \"count\": 3, \"label\": \"count\"}, {\"out_degree\": 1041, \"count\": 2, \"label\": \"count\"}, {\"out_degree\": 1042, \"count\": 2, \"label\": \"count\"}, {\"out_degree\": 1043, \"count\": 1, \"label\": \"count\"}, {\"out_degree\": 1044, \"count\": 1, \"label\": \"count\"}, {\"out_degree\": 1045, \"count\": 2, \"label\": \"count\"}, {\"out_degree\": 1046, \"count\": 1, \"label\": \"count\"}, {\"out_degree\": 1047, \"count\": 3, \"label\": \"count\"}, {\"out_degree\": 1048, \"count\": 1, \"label\": \"count\"}, {\"out_degree\": 1049, \"count\": 3, \"label\": \"count\"}, {\"out_degree\": 1050, \"count\": 3, \"label\": \"count\"}, {\"out_degree\": 1051, \"count\": 3, \"label\": \"count\"}, {\"out_degree\": 1052, \"count\": 3, \"label\": \"count\"}, {\"out_degree\": 1053, \"count\": 2, \"label\": \"count\"}, {\"out_degree\": 1054, \"count\": 2, \"label\": \"count\"}, {\"out_degree\": 1055, \"count\": 1, \"label\": \"count\"}, {\"out_degree\": 1056, \"count\": 3, \"label\": \"count\"}, {\"out_degree\": 1057, \"count\": 5, \"label\": \"count\"}, {\"out_degree\": 1060, \"count\": 1, \"label\": \"count\"}, {\"out_degree\": 1063, \"count\": 2, \"label\": \"count\"}, {\"out_degree\": 1065, \"count\": 2, \"label\": \"count\"}, {\"out_degree\": 1067, \"count\": 1, \"label\": \"count\"}, {\"out_degree\": 1068, \"count\": 5, \"label\": \"count\"}, {\"out_degree\": 1069, \"count\": 2, \"label\": \"count\"}, {\"out_degree\": 1071, \"count\": 1, \"label\": \"count\"}, {\"out_degree\": 1072, \"count\": 4, \"label\": \"count\"}, {\"out_degree\": 1073, \"count\": 1, \"label\": \"count\"}, {\"out_degree\": 1081, \"count\": 2, \"label\": \"count\"}, {\"out_degree\": 1083, \"count\": 1, \"label\": \"count\"}, {\"out_degree\": 1087, \"count\": 1, \"label\": \"count\"}, {\"out_degree\": 1088, \"count\": 1, \"label\": \"count\"}, {\"out_degree\": 1091, \"count\": 2, \"label\": \"count\"}, {\"out_degree\": 1095, \"count\": 2, \"label\": \"count\"}, {\"out_degree\": 1096, \"count\": 1, \"label\": \"count\"}, {\"out_degree\": 1105, \"count\": 1, \"label\": \"count\"}, {\"out_degree\": 1106, \"count\": 1, \"label\": \"count\"}, {\"out_degree\": 1108, \"count\": 1, \"label\": \"count\"}, {\"out_degree\": 1110, \"count\": 1, \"label\": \"count\"}, {\"out_degree\": 1111, \"count\": 2, \"label\": \"count\"}, {\"out_degree\": 1112, \"count\": 1, \"label\": \"count\"}, {\"out_degree\": 1113, \"count\": 2, \"label\": \"count\"}, {\"out_degree\": 1117, \"count\": 1, \"label\": \"count\"}, {\"out_degree\": 1119, \"count\": 1, \"label\": \"count\"}, {\"out_degree\": 1120, \"count\": 2, \"label\": \"count\"}, {\"out_degree\": 1122, \"count\": 1, \"label\": \"count\"}, {\"out_degree\": 1123, \"count\": 1, \"label\": \"count\"}, {\"out_degree\": 1125, \"count\": 1, \"label\": \"count\"}, {\"out_degree\": 1129, \"count\": 2, \"label\": \"count\"}, {\"out_degree\": 1132, \"count\": 1, \"label\": \"count\"}, {\"out_degree\": 1135, \"count\": 2, \"label\": \"count\"}, {\"out_degree\": 1136, \"count\": 1, \"label\": \"count\"}, {\"out_degree\": 1139, \"count\": 2, \"label\": \"count\"}, {\"out_degree\": 1140, \"count\": 1, \"label\": \"count\"}, {\"out_degree\": 1141, \"count\": 1, \"label\": \"count\"}, {\"out_degree\": 1142, \"count\": 1, \"label\": \"count\"}, {\"out_degree\": 1144, \"count\": 1, \"label\": \"count\"}, {\"out_degree\": 1146, \"count\": 2, \"label\": \"count\"}, {\"out_degree\": 1149, \"count\": 1, \"label\": \"count\"}, {\"out_degree\": 1150, \"count\": 2, \"label\": \"count\"}, {\"out_degree\": 1151, \"count\": 1, \"label\": \"count\"}, {\"out_degree\": 1152, \"count\": 1, \"label\": \"count\"}, {\"out_degree\": 1154, \"count\": 1, \"label\": \"count\"}, {\"out_degree\": 1156, \"count\": 1, \"label\": \"count\"}, {\"out_degree\": 1159, \"count\": 1, \"label\": \"count\"}, {\"out_degree\": 1160, \"count\": 2, \"label\": \"count\"}, {\"out_degree\": 1162, \"count\": 1, \"label\": \"count\"}, {\"out_degree\": 1165, \"count\": 2, \"label\": \"count\"}, {\"out_degree\": 1166, \"count\": 2, \"label\": \"count\"}, {\"out_degree\": 1168, \"count\": 1, \"label\": \"count\"}, {\"out_degree\": 1172, \"count\": 2, \"label\": \"count\"}, {\"out_degree\": 1176, \"count\": 1, \"label\": \"count\"}, {\"out_degree\": 1177, \"count\": 1, \"label\": \"count\"}, {\"out_degree\": 1182, \"count\": 1, \"label\": \"count\"}, {\"out_degree\": 1193, \"count\": 2, \"label\": \"count\"}, {\"out_degree\": 1194, \"count\": 1, \"label\": \"count\"}, {\"out_degree\": 1196, \"count\": 3, \"label\": \"count\"}, {\"out_degree\": 1197, \"count\": 2, \"label\": \"count\"}, {\"out_degree\": 1199, \"count\": 2, \"label\": \"count\"}, {\"out_degree\": 1200, \"count\": 1, \"label\": \"count\"}, {\"out_degree\": 1203, \"count\": 1, \"label\": \"count\"}, {\"out_degree\": 1207, \"count\": 2, \"label\": \"count\"}, {\"out_degree\": 1209, \"count\": 1, \"label\": \"count\"}, {\"out_degree\": 1213, \"count\": 1, \"label\": \"count\"}, {\"out_degree\": 1225, \"count\": 1, \"label\": \"count\"}, {\"out_degree\": 1231, \"count\": 1, \"label\": \"count\"}, {\"out_degree\": 1233, \"count\": 1, \"label\": \"count\"}, {\"out_degree\": 1243, \"count\": 2, \"label\": \"count\"}, {\"out_degree\": 1250, \"count\": 1, \"label\": \"count\"}, {\"out_degree\": 1251, \"count\": 1, \"label\": \"count\"}, {\"out_degree\": 1253, \"count\": 1, \"label\": \"count\"}, {\"out_degree\": 1254, \"count\": 1, \"label\": \"count\"}, {\"out_degree\": 1257, \"count\": 1, \"label\": \"count\"}, {\"out_degree\": 1263, \"count\": 1, \"label\": \"count\"}, {\"out_degree\": 1265, \"count\": 1, \"label\": \"count\"}, {\"out_degree\": 1278, \"count\": 1, \"label\": \"count\"}, {\"out_degree\": 1280, \"count\": 1, \"label\": \"count\"}, {\"out_degree\": 1309, \"count\": 1, \"label\": \"count\"}, {\"out_degree\": 1327, \"count\": 1, \"label\": \"count\"}, {\"out_degree\": 1328, \"count\": 1, \"label\": \"count\"}, {\"out_degree\": 1352, \"count\": 1, \"label\": \"count\"}, {\"out_degree\": 1365, \"count\": 1, \"label\": \"count\"}, {\"out_degree\": 1367, \"count\": 1, \"label\": \"count\"}, {\"out_degree\": 1372, \"count\": 1, \"label\": \"count\"}, {\"out_degree\": 1379, \"count\": 1, \"label\": \"count\"}, {\"out_degree\": 1391, \"count\": 1, \"label\": \"count\"}, {\"out_degree\": 1393, \"count\": 1, \"label\": \"count\"}, {\"out_degree\": 1412, \"count\": 1, \"label\": \"count\"}, {\"out_degree\": 1417, \"count\": 1, \"label\": \"count\"}, {\"out_degree\": 1419, \"count\": 1, \"label\": \"count\"}, {\"out_degree\": 1440, \"count\": 1, \"label\": \"count\"}, {\"out_degree\": 1444, \"count\": 1, \"label\": \"count\"}, {\"out_degree\": 1478, \"count\": 1, \"label\": \"count\"}, {\"out_degree\": 1480, \"count\": 1, \"label\": \"count\"}, {\"out_degree\": 1487, \"count\": 1, \"label\": \"count\"}, {\"out_degree\": 1492, \"count\": 1, \"label\": \"count\"}, {\"out_degree\": 1497, \"count\": 1, \"label\": \"count\"}, {\"out_degree\": 1502, \"count\": 2, \"label\": \"count\"}, {\"out_degree\": 1517, \"count\": 1, \"label\": \"count\"}, {\"out_degree\": 1518, \"count\": 1, \"label\": \"count\"}, {\"out_degree\": 1537, \"count\": 1, \"label\": \"count\"}, {\"out_degree\": 1539, \"count\": 1, \"label\": \"count\"}, {\"out_degree\": 1558, \"count\": 2, \"label\": \"count\"}, {\"out_degree\": 1583, \"count\": 1, \"label\": \"count\"}, {\"out_degree\": 1586, \"count\": 1, \"label\": \"count\"}, {\"out_degree\": 1601, \"count\": 1, \"label\": \"count\"}, {\"out_degree\": 1622, \"count\": 1, \"label\": \"count\"}, {\"out_degree\": 1626, \"count\": 1, \"label\": \"count\"}, {\"out_degree\": 1662, \"count\": 1, \"label\": \"count\"}, {\"out_degree\": 1720, \"count\": 1, \"label\": \"count\"}, {\"out_degree\": 1741, \"count\": 1, \"label\": \"count\"}, {\"out_degree\": 1812, \"count\": 2, \"label\": \"count\"}, {\"out_degree\": 1848, \"count\": 1, \"label\": \"count\"}, {\"out_degree\": 1897, \"count\": 1, \"label\": \"count\"}, {\"out_degree\": 1952, \"count\": 1, \"label\": \"count\"}, {\"out_degree\": 1971, \"count\": 1, \"label\": \"count\"}, {\"out_degree\": 1983, \"count\": 1, \"label\": \"count\"}, {\"out_degree\": 1986, \"count\": 1, \"label\": \"count\"}, {\"out_degree\": 1993, \"count\": 1, \"label\": \"count\"}, {\"out_degree\": 2009, \"count\": 1, \"label\": \"count\"}, {\"out_degree\": 2022, \"count\": 1, \"label\": \"count\"}, {\"out_degree\": 2030, \"count\": 1, \"label\": \"count\"}, {\"out_degree\": 2032, \"count\": 1, \"label\": \"count\"}, {\"out_degree\": 2046, \"count\": 1, \"label\": \"count\"}, {\"out_degree\": 2058, \"count\": 3, \"label\": \"count\"}, {\"out_degree\": 2061, \"count\": 1, \"label\": \"count\"}, {\"out_degree\": 2062, \"count\": 2, \"label\": \"count\"}, {\"out_degree\": 2064, \"count\": 1, \"label\": \"count\"}, {\"out_degree\": 2065, \"count\": 3, \"label\": \"count\"}, {\"out_degree\": 2066, \"count\": 1, \"label\": \"count\"}, {\"out_degree\": 2067, \"count\": 1, \"label\": \"count\"}, {\"out_degree\": 2068, \"count\": 5, \"label\": \"count\"}, {\"out_degree\": 2069, \"count\": 3, \"label\": \"count\"}, {\"out_degree\": 2070, \"count\": 1, \"label\": \"count\"}, {\"out_degree\": 2071, \"count\": 1, \"label\": \"count\"}, {\"out_degree\": 2072, \"count\": 2, \"label\": \"count\"}, {\"out_degree\": 2073, \"count\": 1, \"label\": \"count\"}, {\"out_degree\": 2074, \"count\": 1, \"label\": \"count\"}, {\"out_degree\": 2075, \"count\": 1, \"label\": \"count\"}, {\"out_degree\": 2081, \"count\": 1, \"label\": \"count\"}, {\"out_degree\": 2086, \"count\": 1, \"label\": \"count\"}, {\"out_degree\": 2089, \"count\": 1, \"label\": \"count\"}, {\"out_degree\": 2091, \"count\": 1, \"label\": \"count\"}, {\"out_degree\": 2097, \"count\": 1, \"label\": \"count\"}, {\"out_degree\": 2100, \"count\": 1, \"label\": \"count\"}, {\"out_degree\": 2125, \"count\": 1, \"label\": \"count\"}, {\"out_degree\": 2134, \"count\": 1, \"label\": \"count\"}, {\"out_degree\": 2137, \"count\": 1, \"label\": \"count\"}, {\"out_degree\": 2138, \"count\": 1, \"label\": \"count\"}, {\"out_degree\": 2140, \"count\": 1, \"label\": \"count\"}, {\"out_degree\": 2141, \"count\": 2, \"label\": \"count\"}, {\"out_degree\": 2143, \"count\": 5, \"label\": \"count\"}, {\"out_degree\": 2144, \"count\": 1, \"label\": \"count\"}, {\"out_degree\": 2146, \"count\": 3, \"label\": \"count\"}, {\"out_degree\": 2147, \"count\": 3, \"label\": \"count\"}, {\"out_degree\": 2148, \"count\": 2, \"label\": \"count\"}, {\"out_degree\": 2149, \"count\": 2, \"label\": \"count\"}, {\"out_degree\": 2150, \"count\": 4, \"label\": \"count\"}, {\"out_degree\": 2151, \"count\": 5, \"label\": \"count\"}, {\"out_degree\": 2152, \"count\": 3, \"label\": \"count\"}, {\"out_degree\": 2153, \"count\": 1, \"label\": \"count\"}, {\"out_degree\": 2154, \"count\": 4, \"label\": \"count\"}, {\"out_degree\": 2155, \"count\": 3, \"label\": \"count\"}, {\"out_degree\": 2156, \"count\": 2, \"label\": \"count\"}, {\"out_degree\": 2157, \"count\": 3, \"label\": \"count\"}, {\"out_degree\": 2158, \"count\": 2, \"label\": \"count\"}, {\"out_degree\": 2159, \"count\": 2, \"label\": \"count\"}, {\"out_degree\": 2160, \"count\": 2, \"label\": \"count\"}, {\"out_degree\": 2161, \"count\": 1, \"label\": \"count\"}, {\"out_degree\": 2163, \"count\": 1, \"label\": \"count\"}, {\"out_degree\": 2164, \"count\": 1, \"label\": \"count\"}, {\"out_degree\": 2165, \"count\": 2, \"label\": \"count\"}, {\"out_degree\": 2166, \"count\": 2, \"label\": \"count\"}, {\"out_degree\": 2167, \"count\": 2, \"label\": \"count\"}, {\"out_degree\": 2168, \"count\": 1, \"label\": \"count\"}, {\"out_degree\": 2170, \"count\": 2, \"label\": \"count\"}, {\"out_degree\": 2171, \"count\": 4, \"label\": \"count\"}, {\"out_degree\": 2172, \"count\": 5, \"label\": \"count\"}, {\"out_degree\": 2173, \"count\": 2, \"label\": \"count\"}, {\"out_degree\": 2174, \"count\": 1, \"label\": \"count\"}, {\"out_degree\": 2175, \"count\": 2, \"label\": \"count\"}, {\"out_degree\": 2176, \"count\": 3, \"label\": \"count\"}, {\"out_degree\": 2177, \"count\": 2, \"label\": \"count\"}, {\"out_degree\": 2178, \"count\": 3, \"label\": \"count\"}, {\"out_degree\": 2180, \"count\": 4, \"label\": \"count\"}, {\"out_degree\": 2181, \"count\": 5, \"label\": \"count\"}, {\"out_degree\": 2182, \"count\": 1, \"label\": \"count\"}, {\"out_degree\": 2183, \"count\": 1, \"label\": \"count\"}, {\"out_degree\": 2184, \"count\": 1, \"label\": \"count\"}, {\"out_degree\": 2185, \"count\": 5, \"label\": \"count\"}, {\"out_degree\": 2186, \"count\": 3, \"label\": \"count\"}, {\"out_degree\": 2187, \"count\": 2, \"label\": \"count\"}, {\"out_degree\": 2188, \"count\": 4, \"label\": \"count\"}, {\"out_degree\": 2189, \"count\": 3, \"label\": \"count\"}, {\"out_degree\": 2190, \"count\": 3, \"label\": \"count\"}, {\"out_degree\": 2191, \"count\": 3, \"label\": \"count\"}, {\"out_degree\": 2192, \"count\": 1, \"label\": \"count\"}, {\"out_degree\": 2193, \"count\": 2, \"label\": \"count\"}, {\"out_degree\": 2194, \"count\": 3, \"label\": \"count\"}, {\"out_degree\": 2195, \"count\": 1, \"label\": \"count\"}, {\"out_degree\": 2196, \"count\": 4, \"label\": \"count\"}, {\"out_degree\": 2197, \"count\": 1, \"label\": \"count\"}, {\"out_degree\": 2198, \"count\": 4, \"label\": \"count\"}, {\"out_degree\": 2199, \"count\": 3, \"label\": \"count\"}, {\"out_degree\": 2200, \"count\": 6, \"label\": \"count\"}, {\"out_degree\": 2201, \"count\": 6, \"label\": \"count\"}, {\"out_degree\": 2202, \"count\": 5, \"label\": \"count\"}, {\"out_degree\": 2203, \"count\": 2, \"label\": \"count\"}, {\"out_degree\": 2204, \"count\": 3, \"label\": \"count\"}, {\"out_degree\": 2205, \"count\": 4, \"label\": \"count\"}, {\"out_degree\": 2206, \"count\": 7, \"label\": \"count\"}, {\"out_degree\": 2207, \"count\": 7, \"label\": \"count\"}, {\"out_degree\": 2208, \"count\": 6, \"label\": \"count\"}, {\"out_degree\": 2209, \"count\": 5, \"label\": \"count\"}, {\"out_degree\": 2210, \"count\": 6, \"label\": \"count\"}, {\"out_degree\": 2211, \"count\": 6, \"label\": \"count\"}, {\"out_degree\": 2212, \"count\": 8, \"label\": \"count\"}, {\"out_degree\": 2213, \"count\": 9, \"label\": \"count\"}, {\"out_degree\": 2214, \"count\": 5, \"label\": \"count\"}, {\"out_degree\": 2215, \"count\": 7, \"label\": \"count\"}, {\"out_degree\": 2216, \"count\": 6, \"label\": \"count\"}, {\"out_degree\": 2217, \"count\": 3, \"label\": \"count\"}, {\"out_degree\": 2218, \"count\": 2, \"label\": \"count\"}, {\"out_degree\": 2219, \"count\": 8, \"label\": \"count\"}, {\"out_degree\": 2220, \"count\": 9, \"label\": \"count\"}, {\"out_degree\": 2221, \"count\": 7, \"label\": \"count\"}, {\"out_degree\": 2222, \"count\": 7, \"label\": \"count\"}, {\"out_degree\": 2223, \"count\": 4, \"label\": \"count\"}, {\"out_degree\": 2224, \"count\": 3, \"label\": \"count\"}, {\"out_degree\": 2225, \"count\": 3, \"label\": \"count\"}, {\"out_degree\": 2226, \"count\": 9, \"label\": \"count\"}, {\"out_degree\": 2227, \"count\": 3, \"label\": \"count\"}, {\"out_degree\": 2228, \"count\": 3, \"label\": \"count\"}, {\"out_degree\": 2229, \"count\": 6, \"label\": \"count\"}, {\"out_degree\": 2230, \"count\": 7, \"label\": \"count\"}, {\"out_degree\": 2231, \"count\": 7, \"label\": \"count\"}, {\"out_degree\": 2232, \"count\": 3, \"label\": \"count\"}, {\"out_degree\": 2233, \"count\": 6, \"label\": \"count\"}, {\"out_degree\": 2234, \"count\": 10, \"label\": \"count\"}, {\"out_degree\": 2235, \"count\": 7, \"label\": \"count\"}, {\"out_degree\": 2236, \"count\": 2, \"label\": \"count\"}, {\"out_degree\": 2237, \"count\": 10, \"label\": \"count\"}, {\"out_degree\": 2238, \"count\": 6, \"label\": \"count\"}, {\"out_degree\": 2239, \"count\": 7, \"label\": \"count\"}, {\"out_degree\": 2240, \"count\": 8, \"label\": \"count\"}, {\"out_degree\": 2241, \"count\": 10, \"label\": \"count\"}, {\"out_degree\": 2242, \"count\": 7, \"label\": \"count\"}, {\"out_degree\": 2243, \"count\": 10, \"label\": \"count\"}, {\"out_degree\": 2244, \"count\": 12, \"label\": \"count\"}, {\"out_degree\": 2245, \"count\": 11, \"label\": \"count\"}, {\"out_degree\": 2246, \"count\": 8, \"label\": \"count\"}, {\"out_degree\": 2247, \"count\": 6, \"label\": \"count\"}, {\"out_degree\": 2248, \"count\": 4, \"label\": \"count\"}, {\"out_degree\": 2249, \"count\": 5, \"label\": \"count\"}, {\"out_degree\": 2250, \"count\": 5, \"label\": \"count\"}, {\"out_degree\": 2251, \"count\": 6, \"label\": \"count\"}, {\"out_degree\": 2252, \"count\": 1, \"label\": \"count\"}, {\"out_degree\": 2253, \"count\": 1, \"label\": \"count\"}, {\"out_degree\": 2254, \"count\": 3, \"label\": \"count\"}, {\"out_degree\": 2255, \"count\": 2, \"label\": \"count\"}, {\"out_degree\": 2256, \"count\": 2, \"label\": \"count\"}, {\"out_degree\": 2257, \"count\": 2, \"label\": \"count\"}, {\"out_degree\": 2258, \"count\": 2, \"label\": \"count\"}, {\"out_degree\": 2259, \"count\": 1, \"label\": \"count\"}, {\"out_degree\": 2260, \"count\": 2, \"label\": \"count\"}, {\"out_degree\": 2262, \"count\": 4, \"label\": \"count\"}, {\"out_degree\": 2263, \"count\": 1, \"label\": \"count\"}, {\"out_degree\": 2264, \"count\": 4, \"label\": \"count\"}, {\"out_degree\": 2265, \"count\": 4, \"label\": \"count\"}, {\"out_degree\": 2266, \"count\": 8, \"label\": \"count\"}, {\"out_degree\": 2267, \"count\": 4, \"label\": \"count\"}, {\"out_degree\": 2268, \"count\": 5, \"label\": \"count\"}, {\"out_degree\": 2269, \"count\": 4, \"label\": \"count\"}, {\"out_degree\": 2270, \"count\": 4, \"label\": \"count\"}, {\"out_degree\": 2271, \"count\": 7, \"label\": \"count\"}, {\"out_degree\": 2272, \"count\": 5, \"label\": \"count\"}, {\"out_degree\": 2273, \"count\": 10, \"label\": \"count\"}, {\"out_degree\": 2274, \"count\": 4, \"label\": \"count\"}, {\"out_degree\": 2275, \"count\": 3, \"label\": \"count\"}, {\"out_degree\": 2276, \"count\": 6, \"label\": \"count\"}, {\"out_degree\": 2277, \"count\": 6, \"label\": \"count\"}, {\"out_degree\": 2278, \"count\": 7, \"label\": \"count\"}, {\"out_degree\": 2279, \"count\": 5, \"label\": \"count\"}, {\"out_degree\": 2280, \"count\": 4, \"label\": \"count\"}, {\"out_degree\": 2281, \"count\": 6, \"label\": \"count\"}, {\"out_degree\": 2282, \"count\": 7, \"label\": \"count\"}, {\"out_degree\": 2283, \"count\": 5, \"label\": \"count\"}, {\"out_degree\": 2284, \"count\": 6, \"label\": \"count\"}, {\"out_degree\": 2285, \"count\": 6, \"label\": \"count\"}, {\"out_degree\": 2286, \"count\": 3, \"label\": \"count\"}, {\"out_degree\": 2287, \"count\": 2, \"label\": \"count\"}, {\"out_degree\": 2288, \"count\": 6, \"label\": \"count\"}, {\"out_degree\": 2289, \"count\": 4, \"label\": \"count\"}, {\"out_degree\": 2290, \"count\": 3, \"label\": \"count\"}, {\"out_degree\": 2291, \"count\": 3, \"label\": \"count\"}, {\"out_degree\": 2292, \"count\": 6, \"label\": \"count\"}, {\"out_degree\": 2293, \"count\": 13, \"label\": \"count\"}, {\"out_degree\": 2294, \"count\": 8, \"label\": \"count\"}, {\"out_degree\": 2295, \"count\": 12, \"label\": \"count\"}, {\"out_degree\": 2296, \"count\": 9, \"label\": \"count\"}, {\"out_degree\": 2297, \"count\": 7, \"label\": \"count\"}, {\"out_degree\": 2298, \"count\": 4, \"label\": \"count\"}, {\"out_degree\": 2299, \"count\": 3, \"label\": \"count\"}, {\"out_degree\": 2300, \"count\": 6, \"label\": \"count\"}, {\"out_degree\": 2301, \"count\": 6, \"label\": \"count\"}, {\"out_degree\": 2302, \"count\": 6, \"label\": \"count\"}, {\"out_degree\": 2303, \"count\": 11, \"label\": \"count\"}, {\"out_degree\": 2304, \"count\": 8, \"label\": \"count\"}, {\"out_degree\": 2305, \"count\": 8, \"label\": \"count\"}, {\"out_degree\": 2306, \"count\": 5, \"label\": \"count\"}, {\"out_degree\": 2307, \"count\": 8, \"label\": \"count\"}, {\"out_degree\": 2308, \"count\": 12, \"label\": \"count\"}, {\"out_degree\": 2309, \"count\": 13, \"label\": \"count\"}, {\"out_degree\": 2310, \"count\": 10, \"label\": \"count\"}, {\"out_degree\": 2311, \"count\": 5, \"label\": \"count\"}, {\"out_degree\": 2312, \"count\": 7, \"label\": \"count\"}, {\"out_degree\": 2313, \"count\": 11, \"label\": \"count\"}, {\"out_degree\": 2314, \"count\": 14, \"label\": \"count\"}, {\"out_degree\": 2315, \"count\": 10, \"label\": \"count\"}, {\"out_degree\": 2316, \"count\": 7, \"label\": \"count\"}, {\"out_degree\": 2317, \"count\": 11, \"label\": \"count\"}, {\"out_degree\": 2318, \"count\": 10, \"label\": \"count\"}, {\"out_degree\": 2319, \"count\": 14, \"label\": \"count\"}, {\"out_degree\": 2320, \"count\": 9, \"label\": \"count\"}, {\"out_degree\": 2321, \"count\": 10, \"label\": \"count\"}, {\"out_degree\": 2322, \"count\": 7, \"label\": \"count\"}, {\"out_degree\": 2323, \"count\": 5, \"label\": \"count\"}, {\"out_degree\": 2324, \"count\": 3, \"label\": \"count\"}, {\"out_degree\": 2325, \"count\": 3, \"label\": \"count\"}, {\"out_degree\": 2326, \"count\": 2, \"label\": \"count\"}, {\"out_degree\": 2327, \"count\": 5, \"label\": \"count\"}, {\"out_degree\": 2328, \"count\": 1, \"label\": \"count\"}, {\"out_degree\": 2329, \"count\": 1, \"label\": \"count\"}, {\"out_degree\": 2330, \"count\": 2, \"label\": \"count\"}, {\"out_degree\": 2331, \"count\": 4, \"label\": \"count\"}, {\"out_degree\": 2332, \"count\": 2, \"label\": \"count\"}, {\"out_degree\": 2333, \"count\": 2, \"label\": \"count\"}, {\"out_degree\": 2334, \"count\": 5, \"label\": \"count\"}, {\"out_degree\": 2335, \"count\": 3, \"label\": \"count\"}, {\"out_degree\": 2336, \"count\": 3, \"label\": \"count\"}, {\"out_degree\": 2337, \"count\": 2, \"label\": \"count\"}, {\"out_degree\": 2338, \"count\": 2, \"label\": \"count\"}, {\"out_degree\": 2339, \"count\": 4, \"label\": \"count\"}, {\"out_degree\": 2340, \"count\": 2, \"label\": \"count\"}, {\"out_degree\": 2341, \"count\": 3, \"label\": \"count\"}, {\"out_degree\": 2342, \"count\": 3, \"label\": \"count\"}, {\"out_degree\": 2343, \"count\": 2, \"label\": \"count\"}, {\"out_degree\": 2344, \"count\": 3, \"label\": \"count\"}, {\"out_degree\": 2345, \"count\": 2, \"label\": \"count\"}, {\"out_degree\": 2346, \"count\": 4, \"label\": \"count\"}, {\"out_degree\": 2348, \"count\": 4, \"label\": \"count\"}, {\"out_degree\": 2349, \"count\": 3, \"label\": \"count\"}, {\"out_degree\": 2350, \"count\": 1, \"label\": \"count\"}, {\"out_degree\": 2351, \"count\": 1, \"label\": \"count\"}, {\"out_degree\": 2352, \"count\": 1, \"label\": \"count\"}, {\"out_degree\": 2353, \"count\": 5, \"label\": \"count\"}, {\"out_degree\": 2354, \"count\": 1, \"label\": \"count\"}, {\"out_degree\": 2355, \"count\": 3, \"label\": \"count\"}, {\"out_degree\": 2358, \"count\": 2, \"label\": \"count\"}, {\"out_degree\": 2359, \"count\": 1, \"label\": \"count\"}, {\"out_degree\": 2361, \"count\": 2, \"label\": \"count\"}, {\"out_degree\": 2362, \"count\": 1, \"label\": \"count\"}, {\"out_degree\": 2363, \"count\": 3, \"label\": \"count\"}, {\"out_degree\": 2364, \"count\": 1, \"label\": \"count\"}, {\"out_degree\": 2365, \"count\": 1, \"label\": \"count\"}, {\"out_degree\": 2366, \"count\": 1, \"label\": \"count\"}, {\"out_degree\": 2367, \"count\": 1, \"label\": \"count\"}, {\"out_degree\": 2368, \"count\": 2, \"label\": \"count\"}, {\"out_degree\": 2372, \"count\": 2, \"label\": \"count\"}, {\"out_degree\": 2374, \"count\": 2, \"label\": \"count\"}, {\"out_degree\": 2380, \"count\": 1, \"label\": \"count\"}, {\"out_degree\": 2386, \"count\": 1, \"label\": \"count\"}, {\"out_degree\": 2390, \"count\": 1, \"label\": \"count\"}, {\"out_degree\": 2391, \"count\": 1, \"label\": \"count\"}, {\"out_degree\": 2400, \"count\": 1, \"label\": \"count\"}, {\"out_degree\": 2413, \"count\": 1, \"label\": \"count\"}, {\"out_degree\": 2449, \"count\": 1, \"label\": \"count\"}, {\"out_degree\": 2454, \"count\": 3, \"label\": \"count\"}, {\"out_degree\": 2456, \"count\": 1, \"label\": \"count\"}, {\"out_degree\": 2477, \"count\": 1, \"label\": \"count\"}, {\"out_degree\": 2507, \"count\": 1, \"label\": \"count\"}, {\"out_degree\": 2510, \"count\": 1, \"label\": \"count\"}, {\"out_degree\": 2529, \"count\": 1, \"label\": \"count\"}, {\"out_degree\": 2561, \"count\": 1, \"label\": \"count\"}, {\"out_degree\": 2581, \"count\": 1, \"label\": \"count\"}, {\"out_degree\": 2590, \"count\": 1, \"label\": \"count\"}, {\"out_degree\": 2603, \"count\": 1, \"label\": \"count\"}, {\"out_degree\": 2610, \"count\": 1, \"label\": \"count\"}, {\"out_degree\": 2628, \"count\": 2, \"label\": \"count\"}, {\"out_degree\": 2742, \"count\": 1, \"label\": \"count\"}, {\"out_degree\": 2807, \"count\": 1, \"label\": \"count\"}, {\"out_degree\": 2811, \"count\": 1, \"label\": \"count\"}, {\"out_degree\": 2822, \"count\": 1, \"label\": \"count\"}, {\"out_degree\": 2829, \"count\": 1, \"label\": \"count\"}, {\"out_degree\": 2834, \"count\": 1, \"label\": \"count\"}, {\"out_degree\": 2835, \"count\": 3, \"label\": \"count\"}, {\"out_degree\": 2836, \"count\": 3, \"label\": \"count\"}, {\"out_degree\": 2837, \"count\": 2, \"label\": \"count\"}, {\"out_degree\": 2838, \"count\": 9, \"label\": \"count\"}, {\"out_degree\": 2839, \"count\": 2, \"label\": \"count\"}, {\"out_degree\": 2840, \"count\": 3, \"label\": \"count\"}, {\"out_degree\": 2841, \"count\": 2, \"label\": \"count\"}, {\"out_degree\": 2842, \"count\": 2, \"label\": \"count\"}, {\"out_degree\": 2843, \"count\": 2, \"label\": \"count\"}, {\"out_degree\": 2844, \"count\": 2, \"label\": \"count\"}, {\"out_degree\": 2845, \"count\": 1, \"label\": \"count\"}, {\"out_degree\": 2846, \"count\": 1, \"label\": \"count\"}, {\"out_degree\": 2847, \"count\": 2, \"label\": \"count\"}, {\"out_degree\": 2848, \"count\": 2, \"label\": \"count\"}, {\"out_degree\": 2849, \"count\": 1, \"label\": \"count\"}, {\"out_degree\": 2850, \"count\": 3, \"label\": \"count\"}, {\"out_degree\": 2851, \"count\": 2, \"label\": \"count\"}, {\"out_degree\": 2852, \"count\": 2, \"label\": \"count\"}, {\"out_degree\": 2853, \"count\": 1, \"label\": \"count\"}, {\"out_degree\": 2854, \"count\": 2, \"label\": \"count\"}, {\"out_degree\": 2855, \"count\": 6, \"label\": \"count\"}, {\"out_degree\": 2856, \"count\": 1, \"label\": \"count\"}, {\"out_degree\": 2857, \"count\": 3, \"label\": \"count\"}, {\"out_degree\": 2858, \"count\": 3, \"label\": \"count\"}, {\"out_degree\": 2859, \"count\": 3, \"label\": \"count\"}, {\"out_degree\": 2860, \"count\": 4, \"label\": \"count\"}, {\"out_degree\": 2861, \"count\": 7, \"label\": \"count\"}, {\"out_degree\": 2862, \"count\": 4, \"label\": \"count\"}, {\"out_degree\": 2863, \"count\": 3, \"label\": \"count\"}, {\"out_degree\": 2864, \"count\": 7, \"label\": \"count\"}, {\"out_degree\": 2865, \"count\": 7, \"label\": \"count\"}, {\"out_degree\": 2866, \"count\": 4, \"label\": \"count\"}, {\"out_degree\": 2867, \"count\": 6, \"label\": \"count\"}, {\"out_degree\": 2868, \"count\": 10, \"label\": \"count\"}, {\"out_degree\": 2869, \"count\": 8, \"label\": \"count\"}, {\"out_degree\": 2870, \"count\": 9, \"label\": \"count\"}, {\"out_degree\": 2871, \"count\": 8, \"label\": \"count\"}, {\"out_degree\": 2872, \"count\": 8, \"label\": \"count\"}, {\"out_degree\": 2873, \"count\": 7, \"label\": \"count\"}, {\"out_degree\": 2874, \"count\": 9, \"label\": \"count\"}, {\"out_degree\": 2875, \"count\": 10, \"label\": \"count\"}, {\"out_degree\": 2876, \"count\": 8, \"label\": \"count\"}, {\"out_degree\": 2877, \"count\": 3, \"label\": \"count\"}, {\"out_degree\": 2878, \"count\": 13, \"label\": \"count\"}, {\"out_degree\": 2879, \"count\": 6, \"label\": \"count\"}, {\"out_degree\": 2880, \"count\": 5, \"label\": \"count\"}, {\"out_degree\": 2881, \"count\": 11, \"label\": \"count\"}, {\"out_degree\": 2882, \"count\": 5, \"label\": \"count\"}, {\"out_degree\": 2883, \"count\": 4, \"label\": \"count\"}, {\"out_degree\": 2884, \"count\": 3, \"label\": \"count\"}, {\"out_degree\": 2885, \"count\": 6, \"label\": \"count\"}, {\"out_degree\": 2886, \"count\": 8, \"label\": \"count\"}, {\"out_degree\": 2887, \"count\": 7, \"label\": \"count\"}, {\"out_degree\": 2888, \"count\": 10, \"label\": \"count\"}, {\"out_degree\": 2889, \"count\": 7, \"label\": \"count\"}, {\"out_degree\": 2890, \"count\": 5, \"label\": \"count\"}, {\"out_degree\": 2891, \"count\": 10, \"label\": \"count\"}, {\"out_degree\": 2892, \"count\": 9, \"label\": \"count\"}, {\"out_degree\": 2893, \"count\": 9, \"label\": \"count\"}, {\"out_degree\": 2894, \"count\": 11, \"label\": \"count\"}, {\"out_degree\": 2895, \"count\": 7, \"label\": \"count\"}, {\"out_degree\": 2896, \"count\": 9, \"label\": \"count\"}, {\"out_degree\": 2897, \"count\": 6, \"label\": \"count\"}, {\"out_degree\": 2898, \"count\": 7, \"label\": \"count\"}, {\"out_degree\": 2899, \"count\": 13, \"label\": \"count\"}, {\"out_degree\": 2900, \"count\": 7, \"label\": \"count\"}, {\"out_degree\": 2901, \"count\": 13, \"label\": \"count\"}, {\"out_degree\": 2902, \"count\": 17, \"label\": \"count\"}, {\"out_degree\": 2903, \"count\": 17, \"label\": \"count\"}, {\"out_degree\": 2904, \"count\": 11, \"label\": \"count\"}, {\"out_degree\": 2905, \"count\": 11, \"label\": \"count\"}, {\"out_degree\": 2906, \"count\": 13, \"label\": \"count\"}, {\"out_degree\": 2907, \"count\": 8, \"label\": \"count\"}, {\"out_degree\": 2908, \"count\": 10, \"label\": \"count\"}, {\"out_degree\": 2909, \"count\": 15, \"label\": \"count\"}, {\"out_degree\": 2910, \"count\": 11, \"label\": \"count\"}, {\"out_degree\": 2911, \"count\": 9, \"label\": \"count\"}, {\"out_degree\": 2912, \"count\": 10, \"label\": \"count\"}, {\"out_degree\": 2913, \"count\": 6, \"label\": \"count\"}, {\"out_degree\": 2914, \"count\": 12, \"label\": \"count\"}, {\"out_degree\": 2915, \"count\": 8, \"label\": \"count\"}, {\"out_degree\": 2916, \"count\": 12, \"label\": \"count\"}, {\"out_degree\": 2917, \"count\": 9, \"label\": \"count\"}, {\"out_degree\": 2918, \"count\": 17, \"label\": \"count\"}, {\"out_degree\": 2919, \"count\": 10, \"label\": \"count\"}, {\"out_degree\": 2920, \"count\": 8, \"label\": \"count\"}, {\"out_degree\": 2921, \"count\": 10, \"label\": \"count\"}, {\"out_degree\": 2922, \"count\": 5, \"label\": \"count\"}, {\"out_degree\": 2923, \"count\": 7, \"label\": \"count\"}, {\"out_degree\": 2924, \"count\": 6, \"label\": \"count\"}, {\"out_degree\": 2925, \"count\": 9, \"label\": \"count\"}, {\"out_degree\": 2926, \"count\": 16, \"label\": \"count\"}, {\"out_degree\": 2927, \"count\": 11, \"label\": \"count\"}, {\"out_degree\": 2928, \"count\": 15, \"label\": \"count\"}, {\"out_degree\": 2929, \"count\": 10, \"label\": \"count\"}, {\"out_degree\": 2930, \"count\": 7, \"label\": \"count\"}, {\"out_degree\": 2931, \"count\": 11, \"label\": \"count\"}, {\"out_degree\": 2932, \"count\": 11, \"label\": \"count\"}, {\"out_degree\": 2933, \"count\": 10, \"label\": \"count\"}, {\"out_degree\": 2934, \"count\": 8, \"label\": \"count\"}, {\"out_degree\": 2935, \"count\": 9, \"label\": \"count\"}, {\"out_degree\": 2936, \"count\": 13, \"label\": \"count\"}, {\"out_degree\": 2937, \"count\": 6, \"label\": \"count\"}, {\"out_degree\": 2938, \"count\": 4, \"label\": \"count\"}, {\"out_degree\": 2939, \"count\": 4, \"label\": \"count\"}, {\"out_degree\": 2940, \"count\": 9, \"label\": \"count\"}, {\"out_degree\": 2941, \"count\": 3, \"label\": \"count\"}, {\"out_degree\": 2942, \"count\": 3, \"label\": \"count\"}, {\"out_degree\": 2943, \"count\": 3, \"label\": \"count\"}, {\"out_degree\": 2944, \"count\": 6, \"label\": \"count\"}, {\"out_degree\": 2945, \"count\": 9, \"label\": \"count\"}, {\"out_degree\": 2946, \"count\": 4, \"label\": \"count\"}, {\"out_degree\": 2947, \"count\": 3, \"label\": \"count\"}, {\"out_degree\": 2948, \"count\": 4, \"label\": \"count\"}, {\"out_degree\": 2949, \"count\": 1, \"label\": \"count\"}, {\"out_degree\": 2950, \"count\": 2, \"label\": \"count\"}, {\"out_degree\": 2951, \"count\": 2, \"label\": \"count\"}, {\"out_degree\": 2952, \"count\": 2, \"label\": \"count\"}, {\"out_degree\": 2953, \"count\": 7, \"label\": \"count\"}, {\"out_degree\": 2954, \"count\": 4, \"label\": \"count\"}, {\"out_degree\": 2955, \"count\": 2, \"label\": \"count\"}, {\"out_degree\": 2956, \"count\": 1, \"label\": \"count\"}, {\"out_degree\": 2957, \"count\": 1, \"label\": \"count\"}, {\"out_degree\": 2958, \"count\": 3, \"label\": \"count\"}, {\"out_degree\": 2960, \"count\": 1, \"label\": \"count\"}, {\"out_degree\": 2961, \"count\": 2, \"label\": \"count\"}, {\"out_degree\": 2962, \"count\": 1, \"label\": \"count\"}, {\"out_degree\": 2963, \"count\": 2, \"label\": \"count\"}, {\"out_degree\": 2964, \"count\": 2, \"label\": \"count\"}, {\"out_degree\": 2967, \"count\": 2, \"label\": \"count\"}, {\"out_degree\": 2968, \"count\": 1, \"label\": \"count\"}, {\"out_degree\": 2973, \"count\": 2, \"label\": \"count\"}, {\"out_degree\": 2975, \"count\": 1, \"label\": \"count\"}, {\"out_degree\": 2976, \"count\": 1, \"label\": \"count\"}, {\"out_degree\": 2977, \"count\": 3, \"label\": \"count\"}, {\"out_degree\": 2981, \"count\": 2, \"label\": \"count\"}, {\"out_degree\": 2982, \"count\": 3, \"label\": \"count\"}, {\"out_degree\": 2983, \"count\": 1, \"label\": \"count\"}, {\"out_degree\": 2986, \"count\": 1, \"label\": \"count\"}, {\"out_degree\": 2989, \"count\": 1, \"label\": \"count\"}, {\"out_degree\": 2990, \"count\": 1, \"label\": \"count\"}, {\"out_degree\": 2998, \"count\": 1, \"label\": \"count\"}, {\"out_degree\": 3001, \"count\": 1, \"label\": \"count\"}, {\"out_degree\": 3004, \"count\": 1, \"label\": \"count\"}, {\"out_degree\": 3006, \"count\": 1, \"label\": \"count\"}, {\"out_degree\": 3014, \"count\": 1, \"label\": \"count\"}, {\"out_degree\": 3015, \"count\": 1, \"label\": \"count\"}, {\"out_degree\": 3016, \"count\": 1, \"label\": \"count\"}, {\"out_degree\": 3017, \"count\": 1, \"label\": \"count\"}, {\"out_degree\": 3018, \"count\": 1, \"label\": \"count\"}, {\"out_degree\": 3019, \"count\": 1, \"label\": \"count\"}, {\"out_degree\": 3023, \"count\": 1, \"label\": \"count\"}, {\"out_degree\": 3028, \"count\": 2, \"label\": \"count\"}, {\"out_degree\": 3030, \"count\": 1, \"label\": \"count\"}, {\"out_degree\": 3032, \"count\": 3, \"label\": \"count\"}, {\"out_degree\": 3034, \"count\": 1, \"label\": \"count\"}, {\"out_degree\": 3035, \"count\": 2, \"label\": \"count\"}, {\"out_degree\": 3036, \"count\": 9, \"label\": \"count\"}, {\"out_degree\": 3037, \"count\": 3, \"label\": \"count\"}, {\"out_degree\": 3038, \"count\": 3, \"label\": \"count\"}, {\"out_degree\": 3039, \"count\": 1, \"label\": \"count\"}, {\"out_degree\": 3040, \"count\": 1, \"label\": \"count\"}, {\"out_degree\": 3042, \"count\": 1, \"label\": \"count\"}, {\"out_degree\": 3043, \"count\": 1, \"label\": \"count\"}, {\"out_degree\": 3045, \"count\": 4, \"label\": \"count\"}, {\"out_degree\": 3046, \"count\": 3, \"label\": \"count\"}, {\"out_degree\": 3047, \"count\": 3, \"label\": \"count\"}, {\"out_degree\": 3048, \"count\": 5, \"label\": \"count\"}, {\"out_degree\": 3049, \"count\": 4, \"label\": \"count\"}, {\"out_degree\": 3050, \"count\": 3, \"label\": \"count\"}, {\"out_degree\": 3051, \"count\": 1, \"label\": \"count\"}, {\"out_degree\": 3052, \"count\": 1, \"label\": \"count\"}, {\"out_degree\": 3053, \"count\": 4, \"label\": \"count\"}, {\"out_degree\": 3054, \"count\": 4, \"label\": \"count\"}, {\"out_degree\": 3055, \"count\": 2, \"label\": \"count\"}, {\"out_degree\": 3056, \"count\": 3, \"label\": \"count\"}, {\"out_degree\": 3057, \"count\": 6, \"label\": \"count\"}, {\"out_degree\": 3058, \"count\": 3, \"label\": \"count\"}, {\"out_degree\": 3060, \"count\": 3, \"label\": \"count\"}, {\"out_degree\": 3061, \"count\": 3, \"label\": \"count\"}, {\"out_degree\": 3062, \"count\": 3, \"label\": \"count\"}, {\"out_degree\": 3063, \"count\": 2, \"label\": \"count\"}, {\"out_degree\": 3065, \"count\": 4, \"label\": \"count\"}, {\"out_degree\": 3066, \"count\": 2, \"label\": \"count\"}, {\"out_degree\": 3067, \"count\": 2, \"label\": \"count\"}, {\"out_degree\": 3068, \"count\": 2, \"label\": \"count\"}, {\"out_degree\": 3069, \"count\": 5, \"label\": \"count\"}, {\"out_degree\": 3070, \"count\": 2, \"label\": \"count\"}, {\"out_degree\": 3071, \"count\": 1, \"label\": \"count\"}, {\"out_degree\": 3072, \"count\": 4, \"label\": \"count\"}, {\"out_degree\": 3073, \"count\": 4, \"label\": \"count\"}, {\"out_degree\": 3074, \"count\": 4, \"label\": \"count\"}, {\"out_degree\": 3076, \"count\": 1, \"label\": \"count\"}, {\"out_degree\": 3077, \"count\": 2, \"label\": \"count\"}, {\"out_degree\": 3078, \"count\": 1, \"label\": \"count\"}, {\"out_degree\": 3079, \"count\": 2, \"label\": \"count\"}, {\"out_degree\": 3082, \"count\": 1, \"label\": \"count\"}, {\"out_degree\": 3084, \"count\": 1, \"label\": \"count\"}, {\"out_degree\": 3087, \"count\": 1, \"label\": \"count\"}, {\"out_degree\": 3088, \"count\": 2, \"label\": \"count\"}, {\"out_degree\": 3089, \"count\": 3, \"label\": \"count\"}, {\"out_degree\": 3093, \"count\": 1, \"label\": \"count\"}, {\"out_degree\": 3094, \"count\": 3, \"label\": \"count\"}, {\"out_degree\": 3100, \"count\": 2, \"label\": \"count\"}, {\"out_degree\": 3103, \"count\": 1, \"label\": \"count\"}, {\"out_degree\": 3110, \"count\": 1, \"label\": \"count\"}, {\"out_degree\": 3111, \"count\": 1, \"label\": \"count\"}, {\"out_degree\": 3115, \"count\": 1, \"label\": \"count\"}, {\"out_degree\": 3137, \"count\": 2, \"label\": \"count\"}, {\"out_degree\": 3192, \"count\": 1, \"label\": \"count\"}, {\"out_degree\": 3204, \"count\": 1, \"label\": \"count\"}, {\"out_degree\": 3207, \"count\": 1, \"label\": \"count\"}, {\"out_degree\": 3209, \"count\": 1, \"label\": \"count\"}, {\"out_degree\": 3216, \"count\": 1, \"label\": \"count\"}, {\"out_degree\": 3236, \"count\": 1, \"label\": \"count\"}, {\"out_degree\": 3579, \"count\": 1, \"label\": \"count\"}, {\"out_degree\": 4541, \"count\": 1, \"label\": \"count\"}, {\"out_degree\": 4589, \"count\": 1, \"label\": \"count\"}, {\"out_degree\": 4590, \"count\": 1, \"label\": \"count\"}, {\"out_degree\": 5116, \"count\": 1, \"label\": \"count\"}, {\"out_degree\": 5136, \"count\": 1, \"label\": \"count\"}, {\"out_degree\": 5137, \"count\": 1, \"label\": \"count\"}, {\"out_degree\": 5287, \"count\": 1, \"label\": \"count\"}, {\"out_degree\": 5410, \"count\": 1, \"label\": \"count\"}, {\"out_degree\": 5411, \"count\": 1, \"label\": \"count\"}, {\"out_degree\": 8342, \"count\": 1, \"label\": \"count\"}]}}, {\"mode\": \"vega-lite\"});\n",
       "</script>"
      ],
      "text/plain": [
       "alt.Chart(...)"
      ]
     },
     "execution_count": 87,
     "metadata": {},
     "output_type": "execute_result"
    }
   ],
   "source": [
    "data = pd.read_csv(\n",
    "    os.environ[\"OUT\"] + \"/statistics.out_degree.distribution.tsv\", sep=\"\\t\"\n",
    ")\n",
    "\n",
    "alt.Chart(data).mark_circle(size=60).encode(\n",
    "    x=alt.X(\"out_degree\", scale=alt.Scale(type=\"log\")),\n",
    "    y=alt.Y(\"count\", scale=alt.Scale(type=\"log\"), title=\"count of nodes\"),\n",
    "    tooltip=[\"out_degree\", \"count\"],\n",
    ").interactive().properties(title=\"Distribution of Out Degree\")"
   ]
  },
  {
   "cell_type": "markdown",
   "metadata": {},
   "source": [
    "## Summary of results"
   ]
  },
  {
   "cell_type": "code",
   "execution_count": 88,
   "metadata": {},
   "outputs": [
    {
     "name": "stdout",
     "output_type": "stream",
     "text": [
      "-rw-r--r--  1 pedroszekely  staff    37M Nov 14 09:13 /Users/pedroszekely/Downloads/kypher/useful_wikidata_files_v4/derived.P279.tsv.gz\n",
      "-rw-r--r--  1 pedroszekely  staff   500M Nov 14 12:54 /Users/pedroszekely/Downloads/kypher/useful_wikidata_files_v4/derived.P279star.tsv.gz\n",
      "-rw-r--r--  1 pedroszekely  staff   973M Nov 14 09:11 /Users/pedroszekely/Downloads/kypher/useful_wikidata_files_v4/derived.P31.tsv.gz\n",
      "-rw-r--r--  1 pedroszekely  staff   252M Nov 14 13:39 /Users/pedroszekely/Downloads/kypher/useful_wikidata_files_v4/derived.isa.tsv.gz\n",
      "-rw-r--r--  1 pedroszekely  staff    21M Nov 14 19:43 /Users/pedroszekely/Downloads/kypher/useful_wikidata_files_v4/metadata.in_degree.tsv.gz\n",
      "-rw-r--r--  1 pedroszekely  staff   512M Nov 14 19:20 /Users/pedroszekely/Downloads/kypher/useful_wikidata_files_v4/metadata.out_degree.tsv.gz\n",
      "-rw-r--r--  1 pedroszekely  staff    11K Nov 14 19:46 /Users/pedroszekely/Downloads/kypher/useful_wikidata_files_v4/statistics.in_degree.distribution.tsv\n",
      "-rw-r--r--  1 pedroszekely  staff    21K Nov 14 19:55 /Users/pedroszekely/Downloads/kypher/useful_wikidata_files_v4/statistics.out_degree.distribution.tsv\n"
     ]
    }
   ],
   "source": [
    "!ls -lh $OUT/*"
   ]
  },
  {
   "cell_type": "markdown",
   "metadata": {},
   "source": [
    "Highest page rank"
   ]
  },
  {
   "cell_type": "code",
   "execution_count": 100,
   "metadata": {},
   "outputs": [
    {
     "name": "stdout",
     "output_type": "stream",
     "text": [
      "       36.63 real         4.07 user         7.29 sys\n",
      "node1      labe                               page_rank\n",
      "Q81581     'Szeged'@en                        9.99820910584327e-06\n",
      "Q474406    'Tropiduchidae'@en                 9.99775062441874e-06\n",
      "Q102496    'parish'@en                        9.989295648293259e-06\n",
      "Q19830596  'Rubens'@en                        9.98709688634465e-06\n",
      "Q211661    'Jämtland'@en                      9.983987961260548e-06\n",
      "Q10361310  'Rick Bonadio'@en                  9.983680487413594e-06\n",
      "Q688275    'São Leopoldo'@en                  9.972744274999134e-06\n",
      "Q15008131  'Category:Acyrthosiphon'@en        9.971425871370554e-06\n",
      "Q9876232   'Category:Colladonus'@en           9.971425871370554e-06\n",
      "Q10387575  'registered historic monument'@en  9.963088508250605e-06\n"
     ]
    }
   ],
   "source": [
    "if compute_pagerank:\n",
    "    !$kypher -i $OUT/metadata.pagerank.undirected.tsv.gz -i \"$LABELS\" -o - \\\n",
    "    --match 'pagerank: (n1)-[:undirected_pagerank]->(page_rank), label: (n1)-[:label]->(label)' \\\n",
    "    --return 'distinct n1, label as label, page_rank as `undirected page rank' \\\n",
    "    --order-by 'cast(page_rank, float) desc' \\\n",
    "    --limit 10 \\\n",
    "    | col"
   ]
  },
  {
   "cell_type": "code",
   "execution_count": 9,
   "metadata": {},
   "outputs": [
    {
     "name": "stdout",
     "output_type": "stream",
     "text": [
      "ls: : No such file or directory\n"
     ]
    }
   ],
   "source": [
    "!ls \"$QUALS\""
   ]
  },
  {
   "cell_type": "code",
   "execution_count": null,
   "metadata": {},
   "outputs": [],
   "source": []
  }
 ],
 "metadata": {
  "celltoolbar": "Tags",
  "kernelspec": {
   "display_name": "kgtk",
   "language": "python",
   "name": "kgtk"
  },
  "language_info": {
   "codemirror_mode": {
    "name": "ipython",
    "version": 3
   },
   "file_extension": ".py",
   "mimetype": "text/x-python",
   "name": "python",
   "nbconvert_exporter": "python",
   "pygments_lexer": "ipython3",
   "version": "3.7.8"
  }
 },
 "nbformat": 4,
 "nbformat_minor": 4
}
