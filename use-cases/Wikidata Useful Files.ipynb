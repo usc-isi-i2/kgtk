{
 "cells": [
  {
   "cell_type": "markdown",
   "metadata": {},
   "source": [
    "# Generating Useful Wikidata Files\n",
    "\n",
    "This notebook generates files that contain derived data that is useful in many applications. The input to the notebook is the full Wikidata or a subset of Wikidata. It also works for arbitrary KGs as long as they follow the representation requirements of Wikidata:\n",
    "\n",
    "- the *instance of* relation is represented using the `P31` property\n",
    "- the *subclass of* relation is represented using the `P279` property\n",
    "- all properties declare a datatype, and the data types must be one of the datatypes in Wikidata.\n",
    "\n",
    "Inputs:\n",
    "\n",
    "- `claims_file`: contains all statements, which consist of edges `node1/label/node2` where `label` is a property in Wikidata (e.g., sitelinks, labels, aliases and description are not in the claims file.\n",
    "- `item_file`: the subset of the `claims_file` consistin of edges for property of data type `wikibase-item`\n",
    "- `label_file`, `alias_file` and `description_file` containing labels, aliases and descriptions. It is assume that these files contain the labels, aliases and descriptions of all nodes appearing in the claims file. Users may provide these files for specific languages only.\n",
    "\n",
    "Outputs:\n",
    "\n",
    "- **Instance of (P31):** `derived.P31.tsv.gz` contains all the `instance of (P31)` edges present in the claims file.\n",
    "- **Subclass of (P279):** `derived.P279.tsv.gz` contains all the `subclass of (P279)` edges present in the claims file.\n",
    "- **Is A (isa):** `derived.isa.tsv.gz` contains edges `node`isa/node2` where either `node1/P31/node2` or `node1/P279/node2`\n",
    "- **Closure of subclass of (P279star):** `derived.P279star.tsv.gz` contains edges `node1/P279star/node2` where `node2` is reachable from `node1` via zero or more hops using the `P279` property. Note that for example, `Q44/P279star/Q44`. An example when this file is useful is when you want to find all the instance of a class, including instances of subclasses of the given class.\n",
    "- **In/out degrees:** `metadata.out_degree.tsv.gz` contains the out degree of every node, and `metadata.in_degree.tsv.gz` contains the in degree of every node.\n",
    "- **Pagerank:** outputs page rank on the directed graph in `metadata.pagerank.directed.tsv.gz` and page rank of the directed graph in `metadata.pagerank.undirected.tsv.gz`."
   ]
  },
  {
   "cell_type": "markdown",
   "metadata": {},
   "source": [
    "### Batch Invocation\n",
    "Example batch command. The second argument is a notebook where the output will be stored. You can load it to see progress.\n",
    "\n",
    "```\n",
    "papermill Wikidata\\ Useful\\ Files.ipynb useful-files.out.ipynb \\\n",
    "-p input_path /data/amandeep/wikidata-20211027-dwd-v3 \\\n",
    "-p output_path /data/amandeep/wikidata-20211027-dwd-v3 \\\n",
    "-p kgtk_path  /Users/amandeep/github/kgtk \\\n",
    "-p project_name useful-files \\\n",
    "-p languages en,es \\\n",
    "-p files claims,label_all,alias_all,description_all \\\n",
    "-p compute_pagerank True \\\n",
    "-p compute_degrees True \\\n",
    "```"
   ]
  },
  {
   "cell_type": "code",
   "execution_count": 48,
   "metadata": {},
   "outputs": [],
   "source": [
    "import io\n",
    "import os\n",
    "import subprocess\n",
    "import sys\n",
    "\n",
    "import numpy as np\n",
    "import pandas as pd\n",
    " \n",
    "from kgtk.configure_kgtk_notebooks import ConfigureKGTK\n",
    "from kgtk.functions import kgtk, kypher"
   ]
  },
  {
   "cell_type": "code",
   "execution_count": 49,
   "metadata": {
    "tags": [
     "parameters"
    ]
   },
   "outputs": [],
   "source": [
    "# Parameters\n",
    "\n",
    "input_path = \"/data/amandeep/wikidata-20211027-dwd-v3\"\n",
    "output_path = \"/data/amandeep/wikidata-20211027-dwd-v3\"\n",
    "kgtk_path = \"/Users/amandeep/github/kgtk\"\n",
    "\n",
    "graph_cache_path = None\n",
    "\n",
    "project_name = \"useful-files\"\n",
    "\n",
    "languages = 'en,ru,es,zh-cn,de,it,nl,pl,fr,pt,sv'\n",
    "\n",
    "files = 'claims,label_all,alias_all,description_all'\n",
    "\n",
    "compute_pagerank = True\n",
    "compute_degrees = True\n",
    "debug = False"
   ]
  },
  {
   "cell_type": "code",
   "execution_count": 50,
   "metadata": {},
   "outputs": [],
   "source": [
    "files = files.split(',')\n",
    "languages = languages.split(',')"
   ]
  },
  {
   "cell_type": "code",
   "execution_count": 51,
   "metadata": {},
   "outputs": [
    {
     "name": "stdout",
     "output_type": "stream",
     "text": [
      "User home: /nas/home/amandeep\n",
      "Current dir: /data/amandeep/github/kgtk/use-cases\n",
      "KGTK dir: /Users/amandeep/github/kgtk\n",
      "Use-cases dir: /Users/amandeep/github/kgtk/use-cases\n"
     ]
    }
   ],
   "source": [
    "ck = ConfigureKGTK(files, kgtk_path=kgtk_path)\n",
    "ck.configure_kgtk(input_graph_path=input_path,\n",
    "                  output_path=output_path,\n",
    "                  project_name=project_name,\n",
    "                 graph_cache_path=graph_cache_path)"
   ]
  },
  {
   "cell_type": "code",
   "execution_count": 52,
   "metadata": {},
   "outputs": [
    {
     "name": "stdout",
     "output_type": "stream",
     "text": [
      "KGTK_OPTION_DEBUG: false\n",
      "TEMP: /data/amandeep/wikidata-20211027-dwd-v3/useful-files/temp.useful-files\n",
      "EXAMPLES_DIR: /Users/amandeep/github/kgtk/examples\n",
      "KGTK_LABEL_FILE: /data/amandeep/wikidata-20211027-dwd-v3/labels.en.tsv.gz\n",
      "STORE: /data/amandeep/wikidata-20211027-dwd-v3/useful-files/temp.useful-files/wikidata.sqlite3.db\n",
      "kgtk: kgtk\n",
      "KGTK_GRAPH_CACHE: /data/amandeep/wikidata-20211027-dwd-v3/useful-files/temp.useful-files/wikidata.sqlite3.db\n",
      "GRAPH: /data/amandeep/wikidata-20211027-dwd-v3\n",
      "USE_CASES_DIR: /Users/amandeep/github/kgtk/use-cases\n",
      "OUT: /data/amandeep/wikidata-20211027-dwd-v3/useful-files\n",
      "kypher: kgtk query --graph-cache /data/amandeep/wikidata-20211027-dwd-v3/useful-files/temp.useful-files/wikidata.sqlite3.db\n",
      "claims: /data/amandeep/wikidata-20211027-dwd-v3/claims.tsv.gz\n",
      "label_all: /data/amandeep/wikidata-20211027-dwd-v3/labels.tsv.gz\n",
      "alias_all: /data/amandeep/wikidata-20211027-dwd-v3/aliases.tsv.gz\n",
      "description_all: /data/amandeep/wikidata-20211027-dwd-v3/descriptions.tsv.gz\n"
     ]
    }
   ],
   "source": [
    "ck.print_env_variables()"
   ]
  },
  {
   "cell_type": "code",
   "execution_count": 53,
   "metadata": {},
   "outputs": [
    {
     "name": "stdout",
     "output_type": "stream",
     "text": [
      "kgtk query --graph-cache /data/amandeep/wikidata-20211027-dwd-v3/useful-files/temp.useful-files/wikidata.sqlite3.db -i \"/data/amandeep/wikidata-20211027-dwd-v3/claims.tsv.gz\" --as claims  -i \"/data/amandeep/wikidata-20211027-dwd-v3/labels.tsv.gz\" --as label_all  -i \"/data/amandeep/wikidata-20211027-dwd-v3/aliases.tsv.gz\" --as alias_all  -i \"/data/amandeep/wikidata-20211027-dwd-v3/descriptions.tsv.gz\" --as description_all  --limit 3\n",
      "id\tnode1\tlabel\tnode2\trank\tnode2;wikidatatype\n",
      "P10-P1628-32b85d-7927ece6-0\tP10\tP1628\t\"http://www.w3.org/2006/vcard/ns#Video\"\tnormal\turl\n",
      "P10-P1628-acf60d-b8950832-0\tP10\tP1628\t\"https://schema.org/video\"\tnormal\turl\n",
      "P10-P1629-Q34508-bcc39400-0\tP10\tP1629\tQ34508\tnormal\twikibase-item\n"
     ]
    }
   ],
   "source": [
    "if graph_cache_path is None:\n",
    "    ck.load_files_into_cache()"
   ]
  },
  {
   "cell_type": "markdown",
   "metadata": {},
   "source": [
    "### Preview the input files"
   ]
  },
  {
   "cell_type": "markdown",
   "metadata": {},
   "source": [
    "It is always a good practice to peek a the files to make sure the column headings are what we expect"
   ]
  },
  {
   "cell_type": "code",
   "execution_count": 54,
   "metadata": {},
   "outputs": [
    {
     "name": "stdout",
     "output_type": "stream",
     "text": [
      "/bin/bash: function: No such file or directory\n",
      "\n"
     ]
    }
   ],
   "source": [
    "!$kypher -i claims --limit 10 | col "
   ]
  },
  {
   "cell_type": "markdown",
   "metadata": {},
   "source": [
    "Force creation of the index on the label column"
   ]
  },
  {
   "cell_type": "code",
   "execution_count": 55,
   "metadata": {},
   "outputs": [
    {
     "name": "stdout",
     "output_type": "stream",
     "text": [
      "/bin/bash: function: No such file or directory\n"
     ]
    }
   ],
   "source": [
    "!$kypher -i claims -o - \\\n",
    "--match '(i)-[:P31]->(c)' \\\n",
    "--limit 5 \\\n",
    "| column -t -s $'\\t' "
   ]
  },
  {
   "cell_type": "markdown",
   "metadata": {},
   "source": [
    "Force creation of the index on the node2 column"
   ]
  },
  {
   "cell_type": "code",
   "execution_count": 56,
   "metadata": {},
   "outputs": [
    {
     "name": "stdout",
     "output_type": "stream",
     "text": [
      "/bin/bash: function: No such file or directory\n"
     ]
    }
   ],
   "source": [
    "!$kypher -i claims -o - \\\n",
    "--match '(i)-[r]->(:Q5)' \\\n",
    "--limit 5 \\\n",
    "| column -t -s $'\\t' "
   ]
  },
  {
   "cell_type": "markdown",
   "metadata": {},
   "source": [
    "### Create the P31 and P279 files"
   ]
  },
  {
   "cell_type": "markdown",
   "metadata": {},
   "source": [
    "Create the `P31` file"
   ]
  },
  {
   "cell_type": "code",
   "execution_count": 57,
   "metadata": {},
   "outputs": [],
   "source": [
    "!$kypher -i claims -o $OUT/derived.P31.tsv.gz \\\n",
    "--match '(n1)-[l:P31]->(n2)' \\\n",
    "--return 'l, n1, l.label, n2' "
   ]
  },
  {
   "cell_type": "code",
   "execution_count": 58,
   "metadata": {},
   "outputs": [
    {
     "name": "stdout",
     "output_type": "stream",
     "text": [
      "id\tnode1\tlabel\tnode2\n",
      "P10-P31-Q18610173-85ef4d24-0\tP10\tP31\tQ18610173\n",
      "P1000-P31-Q18608871-093affb5-0\tP1000\tP31\tQ18608871\n",
      "P10000-P31-Q19833377-f87f0d4c-0 P10000\tP31\tQ19833377\n",
      "\n",
      "gzip: P10000-P31-Q89560413-f555a944-0 P10000\tP31\tQ89560413\n",
      "P10001-P31-Q107738007-c7725ce7-0\tP10001\tP31\tQ107738007\n",
      "stdout: Broken pipe\n",
      "P10001-P31-Q64221137-d154ffd9-0 P10001\tP31\tQ64221137\n",
      "P10002-P31-Q93433126-dbd52b84-0 P10002\tP31\tQ93433126\n",
      "P10003-P31-Q108914651-f3644858-0\tP10003\tP31\tQ108914651\n",
      "P10003-P31-Q42396390-7f1b5502-0 P10003\tP31\tQ42396390\n"
     ]
    }
   ],
   "source": [
    "!zcat < $OUT/derived.P31.tsv.gz | head | col"
   ]
  },
  {
   "cell_type": "markdown",
   "metadata": {},
   "source": [
    "Create the P279 file"
   ]
  },
  {
   "cell_type": "code",
   "execution_count": 59,
   "metadata": {},
   "outputs": [],
   "source": [
    "!$kypher -i claims -o $OUT/derived.P279.tsv.gz \\\n",
    "    --match '(n1)-[l:P279]->(n2)' \\\n",
    "    --return 'l, n1, l.label, n2' "
   ]
  },
  {
   "cell_type": "code",
   "execution_count": 60,
   "metadata": {},
   "outputs": [
    {
     "name": "stdout",
     "output_type": "stream",
     "text": [
      "id\tnode1\tlabel\tnode2\n",
      "Q100000030-P279-Q14748-30394205-0\tQ100000030\tP279\tQ14748\n",
      "Q100000058-P279-Q1622444-bd182663-0\tQ100000058\tP279\tQ1622444\n",
      "Q1000032-P279-Q1813494-0aa0f1dc-0\tQ1000032\tP279\tQ1813494\n",
      "Q1000032-P279-Q83602-482a1943-0 Q1000032\tP279\tQ83602\n",
      "Q1000039-P279-Q11555767-2dddfd86-0\tQ1000039\tP279\tQ11555767\n",
      "Q100004761-P279-Q100095237-3971e1cd-0\tQ100004761\tP279\tQ100095237\n",
      "\n",
      "gzip: Q100004761-P279-Q126793-77b1fce8-0\tQ100004761\tP279\tQ126793\n",
      "stdout: Broken pipe\n",
      "Q100004761-P279-Q4544523-639fbe16-0\tQ100004761\tP279\tQ4544523\n",
      "Q1000064-P279-Q11016-0ab23344-0 Q1000064\tP279\tQ11016\n"
     ]
    }
   ],
   "source": [
    "!zcat < $OUT/derived.P279.tsv.gz | head | col"
   ]
  },
  {
   "cell_type": "markdown",
   "metadata": {},
   "source": [
    "### Create the file that contains all nodes reachable via P279 starting from a node2 in P31 or a node1 in P279"
   ]
  },
  {
   "cell_type": "markdown",
   "metadata": {},
   "source": [
    "First compute the roots"
   ]
  },
  {
   "cell_type": "code",
   "execution_count": 61,
   "metadata": {},
   "outputs": [],
   "source": [
    "!$kypher -i $OUT/derived.P279.tsv.gz -o $TEMP/P279.n1.tsv.gz \\\n",
    "--match '(n1)-[l]->()' \\\n",
    "--return 'n1 as id' "
   ]
  },
  {
   "cell_type": "code",
   "execution_count": 62,
   "metadata": {},
   "outputs": [],
   "source": [
    "!$kypher -i $OUT/derived.P31.tsv.gz -o $TEMP/P31.n2.tsv.gz \\\n",
    "--match '()-[l]->(n2)' \\\n",
    "--return 'n2 as id' "
   ]
  },
  {
   "cell_type": "code",
   "execution_count": 63,
   "metadata": {},
   "outputs": [],
   "source": [
    "kgtk(\"\"\"cat --mode NONE \n",
    "       -i $TEMP/P31.n2.tsv.gz\n",
    "       -i $TEMP/P279.n1.tsv.gz\n",
    "       -o $TEMP/P279.roots.1.tsv.gz\"\"\")"
   ]
  },
  {
   "cell_type": "code",
   "execution_count": 64,
   "metadata": {},
   "outputs": [],
   "source": [
    "kgtk(\"\"\"sort --mode NONE \n",
    "        --column id \n",
    "        -i $TEMP/P279.roots.1.tsv.gz \n",
    "        -o $TEMP/P279.roots.2.tsv.gz\"\"\")"
   ]
  },
  {
   "cell_type": "markdown",
   "metadata": {},
   "source": [
    "We have lots of duplicates"
   ]
  },
  {
   "cell_type": "code",
   "execution_count": 65,
   "metadata": {},
   "outputs": [
    {
     "name": "stdout",
     "output_type": "stream",
     "text": [
      "id\n",
      "Q100000030\n",
      "Q100000058\n",
      "Q1000017\n",
      "Q1000032\n",
      "Q1000032\n",
      "Q1000039\n",
      "Q100004761\n",
      "Q100004761\n",
      "Q100004761\n",
      "\n",
      "gzip: stdout: Broken pipe\n"
     ]
    }
   ],
   "source": [
    "!zcat < $TEMP/P279.roots.2.tsv.gz | head"
   ]
  },
  {
   "cell_type": "code",
   "execution_count": 66,
   "metadata": {},
   "outputs": [],
   "source": [
    "kgtk(\"\"\"compact \n",
    "        -i $TEMP/P279.roots.2.tsv.gz \n",
    "        --mode NONE\n",
    "        --presorted \n",
    "        --columns id\n",
    "        -o $TEMP/P279.roots.tsv\"\"\")"
   ]
  },
  {
   "cell_type": "markdown",
   "metadata": {},
   "source": [
    "Now we can invoke the reachable-nodes command"
   ]
  },
  {
   "cell_type": "code",
   "execution_count": 67,
   "metadata": {},
   "outputs": [],
   "source": [
    "kgtk(\"\"\"reachable-nodes\n",
    "        --rootfile $TEMP/P279.roots.tsv\n",
    "        --selflink \n",
    "        -i $OUT/derived.P279.tsv.gz\n",
    "        -o $TEMP/P279.reachable.tsv.gz\"\"\")"
   ]
  },
  {
   "cell_type": "code",
   "execution_count": 68,
   "metadata": {},
   "outputs": [
    {
     "name": "stdout",
     "output_type": "stream",
     "text": [
      "node1\tlabel\tnode2\n",
      "Q100000030\treachable\tQ100000030\n",
      "Q100000030\treachable\tQ14748\n",
      "Q100000030\treachable\tQ14745\n",
      "Q100000030\treachable\tQ1357761\n",
      "Q100000030\treachable\tQ223557\n",
      "Q100000030\treachable\tQ35459920\n",
      "\n",
      "gzip: Q100000030\treachable\tQ488383\n",
      "stdout: Broken pipe\n",
      "Q100000030\treachable\tQ35120\n",
      "Q100000030\treachable\tQ4406616\n"
     ]
    }
   ],
   "source": [
    "!zcat < $TEMP/P279.reachable.tsv.gz | head | col"
   ]
  },
  {
   "cell_type": "markdown",
   "metadata": {},
   "source": [
    "The reachable-nodes command produces edges labeled `reachable`, so we need one command to rename them."
   ]
  },
  {
   "cell_type": "code",
   "execution_count": 69,
   "metadata": {},
   "outputs": [],
   "source": [
    "!$kypher -i $TEMP/P279.reachable.tsv.gz -o $TEMP/P279star.1.tsv.gz \\\n",
    "--match '(n1)-[]->(n2)' \\\n",
    "--return 'distinct n1, \"P279star\" as label, n2 as node2' \\\n",
    "--order-by 'n1'"
   ]
  },
  {
   "cell_type": "markdown",
   "metadata": {},
   "source": [
    "Add ids"
   ]
  },
  {
   "cell_type": "code",
   "execution_count": 70,
   "metadata": {},
   "outputs": [],
   "source": [
    "!$kgtk add-id --id-style wikidata -i $TEMP/P279star.1.tsv.gz -o $OUT/derived.P279star.tsv.gz"
   ]
  },
  {
   "cell_type": "code",
   "execution_count": 71,
   "metadata": {},
   "outputs": [
    {
     "name": "stdout",
     "output_type": "stream",
     "text": [
      "\n",
      "gzip: stdout: Broken pipe\n",
      "node1\tlabel\tnode2\tid\n",
      "Q100000030\tP279star\tQ100000030\tQ100000030-P279star-Q100000030\n",
      "Q100000030\tP279star\tQ14748\tQ100000030-P279star-Q14748\n",
      "Q100000030\tP279star\tQ14745\tQ100000030-P279star-Q14745\n",
      "Q100000030\tP279star\tQ1357761\tQ100000030-P279star-Q1357761\n",
      "Q100000030\tP279star\tQ223557 Q100000030-P279star-Q223557\n",
      "Q100000030\tP279star\tQ35459920\tQ100000030-P279star-Q35459920\n",
      "Q100000030\tP279star\tQ488383 Q100000030-P279star-Q488383\n",
      "Q100000030\tP279star\tQ35120\tQ100000030-P279star-Q35120\n",
      "Q100000030\tP279star\tQ4406616\tQ100000030-P279star-Q4406616\n"
     ]
    }
   ],
   "source": [
    "!zcat < $OUT/derived.P279star.tsv.gz | head | col"
   ]
  },
  {
   "cell_type": "markdown",
   "metadata": {},
   "source": [
    "This is how we would do the typical `?item P31/P279* ?class` in Kypher. \n",
    "The example shows how to get all the counts of instances of subclasses of city (Q515)."
   ]
  },
  {
   "cell_type": "code",
   "execution_count": 72,
   "metadata": {},
   "outputs": [],
   "source": [
    "if debug:\n",
    "    !$kypher -i $OUT/derived.P31.tsv.gz -i $OUT/derived.P279star.tsv.gz -i label \\\n",
    "    --match 'P31: (n1)-[:P31]->(c), P279star: (c)-[]->(:Q515), label: (n1)-[:label]->(label), label: (c)-[:label]->(c_label)' \\\n",
    "    --return 'distinct c as class, count(c) as count, c_label as `class name`, n1 as instance, label as `label`' \\\n",
    "    --order-by 'count(c) desc, c, n1' \\\n",
    "    --limit 10 \\\n",
    "    | col"
   ]
  },
  {
   "cell_type": "markdown",
   "metadata": {},
   "source": [
    "Illustrate that it is indeed `P279*`"
   ]
  },
  {
   "cell_type": "code",
   "execution_count": 73,
   "metadata": {},
   "outputs": [],
   "source": [
    "if debug:\n",
    "    !$kypher -i $OUT/derived.P31.tsv.gz -i $OUT/derived.P279star.tsv.gz -i label \\\n",
    "    --match 'P31: (n1)-[:P31]->(c), P279star: (c)-[]->(:Q63440326), label: (n1)-[:label]->(label), label: (c)-[:label]->(c_label)' \\\n",
    "    --return 'distinct c as class, c_label as `class name`, n1 as instance, label as `label`' \\\n",
    "    --order-by 'c, n1' \\\n",
    "    --limit 10 \\\n",
    "    | col "
   ]
  },
  {
   "cell_type": "markdown",
   "metadata": {},
   "source": [
    "### Create a file to do generalized Is-A queries\n",
    "The idea is that `(n1)-[:isa]->(n2)` when `(n1)-[:P31]->(n2)` or `(n1)-[:P279]->(n2)`\n",
    "\n",
    "We do this by concatenating the files and renaming the relation"
   ]
  },
  {
   "cell_type": "code",
   "execution_count": 74,
   "metadata": {},
   "outputs": [],
   "source": [
    "kgtk(\"\"\"cat \n",
    "        -i $OUT/derived.P31.tsv.gz \n",
    "        -i $OUT/derived.P279.tsv.gz\n",
    "        -o $TEMP/isa.1.tsv.gz\"\"\")"
   ]
  },
  {
   "cell_type": "code",
   "execution_count": 75,
   "metadata": {},
   "outputs": [],
   "source": [
    "!$kypher -i $TEMP/isa.1.tsv.gz -o $OUT/derived.isa.tsv.gz \\\n",
    "--match '(n1)-[]->(n2)' \\\n",
    "--return 'n1, \"isa\" as label, n2' \\\n",
    "--order-by 'n1'"
   ]
  },
  {
   "cell_type": "markdown",
   "metadata": {},
   "source": [
    "Example of how to use the `isa` relation"
   ]
  },
  {
   "cell_type": "code",
   "execution_count": 76,
   "metadata": {},
   "outputs": [],
   "source": [
    "if debug:\n",
    "    !$kypher -i $OUT/derived.isa.tsv.gz -i $OUT/derived.P279star.tsv.gz -i label -o - \\\n",
    "    --match 'isa: (n1)-[l:isa]->(c), P279star: (c)-[]->(:Q44), label: (n1)-[:label]->(label)' \\\n",
    "    --return 'distinct n1, l.label, \"Q44\" as node2, label as n1_label' \\\n",
    "    --limit 10 \\\n",
    "    | col"
   ]
  },
  {
   "cell_type": "markdown",
   "metadata": {},
   "source": [
    "### Create files with `isa/P279* and P31/P279*` \n",
    "This file is useful to find all nodes that are below a q-node via P279 or isa.\n",
    "\n",
    "> These files are very large and take many hours to compute"
   ]
  },
  {
   "cell_type": "code",
   "execution_count": 77,
   "metadata": {},
   "outputs": [],
   "source": [
    "os.environ['P279STAR'] = f\"{os.environ['OUT']}/derived.P279star.tsv.gz\"\n",
    "os.environ['ISA'] = f\"{os.environ['OUT']}/derived.isa.tsv.gz\""
   ]
  },
  {
   "cell_type": "code",
   "execution_count": 78,
   "metadata": {},
   "outputs": [],
   "source": [
    "!$kypher -i \"$P279STAR\" --as P279star -i \"$ISA\" --as isa  \\\n",
    "--match '\\\n",
    "  isa: (n1)-[]->(n2), \\\n",
    "  P279star: (n2)-[]->(n3)' \\\n",
    "--return 'distinct n1 as node1, \"isa_star\" as label, n3 as node2' \\\n",
    "--order-by 'n1' \\\n",
    "-o \"$TEMP\"/derived.isastar_1.tsv.gz"
   ]
  },
  {
   "cell_type": "markdown",
   "metadata": {},
   "source": [
    "Now add ids"
   ]
  },
  {
   "cell_type": "code",
   "execution_count": null,
   "metadata": {},
   "outputs": [],
   "source": [
    "kgtk(\"\"\"add-id \n",
    "        --id-style wikidata \n",
    "        -i \"$TEMP\"/derived.isastar_1.tsv.gz \n",
    "        -o \"$OUT\"/derived.isastar.tsv.gz\"\"\")"
   ]
  },
  {
   "cell_type": "markdown",
   "metadata": {},
   "source": [
    "Also calculate the same file by for P31/P279*"
   ]
  },
  {
   "cell_type": "code",
   "execution_count": 80,
   "metadata": {},
   "outputs": [],
   "source": [
    "!$kypher -i claims -i \"$P279STAR\" --as P279star \\\n",
    "--match '\\\n",
    "  claims: (n1)-[:P31]->(n2), \\\n",
    "  P279star: (n2)-[]->(n3)' \\\n",
    "--return 'distinct n1 as node1, \"P31P279star\" as label, n3 as node2' \\\n",
    "--order-by 'n1' \\\n",
    "-o \"$TEMP\"/derived.P31P279star.tsv.gz"
   ]
  },
  {
   "cell_type": "markdown",
   "metadata": {},
   "source": [
    "Add ids"
   ]
  },
  {
   "cell_type": "code",
   "execution_count": 81,
   "metadata": {},
   "outputs": [],
   "source": [
    "kgtk(\"\"\"add-id \n",
    "        --id-style wikidata \n",
    "        -i \"$TEMP\"/derived.P31P279star.tsv.gz\n",
    "        -o \"$OUT\"/derived.P31P279star.tsv.gz\"\"\")"
   ]
  },
  {
   "cell_type": "markdown",
   "metadata": {},
   "source": [
    "It is also very big"
   ]
  },
  {
   "cell_type": "code",
   "execution_count": 42,
   "metadata": {},
   "outputs": [
    {
     "name": "stdout",
     "output_type": "stream",
     "text": [
      " 1704159 6816636 100144221\n"
     ]
    }
   ],
   "source": [
    "if debug:\n",
    "    !zcat < \"$OUT\"/derived.P31P279star.tsv.gz | wc"
   ]
  },
  {
   "cell_type": "markdown",
   "metadata": {},
   "source": [
    "## Compute pagerank"
   ]
  },
  {
   "cell_type": "markdown",
   "metadata": {},
   "source": [
    "Now compute pagerank. These commands will exceed 16GB memory for graphs containing over 25 million nodes."
   ]
  },
  {
   "cell_type": "code",
   "execution_count": 30,
   "metadata": {},
   "outputs": [],
   "source": [
    "if compute_pagerank:\n",
    "    kgtk(\"\"\"graph-statistics \n",
    "            -i \"$GRAPH/claims.wikibase-item.tsv.gz\" \n",
    "            -o $OUT/metadata.pagerank.directed.tsv.gz \n",
    "            --compute-pagerank True \n",
    "            --compute-hits False \n",
    "            --page-rank-property Pdirected_pagerank \n",
    "            --output-degrees False \n",
    "            --use-mgzip True \n",
    "            --mgzip-threads 12 \n",
    "            --output-pagerank True \n",
    "            --output-hits False \n",
    "            --output-statistics-only \n",
    "            --undirected False \n",
    "            --log-file $TEMP/metadata.pagerank.directed.summary.txt\"\"\")"
   ]
  },
  {
   "cell_type": "code",
   "execution_count": 31,
   "metadata": {},
   "outputs": [
    {
     "name": "stdout",
     "output_type": "stream",
     "text": [
      "graph loaded! It has 92915895 nodes and 654318387 edges\n",
      "\n",
      "*** Top relations:\n",
      "P2860\t284754818\n",
      "P31\t97274091\n",
      "P1433\t37574876\n",
      "P50\t21623753\n",
      "P921\t17012294\n",
      "P17\t14282490\n",
      "P407\t14064733\n",
      "P131\t10893839\n",
      "P106\t8872011\n",
      "P6259\t8076591\n",
      "\n",
      "*** Degrees:\n",
      "in degree stats: mean=7.042050, std=0.460818, max=1\n",
      "out degree stats: mean=7.042050, std=0.001477, max=1\n",
      "total degree stats: mean=14.084100, std=0.460825, max=1\n",
      "\n",
      "*** PageRank\n",
      "Max pageranks\n",
      "3927\tQ4167836\t0.023031\n",
      "42785\tQ13442814\t0.021860\n",
      "1926\tQ1860\t0.007249\n",
      "2472\tQ5\t0.006367\n",
      "1263646\tQ35252665\t0.005490\n"
     ]
    }
   ],
   "source": [
    "if compute_pagerank:\n",
    "    !cat $TEMP/metadata.pagerank.directed.summary.txt"
   ]
  },
  {
   "cell_type": "code",
   "execution_count": 32,
   "metadata": {},
   "outputs": [],
   "source": [
    "if compute_pagerank:\n",
    "    kgtk(\"\"\"graph-statistics \n",
    "            -i \"$GRAPH/claims.wikibase-item.tsv.gz\" \n",
    "            -o $OUT/metadata.pagerank.undirected.tsv.gz \n",
    "            --compute-pagerank True \n",
    "            --compute-hits False \n",
    "            --page-rank-property Pundirected_pagerank\n",
    "            --use-mgzip True \n",
    "            --mgzip-threads 12\n",
    "            --output-degrees False \n",
    "            --output-pagerank True \n",
    "            --output-hits False \n",
    "            --output-statistics-only \n",
    "            --undirected True \n",
    "            --log-file $TEMP/metadata.pagerank.undirected.summary.txt\"\"\")"
   ]
  },
  {
   "cell_type": "code",
   "execution_count": 33,
   "metadata": {},
   "outputs": [
    {
     "name": "stdout",
     "output_type": "stream",
     "text": [
      "graph loaded! It has 92915895 nodes and 654318387 edges\n",
      "\n",
      "*** Top relations:\n",
      "P2860\t284754818\n",
      "P31\t97274091\n",
      "P1433\t37574876\n",
      "P50\t21623753\n",
      "P921\t17012294\n",
      "P17\t14282490\n",
      "P407\t14064733\n",
      "P131\t10893839\n",
      "P106\t8872011\n",
      "P6259\t8076591\n",
      "\n",
      "*** Degrees:\n",
      "in degree stats: mean=0.000000, std=0.000000, max=1\n",
      "out degree stats: mean=14.084100, std=0.460825, max=1\n",
      "total degree stats: mean=14.084100, std=0.460825, max=1\n",
      "\n",
      "*** PageRank\n",
      "Max pageranks\n",
      "42785\tQ13442814\t0.030297\n",
      "126633\tQ1264450\t0.013443\n",
      "3927\tQ4167836\t0.012639\n",
      "2472\tQ5\t0.008565\n",
      "1926\tQ1860\t0.006830\n"
     ]
    }
   ],
   "source": [
    "if compute_pagerank:\n",
    "    !cat $TEMP/metadata.pagerank.undirected.summary.txt "
   ]
  },
  {
   "cell_type": "markdown",
   "metadata": {},
   "source": [
    "## Compute Degrees"
   ]
  },
  {
   "cell_type": "markdown",
   "metadata": {},
   "source": [
    "Kypher can compute the out degree by counting the node2s for each node1"
   ]
  },
  {
   "cell_type": "code",
   "execution_count": 82,
   "metadata": {},
   "outputs": [],
   "source": [
    "!$kypher -i claims -o $TEMP/metadata.out_degree.tsv.gz \\\n",
    "--match '(n1)-[l]->()' \\\n",
    "--order-by 'n1' \\\n",
    "--return 'distinct n1 as node1, count(distinct l) as node2, \"Pout_degree\" as label' "
   ]
  },
  {
   "cell_type": "code",
   "execution_count": 83,
   "metadata": {},
   "outputs": [],
   "source": [
    "kgtk(\"\"\"add-id --id-style wikidata \n",
    "        -i $TEMP/metadata.out_degree.tsv.gz \n",
    "        -o $OUT/metadata.out_degree.tsv.gz\"\"\")"
   ]
  },
  {
   "cell_type": "code",
   "execution_count": 84,
   "metadata": {},
   "outputs": [
    {
     "name": "stdout",
     "output_type": "stream",
     "text": [
      "node1\tnode2\tlabel\tid\n",
      "P10\t19\tPout_degree\tP10-Pout_degree-9400f1\n",
      "P1000\t10\tPout_degree\tP1000-Pout_degree-4a44dc\n",
      "\n",
      "gzip: P10000\t23\tPout_degree\tP10000-Pout_degree-535fa3\n",
      "stdout: Broken pipe\n",
      "P10001\t26\tPout_degree\tP10001-Pout_degree-5f9c4a\n",
      "P10002\t20\tPout_degree\tP10002-Pout_degree-f5ca38\n",
      "P10003\t20\tPout_degree\tP10003-Pout_degree-f5ca38\n",
      "P10004\t21\tPout_degree\tP10004-Pout_degree-6f4b66\n",
      "P10005\t19\tPout_degree\tP10005-Pout_degree-9400f1\n",
      "P10006\t20\tPout_degree\tP10006-Pout_degree-f5ca38\n"
     ]
    }
   ],
   "source": [
    "!zcat < $OUT/metadata.out_degree.tsv.gz | head | col"
   ]
  },
  {
   "cell_type": "markdown",
   "metadata": {},
   "source": [
    "To count the in-degree we only care when the node2 is a wikibase-item"
   ]
  },
  {
   "cell_type": "code",
   "execution_count": 85,
   "metadata": {},
   "outputs": [],
   "source": [
    "!$kypher -i claims -o $TEMP/metadata.in_degree.tsv.gz \\\n",
    "--match '()-[l]->(n2 {`wikidatatype`:\"wikibase-item\"})' \\\n",
    "--return 'distinct n2 as node1, count(distinct l) as node2, \"Pin_degree\" as label' \\\n",
    "--order-by 'n2'"
   ]
  },
  {
   "cell_type": "code",
   "execution_count": 86,
   "metadata": {},
   "outputs": [],
   "source": [
    "kgtk(\"\"\"add-id --id-style wikidata \n",
    "        -i $TEMP/metadata.in_degree.tsv.gz\n",
    "        -o $OUT/metadata.in_degree.tsv.gz\"\"\")"
   ]
  },
  {
   "cell_type": "code",
   "execution_count": 87,
   "metadata": {},
   "outputs": [
    {
     "name": "stdout",
     "output_type": "stream",
     "text": [
      "node1\tnode2\tlabel\tid\n",
      "\n",
      "gzip: Q1\t91\tPin_degree\tQ1-Pin_degree-1da51b\n",
      "stdout: Broken pipe\n",
      "Q100\t13492\tPin_degree\tQ100-Pin_degree-9ba93e\n",
      "Q1000\t5423\tPin_degree\tQ1000-Pin_degree-f2069c\n",
      "Q100000 125\tPin_degree\tQ100000-Pin_degree-0f8ef3\n",
      "Q10000000\t1\tPin_degree\tQ10000000-Pin_degree-6b86b2\n",
      "Q100000001\t3\tPin_degree\tQ100000001-Pin_degree-4e0740\n",
      "Q10000002\t1\tPin_degree\tQ10000002-Pin_degree-6b86b2\n",
      "Q100000040\t4\tPin_degree\tQ100000040-Pin_degree-4b2277\n",
      "Q10000005\t1\tPin_degree\tQ10000005-Pin_degree-6b86b2\n"
     ]
    }
   ],
   "source": [
    "!zcat < $OUT/metadata.in_degree.tsv.gz | head | col"
   ]
  },
  {
   "cell_type": "markdown",
   "metadata": {},
   "source": [
    "Calculate the distribution so we can make a nice chart"
   ]
  },
  {
   "cell_type": "code",
   "execution_count": 88,
   "metadata": {},
   "outputs": [],
   "source": [
    "!$kypher -i $OUT/metadata.in_degree.tsv.gz -o $OUT/statistics.in_degree.distribution.tsv \\\n",
    "--match '(n1)-[]->(n2)' \\\n",
    "--return 'distinct n2 as Pin_degree, count(distinct n1) as count, \"count\" as label' \\\n",
    "--order-by 'cast(n2, integer)' "
   ]
  },
  {
   "cell_type": "code",
   "execution_count": 89,
   "metadata": {},
   "outputs": [
    {
     "name": "stdout",
     "output_type": "stream",
     "text": [
      "Pin_degree\tcount\tlabel\n",
      "1\t7182787 count\n",
      "2\t2146229 count\n",
      "3\t903632\tcount\n",
      "4\t454520\tcount\n",
      "5\t317411\tcount\n",
      "6\t214644\tcount\n",
      "7\t169879\tcount\n",
      "8\t115011\tcount\n",
      "9\t91834\tcount\n"
     ]
    }
   ],
   "source": [
    "!head $OUT/statistics.in_degree.distribution.tsv | col"
   ]
  },
  {
   "cell_type": "code",
   "execution_count": 90,
   "metadata": {},
   "outputs": [],
   "source": [
    "!$kypher -i $OUT/metadata.out_degree.tsv.gz -o $OUT/statistics.out_degree.distribution.tsv \\\n",
    "--match '(n1)-[]->(n2)' \\\n",
    "--return 'distinct n2 as Pout_degree, count(distinct n1) as count, \"count\" as label' \\\n",
    "--order-by 'cast(n2, integer)' "
   ]
  },
  {
   "cell_type": "code",
   "execution_count": 91,
   "metadata": {},
   "outputs": [
    {
     "name": "stdout",
     "output_type": "stream",
     "text": [
      "Pout_degree\tcount\tlabel\n",
      "1\t6167233 count\n",
      "2\t2647513 count\n",
      "3\t2853195 count\n",
      "4\t3070920 count\n",
      "5\t4297447 count\n",
      "6\t5898946 count\n",
      "7\t4787449 count\n",
      "8\t3723237 count\n",
      "9\t3343266 count\n"
     ]
    }
   ],
   "source": [
    "!head $OUT/statistics.out_degree.distribution.tsv | col"
   ]
  },
  {
   "cell_type": "markdown",
   "metadata": {},
   "source": [
    "Draw some charts"
   ]
  },
  {
   "cell_type": "code",
   "execution_count": 43,
   "metadata": {},
   "outputs": [],
   "source": [
    "if debug:\n",
    "    data = pd.read_csv(\n",
    "        os.environ[\"OUT\"] + \"/statistics.in_degree.distribution.tsv\", sep=\"\\t\"\n",
    "    )\n",
    "\n",
    "    alt.Chart(data).mark_circle(size=60).encode(\n",
    "        x=alt.X(\"in_degree\", scale=alt.Scale(type=\"log\")),\n",
    "        y=alt.Y(\"count\", scale=alt.Scale(type=\"log\"), title=\"count of nodes\"),\n",
    "        tooltip=[\"in_degree\", \"count\"],\n",
    "    ).interactive().properties(title=\"Distribution of In Degree\")"
   ]
  },
  {
   "cell_type": "code",
   "execution_count": 44,
   "metadata": {},
   "outputs": [],
   "source": [
    "if debug:\n",
    "    data = pd.read_csv(\n",
    "        os.environ[\"OUT\"] + \"/statistics.out_degree.distribution.tsv\", sep=\"\\t\"\n",
    "    )\n",
    "\n",
    "    alt.Chart(data).mark_circle(size=60).encode(\n",
    "        x=alt.X(\"out_degree\", scale=alt.Scale(type=\"log\")),\n",
    "        y=alt.Y(\"count\", scale=alt.Scale(type=\"log\"), title=\"count of nodes\"),\n",
    "        tooltip=[\"out_degree\", \"count\"],\n",
    "    ).interactive().properties(title=\"Distribution of Out Degree\")"
   ]
  },
  {
   "cell_type": "markdown",
   "metadata": {},
   "source": [
    "## Summary of results"
   ]
  },
  {
   "cell_type": "code",
   "execution_count": 45,
   "metadata": {},
   "outputs": [
    {
     "name": "stdout",
     "output_type": "stream",
     "text": [
      "-rw-r--r-- 1 amandeep isdstaff  19G Nov 16 02:53 /data/amandeep/wikidata-20210215-dwd-v3/useful-files/derived.isastar.tsv.gz\n",
      "-rw-r--r-- 1 amandeep isdstaff 295M Nov 11 18:13 /data/amandeep/wikidata-20210215-dwd-v3/useful-files/derived.isa.tsv.gz\n",
      "-rw-r--r-- 1 amandeep isdstaff 723M Nov 11 18:04 /data/amandeep/wikidata-20210215-dwd-v3/useful-files/derived.P279star.tsv.gz\n",
      "-rw-r--r-- 1 amandeep isdstaff  40M Nov 11 17:59 /data/amandeep/wikidata-20210215-dwd-v3/useful-files/derived.P279.tsv.gz\n",
      "-rw-r--r-- 1 amandeep isdstaff  18G Nov 17 11:52 /data/amandeep/wikidata-20210215-dwd-v3/useful-files/derived.P31P279star.tsv.gz\n",
      "-rw-r--r-- 1 amandeep isdstaff 1.2G Nov 11 18:12 /data/amandeep/wikidata-20210215-dwd-v3/useful-files/derived.P31.tsv.gz\n",
      "-rw-r--r-- 1 amandeep isdstaff 231M Nov 18 01:18 /data/amandeep/wikidata-20210215-dwd-v3/useful-files/metadata.in_degree.tsv.gz\n",
      "-rw-r--r-- 1 amandeep isdstaff 598M Nov 17 19:49 /data/amandeep/wikidata-20210215-dwd-v3/useful-files/metadata.out_degree.tsv.gz\n",
      "-rw-r--r-- 1 amandeep isdstaff 2.6G Nov 17 14:25 /data/amandeep/wikidata-20210215-dwd-v3/useful-files/metadata.pagerank.directed.tsv.gz\n",
      "-rw-r--r-- 1 amandeep isdstaff 1.4G Nov 17 17:25 /data/amandeep/wikidata-20210215-dwd-v3/useful-files/metadata.pagerank.undirected.tsv.gz\n",
      "-rw-r--r-- 1 amandeep isdstaff 122K Nov 18 08:08 /data/amandeep/wikidata-20210215-dwd-v3/useful-files/statistics.in_degree.distribution.tsv\n",
      "-rw-r--r-- 1 amandeep isdstaff  24K Nov 18 08:13 /data/amandeep/wikidata-20210215-dwd-v3/useful-files/statistics.out_degree.distribution.tsv\n",
      "\n",
      "/data/amandeep/wikidata-20210215-dwd-v3/useful-files/temp.useful-files:\n",
      "total 502G\n",
      "-rw-r--r-- 1 amandeep isdstaff 8.7G Nov 12 16:15 derived.isastar_1.tsv.gz\n",
      "-rw-r--r-- 1 amandeep isdstaff  18G Nov 16 00:57 derived.isastar_2.tsv.gz\n",
      "-rw-r--r-- 1 amandeep isdstaff 8.7G Nov 16 23:39 derived.P31P279star.gz\n",
      "-rw-r--r-- 1 amandeep isdstaff 105M Nov 18 01:11 metadata.in_degree.tsv.gz\n",
      "-rw-r--r-- 1 amandeep isdstaff 286M Nov 17 19:30 metadata.out_degree.tsv.gz\n",
      "-rw-r--r-- 1 amandeep isdstaff  530 Nov 17 15:19 metadata.pagerank.directed.summary.txt\n",
      "-rw-r--r-- 1 amandeep isdstaff  529 Nov 17 18:14 metadata.pagerank.undirected.summary.txt\n",
      "-rw-r--r-- 1 amandeep isdstaff 467G Nov 18 08:11 wikidata.sqlite3.db\n"
     ]
    }
   ],
   "source": [
    "!ls -lh $OUT/*"
   ]
  },
  {
   "cell_type": "markdown",
   "metadata": {},
   "source": [
    "Highest page rank"
   ]
  },
  {
   "cell_type": "code",
   "execution_count": 46,
   "metadata": {},
   "outputs": [],
   "source": [
    "if debug:\n",
    "    if compute_pagerank:\n",
    "        !$kypher -i $OUT/metadata.pagerank.undirected.tsv.gz -i label \\\n",
    "        --match 'pagerank: (n1)-[:Pundirected_pagerank]->(page_rank), label: (n1)-[:label]->(label)' \\\n",
    "        --return 'distinct n1, label as label, page_rank as `undirected page rank`' \\\n",
    "        --order-by 'page_rank desc' \\\n",
    "        --limit 10 "
   ]
  },
  {
   "cell_type": "code",
   "execution_count": null,
   "metadata": {},
   "outputs": [],
   "source": []
  }
 ],
 "metadata": {
  "celltoolbar": "Tags",
  "kernelspec": {
   "display_name": "kgtk-env",
   "language": "python",
   "name": "kgtk-env"
  },
  "language_info": {
   "codemirror_mode": {
    "name": "ipython",
    "version": 3
   },
   "file_extension": ".py",
   "mimetype": "text/x-python",
   "name": "python",
   "nbconvert_exporter": "python",
   "pygments_lexer": "ipython3",
   "version": "3.9.7"
  }
 },
 "nbformat": 4,
 "nbformat_minor": 4
}
