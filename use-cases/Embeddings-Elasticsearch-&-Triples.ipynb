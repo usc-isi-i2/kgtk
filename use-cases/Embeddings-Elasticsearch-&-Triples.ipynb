{
 "cells": [
  {
   "cell_type": "markdown",
   "id": "naval-vulnerability",
   "metadata": {},
   "source": [
    "# Computes Graph and Text Embeddings, Elasticsearch Ready KGTK File and RDF Triples for Blazegraph\n",
    "\n",
    "This notebook computes the following:\n",
    "\n",
    "- `complEx` graph embeddings\n",
    "- `transE` graph embeddings\n",
    "- `BERT` text embeddings\n",
    "- `elasticsearch` ready KGTK edge for [KGTK Search](https://kgtk.isi.edu/search/)\n",
    "- `elasticsearch` ready KGTK edge file for Table Linker\n",
    "- `RDF Triples` to be loaded into blazegraph\n",
    "\n",
    "Inputs:\n",
    "\n",
    "- `item_file`: the subset of the `claims_file` consistin of edges for property of data type `wikibase-item`\n",
    "- `label_file`, `alias_file` and `description_file` containing labels, aliases and descriptions. It is assume that these files contain the labels, aliases and descriptions of all nodes appearing in the claims file. Users may provide these files for specific languages only.\n"
   ]
  },
  {
   "cell_type": "markdown",
   "id": "endless-exemption",
   "metadata": {},
   "source": [
    "### Batch Invocation\n",
    "Example batch command. The second argument is a notebook where the output will be stored. You can load it to see progress.\n",
    "\n",
    "```\n",
    "papermill Embeddings-Elasticsearch-&-Triples.ipynb Embeddings-Elasticsearch-&-Triples.out.ipynb \\\n",
    "-p claims_file /Volumes/GoogleDrive/Shared\\ drives/KGTK-public-graphs/wikidata-20200803-v4/all.tsv.gz \\\n",
    "-p label_file /Volumes/GoogleDrive/Shared\\ drives/KGTK-public-graphs/wikidata-20200803-v4/part.label.en.tsv.gz \\\n",
    "-p item_file /Volumes/GoogleDrive/Shared\\ drives/KGTK-public-graphs/wikidata-20200803-v4/part.wikibase-item.tsv.gz \\\n",
    "-p property_item_file = /Volumes/GoogleDrive/Shared\\ drives/KGTK-public-graphs/wikidata-20200803-v4/part.property.wikibase-item.tsv.gz \\\n",
    "-p output_path <local folder> \\\n",
    "-p output_folder useful_files_v4 \\\n",
    "-p temp_folder temp.useful_files_v4 \\\n",
    "-p delete_database no \n",
    "-p languages es,ru,zh-cn\n",
    "```"
   ]
  },
  {
   "cell_type": "code",
   "execution_count": 1,
   "id": "bb3e0847-155b-4251-821a-34e27d75c8a6",
   "metadata": {},
   "outputs": [],
   "source": [
    "import os\n",
    "import sys\n",
    "\n",
    "import pandas as pd\n",
    " \n",
    "from kgtk.configure_kgtk_notebooks import ConfigureKGTK\n",
    "from kgtk.functions import kgtk, kypher"
   ]
  },
  {
   "cell_type": "code",
   "execution_count": null,
   "id": "departmental-connectivity",
   "metadata": {
    "tags": [
     "parameters"
    ]
   },
   "outputs": [],
   "source": [
    "# Parameters\n",
    "\n",
    "input_path = \"/data/amandeep/wikidata-20211027-dwd-v3\"\n",
    "output_path = \"/data/amandeep/wikidata-20211027-dwd-v3\"\n",
    "kgtk_path = \"/Users/amandeep/github/kgtk\"\n",
    "\n",
    "graph_cache_path = None\n",
    "\n",
    "project_name = \"embeddings-elasticsearch-triples\"\n",
    "\n",
    "languages = 'en,ru,es,zh-cn,de,it,nl,pl,fr,pt,sv'\n",
    "\n",
    "files = 'label_all,alias_all,description_all'"
   ]
  },
  {
   "cell_type": "code",
   "execution_count": null,
   "id": "f44d69f2-eca7-4ac6-8b63-1d7c42898f59",
   "metadata": {},
   "outputs": [],
   "source": [
    "files = files.split(',')"
   ]
  },
  {
   "cell_type": "code",
   "execution_count": null,
   "id": "8e64367d-b01b-49f2-8c1e-dda2e0ceb2e2",
   "metadata": {},
   "outputs": [],
   "source": [
    "languages = [f\"'{x}'\" for x in languages.split(\",\")]"
   ]
  },
  {
   "cell_type": "code",
   "execution_count": null,
   "id": "1b52a584-551e-43ad-becb-9314e95932fa",
   "metadata": {},
   "outputs": [],
   "source": [
    "ck = ConfigureKGTK(files, kgtk_path=kgtk_path)\n",
    "ck.configure_kgtk(input_graph_path=input_path,\n",
    "                  output_path=output_path,\n",
    "                  project_name=project_name,\n",
    "                 graph_cache_path=graph_cache_path)"
   ]
  },
  {
   "cell_type": "code",
   "execution_count": null,
   "id": "1ffdcaec-c0d7-468c-a207-186fad300d56",
   "metadata": {},
   "outputs": [],
   "source": [
    "ck.print_env_variables()"
   ]
  },
  {
   "cell_type": "code",
   "execution_count": null,
   "id": "cab363fd-ba8c-433d-b2e7-d56164118c41",
   "metadata": {},
   "outputs": [],
   "source": [
    "if graph_cache_path is None:\n",
    "    ck.load_files_into_cache()"
   ]
  },
  {
   "cell_type": "markdown",
   "id": "a7473bed-c3fd-4dcd-a0ff-c7fa865003da",
   "metadata": {},
   "source": [
    "## Filter the labels in user provided languages"
   ]
  },
  {
   "cell_type": "code",
   "execution_count": null,
   "id": "2e887704-2b39-4dbb-8d5a-005c9cf8f47d",
   "metadata": {},
   "outputs": [],
   "source": [
    "kypher(f\"\"\"-i label_all \n",
    "            -o $OUT/labels.filtered.tsv.gz \n",
    "            --match '(n1)-[l:label]->(n2)' \n",
    "            --where 'n2.kgtk_lqstring_lang_suffix IN {languages}' \n",
    "            --return 'n1, l.label, n2, l.id'\n",
    "            \"\"\")\n"
   ]
  },
  {
   "cell_type": "code",
   "execution_count": null,
   "id": "d300c616-3ec8-4f98-8adb-dafcf6fac066",
   "metadata": {},
   "outputs": [],
   "source": [
    "## Filter the aliases in user provided languages"
   ]
  },
  {
   "cell_type": "code",
   "execution_count": null,
   "id": "986c35e1-429d-4059-bd05-6df6c6d4573f",
   "metadata": {},
   "outputs": [],
   "source": [
    "kypher(f\"\"\" -i alias_all \n",
    "            -o $OUT/aliases.filtered.tsv.gz \n",
    "            --match '(n1)-[l:alias]->(n2)' \n",
    "            --where 'n2.kgtk_lqstring_lang_suffix IN {languages}' \n",
    "            --return 'n1, l.label, n2, l.id'\n",
    "            \"\"\")"
   ]
  },
  {
   "cell_type": "code",
   "execution_count": null,
   "id": "d6d93085-b9b7-45db-9d6a-1ae09831f9d1",
   "metadata": {},
   "outputs": [],
   "source": [
    "## Filter the descriptions in user provided languages"
   ]
  },
  {
   "cell_type": "code",
   "execution_count": null,
   "id": "cdfa2639-36f2-4971-a988-bfc6c5ec937a",
   "metadata": {},
   "outputs": [],
   "source": [
    "kypher(f\"\"\" -i description_all \n",
    "            -o $OUT/descriptions.filtered.tsv.gz \n",
    "            --match '(n1)-[l:description]->(n2)'\n",
    "            --where 'n2.kgtk_lqstring_lang_suffix IN {languages}' \n",
    "            --return 'n1, l.label, n2, l.id'\n",
    "            \"\"\")\n"
   ]
  },
  {
   "cell_type": "markdown",
   "id": "excellent-passenger",
   "metadata": {},
   "source": [
    "## Graph Embeddings"
   ]
  },
  {
   "cell_type": "markdown",
   "id": "integrated-slide",
   "metadata": {},
   "source": [
    "### complEx"
   ]
  },
  {
   "cell_type": "code",
   "execution_count": 6,
   "id": "eleven-tribe",
   "metadata": {},
   "outputs": [],
   "source": [
    "complex_temp_folder = f\"{wikidata_root_folder}/temp.graph-embeddings.complex\""
   ]
  },
  {
   "cell_type": "code",
   "execution_count": 7,
   "id": "found-traffic",
   "metadata": {},
   "outputs": [],
   "source": [
    "!mkdir -p {complex_temp_folder}"
   ]
  },
  {
   "cell_type": "code",
   "execution_count": null,
   "id": "gentle-wheat",
   "metadata": {},
   "outputs": [],
   "source": [
    "os.environ['TEMP_COMPLEX'] = complex_temp_folder"
   ]
  },
  {
   "cell_type": "code",
   "execution_count": null,
   "id": "attached-texture",
   "metadata": {},
   "outputs": [],
   "source": [
    "!kgtk graph-embeddings --verbose -i \"$ITEMS\" \\\n",
    "-o $OUT/wikidatadwd.complEx.graph-embeddings.txt \\\n",
    "--retain_temporary_data True \\\n",
    "--operator ComplEx \\\n",
    "--workers 24 \\\n",
    "--log $TEMP_COMPLEX/ge.complex.log \\\n",
    "-T $TEMP_COMPLEX \\\n",
    "-ot w2v \\\n",
    "-e 600"
   ]
  },
  {
   "cell_type": "markdown",
   "id": "piano-thousand",
   "metadata": {},
   "source": [
    "### transE"
   ]
  },
  {
   "cell_type": "code",
   "execution_count": null,
   "id": "serial-landscape",
   "metadata": {},
   "outputs": [],
   "source": [
    "transe_temp_folder = f\"{wikidata_root_folder}/temp.graph-embeddings.transe\""
   ]
  },
  {
   "cell_type": "code",
   "execution_count": null,
   "id": "naval-morgan",
   "metadata": {},
   "outputs": [],
   "source": [
    "!mkdir -p {transe_temp_folder}"
   ]
  },
  {
   "cell_type": "code",
   "execution_count": null,
   "id": "little-dietary",
   "metadata": {},
   "outputs": [],
   "source": [
    "os.environ['TEMP_TRANSE'] = transe_temp_folder"
   ]
  },
  {
   "cell_type": "code",
   "execution_count": null,
   "id": "annoying-council",
   "metadata": {},
   "outputs": [],
   "source": [
    "!$kgtk graph-embeddings --verbose -i \"$ITEMS\" \\\n",
    "-o $OUT/wikidatadwd.transE.graph-embeddings.txt \\\n",
    "--retain_temporary_data True \\\n",
    "--operator TransE \\\n",
    "--workers 24 \\\n",
    "--log $TEMP_TRANSE/ge.transE.log \\\n",
    "-T $TEMP_TRANSE \\\n",
    "-ot w2v \\\n",
    "-e 600"
   ]
  },
  {
   "cell_type": "markdown",
   "id": "speaking-torture",
   "metadata": {},
   "source": [
    "### BERT Embeddings"
   ]
  },
  {
   "cell_type": "code",
   "execution_count": null,
   "id": "patient-times",
   "metadata": {},
   "outputs": [],
   "source": [
    "!$kgtk text-embedding -i $ALL   \\\n",
    "--model roberta-large-nli-mean-tokens   \\\n",
    "--property-labels-file $LABELS_EN   \\\n",
    "--isa-properties P31 P279 P106 P39 P1382 P373 P452 \\\n",
    "--save-embedding-sentence > $OUT/wikidatadwd-text-embeddings-all.tsv"
   ]
  },
  {
   "cell_type": "markdown",
   "id": "similar-bidder",
   "metadata": {},
   "source": [
    "### Build KGTK edge file for KGTK Search"
   ]
  },
  {
   "cell_type": "code",
   "execution_count": null,
   "id": "closed-yemen",
   "metadata": {},
   "outputs": [],
   "source": [
    "kgtk(\"\"\"cat -i $GRAPH/all.tsv.gz \n",
    "            -i $GRAPH/derived.isastar.tsv.gz \n",
    "            -i $GRAPH/metadata.property.datatypes.tsv.gz \n",
    "            -i $GRAPH/metadata.pagerank.undirected.tsv.gz\n",
    "            -i $GRAPH/metadata.pagerank.directed.tsv.gz\n",
    "            -o $OUT/wikidata.dwd.all.kgtk.search.unsorted.tsv.gz\"\"\")"
   ]
  },
  {
   "cell_type": "code",
   "execution_count": null,
   "id": "trained-typing",
   "metadata": {},
   "outputs": [],
   "source": [
    "kgtk(f\"\"\"sort -i $OUT/wikidata.dwd.all.kgtk.search.unsorted.tsv.gz\n",
    "            --columns node1\n",
    "            --extra '--parallel 24 --buffer-size 30% --temporary-directory {os.environ['TEMP']}'\n",
    "            -o $OUT/wikidata.dwd.all.kgtk.search.sorted.tsv.gz\"\"\")"
   ]
  },
  {
   "cell_type": "code",
   "execution_count": null,
   "id": "6f2f5864-5dae-47ec-b4de-0726654de82c",
   "metadata": {},
   "outputs": [],
   "source": [
    "kgtk(\"\"\"build-kgtk-search-input --input-file \"$OUT\"/wikidata.dwd.all.kgtk.search.sorted.tsv.gz\n",
    "--output-file \"$OUT\"/wikidata.dwd.all.kgtk.search.sorted.jl \n",
    "--label-properties label \n",
    "--alias-properties alias \n",
    "--extra-alias-properties P1448,P1705,P1477,P1810,P742,P1449 \n",
    "--description-properties description \n",
    "--pagerank-properties Pdirected_pagerank \n",
    "--mapping-file \"$OUT\"/wikidata_dwd_v3_mapping.json \n",
    "--property-datatype-file \"$OUT\"/metadata.property.datatypes.tsv.gz\"\"\")"
   ]
  },
  {
   "cell_type": "markdown",
   "id": "instant-bidder",
   "metadata": {},
   "source": [
    "### Build KGTK edge file for Triple generation\n"
   ]
  },
  {
   "cell_type": "code",
   "execution_count": null,
   "id": "rolled-poker",
   "metadata": {},
   "outputs": [],
   "source": [
    "!$kgtk cat \\\n",
    "-i $OUT/wikidata.dwd.all.kgtk.search.sorted.tsv.gz \\\n",
    "-i $OUT/derived.isa.tsv.gz \\\n",
    "-i $OUT/derived.P279star.tsv.gz \\\n",
    "-i $OUT/metadata.in_degree.tsv.gz \\\n",
    "-i $OUT/metadata.out_degree.tsv.gz \\\n",
    "-o $TEMP/wikidata.dwd.all.kgtk.triples.1.tsv.gz"
   ]
  },
  {
   "cell_type": "code",
   "execution_count": null,
   "id": "aggressive-fleet",
   "metadata": {},
   "outputs": [],
   "source": [
    "!$kgtk add-id -i $TEMP/wikidata.dwd.all.kgtk.triples.1.tsv.gz \\\n",
    "--id-style wikidata \\\n",
    "-o $TEMP/wikidata.dwd.all.kgtk.triples.2.tsv.gz"
   ]
  },
  {
   "cell_type": "code",
   "execution_count": null,
   "id": "assumed-ready",
   "metadata": {},
   "outputs": [],
   "source": [
    "!$kgtk sort -i $TEMP/wikidata.dwd.all.kgtk.triples.2.tsv.gz \\\n",
    "--columns node1 \\\n",
    " --extra '--parallel 24 --buffer-size 30% --temporary-directory ' + temp_folder_path \\\n",
    "-o $OUT/wikidata.dwd.all.kgtk.triples.sorted.tsv.gz"
   ]
  },
  {
   "cell_type": "markdown",
   "id": "wireless-headquarters",
   "metadata": {},
   "source": [
    "Split the triples file to parallelize triple generation"
   ]
  },
  {
   "cell_type": "code",
   "execution_count": null,
   "id": "single-gardening",
   "metadata": {},
   "outputs": [],
   "source": [
    "!mkdir -p $OUT/kgtk_triples_split"
   ]
  },
  {
   "cell_type": "code",
   "execution_count": null,
   "id": "original-charles",
   "metadata": {},
   "outputs": [],
   "source": [
    "!$kgtk split -i $OUT/wikidata.dwd.all.kgtk.triples.sorted.tsv.gz \\\n",
    "--output-path $OUT/kgtk_triples_split \\\n",
    "--gzipped-output --lines 10000000 \\\n",
    "--file-prefix kgtk_triples"
   ]
  },
  {
   "cell_type": "code",
   "execution_count": null,
   "id": "auburn-elephant",
   "metadata": {},
   "outputs": [],
   "source": [
    "!curl https://raw.githubusercontent.com/usc-isi-i2/kgtk/dev/kgtk-properties/kgtk.properties.tsv -o $TEMP/kgtk-properties.tsv"
   ]
  },
  {
   "cell_type": "code",
   "execution_count": null,
   "id": "compressed-sight",
   "metadata": {},
   "outputs": [],
   "source": [
    "!$kgtk filter -p \";data_type;\" -i $TEMP/kgtk-properties.tsv -o $TEMP/kgtk-properties.datatype.tsv.gz"
   ]
  },
  {
   "cell_type": "code",
   "execution_count": 1,
   "id": "threaded-confusion",
   "metadata": {},
   "outputs": [
    {
     "name": "stdout",
     "output_type": "stream",
     "text": [
      "cat: illegal option -- i\n",
      "usage: cat [-benstuv] [file ...]\n"
     ]
    }
   ],
   "source": [
    "!$kgtk cat -i $TEMP/kgtk-properties.datatype.tsv.gz $OUT/metadata.property.datatypes.tsv.gz -o $OUT/metadata.property.datatypes.augmented.tsv.gz"
   ]
  },
  {
   "cell_type": "code",
   "execution_count": null,
   "id": "disciplinary-violation",
   "metadata": {},
   "outputs": [],
   "source": [
    "ls $OUT/kgtk_triples_split/*.tsv.gz | parallel -j 18  'kgtk --debug generate-wikidata-triples -lp label -ap alias -dp description -pf $OUT/metadata.property.datatypes.augmented.tsv.gz --output-n-lines 100000 --generate-truthy --warning --use-id --log-path $TEMP/generate_triples_log.txt --error-action log -i {} -o {.}.ttl'\n",
    "\n"
   ]
  }
 ],
 "metadata": {
  "kernelspec": {
   "display_name": "kgtk-env",
   "language": "python",
   "name": "kgtk-env"
  },
  "language_info": {
   "codemirror_mode": {
    "name": "ipython",
    "version": 3
   },
   "file_extension": ".py",
   "mimetype": "text/x-python",
   "name": "python",
   "nbconvert_exporter": "python",
   "pygments_lexer": "ipython3",
   "version": "3.9.7"
  }
 },
 "nbformat": 4,
 "nbformat_minor": 5
}
