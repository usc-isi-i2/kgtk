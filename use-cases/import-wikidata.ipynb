{
 "cells": [
  {
   "cell_type": "markdown",
   "id": "0929e7bb-51f8-4ab2-ad69-07130a2e368e",
   "metadata": {},
   "source": [
    "# Import Wikidata"
   ]
  },
  {
   "cell_type": "markdown",
   "id": "6303f2a2-babb-4a1b-9ab1-cc08bf4771ee",
   "metadata": {},
   "source": [
    "This notebook assumes the file `latest-all.json.bz2` is already [downloaded](https://dumps.wikimedia.org/wikidatawiki/entities/) and stored in the `input_path` in the cell marked as #Parameters.\n",
    "\n",
    "You can download the `gz` version as well, please update the variable `wikidata_json_file` with correct file name."
   ]
  },
  {
   "cell_type": "code",
   "execution_count": 1,
   "id": "c5f9d560-8293-4dec-9667-f7e08c6ccf52",
   "metadata": {},
   "outputs": [],
   "source": [
    "import os\n",
    "\n",
    "from kgtk.configure_kgtk_notebooks import ConfigureKGTK\n",
    "from kgtk.functions import kgtk, kypher"
   ]
  },
  {
   "cell_type": "code",
   "execution_count": 2,
   "id": "1a6cc50d-2a13-4eca-95be-486767de63ec",
   "metadata": {},
   "outputs": [],
   "source": [
    "# Parameters\n",
    "\n",
    "# Folder on local machine where to create the output and temporary folders\n",
    "input_path = \"/Volumes/saggu-ssd/wikidata-2021-10-27\"\n",
    "output_path = \"/Volumes/saggu-ssd/wikidata-2021-10-27-out\"\n",
    "project_name = \"import-wikidata\"\n",
    "\n",
    "kgtk_path = \"/Users/amandeep/Github/kgtk\"\n",
    "wikidata_json_file = \"latest-all.json.bz2\""
   ]
  },
  {
   "cell_type": "code",
   "execution_count": 3,
   "id": "d56ac16c-ba43-4810-8760-2a0755bfbd5f",
   "metadata": {},
   "outputs": [
    {
     "name": "stdout",
     "output_type": "stream",
     "text": [
      "User home: /Users/amandeep\n",
      "Current dir: /Users/amandeep/Github/kgtk/use-cases\n",
      "KGTK dir: /Users/amandeep/Github/kgtk\n",
      "Use-cases dir: /Users/amandeep/Github/kgtk/use-cases\n"
     ]
    }
   ],
   "source": [
    "files = []\n",
    "\n",
    "ck = ConfigureKGTK(files, kgtk_path=kgtk_path)\n",
    "ck.configure_kgtk(input_graph_path=input_path,\n",
    "                  output_path=output_path,\n",
    "                  project_name=project_name)"
   ]
  },
  {
   "cell_type": "code",
   "execution_count": 4,
   "id": "046a0b40-c0c1-4e9f-9b36-afcfac05edfe",
   "metadata": {},
   "outputs": [
    {
     "name": "stdout",
     "output_type": "stream",
     "text": [
      "kgtk: kgtk\n",
      "GRAPH: /Volumes/saggu-ssd/wikidata-2021-10-27\n",
      "KGTK_GRAPH_CACHE: /Volumes/saggu-ssd/wikidata-2021-10-27-out/import-wikidata/temp.import-wikidata/wikidata.sqlite3.db\n",
      "KGTK_OPTION_DEBUG: false\n",
      "OUT: /Volumes/saggu-ssd/wikidata-2021-10-27-out/import-wikidata\n",
      "kypher: kgtk query --graph-cache /Volumes/saggu-ssd/wikidata-2021-10-27-out/import-wikidata/temp.import-wikidata/wikidata.sqlite3.db\n",
      "KGTK_LABEL_FILE: /Volumes/saggu-ssd/wikidata-2021-10-27/labels.en.tsv.gz\n",
      "EXAMPLES_DIR: /Users/amandeep/Github/kgtk/examples\n",
      "USE_CASES_DIR: /Users/amandeep/Github/kgtk/use-cases\n",
      "STORE: /Volumes/saggu-ssd/wikidata-2021-10-27-out/import-wikidata/temp.import-wikidata/wikidata.sqlite3.db\n",
      "TEMP: /Volumes/saggu-ssd/wikidata-2021-10-27-out/import-wikidata/temp.import-wikidata\n"
     ]
    }
   ],
   "source": [
    "ck.print_env_variables()"
   ]
  },
  {
   "cell_type": "markdown",
   "id": "4c9ec80b-48fe-48cc-8984-6cf94e69c2d0",
   "metadata": {},
   "source": [
    "## Define some ENV Variables, users can simply run this step, no changes required"
   ]
  },
  {
   "cell_type": "code",
   "execution_count": 5,
   "id": "48fb958a-ff91-4360-b73f-3a136797f056",
   "metadata": {},
   "outputs": [],
   "source": [
    "os.environ['PATTERNDIR'] = f\"{kgtk_path}/wikidata/patterns\"\n",
    "\n",
    "os.environ['DATADIR'] = f\"{os.environ['OUT']}/data\"\n",
    "\n",
    "# Temporary files (unsorted) will be stored in in:\n",
    "os.environ['TEMPDIR'] = f\"{os.environ['OUT']}/temp\"\n",
    "\n",
    "# The working log files will be stored in:\n",
    "os.environ['LOGDIR'] = f\"{os.environ['OUT']}/logs\"\n",
    "\n",
    "# The count validation files will be stored in:\n",
    "os.environ['COUNTDIR'] = f\"{os.environ['OUT']}/counts\"\n",
    "\n",
    "# Completed data products will be stored in:\n",
    "os.environ['PRODUCTDIR'] = f\"{os.environ['OUT']}/product\"\n",
    "\n",
    "\n",
    "os.environ['WIKIDATA_ALL_JSON'] = f\"{os.environ['GRAPH']}/{wikidata_json_file}\"\n",
    "\n",
    "# Work file extensions\n",
    "os.environ['UNSORTED_KGTK'] = \"unsorted.tsv.gz\"\n",
    "os.environ['SORTED_KGTK'] = \"tsv.gz\"\n",
    "\n",
    "# Use mgzip in some cases?\n",
    "os.environ['USE_MGZIP'] = \"TRUE\"\n",
    "\n",
    "# Select on of the following gzip implementations:\n",
    "# GZIP_CMD=bzip\n",
    "os.environ['GZIP_CMD'] = \"pigz\"\n",
    "\n",
    "\n",
    "# Some common flags:\n",
    "#KGTK_FLAGS=\"--debug --timing --progress --progress-tty `tty`\"\n",
    "os.environ['KGTK_FLAGS'] = \"--debug --timing\"\n",
    "os.environ['VERBOSE'] = \"--verbose\"\n",
    "os.environ['SORT_EXTRAS'] = f\"--parallel 6 --buffer-size 50% -T {os.environ['TEMPDIR']}\"\n",
    "\n",
    "# The Wikidata datatypes:\n",
    "WIKIDATATYPES = [ \n",
    "                \"commonsMedia\",\n",
    "                \"external-id\",\n",
    "                \"geo-shape\",\n",
    "                \"globe-coordinate\",\n",
    "                \"math\",\n",
    "                \"monolingualtext\",\n",
    "                \"musical-notation\",\n",
    "                \"quantity\",\n",
    "                \"string\",\n",
    "                \"tabular-data\",\n",
    "                \"time\",\n",
    "                \"url\",\n",
    "                \"wikibase-form\",\n",
    "                \"wikibase-item\",\n",
    "                \"wikibase-lexeme\",\n",
    "                \"wikibase-property\",\n",
    "                \"wikibase-sense\",\n",
    "                \"other\"\n",
    "                ]\n",
    "\n",
    "# The wikidata import split files to be sorted:\n",
    "WIKIDATA_IMPORT_SPLIT_FILES = [ \"claims\",\n",
    "\t\"claims.badvalue\",\n",
    "\t\"claims.novalue\",\n",
    "\t\"claims.somevalue\",\n",
    "\t\"qualifiers\",\n",
    "\t\"qualifiers.badvalue\",\n",
    "\t\"qualifiers.badvalueClaims\",\n",
    "\t\"qualifiers.novalue\",\n",
    "\t\"qualifiers.novalueClaims\",\n",
    "\t\"qualifiers.somevalue\",\n",
    "\t\"qualifiers.somevalueClaims\",\n",
    "\t\"aliases\",\n",
    "\t\"aliases.en\",\n",
    "\t\"descriptions\",\n",
    "\t\"descriptions.en\",\n",
    "\t\"labels\",\n",
    "\t\"labels.en\",\n",
    "\t\"sitelinks\",\n",
    "\t\"sitelinks.en\",\n",
    "\t\"sitelinks.en.qualifiers\",\n",
    "\t\"sitelinks.qualifiers\",\n",
    "\t\"metadata.node\",\n",
    "\t\"metadata.property.datatypes\",\n",
    "\t\"metadata.types\"]\n",
    "\n",
    "\n",
    "os.environ['SORT_COMMAND'] = \"gsort\""
   ]
  },
  {
   "cell_type": "code",
   "execution_count": 6,
   "id": "3218233f-37b7-4563-b6bf-aacaa73ecd08",
   "metadata": {},
   "outputs": [],
   "source": [
    "!mkdir -p ${DATADIR}\n",
    "!mkdir -p ${TEMPDIR}\n",
    "!mkdir -p ${LOGDIR}\n",
    "!mkdir -p ${COUNTDIR}"
   ]
  },
  {
   "cell_type": "markdown",
   "id": "5b91bcd0-50f0-415a-903b-f9da7394a4f4",
   "metadata": {},
   "source": [
    "## Run the `import-wikidata` command"
   ]
  },
  {
   "cell_type": "markdown",
   "id": "926b6689-9fae-4bb9-b5c8-c2daead96f4f",
   "metadata": {},
   "source": [
    "**NOTE**:\n",
    "This command is set to import only english labels/aliases/descriptions, controlled by parameters `--all-languages False` and `--lang en`.\n",
    "\n",
    "If you wish to import all languages, simple set `--all-languages True`."
   ]
  },
  {
   "cell_type": "code",
   "execution_count": null,
   "id": "df8647da-650a-44a6-9d19-290c64765e31",
   "metadata": {},
   "outputs": [],
   "source": [
    "!kgtk ${KGTK_FLAGS} \\\n",
    "     import-wikidata \\\n",
    "     -i ${WIKIDATA_ALL_JSON} \\\n",
    "     --node-file ${TEMPDIR}/metadata.node.${UNSORTED_KGTK} \\\n",
    "     --minimal-edge-file ${TEMPDIR}/claims.raw.${UNSORTED_KGTK} \\\n",
    "     --minimal-qual-file ${TEMPDIR}/qualifiers.raw.${UNSORTED_KGTK} \\\n",
    "     --invalid-edge-file ${TEMPDIR}/claims.badvalue.${UNSORTED_KGTK} \\\n",
    "     --invalid-qual-file ${TEMPDIR}/qualifiers.badvalue.${UNSORTED_KGTK} \\\n",
    "     --node-file-id-only \\\n",
    "     --explode-values False \\\n",
    "     --all-languages False \\\n",
    "     --lang en \\\n",
    "     --alias-edges True \\\n",
    "     --split-alias-file ${TEMPDIR}/aliases.${UNSORTED_KGTK} \\\n",
    "     --split-en-alias-file ${TEMPDIR}/aliases.en.${UNSORTED_KGTK} \\\n",
    "     --description-edges True \\\n",
    "     --split-description-file ${TEMPDIR}/descriptions.${UNSORTED_KGTK} \\\n",
    "     --split-en-description-file ${TEMPDIR}/descriptions.en.${UNSORTED_KGTK} \\\n",
    "     --label-edges True \\\n",
    "     --split-label-file ${TEMPDIR}/labels.${UNSORTED_KGTK} \\\n",
    "     --split-en-label-file ${TEMPDIR}/labels.en.${UNSORTED_KGTK} \\\n",
    "     --datatype-edges True \\\n",
    "     --split-datatype-file ${TEMPDIR}/metadata.property.datatypes.${UNSORTED_KGTK} \\\n",
    "     --entry-type-edges True \\\n",
    "     --split-type-file ${TEMPDIR}/metadata.types.${UNSORTED_KGTK} \\\n",
    "     --sitelink-edges True \\\n",
    "     --sitelink-verbose-edges True \\\n",
    "     --split-sitelink-file ${TEMPDIR}/sitelinks.raw.${UNSORTED_KGTK} \\\n",
    "     --split-en-sitelink-file ${TEMPDIR}/sitelinks.en.raw.${UNSORTED_KGTK} \\\n",
    "     --value-hash-width 6 \\\n",
    "     --claim-id-hash-width 8 \\\n",
    "     --use-kgtkwriter True \\\n",
    "     --use-mgzip-for-input False \\\n",
    "     --use-mgzip-for-output False \\\n",
    "     --use-shm True \\\n",
    "     --procs 6 \\\n",
    "     --mapper-batch-size 5 \\\n",
    "     --max-size-per-mapper-queue 3 \\\n",
    "     --single-mapper-queue True \\\n",
    "     --collect-results True \\\n",
    "     --collect-seperately True\\\n",
    "     --collector-batch-size 5 \\\n",
    "     --collector-queue-per-proc-size 3 \\\n",
    "     --progress-interval 500000 \\\n",
    "     --clean \\\n",
    "     --allow-end-of-day False \\\n",
    "     --repair-month-or-day-zero \\\n",
    "     --minimum-valid-year 1 \\\n",
    "     --maximum-valid-year 9999 \\\n",
    "     --validate-fromisoformat \\\n",
    "     --repair-lax-coordinates \\\n",
    "     --allow-language-suffixes \\\n",
    "     --allow-wikidata-lq-strings \\\n",
    "    | tee ${LOGDIR}/import-split-wikidata.log\n"
   ]
  },
  {
   "cell_type": "markdown",
   "id": "3d4a8e15-8826-4d50-83c9-9a17346eb206",
   "metadata": {},
   "source": [
    "## Split `somevalue` and `novalue` from `claims.raw.unsorted.tsv.gz`"
   ]
  },
  {
   "cell_type": "code",
   "execution_count": null,
   "id": "6aad9a3c-c27b-4858-802b-b633c40dbb5d",
   "metadata": {},
   "outputs": [],
   "source": [
    "!kgtk ${KGTK_FLAGS} \\\n",
    "     filter ${VERBOSE} --use-mgzip ${USE_MGZIP} \\\n",
    "     --input-file ${TEMPDIR}/claims.raw.${UNSORTED_KGTK} \\\n",
    "     --first-match-only \\\n",
    "     --pattern \";; novalue\"  -o ${TEMPDIR}/claims.novalue.${UNSORTED_KGTK} \\\n",
    "     --pattern \";; somevalue\"  -o ${TEMPDIR}/claims.somevalue.${UNSORTED_KGTK} \\\n",
    "     --reject-file ${TEMPDIR}/claims.${UNSORTED_KGTK} \\\n",
    "    | tee ${LOGDIR}/split-claims-missing-values.log"
   ]
  },
  {
   "cell_type": "markdown",
   "id": "d7d9a090-de83-4e9f-84d9-93fb49f486b8",
   "metadata": {},
   "source": [
    " ## Split `somevalue` and `novalue` from `qualifiers.raw.tsv.gz`"
   ]
  },
  {
   "cell_type": "code",
   "execution_count": null,
   "id": "7538ad9d-018a-45ea-95f8-46467e68affe",
   "metadata": {},
   "outputs": [],
   "source": [
    "!kgtk ${KGTK_FLAGS} \\\n",
    "     filter ${VERBOSE} --use-mgzip ${USE_MGZIP} \\\n",
    "     --input-file ${TEMPDIR}/qualifiers.raw.${UNSORTED_KGTK} \\\n",
    "     --first-match-only \\\n",
    "     --pattern \";; novalue\"  -o ${TEMPDIR}/qualifiers.novalue.${UNSORTED_KGTK} \\\n",
    "     --pattern \";; somevalue\"  -o ${TEMPDIR}/qualifiers.somevalue.${UNSORTED_KGTK} \\\n",
    "     --reject-file - \\\n",
    "     / ifexists ${VERBOSE} \\\n",
    "     --input-keys node1 \\\n",
    "     --filter-file ${TEMPDIR}/claims.novalue.${UNSORTED_KGTK} \\\n",
    "     --filter-keys id \\\n",
    "     --output-file ${TEMPDIR}/qualifiers.novalueClaims.${UNSORTED_KGTK} \\\n",
    "     --reject-file - \\\n",
    "     / ifexists ${VERBOSE} \\\n",
    "     --input-keys node1 \\\n",
    "     --filter-file ${TEMPDIR}/claims.somevalue.${UNSORTED_KGTK} \\\n",
    "     --filter-keys id \\\n",
    "     --output-file ${TEMPDIR}/qualifiers.somevalueClaims.${UNSORTED_KGTK} \\\n",
    "     --reject-file - \\\n",
    "     / ifexists ${VERBOSE} \\\n",
    "     --input-keys node1 \\\n",
    "     --filter-file ${TEMPDIR}/claims.badvalue.${UNSORTED_KGTK} \\\n",
    "     --filter-keys id \\\n",
    "     --output-file ${TEMPDIR}/qualifiers.badvalueClaims.${UNSORTED_KGTK} \\\n",
    "     --reject-file ${TEMPDIR}/qualifiers.${UNSORTED_KGTK} \\\n",
    "    | tee ${LOGDIR}/split-qualifiers-missing-values.log"
   ]
  },
  {
   "cell_type": "markdown",
   "id": "d6f67ef6-4570-4786-b41f-a1355fb63981",
   "metadata": {},
   "source": [
    "## Split `sitelinks.raw.unsorted.tsv.gz`"
   ]
  },
  {
   "cell_type": "code",
   "execution_count": null,
   "id": "261a84b8-c671-4134-afaa-12af4c4a7762",
   "metadata": {},
   "outputs": [],
   "source": [
    "!kgtk ${KGTK_FLAGS} \\\n",
    "     filter ${VERBOSE} --use-mgzip=${USE_MGZIP} \\\n",
    "     --input-file ${TEMPDIR}/sitelinks.raw.${UNSORTED_KGTK} \\\n",
    "     --pattern \"; sitelink-badge,sitelink-language,sitelink-site,sitelink-title ;\" \\\n",
    "     --output-file ${TEMPDIR}/sitelinks.qualifiers.${UNSORTED_KGTK} \\\n",
    "     --reject-file ${TEMPDIR}/sitelinks.${UNSORTED_KGTK} \\\n",
    "    | tee ${LOGDIR}/split-sitelink-qualifiers.log"
   ]
  },
  {
   "cell_type": "markdown",
   "id": "e7d55217-89c7-42e9-b01b-aaf3e0426234",
   "metadata": {},
   "source": [
    "## Split `sitelinks.en.raw.unsorted.tsv.gz`"
   ]
  },
  {
   "cell_type": "code",
   "execution_count": null,
   "id": "9bce9d69-6032-4e2f-aa04-12da7998d508",
   "metadata": {},
   "outputs": [],
   "source": [
    "!kgtk ${KGTK_FLAGS} \\\n",
    "     filter ${VERBOSE} --use-mgzip=${USE_MGZIP} \\\n",
    "     --input-file ${TEMPDIR}/sitelinks.en.raw.${UNSORTED_KGTK} \\\n",
    "     --pattern \"; sitelink-badge,sitelink-language,sitelink-site,sitelink-title ;\" \\\n",
    "     --output-file ${TEMPDIR}/sitelinks.en.qualifiers.${UNSORTED_KGTK} \\\n",
    "     --reject-file ${TEMPDIR}/sitelinks.en.${UNSORTED_KGTK} \\\n",
    "    | tee ${LOGDIR}/split-sitelink-en-qualifiers.log"
   ]
  },
  {
   "cell_type": "markdown",
   "id": "9275fecc-98db-435c-863a-7f4d780f64c9",
   "metadata": {},
   "source": [
    "## Sort the files from `TEMPDIR` to `DATADIR` folder"
   ]
  },
  {
   "cell_type": "code",
   "execution_count": null,
   "id": "90b70419-1894-4dcb-954d-5b83d4c80d48",
   "metadata": {},
   "outputs": [],
   "source": [
    "for TARGET in WIKIDATA_IMPORT_SPLIT_FILES:\n",
    "    print(f\"Sort the {TARGET} file.\")\n",
    "    input_file = f\"{os.environ['TEMPDIR']}/{TARGET}.{os.environ['UNSORTED_KGTK']}\"\n",
    "    output_file = f\"{os.environ['DATADIR']}/{TARGET}.{os.environ['SORTED_KGTK']}\"\n",
    "    logfile = f\"{os.environ['LOGDIR']}/{TARGET}-sorted.log\"\n",
    "    sort_command = f\"\"\"kgtk {os.environ['KGTK_FLAGS']} \\\n",
    "    sort {os.environ['VERBOSE']} \\\n",
    "    --input-file  {input_file} \\\n",
    "    --output-file {output_file} \\\n",
    "    --gzip-command {os.environ['GZIP_CMD']} \\\n",
    "    --sort-command {os.environ['SORT_COMMAND']} \\\n",
    "    --extra '{os.environ['SORT_EXTRAS']}' | tee {logfile}\"\"\"\n",
    "    !$sort_command\n"
   ]
  },
  {
   "cell_type": "markdown",
   "id": "22ea12ca-5cb1-4e51-82ae-6cb733f4a555",
   "metadata": {},
   "source": [
    "## Build the `all.tsv.gz file`"
   ]
  },
  {
   "cell_type": "code",
   "execution_count": null,
   "id": "47560fa3-d87e-4840-800e-ecdf7d1d4341",
   "metadata": {},
   "outputs": [],
   "source": [
    "!kgtk ${KGTK_FLAGS} \\\n",
    "     cat ${VERBOSE} --use-mgzip=${USE_MGZIP} \\\n",
    "     --input-file ${TEMPDIR}/claims.${UNSORTED_KGTK} \\\n",
    "     --input-file ${TEMPDIR}/qualifiers.${UNSORTED_KGTK} \\\n",
    "     --input-file ${TEMPDIR}/aliases.${UNSORTED_KGTK} \\\n",
    "     --input-file ${TEMPDIR}/descriptions.${UNSORTED_KGTK} \\\n",
    "     --input-file ${TEMPDIR}/labels.${UNSORTED_KGTK} \\\n",
    "     --input-file ${TEMPDIR}/sitelinks.${UNSORTED_KGTK} \\\n",
    "     --input-file ${TEMPDIR}/sitelinks.qualifiers.${UNSORTED_KGTK} \\\n",
    "     --input-file ${TEMPDIR}/metadata.types.${UNSORTED_KGTK} \\\n",
    "     --input-file ${TEMPDIR}/metadata.property.datatypes.${UNSORTED_KGTK} \\\n",
    "   / sort ${VERBOSE} \\\n",
    "     --gzip-command ${GZIP_CMD} \\\n",
    "     --extra \"${SORT_EXTRAS}\" \\\n",
    "     --output-file ${DATADIR}/all.${SORTED_KGTK} \\\n",
    "| tee ${LOGDIR}/build-all-edges.log"
   ]
  },
  {
   "cell_type": "markdown",
   "id": "b1da3135-a165-452e-a87c-12b9c68bc55a",
   "metadata": {},
   "source": [
    "## Check for unclaimed qualifiers"
   ]
  },
  {
   "cell_type": "code",
   "execution_count": null,
   "id": "68f89d90-9094-4bff-91ee-911bd2c7773d",
   "metadata": {},
   "outputs": [],
   "source": [
    "!kgtk ${KGTK_FLAGS} \\\n",
    "     ifnotexists $VERBOSE --use-mgzip=$USE_MGZIP --presorted \\\n",
    "     --input-file ${DATADIR}/qualifiers.${SORTED_KGTK} \\\n",
    "     --input-keys node1 \\\n",
    "     --filter-file ${DATADIR}/claims.${SORTED_KGTK} \\\n",
    "     --filter-keys id \\\n",
    "     --output-file ${DATADIR}/qualifiers.unclaimed.${SORTED_KGTK} \\\n",
    "| tee ${LOGDIR}/qualifiers.unclaimed.log"
   ]
  },
  {
   "cell_type": "markdown",
   "id": "39507315-fde7-44dc-81cb-12343ca41bc0",
   "metadata": {},
   "source": [
    "## Split edges by datatype"
   ]
  },
  {
   "cell_type": "code",
   "execution_count": null,
   "id": "8dfffa80-b5c7-4999-96be-0611401c4ffc",
   "metadata": {},
   "outputs": [],
   "source": [
    "!kgtk ${KGTK_FLAGS} \\\n",
    "     filter ${VERBOSE} \\\n",
    "     --input-file ${DATADIR}/claims.${SORTED_KGTK} \\\n",
    "     --obj \"node2;wikidatatype\" \\\n",
    "     --first-match-only \\\n",
    "     --pattern \";;commonsMedia\" \\\n",
    "     --output-file ${DATADIR}/claims.commonsMedia.${SORTED_KGTK} \\\n",
    "     --pattern \";;external-id\" \\\n",
    "     --output-file ${DATADIR}/claims.external-id.${SORTED_KGTK} \\\n",
    "     --pattern \";;geo-shape\" \\\n",
    "     --output-file ${DATADIR}/claims.geo-shape.${SORTED_KGTK} \\\n",
    "     --pattern \";;globe-coordinate\" \\\n",
    "     --output-file ${DATADIR}/claims.globe-coordinate.${SORTED_KGTK} \\\n",
    "     --pattern \";;math\" \\\n",
    "     --output-file ${DATADIR}/claims.math.${SORTED_KGTK} \\\n",
    "     --pattern \";;monolingualtext\" \\\n",
    "     --output-file ${DATADIR}/claims.monolingualtext.${SORTED_KGTK} \\\n",
    "     --pattern \";;musical-notation\" \\\n",
    "     --output-file ${DATADIR}/claims.musical-notation.${SORTED_KGTK} \\\n",
    "     --pattern \";;quantity\" \\\n",
    "     --output-file ${DATADIR}/claims.quantity.${SORTED_KGTK} \\\n",
    "     --pattern \";;string\" \\\n",
    "     --output-file ${DATADIR}/claims.string.${SORTED_KGTK} \\\n",
    "     --pattern \";;tabular-data\" \\\n",
    "     --output-file ${DATADIR}/claims.tabular-data.${SORTED_KGTK} \\\n",
    "     --pattern \";;time\" \\\n",
    "     --output-file ${DATADIR}/claims.time.${SORTED_KGTK} \\\n",
    "     --pattern \";;url\" \\\n",
    "     --output-file ${DATADIR}/claims.url.${SORTED_KGTK} \\\n",
    "     --pattern \";;wikibase-form\" \\\n",
    "     --output-file ${DATADIR}/claims.wikibase-form.${SORTED_KGTK} \\\n",
    "     --pattern \";;wikibase-item\" \\\n",
    "     --output-file ${DATADIR}/claims.wikibase-item.${SORTED_KGTK} \\\n",
    "     --pattern \";;wikibase-lexeme\" \\\n",
    "     --output-file ${DATADIR}/claims.wikibase-lexeme.${SORTED_KGTK} \\\n",
    "     --pattern \";;wikibase-property\" \\\n",
    "     --output-file ${DATADIR}/claims.wikibase-property.${SORTED_KGTK} \\\n",
    "     --pattern \";;wikibase-sense\" \\\n",
    "     --output-file ${DATADIR}/claims.wikibase-sense.${SORTED_KGTK} \\\n",
    "     --reject-file ${DATADIR}/claims.other.${SORTED_KGTK} \\\n",
    "     --use-mgzip ${USE_MGZIP} \\\n",
    "    | tee ${LOGDIR}/edge-datatype-split.log"
   ]
  },
  {
   "cell_type": "markdown",
   "id": "a768d04d-e984-40c8-afbb-680cfb0c0232",
   "metadata": {},
   "source": [
    "## Extract qualifiers for edge datatype splits"
   ]
  },
  {
   "cell_type": "code",
   "execution_count": null,
   "id": "05788888-c90a-4841-a943-35fcdee72668",
   "metadata": {},
   "outputs": [],
   "source": [
    "for TARGET in WIKIDATATYPES:\n",
    "    print(f\"Extract any qualifiers for the properties in claims.{TARGET}\")\n",
    "    os.environ['TARGET'] = TARGET\n",
    "    !kgtk ${KGTK_FLAGS} \\\n",
    "\t ifexists ${VERBOSE} \\\n",
    "\t --input-file ${DATADIR}/qualifiers.${SORTED_KGTK} \\\n",
    "\t --filter-on ${DATADIR}/claims.${TARGET}.${SORTED_KGTK} \\\n",
    "\t --output-file ${DATADIR}/qualifiers.${TARGET}.${SORTED_KGTK} \\\n",
    "\t --input-keys node1 \\\n",
    "\t --filter-keys id \\\n",
    "\t --presorted \\\n",
    "\t --use-mgzip ${USE_MGZIP} \\\n",
    "\t| tee ${LOGDIR}/qualifiers.${TARGET}.log"
   ]
  },
  {
   "cell_type": "markdown",
   "id": "2c990274-cc12-4d1e-a4e4-ea32314590d4",
   "metadata": {},
   "source": [
    "## Extract claims with a property in the node1 column"
   ]
  },
  {
   "cell_type": "code",
   "execution_count": null,
   "id": "d48fdaf8-d5cd-4e2b-a2c5-24be1d82d41b",
   "metadata": {},
   "outputs": [],
   "source": [
    "!kgtk $KGTK_FLAGS filter $VERBOSE --use-mgzip=$USE_MGZIP --regex\\\n",
    "     --input-file $DATADIR/claims.$SORTED_KGTK \\\n",
    "     -p '^P ;;' -o $DATADIR/claims.properties.$SORTED_KGTK \\\n",
    "     | tee ${LOGDIR}/claims.properties.log"
   ]
  },
  {
   "cell_type": "markdown",
   "id": "c4e9c4f7-bf23-4d6d-a19b-3a2a38279e8a",
   "metadata": {},
   "source": [
    "## Extract qualifiers for claims with a property in node1 column"
   ]
  },
  {
   "cell_type": "code",
   "execution_count": null,
   "id": "d25d8095-dae2-406e-9a28-bc6ab74429f6",
   "metadata": {},
   "outputs": [],
   "source": [
    "!kgtk $KGTK_FLAGS filter $VERBOSE --use-mgzip=$USE_MGZIP --regex \\\n",
    "     --input-file $DATADIR/qualifiers.$SORTED_KGTK \\\n",
    "     -p '^P ;;' -o $DATADIR/qualifiers.properties.$SORTED_KGTK \\\n",
    "     | tee ${LOGDIR}/qualifiers.properties.log"
   ]
  },
  {
   "cell_type": "markdown",
   "id": "ed09fd50-8cc4-464f-8b5e-b7b5097bc0f8",
   "metadata": {},
   "source": [
    "## Files in the output data Folder"
   ]
  },
  {
   "cell_type": "code",
   "execution_count": 55,
   "id": "44cb612c-a71a-43e9-a3dc-44410e68fdd2",
   "metadata": {},
   "outputs": [
    {
     "name": "stdout",
     "output_type": "stream",
     "text": [
      "total 213464\n",
      "-rw-r--r--  1 amandeep  staff   9.2M Nov  2 15:38 claims.tsv.gz\n",
      "-rw-r--r--  1 amandeep  staff   4.7K Nov  2 15:38 claims.badvalue.tsv.gz\n",
      "-rw-r--r--  1 amandeep  staff   3.2K Nov  2 15:38 claims.novalue.tsv.gz\n",
      "-rw-r--r--  1 amandeep  staff   1.4K Nov  2 15:38 claims.somevalue.tsv.gz\n",
      "-rw-r--r--  1 amandeep  staff   2.5M Nov  2 15:38 qualifiers.tsv.gz\n",
      "-rw-r--r--  1 amandeep  staff   2.0K Nov  2 15:38 qualifiers.badvalue.tsv.gz\n",
      "-rw-r--r--  1 amandeep  staff   2.3K Nov  2 15:38 qualifiers.badvalueClaims.tsv.gz\n",
      "-rw-r--r--  1 amandeep  staff   1.9K Nov  2 15:38 qualifiers.novalue.tsv.gz\n",
      "-rw-r--r--  1 amandeep  staff   1.4K Nov  2 15:38 qualifiers.novalueClaims.tsv.gz\n",
      "-rw-r--r--  1 amandeep  staff   4.9K Nov  2 15:38 qualifiers.somevalue.tsv.gz\n",
      "-rw-r--r--  1 amandeep  staff   1.7K Nov  2 15:38 qualifiers.somevalueClaims.tsv.gz\n",
      "-rw-r--r--  1 amandeep  staff   2.4M Nov  2 15:38 aliases.tsv.gz\n",
      "-rw-r--r--  1 amandeep  staff   190K Nov  2 15:38 aliases.en.tsv.gz\n",
      "-rw-r--r--  1 amandeep  staff   4.2M Nov  2 15:38 descriptions.tsv.gz\n",
      "-rw-r--r--  1 amandeep  staff   174K Nov  2 15:38 descriptions.en.tsv.gz\n",
      "-rw-r--r--  1 amandeep  staff   5.7M Nov  2 15:38 labels.tsv.gz\n",
      "-rw-r--r--  1 amandeep  staff   147K Nov  2 15:38 labels.en.tsv.gz\n",
      "-rw-r--r--  1 amandeep  staff   7.2M Nov  2 15:38 sitelinks.tsv.gz\n",
      "-rw-r--r--  1 amandeep  staff   347K Nov  2 15:38 sitelinks.en.tsv.gz\n",
      "-rw-r--r--  1 amandeep  staff   662K Nov  2 15:38 sitelinks.en.qualifiers.tsv.gz\n",
      "-rw-r--r--  1 amandeep  staff    14M Nov  2 15:38 sitelinks.qualifiers.tsv.gz\n",
      "-rw-r--r--  1 amandeep  staff    23K Nov  2 15:38 metadata.node.tsv.gz\n",
      "-rw-r--r--  1 amandeep  staff    37B Nov  2 15:38 metadata.property.datatypes.tsv.gz\n",
      "-rw-r--r--  1 amandeep  staff    47K Nov  2 15:38 metadata.types.tsv.gz\n",
      "-rw-r--r--  1 amandeep  staff    46M Nov  2 15:58 all.tsv.gz\n",
      "-rw-r--r--  1 amandeep  staff    87B Nov  2 15:59 qualifiers.unclaimed.tsv.gz\n",
      "-rw-r--r--  1 amandeep  staff   474K Nov  2 16:01 claims.commonsMedia.tsv.gz\n",
      "-rw-r--r--  1 amandeep  staff   3.7M Nov  2 16:01 claims.external-id.tsv.gz\n",
      "-rw-r--r--  1 amandeep  staff   6.3K Nov  2 16:01 claims.geo-shape.tsv.gz\n",
      "-rw-r--r--  1 amandeep  staff   166K Nov  2 16:01 claims.globe-coordinate.tsv.gz\n",
      "-rw-r--r--  1 amandeep  staff   1.5K Nov  2 16:01 claims.math.tsv.gz\n",
      "-rw-r--r--  1 amandeep  staff   250K Nov  2 16:01 claims.monolingualtext.tsv.gz\n",
      "-rw-r--r--  1 amandeep  staff   359B Nov  2 16:01 claims.musical-notation.tsv.gz\n",
      "-rw-r--r--  1 amandeep  staff   659K Nov  2 16:01 claims.quantity.tsv.gz\n",
      "-rw-r--r--  1 amandeep  staff   434K Nov  2 16:01 claims.string.tsv.gz\n",
      "-rw-r--r--  1 amandeep  staff   217B Nov  2 16:01 claims.tabular-data.tsv.gz\n",
      "-rw-r--r--  1 amandeep  staff   176K Nov  2 16:01 claims.time.tsv.gz\n",
      "-rw-r--r--  1 amandeep  staff   125K Nov  2 16:01 claims.url.tsv.gz\n",
      "-rw-r--r--  1 amandeep  staff   175B Nov  2 16:01 claims.wikibase-form.tsv.gz\n",
      "-rw-r--r--  1 amandeep  staff   2.7M Nov  2 16:01 claims.wikibase-item.tsv.gz\n",
      "-rw-r--r--  1 amandeep  staff   315B Nov  2 16:01 claims.wikibase-lexeme.tsv.gz\n",
      "-rw-r--r--  1 amandeep  staff   2.6K Nov  2 16:01 claims.wikibase-property.tsv.gz\n",
      "-rw-r--r--  1 amandeep  staff    93B Nov  2 16:01 claims.wikibase-sense.tsv.gz\n",
      "-rw-r--r--  1 amandeep  staff    84B Nov  2 16:01 claims.other.tsv.gz\n",
      "-rw-r--r--  1 amandeep  staff    96K Nov  2 16:05 qualifiers.commonsMedia.tsv.gz\n",
      "-rw-r--r--  1 amandeep  staff   373K Nov  2 16:05 qualifiers.external-id.tsv.gz\n",
      "-rw-r--r--  1 amandeep  staff   175B Nov  2 16:05 qualifiers.geo-shape.tsv.gz\n",
      "-rw-r--r--  1 amandeep  staff   3.2K Nov  2 16:05 qualifiers.globe-coordinate.tsv.gz\n",
      "-rw-r--r--  1 amandeep  staff   744B Nov  2 16:05 qualifiers.math.tsv.gz\n",
      "-rw-r--r--  1 amandeep  staff    29K Nov  2 16:05 qualifiers.monolingualtext.tsv.gz\n",
      "-rw-r--r--  1 amandeep  staff   165B Nov  2 16:05 qualifiers.musical-notation.tsv.gz\n",
      "-rw-r--r--  1 amandeep  staff   767K Nov  2 16:05 qualifiers.quantity.tsv.gz\n",
      "-rw-r--r--  1 amandeep  staff    78K Nov  2 16:06 qualifiers.string.tsv.gz\n",
      "-rw-r--r--  1 amandeep  staff    90B Nov  2 16:06 qualifiers.tabular-data.tsv.gz\n",
      "-rw-r--r--  1 amandeep  staff    16K Nov  2 16:06 qualifiers.time.tsv.gz\n",
      "-rw-r--r--  1 amandeep  staff    28K Nov  2 16:06 qualifiers.url.tsv.gz\n",
      "-rw-r--r--  1 amandeep  staff    91B Nov  2 16:06 qualifiers.wikibase-form.tsv.gz\n",
      "-rw-r--r--  1 amandeep  staff   1.0M Nov  2 16:06 qualifiers.wikibase-item.tsv.gz\n",
      "-rw-r--r--  1 amandeep  staff    93B Nov  2 16:06 qualifiers.wikibase-lexeme.tsv.gz\n",
      "-rw-r--r--  1 amandeep  staff   304B Nov  2 16:06 qualifiers.wikibase-property.tsv.gz\n",
      "-rw-r--r--  1 amandeep  staff    92B Nov  2 16:06 qualifiers.wikibase-sense.tsv.gz\n",
      "-rw-r--r--  1 amandeep  staff    83B Nov  2 16:06 qualifiers.other.tsv.gz\n",
      "-rw-r--r--  1 amandeep  staff    89B Nov  2 16:08 claims.properties.tsv.gz\n",
      "-rw-r--r--  1 amandeep  staff    88B Nov  2 16:09 qualifiers.properties.tsv.gz\n"
     ]
    }
   ],
   "source": [
    "!ls -lrth $OUT/data"
   ]
  },
  {
   "cell_type": "code",
   "execution_count": null,
   "id": "b105f781-0a64-4f43-a780-82cbf9dedad8",
   "metadata": {},
   "outputs": [],
   "source": []
  }
 ],
 "metadata": {
  "kernelspec": {
   "display_name": "kgtk-env",
   "language": "python",
   "name": "kgtk-env"
  },
  "language_info": {
   "codemirror_mode": {
    "name": "ipython",
    "version": 3
   },
   "file_extension": ".py",
   "mimetype": "text/x-python",
   "name": "python",
   "nbconvert_exporter": "python",
   "pygments_lexer": "ipython3",
   "version": "3.9.7"
  }
 },
 "nbformat": 4,
 "nbformat_minor": 5
}
