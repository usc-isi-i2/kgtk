{
 "cells": [
  {
   "cell_type": "markdown",
   "metadata": {},
   "source": [
    "# Generating Subsets of Wikidata"
   ]
  },
  {
   "cell_type": "markdown",
   "metadata": {},
   "source": [
    "### Batch Invocation\n",
    "Example batch command. The second argument is a notebook where the output will be stored. You can load it to see progress.\n",
    "\n",
    "UPDATE EXAMPLE INVOCATION\n",
    "\n",
    "\n",
    "```\n",
    "papermill Wikidata\\ Useful\\ Files.ipynb useful-files.out.ipynb \\\n",
    "-p wiki_file /Volumes/GoogleDrive/Shared\\ drives/KGTK-public-graphs/wikidata-20200803-v3/all.tsv.gz \\\n",
    "-p label_file /Volumes/GoogleDrive/Shared\\ drives/KGTK-public-graphs/wikidata-20200803-v3/part.label.en.tsv.gz \\\n",
    "-p item_file /Volumes/GoogleDrive/Shared\\ drives/KGTK-public-graphs/wikidata-20200803-v3/part.wikibase-item.tsv.gz \\\n",
    "-p property_item_file /Volumes/GoogleDrive/Shared\\ drives/KGTK-public-graphs/wikidata-20200803-v3/part.property.wikibase-item.tsv.gz \\\n",
    "-p qual_file /Volumes/GoogleDrive/Shared\\ drives/KGTK-public-graphs/wikidata-20200803-v3/qual.tsv.gz \\\n",
    "-p output_path <local folder> \\\n",
    "-p output_folder useful_files_v4 \\\n",
    "-p temp_folder temp.useful_files_v4 \\\n",
    "-p delete_database no \\\n",
    "-p compute_pagerank no \\\n",
    "-p languages es,ru,zh-cn \n",
    "```"
   ]
  },
  {
   "cell_type": "code",
   "execution_count": 1,
   "metadata": {},
   "outputs": [],
   "source": [
    "import io\n",
    "import os\n",
    "import subprocess\n",
    "import sys\n",
    "\n",
    "import numpy as np\n",
    "import pandas as pd\n",
    "\n",
    "import papermill as pm\n",
    "\n",
    "from kgtk.configure_kgtk_notebooks import ConfigureKGTK\n",
    "from kgtk.functions import kgtk, kypher"
   ]
  },
  {
   "cell_type": "code",
   "execution_count": 2,
   "metadata": {},
   "outputs": [],
   "source": [
    "input_path = \"/data/amandeep/wikidata-20211027\"\n",
    "output_path = \"/data/amandeep\"\n",
    "kgtk_path = \"/data/amandeep/github/kgtk\"\n",
    "\n",
    "graph_cache_path = None\n",
    "\n",
    "project_name = \"wikidata-20211027-dwd-v3\"\n",
    "\n",
    "files = 'claims,label_all,alias_all,description_all,item,qualifiers,datatypes,types,isa,p279star'\n",
    "\n",
    "# Classes to remove\n",
    "remove_classes = \"Q7318358,Q13442814\"\n",
    "\n",
    "compute_pagerank = True\n",
    "\n",
    "useful_files_notebook = \"Wikidata Useful Files.ipynb\"\n",
    "notebooks_folder = f\"{kgtk_path}/use-cases\"\n",
    "\n",
    "languages = \"en,ru,es,zh-cn,de,it,nl,pl,fr,pt,sv\"\n"
   ]
  },
  {
   "cell_type": "code",
   "execution_count": 3,
   "metadata": {},
   "outputs": [],
   "source": [
    "files = files.split(',')\n",
    "languages = languages.split(',')"
   ]
  },
  {
   "cell_type": "code",
   "execution_count": 4,
   "metadata": {},
   "outputs": [
    {
     "name": "stdout",
     "output_type": "stream",
     "text": [
      "User home: /nas/home/amandeep\n",
      "Current dir: /data/amandeep/github/kgtk/use-cases\n",
      "KGTK dir: /data/amandeep/github/kgtk\n",
      "Use-cases dir: /data/amandeep/github/kgtk/use-cases\n"
     ]
    }
   ],
   "source": [
    "ck = ConfigureKGTK(files, kgtk_path=kgtk_path)\n",
    "ck.configure_kgtk(input_graph_path=input_path,\n",
    "                  output_path=output_path,\n",
    "                  project_name=project_name,\n",
    "                 graph_cache_path=graph_cache_path)"
   ]
  },
  {
   "cell_type": "code",
   "execution_count": 5,
   "metadata": {},
   "outputs": [
    {
     "name": "stdout",
     "output_type": "stream",
     "text": [
      "KGTK_LABEL_FILE: /data/amandeep/wikidata-20211027/labels.en.tsv.gz\n",
      "STORE: /data/amandeep/wikidata-20211027-dwd-v3/temp.wikidata-20211027-dwd-v3/wikidata.sqlite3.db\n",
      "KGTK_GRAPH_CACHE: /data/amandeep/wikidata-20211027-dwd-v3/temp.wikidata-20211027-dwd-v3/wikidata.sqlite3.db\n",
      "GRAPH: /data/amandeep/wikidata-20211027\n",
      "USE_CASES_DIR: /data/amandeep/github/kgtk/use-cases\n",
      "TEMP: /data/amandeep/wikidata-20211027-dwd-v3/temp.wikidata-20211027-dwd-v3\n",
      "kypher: kgtk query --graph-cache /data/amandeep/wikidata-20211027-dwd-v3/temp.wikidata-20211027-dwd-v3/wikidata.sqlite3.db\n",
      "kgtk: kgtk\n",
      "KGTK_OPTION_DEBUG: false\n",
      "OUT: /data/amandeep/wikidata-20211027-dwd-v3\n",
      "EXAMPLES_DIR: /data/amandeep/github/kgtk/examples\n",
      "claims: /data/amandeep/wikidata-20211027/claims.tsv.gz\n",
      "label_all: /data/amandeep/wikidata-20211027/labels.tsv.gz\n",
      "alias_all: /data/amandeep/wikidata-20211027/aliases.tsv.gz\n",
      "description_all: /data/amandeep/wikidata-20211027/descriptions.tsv.gz\n",
      "item: /data/amandeep/wikidata-20211027/claims.wikibase-item.tsv.gz\n",
      "qualifiers: /data/amandeep/wikidata-20211027/qualifiers.tsv.gz\n",
      "datatypes: /data/amandeep/wikidata-20211027/metadata.property.datatypes.tsv.gz\n",
      "types: /data/amandeep/wikidata-20211027/metadata.types.tsv.gz\n",
      "isa: /data/amandeep/wikidata-20211027/derived.isa.tsv.gz\n",
      "p279star: /data/amandeep/wikidata-20211027/derived.P279star.tsv.gz\n"
     ]
    }
   ],
   "source": [
    "ck.print_env_variables()"
   ]
  },
  {
   "cell_type": "code",
   "execution_count": 6,
   "metadata": {},
   "outputs": [
    {
     "name": "stdout",
     "output_type": "stream",
     "text": [
      "kgtk query --graph-cache /data/amandeep/wikidata-20211027-dwd-v3/temp.wikidata-20211027-dwd-v3/wikidata.sqlite3.db -i \"/data/amandeep/wikidata-20211027/claims.tsv.gz\" --as claims  -i \"/data/amandeep/wikidata-20211027/labels.tsv.gz\" --as label_all  -i \"/data/amandeep/wikidata-20211027/aliases.tsv.gz\" --as alias_all  -i \"/data/amandeep/wikidata-20211027/descriptions.tsv.gz\" --as description_all  -i \"/data/amandeep/wikidata-20211027/claims.wikibase-item.tsv.gz\" --as item  -i \"/data/amandeep/wikidata-20211027/qualifiers.tsv.gz\" --as qualifiers  -i \"/data/amandeep/wikidata-20211027/metadata.property.datatypes.tsv.gz\" --as datatypes  -i \"/data/amandeep/wikidata-20211027/metadata.types.tsv.gz\" --as types  -i \"/data/amandeep/wikidata-20211027/derived.isa.tsv.gz\" --as isa  -i \"/data/amandeep/wikidata-20211027/derived.P279star.tsv.gz\" --as p279star  --limit 3\n",
      "id\tnode1\tlabel\tnode2\trank\tnode2;wikidatatype\n",
      "P10-P1628-32b85d-7927ece6-0\tP10\tP1628\t\"http://www.w3.org/2006/vcard/ns#Video\"\tnormal\turl\n",
      "P10-P1628-acf60d-b8950832-0\tP10\tP1628\t\"https://schema.org/video\"\tnormal\turl\n",
      "P10-P1629-Q34508-bcc39400-0\tP10\tP1629\tQ34508\tnormal\twikibase-item\n"
     ]
    }
   ],
   "source": [
    "ck.load_files_into_cache()"
   ]
  },
  {
   "cell_type": "markdown",
   "metadata": {},
   "source": [
    "### Preview the input files"
   ]
  },
  {
   "cell_type": "markdown",
   "metadata": {},
   "source": [
    "It is always a good practice to peek a the files to make sure the column headings are what we expect"
   ]
  },
  {
   "cell_type": "code",
   "execution_count": 7,
   "metadata": {},
   "outputs": [
    {
     "name": "stdout",
     "output_type": "stream",
     "text": [
      "id\tnode1\tlabel\tnode2\trank\tnode2;wikidatatype\n",
      "P10-P1628-32b85d-7927ece6-0\tP10\tP1628\t\"http://www.w3.org/2006/vcard/ns#Video\"\tnormal\turl\n",
      "P10-P1628-acf60d-b8950832-0\tP10\tP1628\t\"https://schema.org/video\"\tnormal\turl\n",
      "P10-P1629-Q34508-bcc39400-0\tP10\tP1629\tQ34508\tnormal\twikibase-item\n",
      "P10-P1630-53947a-fbe9093e-0\tP10\tP1630\t\"https://commons.wikimedia.org/wiki/File:$1\"\tnormal\tstring\n",
      "P10-P1659-P1651-c4068028-0\tP10\tP1659\tP1651\tnormal\twikibase-property\n",
      "P10-P1659-P18-5e4b9c4f-0\tP10\tP1659\tP18\tnormal\twikibase-property\n",
      "P10-P1659-P4238-d21d1ac0-0\tP10\tP1659\tP4238\tnormal\twikibase-property\n",
      "P10-P1659-P51-86aca4c5-0\tP10\tP1659\tP51\tnormal\twikibase-property\n",
      "P10-P1855-Q15075950-7eff6d65-0\tP10\tP1855\tQ15075950\tnormal\twikibase-item\n",
      "\n",
      "gzip: stdout: Broken pipe\n"
     ]
    }
   ],
   "source": [
    "!zcat $claims | head"
   ]
  },
  {
   "cell_type": "markdown",
   "metadata": {},
   "source": [
    "## Creating a list of all the items we want to remove"
   ]
  },
  {
   "cell_type": "markdown",
   "metadata": {},
   "source": [
    "### Compute the items to be removed\n",
    "\n",
    "First look at the classes we will remove"
   ]
  },
  {
   "cell_type": "code",
   "execution_count": 8,
   "metadata": {},
   "outputs": [
    {
     "name": "stdout",
     "output_type": "stream",
     "text": [
      "/bin/bash: wd: command not found\n"
     ]
    },
    {
     "data": {
      "text/plain": [
       "'wd u Q7318358 Q13442814'"
      ]
     },
     "execution_count": 8,
     "metadata": {},
     "output_type": "execute_result"
    }
   ],
   "source": [
    "cmd = \"wd u {}\".format(\" \".join(remove_classes.split(\",\")))\n",
    "!{cmd}\n",
    "cmd"
   ]
  },
  {
   "cell_type": "markdown",
   "metadata": {},
   "source": [
    "Compose the kypher command to remove the classes"
   ]
  },
  {
   "cell_type": "code",
   "execution_count": 9,
   "metadata": {},
   "outputs": [
    {
     "name": "stdout",
     "output_type": "stream",
     "text": [
      "node1\tlabel\tnode2\n",
      "P10\tisa\tQ18610173\n",
      "P1000\tisa\tQ18608871\n",
      "P10000\tisa\tQ19833377\n",
      "P10000\tisa\tQ89560413\n",
      "P10001\tisa\tQ107738007\n",
      "P10001\tisa\tQ64221137\n",
      "P10002\tisa\tQ93433126\n",
      "P10003\tisa\tQ108914651\n",
      "P10003\tisa\tQ42396390\n",
      "\n",
      "gzip: stdout: Broken pipe\n"
     ]
    }
   ],
   "source": [
    "!zcat $isa | head | col"
   ]
  },
  {
   "cell_type": "markdown",
   "metadata": {},
   "source": [
    "Run the command, the items to remove will be in file `{temp}/items.remove.tsv.gz`"
   ]
  },
  {
   "cell_type": "code",
   "execution_count": 10,
   "metadata": {},
   "outputs": [
    {
     "data": {
      "text/plain": [
       "'\"Q7318358\", \"Q13442814\"'"
      ]
     },
     "execution_count": 10,
     "metadata": {},
     "output_type": "execute_result"
    }
   ],
   "source": [
    "classes = \", \".join(list(map(lambda x: '\"{}\"'.format(x), remove_classes.replace(\" \", \"\").split(\",\"))))\n",
    "\n",
    "classes"
   ]
  },
  {
   "cell_type": "code",
   "execution_count": 12,
   "metadata": {},
   "outputs": [],
   "source": [
    "!$kypher  -i isa -i p279star -o \"$TEMP\"/items.remove.tsv.gz \\\n",
    "--match 'isa: (n1)-[:isa]->(c), p279star: (c)-[]->(class)' \\\n",
    "--where 'class in [{classes}]' \\\n",
    "--return 'distinct n1, \"p31_p279star\" as label, class as node2' \\\n",
    "--order-by 'n1'"
   ]
  },
  {
   "cell_type": "markdown",
   "metadata": {},
   "source": [
    "Preview the file"
   ]
  },
  {
   "cell_type": "code",
   "execution_count": 13,
   "metadata": {},
   "outputs": [
    {
     "name": "stdout",
     "output_type": "stream",
     "text": [
      "node1\tlabel\tnode2\n",
      "\n",
      "gzip: Q100000005\tp31_p279star\tQ13442814\n",
      "stdout: Broken pipe\n",
      "Q100000009\tp31_p279star\tQ13442814\n",
      "Q100000015\tp31_p279star\tQ13442814\n",
      "Q100000022\tp31_p279star\tQ13442814\n",
      "Q100000031\tp31_p279star\tQ13442814\n",
      "Q100000044\tp31_p279star\tQ13442814\n",
      "Q100000056\tp31_p279star\tQ13442814\n",
      "Q100000066\tp31_p279star\tQ13442814\n",
      "Q100000074\tp31_p279star\tQ13442814\n"
     ]
    }
   ],
   "source": [
    "!zcat < \"$TEMP\"/items.remove.tsv.gz | head | col"
   ]
  },
  {
   "cell_type": "code",
   "execution_count": 14,
   "metadata": {},
   "outputs": [
    {
     "name": "stdout",
     "output_type": "stream",
     "text": [
      "39548165 118644495 1303905996\n"
     ]
    }
   ],
   "source": [
    "!zcat < \"$TEMP\"/items.remove.tsv.gz | wc"
   ]
  },
  {
   "cell_type": "markdown",
   "metadata": {},
   "source": [
    "Collect all the classes of items we will remove, just as a sanity check"
   ]
  },
  {
   "cell_type": "code",
   "execution_count": 15,
   "metadata": {},
   "outputs": [
    {
     "name": "stdout",
     "output_type": "stream",
     "text": [
      "node2\n",
      "Q13442814\n",
      "Q7318358\n"
     ]
    }
   ],
   "source": [
    "!$kypher -i \"$TEMP\"/items.remove.tsv.gz \\\n",
    "--match '()-[]->(n2)' \\\n",
    "--return 'distinct n2' \\\n",
    "--limit 10"
   ]
  },
  {
   "cell_type": "markdown",
   "metadata": {},
   "source": [
    "## Create the reduced edges file"
   ]
  },
  {
   "cell_type": "markdown",
   "metadata": {},
   "source": [
    "### Remove the items from the all.tsv and the label, alias and description files\n",
    "We will be left with `reduced` files where the edges do not have the unwanted items. We have to remove them from the node1 and node2 positions, so we need to run the ifnotexists commands twice.\n",
    "\n",
    "Before we start preview the files to see the column headings and check whether they look sorted."
   ]
  },
  {
   "cell_type": "code",
   "execution_count": 17,
   "metadata": {},
   "outputs": [
    {
     "name": "stdout",
     "output_type": "stream",
     "text": [
      "node1\tlabel\tnode2\n",
      "\n",
      "gzip: Q100000005\tp31_p279star\tQ13442814\n",
      "Q100000009\tp31_p279star\tQ13442814\n",
      "stdout: Broken pipe\n",
      "Q100000015\tp31_p279star\tQ13442814\n",
      "Q100000022\tp31_p279star\tQ13442814\n",
      "Q100000031\tp31_p279star\tQ13442814\n",
      "Q100000044\tp31_p279star\tQ13442814\n",
      "Q100000056\tp31_p279star\tQ13442814\n",
      "Q100000066\tp31_p279star\tQ13442814\n",
      "Q100000074\tp31_p279star\tQ13442814\n"
     ]
    }
   ],
   "source": [
    "!zcat \"$TEMP\"/items.remove.tsv.gz | head | col"
   ]
  },
  {
   "cell_type": "markdown",
   "metadata": {},
   "source": [
    "Remove from the full set of edges those edges that have a `node1` present in `items.remove.tsv`"
   ]
  },
  {
   "cell_type": "code",
   "execution_count": 18,
   "metadata": {},
   "outputs": [],
   "source": [
    "kgtk(\"\"\"ifnotexists \n",
    "        -i $claims \n",
    "        -o \"$TEMP\"/item.edges.reduced.tsv.gz\n",
    "        --filter-on \"$TEMP\"/items.remove.tsv.gz\n",
    "        --input-keys node1\n",
    "        --filter-keys node1\n",
    "        --presorted\n",
    "    \"\"\")"
   ]
  },
  {
   "cell_type": "markdown",
   "metadata": {},
   "source": [
    "From the remaining edges, remove those that have a `node2` present in `items.remove.tsv`"
   ]
  },
  {
   "cell_type": "code",
   "execution_count": 19,
   "metadata": {},
   "outputs": [],
   "source": [
    "kgtk(f\"\"\"sort \n",
    "        -i \"$TEMP\"/item.edges.reduced.tsv.gz \n",
    "        -o \"$TEMP\"/item.edges.reduced.sorted.tsv.gz\n",
    "        --extra '--parallel 24 --buffer-size 30% --temporary-directory {os.environ['TEMP']}'\n",
    "        --columns node2 label node1 id\"\"\")"
   ]
  },
  {
   "cell_type": "code",
   "execution_count": 20,
   "metadata": {},
   "outputs": [],
   "source": [
    "kgtk(\"\"\"ifnotexists \n",
    "        -i $TEMP/item.edges.reduced.sorted.tsv.gz \n",
    "        -o $TEMP/item.edges.reduced.2.tsv.gz\n",
    "        --filter-on $TEMP/items.remove.tsv.gz\n",
    "        --input-keys node2\n",
    "        --filter-keys node1\n",
    "        --presorted\"\"\")"
   ]
  },
  {
   "cell_type": "markdown",
   "metadata": {},
   "source": [
    "Create a file with the labels, for all the languages specified, **FIX THIS**"
   ]
  },
  {
   "cell_type": "code",
   "execution_count": 21,
   "metadata": {},
   "outputs": [],
   "source": [
    "kgtk(\"\"\"ifnotexists -i $label_all \n",
    "        -o \"$TEMP\"/label.all.edges.reduced.tsv.gz\n",
    "        --filter-on \"$TEMP\"/items.remove.tsv.gz\n",
    "        --input-keys node1\n",
    "        --filter-keys node1\n",
    "        --presorted\"\"\")"
   ]
  },
  {
   "cell_type": "code",
   "execution_count": 22,
   "metadata": {},
   "outputs": [],
   "source": [
    "kgtk(f\"\"\"sort \n",
    "        -i $TEMP/label.all.edges.reduced.tsv.gz \n",
    "        --extra '--parallel 24 --buffer-size 30% --temporary-directory {os.environ['TEMP']}'\n",
    "        -o $OUT/labels.tsv.gz\"\"\")\n"
   ]
  },
  {
   "cell_type": "markdown",
   "metadata": {},
   "source": [
    "Create a file with the aliases, for all the languages specified"
   ]
  },
  {
   "cell_type": "code",
   "execution_count": 23,
   "metadata": {},
   "outputs": [],
   "source": [
    "kgtk(\"\"\"ifnotexists -i $alias_all\n",
    "        -o $TEMP/alias.all.edges.reduced.tsv.gz\n",
    "        --filter-on $TEMP/items.remove.tsv.gz\n",
    "        --input-keys node1\n",
    "        --filter-keys node1\n",
    "        --presorted\"\"\")"
   ]
  },
  {
   "cell_type": "code",
   "execution_count": 24,
   "metadata": {},
   "outputs": [],
   "source": [
    "kgtk(f\"\"\"sort \n",
    "        -i $TEMP/alias.all.edges.reduced.tsv.gz \n",
    "        --extra '--parallel 24 --buffer-size 30% --temporary-directory {os.environ['TEMP']}'\n",
    "        -o $OUT/aliases.tsv.gz\"\"\")\n"
   ]
  },
  {
   "cell_type": "markdown",
   "metadata": {},
   "source": [
    "Create a file with the descriptions, for all the languages specified"
   ]
  },
  {
   "cell_type": "code",
   "execution_count": 25,
   "metadata": {},
   "outputs": [],
   "source": [
    "kgtk(\"\"\"ifnotexists \n",
    "        -i $description_all\n",
    "        -o $TEMP/description.all.edges.reduced.tsv.gz\n",
    "        --filter-on $TEMP/items.remove.tsv.gz\n",
    "        --input-keys node1\n",
    "        --filter-keys node1\n",
    "        --presorted\"\"\")"
   ]
  },
  {
   "cell_type": "code",
   "execution_count": 26,
   "metadata": {},
   "outputs": [],
   "source": [
    "kgtk(f\"\"\"sort \n",
    "        -i $TEMP/description.all.edges.reduced.tsv.gz \n",
    "        --extra '--parallel 24 --buffer-size 30% --temporary-directory {os.environ['TEMP']}'\n",
    "        -o $OUT/descriptions.tsv.gz\"\"\")"
   ]
  },
  {
   "cell_type": "markdown",
   "metadata": {},
   "source": [
    "### Produce the output files for claims, labels, aliases and descriptions"
   ]
  },
  {
   "cell_type": "code",
   "execution_count": 27,
   "metadata": {},
   "outputs": [],
   "source": [
    "kgtk(f\"\"\"sort \n",
    "        -i $TEMP/item.edges.reduced.2.tsv.gz\n",
    "        --extra '--parallel 24 --buffer-size 30% --temporary-directory {os.environ['TEMP']}'\n",
    "        -o $OUT/claims.tsv.gz\"\"\")"
   ]
  },
  {
   "cell_type": "markdown",
   "metadata": {},
   "source": [
    "## Create the reduced qualifiers file\n",
    "We do this by finding all the ids of the reduced edges file, and then selecting out from `qual.tsv`\n",
    "\n",
    "We need to join by id, so we need to sort both files by id, node1, label, node2:\n",
    "\n",
    "- `$qualifiers` \n",
    "- `$OUT/claims.tsv.gz` "
   ]
  },
  {
   "cell_type": "code",
   "execution_count": 28,
   "metadata": {},
   "outputs": [
    {
     "name": "stdout",
     "output_type": "stream",
     "text": [
      "\n",
      "gzip: stdout: Broken pipe\n",
      "id                                                node1                           label  node2                                                                    node2;wikidatatype\n",
      "P10-P1855-Q15075950-7eff6d65-0-P10-54b214-0       P10-P1855-Q15075950-7eff6d65-0  P10    \"Smoorverliefd 12 september.webm\"                                        commonsMedia\n",
      "P10-P1855-Q15075950-7eff6d65-0-P3831-Q622550-0    P10-P1855-Q15075950-7eff6d65-0  P3831  Q622550                                                                  wikibase-item\n",
      "P10-P1855-Q4504-a69d2c73-0-P10-bef003-0           P10-P1855-Q4504-a69d2c73-0      P10    \"Komodo dragons video.ogv\"                                               commonsMedia\n",
      "P10-P1855-Q69063653-c8cdb04c-0-P10-6fb08f-0       P10-P1855-Q69063653-c8cdb04c-0  P10    \"Couch Commander.webm\"                                                   commonsMedia\n",
      "P10-P1855-Q7378-555592a4-0-P10-8a982d-0           P10-P1855-Q7378-555592a4-0      P10    \"Elephants Dream (2006).webm\"                                            commonsMedia\n",
      "P10-P2302-Q21502404-d012aef4-0-P1793-f4c2ed-0     P10-P2302-Q21502404-d012aef4-0  P1793  \"(?i).+\\\\.(webm\\|ogv\\|ogg\\|gif)\"                                         string\n",
      "P10-P2302-Q21502404-d012aef4-0-P2316-Q21502408-0  P10-P2302-Q21502404-d012aef4-0  P2316  Q21502408                                                                wikibase-item\n",
      "P10-P2302-Q21502404-d012aef4-0-P2916-cb0917-0     P10-P2302-Q21502404-d012aef4-0  P2916  'filename with extension: webm, ogg, ogv, or gif (case insensitive)'@en  monolingualtext\n",
      "P10-P2302-Q21510851-5224fe0b-0-P2306-P175-0       P10-P2302-Q21510851-5224fe0b-0  P2306  P175                                                                     wikibase-property\n"
     ]
    }
   ],
   "source": [
    "!zcat < \"$qualifiers\" | head | column -t -s $'\\t' "
   ]
  },
  {
   "cell_type": "markdown",
   "metadata": {},
   "source": [
    "Run `ifexists` to select out the quals for the edges in `{out}/wikidataos.qual.tsv.gz`. Note that we use `node1` in the qualifier file, matching to `id` in the `wikidataos.all.tsv` file."
   ]
  },
  {
   "cell_type": "code",
   "execution_count": 29,
   "metadata": {},
   "outputs": [],
   "source": [
    "kgtk(\"\"\"ifexists \n",
    "    -i $qualifiers \n",
    "    -o $OUT/qualifiers.tsv.gz\n",
    "    --filter-on $OUT/claims.tsv.gz\n",
    "    --input-keys node1\n",
    "    --filter-keys id\n",
    "    --presorted\"\"\")"
   ]
  },
  {
   "cell_type": "markdown",
   "metadata": {},
   "source": [
    "Look at the final output for qualifiers"
   ]
  },
  {
   "cell_type": "code",
   "execution_count": 31,
   "metadata": {},
   "outputs": [
    {
     "name": "stdout",
     "output_type": "stream",
     "text": [
      "id\tnode1\tlabel\tnode2\tnode2;wikidatatype\n",
      "P10-P1855-Q15075950-7eff6d65-0-P10-54b214-0\tP10-P1855-Q15075950-7eff6d65-0\tP10\t\"Smoorverliefd 12 september.webm\"\tcommonsMedia\n",
      "\n",
      "gzip: P10-P1855-Q15075950-7eff6d65-0-P3831-Q622550-0\tP10-P1855-Q15075950-7eff6d65-0\tP3831\tQ622550 wikibase-item\n",
      "stdout: Broken pipe\n",
      "P10-P1855-Q4504-a69d2c73-0-P10-bef003-0 P10-P1855-Q4504-a69d2c73-0\tP10\t\"Komodo dragons video.ogv\"\tcommonsMedia\n",
      "P10-P1855-Q69063653-c8cdb04c-0-P10-6fb08f-0\tP10-P1855-Q69063653-c8cdb04c-0\tP10\t\"Couch Commander.webm\"\tcommonsMedia\n",
      "P10-P1855-Q7378-555592a4-0-P10-8a982d-0 P10-P1855-Q7378-555592a4-0\tP10\t\"Elephants Dream (2006).webm\"\tcommonsMedia\n",
      "P10-P2302-Q21502404-d012aef4-0-P1793-f4c2ed-0\tP10-P2302-Q21502404-d012aef4-0\tP1793\t\"(?i).+\\\\.(webm\\|ogv\\|ogg\\|gif)\"\tstring\n",
      "P10-P2302-Q21502404-d012aef4-0-P2316-Q21502408-0\tP10-P2302-Q21502404-d012aef4-0\tP2316\tQ21502408\twikibase-item\n",
      "P10-P2302-Q21502404-d012aef4-0-P2916-cb0917-0\tP10-P2302-Q21502404-d012aef4-0\tP2916\t'filename with extension: webm, ogg, ogv, or gif (case insensitive)'@en monolingualtext\n",
      "P10-P2302-Q21510851-5224fe0b-0-P2306-P175-0\tP10-P2302-Q21510851-5224fe0b-0\tP2306\tP175\twikibase-property\n"
     ]
    }
   ],
   "source": [
    "!zcat $OUT/qualifiers.tsv.gz | head | col"
   ]
  },
  {
   "cell_type": "code",
   "execution_count": 32,
   "metadata": {},
   "outputs": [
    {
     "name": "stdout",
     "output_type": "stream",
     "text": [
      "total 30982776\n",
      "-rw-r--r-- 1 amandeep isdstaff  1445060824 Nov 19 01:10 aliases.tsv.gz\n",
      "-rw-r--r-- 1 amandeep isdstaff 11107210112 Nov 19 09:03 claims.tsv.gz\n",
      "-rw-r--r-- 1 amandeep isdstaff 12040923857 Nov 19 08:26 descriptions.tsv.gz\n",
      "-rw-r--r-- 1 amandeep isdstaff  4729262725 Nov 19 00:43 labels.tsv.gz\n",
      "-rw-r--r-- 1 amandeep isdstaff  2403890930 Nov 19 10:07 qualifiers.tsv.gz\n",
      "drwxr-xr-x 2 amandeep isdstaff         324 Nov 19 09:03 temp.wikidata-20211027-dwd-v3\n"
     ]
    }
   ],
   "source": [
    "!ls -l \"$OUT\""
   ]
  },
  {
   "cell_type": "markdown",
   "metadata": {},
   "source": [
    "Copy the property datatypes and metadata types file over"
   ]
  },
  {
   "cell_type": "code",
   "execution_count": 33,
   "metadata": {},
   "outputs": [],
   "source": [
    "!cp $datatypes $OUT/metadata.property.datatypes.tsv.gz"
   ]
  },
  {
   "cell_type": "markdown",
   "metadata": {},
   "source": [
    "Filter out edges from metdata types file"
   ]
  },
  {
   "cell_type": "code",
   "execution_count": 34,
   "metadata": {},
   "outputs": [],
   "source": [
    "kgtk(\"\"\"ifexists \n",
    "        -i \"$types\" -o $OUT/metadata.types.tsv.gz\n",
    "        --filter-on $OUT/claims.tsv.gz\n",
    "        --input-keys node1\n",
    "        --filter-keys node1\n",
    "        --presorted\"\"\")"
   ]
  },
  {
   "cell_type": "markdown",
   "metadata": {},
   "source": [
    "Get the sitelinks as well, the sitelinks are not in claims.tsv.gz"
   ]
  },
  {
   "cell_type": "code",
   "execution_count": 35,
   "metadata": {},
   "outputs": [],
   "source": [
    "kgtk(\"\"\"ifexists \n",
    "        -i \"$GRAPH/sitelinks.tsv.gz\" \n",
    "        -o \"$OUT/sitelinks.tsv.gz\"\n",
    "        --filter-on \"$OUT/claims.tsv.gz\"\n",
    "        --input-keys node1\n",
    "        --filter-keys node1\n",
    "        --presorted\"\"\")"
   ]
  },
  {
   "cell_type": "markdown",
   "metadata": {},
   "source": [
    "Contruct the cat command to generate `all.tsv.gz`"
   ]
  },
  {
   "cell_type": "code",
   "execution_count": 36,
   "metadata": {},
   "outputs": [],
   "source": [
    "kgtk(\"\"\"cat -i \"$OUT/labels.tsv.gz\"\n",
    "            -i \"$OUT/aliases.tsv.gz\"\n",
    "            -i \"$OUT/descriptions.tsv.gz\"\n",
    "            -i \"$OUT/claims.tsv.gz\"\n",
    "            -i \"$OUT/qualifiers.tsv.gz\"\n",
    "            -i \"$OUT/metadata.property.datatypes.tsv.gz\"\n",
    "            -i \"$OUT/metadata.types.tsv.gz\"\n",
    "            -i \"$OUT/sitelinks.tsv.gz\"\n",
    "            -o \"$OUT/all.tsv.gz\"\n",
    "            \"\"\")"
   ]
  },
  {
   "cell_type": "markdown",
   "metadata": {},
   "source": [
    "### Run the Partitions Notebook"
   ]
  },
  {
   "cell_type": "code",
   "execution_count": null,
   "metadata": {},
   "outputs": [],
   "source": [
    "pm.execute_notebook(\n",
    "    os.environ[\"EXAMPLES_DIR\"] + \"/partition-wikidata.ipynb\",\n",
    "    os.environ[\"TEMP\"] + \"/partition-wikidata.out.ipynb\",\n",
    "    parameters=dict(\n",
    "        wikidata_input_path = os.environ[\"OUT\"] + \"/all.tsv.gz\",\n",
    "        wikidata_parts_path = os.environ[\"OUT\"] + \"/parts\",\n",
    "        temp_folder_path = os.environ[\"OUT\"] + \"/parts/temp\",\n",
    "        sort_extras = \"--buffer-size 30% --temporary-directory $OUT/parts/temp\",\n",
    "        verbose = False,\n",
    "        gzip_command = 'gzip'\n",
    "    )\n",
    ")"
   ]
  },
  {
   "cell_type": "markdown",
   "metadata": {},
   "source": [
    "### copy the `claims.wikibase-item.tsv` file from the `parts` folder"
   ]
  },
  {
   "cell_type": "code",
   "execution_count": 38,
   "metadata": {},
   "outputs": [],
   "source": [
    "!cp $OUT/parts/claims.wikibase-item.tsv.gz $OUT"
   ]
  },
  {
   "cell_type": "markdown",
   "metadata": {},
   "source": [
    "### RUN the Useful Files notebook"
   ]
  },
  {
   "cell_type": "code",
   "execution_count": null,
   "metadata": {},
   "outputs": [],
   "source": [
    "pm.execute_notebook(\n",
    "    os.environ[\"USE_CASES_DIR\"] + \"/Wikidata Useful Files.ipynb\",\n",
    "    os.environ[\"TEMP\"] + \"/Wikidata Useful Files Out.ipynb\",\n",
    "    parameters=dict(\n",
    "        output_path = os.environ[\"OUT\"],\n",
    "        input_path = os.environ[\"OUT\"],\n",
    "        kgtk_path = '/Users/amandeep/github/kgtk'\n",
    "    )\n",
    ")\n"
   ]
  },
  {
   "cell_type": "markdown",
   "metadata": {},
   "source": [
    "## Sanity checks"
   ]
  },
  {
   "cell_type": "code",
   "execution_count": null,
   "metadata": {},
   "outputs": [],
   "source": [
    "!$kypher -i $OUT/claims.tsv.gz \\\n",
    "--match '(n1:Q368441)-[l]->(n2)' \\\n",
    "--limit 10 \\\n",
    "| col"
   ]
  },
  {
   "cell_type": "code",
   "execution_count": null,
   "metadata": {},
   "outputs": [],
   "source": [
    "!$kypher -i $OUT/claims.tsv.gz \\\n",
    "--match '(n1:P131)-[l]->(n2)' \\\n",
    "--limit 10 \\\n",
    "| col"
   ]
  },
  {
   "cell_type": "markdown",
   "metadata": {},
   "source": [
    "## Summary of results"
   ]
  },
  {
   "cell_type": "code",
   "execution_count": null,
   "metadata": {},
   "outputs": [],
   "source": [
    "!ls -lh {out}/*.tsv.gz"
   ]
  },
  {
   "cell_type": "markdown",
   "metadata": {},
   "source": [
    "## concatenate files to get the `all` file"
   ]
  },
  {
   "cell_type": "code",
   "execution_count": 18,
   "metadata": {},
   "outputs": [],
   "source": [
    "!kgtk cat -i {out}/claims.tsv.gz \\\n",
    "{lad_file_list} \\\n",
    "{out}/qualifiers.tsv.gz \\\n",
    "{out}/useful_files/metadata.pagerank.undirected.tsv.gz \\\n",
    "{out}/useful_files/metadata.pagerank.directed.tsv.gz \\\n",
    "{out}/useful_files/metadata.in_degree.tsv.gz \\\n",
    "{out}/useful_files/metadata.out_degree.tsv.gz \\\n",
    "-o {out}/wikidatadwd.all.tsv.gz"
   ]
  },
  {
   "cell_type": "markdown",
   "metadata": {},
   "source": [
    "## concatenate files to get the `all for triples` file\n"
   ]
  },
  {
   "cell_type": "code",
   "execution_count": 19,
   "metadata": {},
   "outputs": [],
   "source": [
    "!kgtk cat -i $OUT/wikidatadwd.all.tsv.gz \\\n",
    "$OUT/useful_files/derived.isa.tsv.gz \\\n",
    "$OUT/useful_files/derived.P279star.tsv.gz \\\n",
    "-o $OUT/wikidatadwd.all.for.triples.tsv.gz"
   ]
  },
  {
   "cell_type": "markdown",
   "metadata": {},
   "source": [
    "## concatenate files to get the `all for elasticsearch` file\n"
   ]
  },
  {
   "cell_type": "code",
   "execution_count": 31,
   "metadata": {},
   "outputs": [],
   "source": [
    "!kgtk cat -i $OUT/wikidatadwd.all.tsv.gz \\\n",
    "$OUT/useful_files/derived.P279.tsv.gz \\\n",
    "$OUT/useful_files/derived.isastar.tsv.gz \\\n",
    "-o $OUT/wikidatadwd.all.for.es.tsv.gz"
   ]
  },
  {
   "cell_type": "markdown",
   "metadata": {},
   "source": [
    "#### remove `somevalue,novalue,P9`"
   ]
  },
  {
   "cell_type": "raw",
   "metadata": {},
   "source": [
    "# this might not be needed in future: AS (03/11/2021)\n",
    "!kgtk filter -i $OUT/wikidatadwd.all.for.es.tsv.gz \\\n",
    "    -o $OUT/wikidataos.all.for.es.filtered.tsv.gz \\\n",
    "    -p ';;somevalue,novalue,P9' --invert"
   ]
  },
  {
   "cell_type": "markdown",
   "metadata": {},
   "source": [
    "#### add text and graph embeddings, augmented wikipedia and abbreviated human names for ES"
   ]
  },
  {
   "cell_type": "code",
   "execution_count": null,
   "metadata": {},
   "outputs": [],
   "source": [
    "!kgtk cat \\\n",
    "-i $OUT/wikidatadwd.all.for.es.tsv.gz \\\n",
    "-i $OUT/metadata.property.datatypes.tsv.gz \\\n",
    "-i $OUT/graph-embeddings/wikidataos.complEx.graph-embeddings.tsv.gz \\\n",
    "-i $OUT/graph-embeddings/wikidataos.transE.graph-embeddings.tsv.gz \\\n",
    "-i $OUT/text-embeddings/text-embeddings-concatenated.tsv.gz \\\n",
    "-i $OUT/derived_files_for_es/augmentation.wikipedia.anchors.tsv.gz \\\n",
    "-i $OUT/derived_files_for_es/augmentation.wikipedia.redirect.tsv.gz \\\n",
    "-i $OUT/derived_files_for_es/augmentation.wikipedia.tables.anchors.tsv.gz \\\n",
    "-i $OUT/derived_files_for_es/derived.Q5.abbreviations.tsv.gz \\\n",
    "-o $OUT/wikidatadwd.all.for.es.embeddings.augmented.unsorted.tsv.gz"
   ]
  },
  {
   "cell_type": "markdown",
   "metadata": {},
   "source": [
    "#### remove columns `id rank node2;wikidatatype url` as it is not required in the ES file and then sort the file by `node1,label`"
   ]
  },
  {
   "cell_type": "raw",
   "metadata": {},
   "source": [
    "!kgtk remove-columns --columns id,rank,node2;wikidatatype,url \\\n",
    "-i $OUT/wikidatadwd.all.for.es.embeddings.augmented.unsorted.tsv.gz \\\n",
    "-o $OUT/wikidatadwd.all.for.es.embeddings.augmented.unsorted.clean.tsv.gz\n"
   ]
  },
  {
   "cell_type": "code",
   "execution_count": 43,
   "metadata": {},
   "outputs": [
    {
     "data": {
      "text/plain": [
       "'/data/amandeep/temp.wikidata-20210215-dwd'"
      ]
     },
     "execution_count": 43,
     "metadata": {},
     "output_type": "execute_result"
    }
   ],
   "source": [
    "temp"
   ]
  },
  {
   "cell_type": "code",
   "execution_count": null,
   "metadata": {},
   "outputs": [],
   "source": [
    "!kgtk sort -c node1,label \\\n",
    "-i $OUT/wikidatadwd.all.for.es.embeddings.augmented.unsorted.tsv.gz \\\n",
    "--extra '--parallel 24 --buffer-size 30% --temporary-directory /data/amandeep/temp.wikidata-20210215-dwd' \\\n",
    "-o $OUT/wikidatadwd.all.for.es.embeddings.augmented.sorted.tsv.gz"
   ]
  },
  {
   "cell_type": "markdown",
   "metadata": {},
   "source": [
    "## Filter out `novalue`, `somevalue` and `P9`"
   ]
  },
  {
   "cell_type": "code",
   "execution_count": null,
   "metadata": {},
   "outputs": [],
   "source": [
    "!kgtk filter -i $OUT/wikidataos.all.for.triples.tsv.gz \\\n",
    "    -o $OUT/wikidataos.all.for.triples.filtered.tsv.gz \\\n",
    "    -p ';;somevalue,novalue,P9' --invert"
   ]
  },
  {
   "cell_type": "markdown",
   "metadata": {},
   "source": [
    "## Add ids for any edge with missing id"
   ]
  },
  {
   "cell_type": "code",
   "execution_count": null,
   "metadata": {},
   "outputs": [],
   "source": [
    "!kgtk add-id -i $OUT/wikidataos.all.for.triples.filtered.tsv.gz \\\n",
    "-o $OUT/wikidataos.all.for.triples.filtered.id.tsv.gz \\\n",
    "--id-style wikidata"
   ]
  },
  {
   "cell_type": "markdown",
   "metadata": {},
   "source": [
    "## Sort by `id`"
   ]
  },
  {
   "cell_type": "code",
   "execution_count": null,
   "metadata": {},
   "outputs": [],
   "source": [
    "!kgtk sort2 -i $OUT/wikidataos.all.for.triples.filtered.id.tsv.gz \\\n",
    "-o $OUT/wikidataos.all.for.triples.filtered.id.sorted.tsv.gz \n",
    "-c id"
   ]
  },
  {
   "cell_type": "markdown",
   "metadata": {},
   "source": [
    "### Run graph embeddings: complEx"
   ]
  },
  {
   "cell_type": "code",
   "execution_count": null,
   "metadata": {},
   "outputs": [
    {
     "name": "stdout",
     "output_type": "stream",
     "text": [
      "In Processing, Please go to /data/amandeep/wikidata-20210215-dwd/graph-embeddings/temp/ge.complex.log to check details\n",
      "Opening the input file: /data/amandeep/wikidata-20210215-dwd/parts/claims.wikibase-item.tsv.gz\n",
      "KgtkReader: File_path.suffix: .gz\n",
      "KgtkReader: reading gzip /data/amandeep/wikidata-20210215-dwd/parts/claims.wikibase-item.tsv.gz\n",
      "header: id\tnode1\tlabel\tnode2\tnode2;wikidatatype\trank\n",
      "input format: kgtk\n",
      "node1 column found, this is a KGTK edge file\n",
      "KgtkReader: Special columns: node1=1 label=2 node2=3 id=0\n",
      "KgtkReader: Reading an edge file.\n",
      "Opening the output file: /data/amandeep/wikidata-20210215-dwd/graph-embeddings/temp/tmp_claims.wikibase-item.tsv.gz\n",
      "File_path.suffix: .gz\n",
      "KgtkWriter: writing gzip /data/amandeep/wikidata-20210215-dwd/graph-embeddings/temp/tmp_claims.wikibase-item.tsv.gz\n",
      "header: id\tnode1\tlabel\tnode2\tnode2;wikidatatype\trank\n",
      "Processing the input records.\n",
      "Processed 182246240 records.\n"
     ]
    }
   ],
   "source": [
    "# make sure the output directories are created\n",
    "!kgtk --debug graph-embeddings --verbose -i $OUT/parts/claims.wikibase-item.tsv.gz \\\n",
    "-o $OUT/graph-embeddings/wikidataos.complEx.graph-embeddings.txt \\\n",
    "--retain_temporary_data True \\\n",
    "--operator ComplEx \\\n",
    "--workers 24 \\\n",
    "--log $OUT/graph-embeddings/temp/ge.complex.log \\\n",
    "-T $OUT/graph-embeddings/temp \\\n",
    "-ot w2v \\\n",
    "-e 600"
   ]
  },
  {
   "cell_type": "code",
   "execution_count": null,
   "metadata": {},
   "outputs": [],
   "source": []
  }
 ],
 "metadata": {
  "celltoolbar": "Tags",
  "kernelspec": {
   "display_name": "kgtk-env",
   "language": "python",
   "name": "kgtk-env"
  },
  "language_info": {
   "codemirror_mode": {
    "name": "ipython",
    "version": 3
   },
   "file_extension": ".py",
   "mimetype": "text/x-python",
   "name": "python",
   "nbconvert_exporter": "python",
   "pygments_lexer": "ipython3",
   "version": "3.7.10"
  }
 },
 "nbformat": 4,
 "nbformat_minor": 4
}
